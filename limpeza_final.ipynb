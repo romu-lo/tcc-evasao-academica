{
  "cells": [
    {
      "cell_type": "code",
      "execution_count": 2,
      "metadata": {
        "id": "j21WMZatKruO"
      },
      "outputs": [],
      "source": [
        "import pandas as pd\n",
        "import numpy as np\n",
        "from datetime import datetime"
      ]
    },
    {
      "cell_type": "code",
      "execution_count": 8,
      "metadata": {
        "id": "ChB33Es5KruO"
      },
      "outputs": [],
      "source": [
        "pd.options.display.max_columns = 999"
      ]
    },
    {
      "cell_type": "code",
      "execution_count": 9,
      "metadata": {
        "id": "g5AH9in7KruO"
      },
      "outputs": [],
      "source": [
        "df_final = pd.read_csv('arquivos\\dadosalunos-21-08-2023.csv')"
      ]
    },
    {
      "cell_type": "code",
      "execution_count": 74,
      "metadata": {
        "id": "4fq0s5D_KruO"
      },
      "outputs": [],
      "source": [
        "df_cursos = pd.read_csv('arquivos\\cursos.csv')"
      ]
    },
    {
      "cell_type": "code",
      "execution_count": 75,
      "metadata": {
        "id": "OCxwuXeIKruP"
      },
      "outputs": [],
      "source": [
        "df_estados = pd.read_csv('arquivos\\estados.csv', usecols=['codigo_uf', 'uf'])\n",
        "df_municipios = pd.read_csv('arquivos\\municipios.csv', usecols=['nome', 'codigo_uf'])\n",
        "\n",
        "df_municipios['nome'] = df_municipios['nome'].str.upper().str.normalize('NFKD').str.encode('ascii', errors='ignore').str.decode('utf-8')\n",
        "\n",
        "df_estados_municipios = df_municipios.merge(df_estados, on='codigo_uf', how='left')"
      ]
    },
    {
      "cell_type": "code",
      "execution_count": 12,
      "metadata": {
        "id": "akbIzBB6KruP"
      },
      "outputs": [],
      "source": [
        "colunas_loc_nasc_aluno = ['CD_ORIGEM_ALUNO', 'LT_NACIONALIDADE', 'NM_PAIS_NASC', 'SG_UF_NASC_ALUNO', 'NM_CIDADE_NASC', 'SG_UF_FERIAS', 'NM_CIDADE_FERIAS']"
      ]
    },
    {
      "cell_type": "code",
      "execution_count": 13,
      "metadata": {
        "id": "dqcbublEKruP"
      },
      "outputs": [],
      "source": [
        "colunas_a_remover = []"
      ]
    },
    {
      "cell_type": "code",
      "execution_count": 14,
      "metadata": {
        "colab": {
          "base_uri": "https://localhost:8080/",
          "height": 101
        },
        "id": "-LuETm-dKruP",
        "outputId": "8409a26c-0df4-4485-b5b0-dd00643f2165"
      },
      "outputs": [
        {
          "data": {
            "text/html": [
              "<div>\n",
              "<style scoped>\n",
              "    .dataframe tbody tr th:only-of-type {\n",
              "        vertical-align: middle;\n",
              "    }\n",
              "\n",
              "    .dataframe tbody tr th {\n",
              "        vertical-align: top;\n",
              "    }\n",
              "\n",
              "    .dataframe thead th {\n",
              "        text-align: right;\n",
              "    }\n",
              "</style>\n",
              "<table border=\"1\" class=\"dataframe\">\n",
              "  <thead>\n",
              "    <tr style=\"text-align: right;\">\n",
              "      <th></th>\n",
              "      <th>ANO_OCORRENCIA</th>\n",
              "      <th>CD_ALUNO</th>\n",
              "      <th>CD_CURSO</th>\n",
              "      <th>CD_ORIGEM_ALUNO</th>\n",
              "      <th>CD_TURNO</th>\n",
              "      <th>DE_NATURALIDADE</th>\n",
              "      <th>DH_MATRICULA</th>\n",
              "      <th>DH_SITUACAO</th>\n",
              "      <th>DT_ANO_INGRES</th>\n",
              "      <th>DT_NASC_ALUNO</th>\n",
              "      <th>LT_ESTADO_CIVIL</th>\n",
              "      <th>LT_MODALIDADE</th>\n",
              "      <th>LT_NACIONALIDADE</th>\n",
              "      <th>LT_RACA</th>\n",
              "      <th>NM_CIDADE_AULA</th>\n",
              "      <th>NM_CIDADE_EST2GRAU</th>\n",
              "      <th>NM_CIDADE_FERIAS</th>\n",
              "      <th>NM_CIDADE_NASC</th>\n",
              "      <th>NM_PAIS_NASC</th>\n",
              "      <th>NU_SEMESTRE2_VEST</th>\n",
              "      <th>SG_SEXO_ALUNO</th>\n",
              "      <th>SG_UF_AULA</th>\n",
              "      <th>SG_UF_EST2GRAU</th>\n",
              "      <th>SG_UF_FERIAS</th>\n",
              "      <th>SG_UF_NASC_ALUNO</th>\n",
              "      <th>ST_ALUNO</th>\n",
              "      <th>TP_DEFIC_INEP</th>\n",
              "      <th>TP_ESCOLA</th>\n",
              "      <th>TP_INGRES_CURSO</th>\n",
              "      <th>TP_OPCAO_COTAS</th>\n",
              "    </tr>\n",
              "  </thead>\n",
              "  <tbody>\n",
              "    <tr>\n",
              "      <th>66372</th>\n",
              "      <td>2021</td>\n",
              "      <td>10129599724</td>\n",
              "      <td>26</td>\n",
              "      <td>0</td>\n",
              "      <td>I</td>\n",
              "      <td>NaN</td>\n",
              "      <td>2021-06-16</td>\n",
              "      <td>2022-04-25</td>\n",
              "      <td>2021</td>\n",
              "      <td>2003-06-16</td>\n",
              "      <td>1.0</td>\n",
              "      <td>P</td>\n",
              "      <td>B</td>\n",
              "      <td>2</td>\n",
              "      <td>MARINGA</td>\n",
              "      <td>MARINGA</td>\n",
              "      <td>MARINGA</td>\n",
              "      <td>MARINGA</td>\n",
              "      <td>BRASIL</td>\n",
              "      <td>A</td>\n",
              "      <td>M</td>\n",
              "      <td>PR</td>\n",
              "      <td>PR</td>\n",
              "      <td>PR</td>\n",
              "      <td>PR</td>\n",
              "      <td>NaN</td>\n",
              "      <td>NNNNNNNN</td>\n",
              "      <td>P</td>\n",
              "      <td>1</td>\n",
              "      <td>N</td>\n",
              "    </tr>\n",
              "  </tbody>\n",
              "</table>\n",
              "</div>"
            ],
            "text/plain": [
              "       ANO_OCORRENCIA     CD_ALUNO  CD_CURSO  CD_ORIGEM_ALUNO CD_TURNO  \\\n",
              "66372            2021  10129599724        26                0        I   \n",
              "\n",
              "      DE_NATURALIDADE DH_MATRICULA DH_SITUACAO  DT_ANO_INGRES DT_NASC_ALUNO  \\\n",
              "66372             NaN   2021-06-16  2022-04-25           2021    2003-06-16   \n",
              "\n",
              "       LT_ESTADO_CIVIL LT_MODALIDADE LT_NACIONALIDADE  LT_RACA NM_CIDADE_AULA  \\\n",
              "66372              1.0             P                B        2        MARINGA   \n",
              "\n",
              "      NM_CIDADE_EST2GRAU NM_CIDADE_FERIAS NM_CIDADE_NASC NM_PAIS_NASC  \\\n",
              "66372            MARINGA          MARINGA        MARINGA       BRASIL   \n",
              "\n",
              "      NU_SEMESTRE2_VEST SG_SEXO_ALUNO SG_UF_AULA SG_UF_EST2GRAU SG_UF_FERIAS  \\\n",
              "66372                 A             M         PR             PR           PR   \n",
              "\n",
              "      SG_UF_NASC_ALUNO ST_ALUNO TP_DEFIC_INEP TP_ESCOLA  TP_INGRES_CURSO  \\\n",
              "66372               PR      NaN      NNNNNNNN         P                1   \n",
              "\n",
              "      TP_OPCAO_COTAS  \n",
              "66372              N  "
            ]
          },
          "execution_count": 14,
          "metadata": {},
          "output_type": "execute_result"
        }
      ],
      "source": [
        "df_final[(df_final['DT_NASC_ALUNO'] == '2003-06-16') & (df_final['CD_CURSO'] == 26)]"
      ]
    },
    {
      "cell_type": "code",
      "execution_count": 15,
      "metadata": {
        "colab": {
          "base_uri": "https://localhost:8080/",
          "height": 101
        },
        "id": "N5cpgrXvKruP",
        "outputId": "150a2310-e0ae-4ac6-e5fe-c28bf147fd5e"
      },
      "outputs": [
        {
          "data": {
            "text/html": [
              "<div>\n",
              "<style scoped>\n",
              "    .dataframe tbody tr th:only-of-type {\n",
              "        vertical-align: middle;\n",
              "    }\n",
              "\n",
              "    .dataframe tbody tr th {\n",
              "        vertical-align: top;\n",
              "    }\n",
              "\n",
              "    .dataframe thead th {\n",
              "        text-align: right;\n",
              "    }\n",
              "</style>\n",
              "<table border=\"1\" class=\"dataframe\">\n",
              "  <thead>\n",
              "    <tr style=\"text-align: right;\">\n",
              "      <th></th>\n",
              "      <th>ANO_OCORRENCIA</th>\n",
              "      <th>CD_ALUNO</th>\n",
              "      <th>CD_CURSO</th>\n",
              "      <th>CD_ORIGEM_ALUNO</th>\n",
              "      <th>CD_TURNO</th>\n",
              "      <th>DE_NATURALIDADE</th>\n",
              "      <th>DH_MATRICULA</th>\n",
              "      <th>DH_SITUACAO</th>\n",
              "      <th>DT_ANO_INGRES</th>\n",
              "      <th>DT_NASC_ALUNO</th>\n",
              "      <th>LT_ESTADO_CIVIL</th>\n",
              "      <th>LT_MODALIDADE</th>\n",
              "      <th>LT_NACIONALIDADE</th>\n",
              "      <th>LT_RACA</th>\n",
              "      <th>NM_CIDADE_AULA</th>\n",
              "      <th>NM_CIDADE_EST2GRAU</th>\n",
              "      <th>NM_CIDADE_FERIAS</th>\n",
              "      <th>NM_CIDADE_NASC</th>\n",
              "      <th>NM_PAIS_NASC</th>\n",
              "      <th>NU_SEMESTRE2_VEST</th>\n",
              "      <th>SG_SEXO_ALUNO</th>\n",
              "      <th>SG_UF_AULA</th>\n",
              "      <th>SG_UF_EST2GRAU</th>\n",
              "      <th>SG_UF_FERIAS</th>\n",
              "      <th>SG_UF_NASC_ALUNO</th>\n",
              "      <th>ST_ALUNO</th>\n",
              "      <th>TP_DEFIC_INEP</th>\n",
              "      <th>TP_ESCOLA</th>\n",
              "      <th>TP_INGRES_CURSO</th>\n",
              "      <th>TP_OPCAO_COTAS</th>\n",
              "    </tr>\n",
              "  </thead>\n",
              "  <tbody>\n",
              "    <tr>\n",
              "      <th>70071</th>\n",
              "      <td>0</td>\n",
              "      <td>13159171903</td>\n",
              "      <td>26</td>\n",
              "      <td>0</td>\n",
              "      <td>I</td>\n",
              "      <td>NaN</td>\n",
              "      <td>2022-05-16</td>\n",
              "      <td>2022-05-16</td>\n",
              "      <td>2022</td>\n",
              "      <td>2004-04-12</td>\n",
              "      <td>1.0</td>\n",
              "      <td>P</td>\n",
              "      <td>B</td>\n",
              "      <td>1</td>\n",
              "      <td>MARINGA</td>\n",
              "      <td>MARINGA</td>\n",
              "      <td>MARINGA</td>\n",
              "      <td>MARINGA</td>\n",
              "      <td>BRASIL</td>\n",
              "      <td>A</td>\n",
              "      <td>F</td>\n",
              "      <td>PR</td>\n",
              "      <td>PR</td>\n",
              "      <td>PR</td>\n",
              "      <td>PR</td>\n",
              "      <td>NaN</td>\n",
              "      <td>NNNNNNNNNNNNN</td>\n",
              "      <td>P</td>\n",
              "      <td>14</td>\n",
              "      <td>N</td>\n",
              "    </tr>\n",
              "  </tbody>\n",
              "</table>\n",
              "</div>"
            ],
            "text/plain": [
              "       ANO_OCORRENCIA     CD_ALUNO  CD_CURSO  CD_ORIGEM_ALUNO CD_TURNO  \\\n",
              "70071               0  13159171903        26                0        I   \n",
              "\n",
              "      DE_NATURALIDADE DH_MATRICULA DH_SITUACAO  DT_ANO_INGRES DT_NASC_ALUNO  \\\n",
              "70071             NaN   2022-05-16  2022-05-16           2022    2004-04-12   \n",
              "\n",
              "       LT_ESTADO_CIVIL LT_MODALIDADE LT_NACIONALIDADE  LT_RACA NM_CIDADE_AULA  \\\n",
              "70071              1.0             P                B        1        MARINGA   \n",
              "\n",
              "      NM_CIDADE_EST2GRAU NM_CIDADE_FERIAS NM_CIDADE_NASC NM_PAIS_NASC  \\\n",
              "70071            MARINGA          MARINGA        MARINGA       BRASIL   \n",
              "\n",
              "      NU_SEMESTRE2_VEST SG_SEXO_ALUNO SG_UF_AULA SG_UF_EST2GRAU SG_UF_FERIAS  \\\n",
              "70071                 A             F         PR             PR           PR   \n",
              "\n",
              "      SG_UF_NASC_ALUNO ST_ALUNO  TP_DEFIC_INEP TP_ESCOLA  TP_INGRES_CURSO  \\\n",
              "70071               PR      NaN  NNNNNNNNNNNNN         P               14   \n",
              "\n",
              "      TP_OPCAO_COTAS  \n",
              "70071              N  "
            ]
          },
          "execution_count": 15,
          "metadata": {},
          "output_type": "execute_result"
        }
      ],
      "source": [
        "df_final[(df_final['DT_NASC_ALUNO'] == '2004-04-12') & (df_final['CD_CURSO'] == 26)]"
      ]
    },
    {
      "cell_type": "markdown",
      "metadata": {
        "id": "5dJvuqf_KruP"
      },
      "source": [
        "### ANO_OCORRENCIA"
      ]
    },
    {
      "cell_type": "markdown",
      "metadata": {
        "id": "AnSBOMuJKruQ"
      },
      "source": [
        "Não mexi e não iremos utilizar, uma vez que não há o campo da Ocorrência"
      ]
    },
    {
      "cell_type": "code",
      "execution_count": 16,
      "metadata": {
        "id": "Yj3VrzFoKruQ"
      },
      "outputs": [],
      "source": [
        "colunas_a_remover.append('ANO_OCORRENCIA')"
      ]
    },
    {
      "cell_type": "markdown",
      "metadata": {
        "id": "b9OwsuHDKruQ"
      },
      "source": [
        "### CD_ALUNO"
      ]
    },
    {
      "cell_type": "markdown",
      "metadata": {
        "id": "Ooa_7e7ZKruQ"
      },
      "source": [
        "ID do aluno. Mantém como está"
      ]
    },
    {
      "cell_type": "markdown",
      "metadata": {
        "id": "lr4-i5BhKruQ"
      },
      "source": [
        "### CD_CURSO"
      ]
    },
    {
      "cell_type": "markdown",
      "metadata": {
        "id": "FChoOdj8KruQ"
      },
      "source": [
        "Mantém como está."
      ]
    },
    {
      "cell_type": "markdown",
      "metadata": {
        "id": "oHgVbVjZKruQ"
      },
      "source": [
        "### CD_ORIGEM_ALUNO"
      ]
    },
    {
      "cell_type": "code",
      "execution_count": 17,
      "metadata": {
        "colab": {
          "base_uri": "https://localhost:8080/",
          "height": 366
        },
        "id": "pIwcXV6JKruQ",
        "outputId": "0fdb2345-8f6d-44cd-a5fe-a4d9245a5e6a"
      },
      "outputs": [
        {
          "data": {
            "text/plain": [
              "CD_ORIGEM_ALUNO\n",
              "0      7322\n",
              "1     27404\n",
              "2      6925\n",
              "3     17061\n",
              "4      9967\n",
              "5      2394\n",
              "6       147\n",
              "15        1\n",
              "Name: count, dtype: int64"
            ]
          },
          "execution_count": 17,
          "metadata": {},
          "output_type": "execute_result"
        }
      ],
      "source": [
        "df_final['CD_ORIGEM_ALUNO'].value_counts(dropna=False).sort_index()"
      ]
    },
    {
      "cell_type": "markdown",
      "metadata": {
        "id": "bz9AQ-VtKruQ"
      },
      "source": [
        "Os valores 0 são nulos, verificando outras colunas referentes ao local de nascimento do aluno"
      ]
    },
    {
      "cell_type": "code",
      "execution_count": 18,
      "metadata": {
        "id": "2SYUJjqnKruQ"
      },
      "outputs": [],
      "source": [
        "def verifica_origem_aluno(row):\n",
        "    if row['NM_CIDADE_NASC'] == 'MARINGA':\n",
        "        return 1\n",
        "    elif row['SG_UF_NASC_ALUNO'] == 'SP':\n",
        "        return 4\n",
        "    elif row['SG_UF_NASC_ALUNO'] != 'SP' and row['SG_UF_NASC_ALUNO'] != 'PR':\n",
        "        return 5\n",
        "    elif row['NM_PAIS_NASC'] != 'BRASIL':\n",
        "        return 6\n",
        "    else:\n",
        "        return 0"
      ]
    },
    {
      "cell_type": "code",
      "execution_count": 19,
      "metadata": {
        "id": "3KvR3DO0KruR"
      },
      "outputs": [],
      "source": [
        "df_final['F_CD_ORIGEM_ALUNO'] = df_final.apply(verifica_origem_aluno, axis=1)"
      ]
    },
    {
      "cell_type": "code",
      "execution_count": 20,
      "metadata": {
        "colab": {
          "base_uri": "https://localhost:8080/",
          "height": 424
        },
        "id": "L2JC1b6cKruR",
        "outputId": "a886457a-89b0-41e6-c006-1fb09c1c399d"
      },
      "outputs": [
        {
          "data": {
            "text/html": [
              "<div>\n",
              "<style scoped>\n",
              "    .dataframe tbody tr th:only-of-type {\n",
              "        vertical-align: middle;\n",
              "    }\n",
              "\n",
              "    .dataframe tbody tr th {\n",
              "        vertical-align: top;\n",
              "    }\n",
              "\n",
              "    .dataframe thead th {\n",
              "        text-align: right;\n",
              "    }\n",
              "</style>\n",
              "<table border=\"1\" class=\"dataframe\">\n",
              "  <thead>\n",
              "    <tr style=\"text-align: right;\">\n",
              "      <th></th>\n",
              "      <th>CD_ORIGEM_ALUNO</th>\n",
              "      <th>LT_NACIONALIDADE</th>\n",
              "      <th>NM_PAIS_NASC</th>\n",
              "      <th>SG_UF_NASC_ALUNO</th>\n",
              "      <th>NM_CIDADE_NASC</th>\n",
              "      <th>SG_UF_FERIAS</th>\n",
              "      <th>NM_CIDADE_FERIAS</th>\n",
              "      <th>F_CD_ORIGEM_ALUNO</th>\n",
              "    </tr>\n",
              "  </thead>\n",
              "  <tbody>\n",
              "    <tr>\n",
              "      <th>1</th>\n",
              "      <td>0</td>\n",
              "      <td>B</td>\n",
              "      <td>BRASIL</td>\n",
              "      <td>PR</td>\n",
              "      <td>MANDAGUARI</td>\n",
              "      <td>NaN</td>\n",
              "      <td>NaN</td>\n",
              "      <td>0</td>\n",
              "    </tr>\n",
              "    <tr>\n",
              "      <th>51</th>\n",
              "      <td>0</td>\n",
              "      <td>B</td>\n",
              "      <td>BRASIL</td>\n",
              "      <td>PR</td>\n",
              "      <td>MARINGA</td>\n",
              "      <td>PR</td>\n",
              "      <td>MARINGA</td>\n",
              "      <td>1</td>\n",
              "    </tr>\n",
              "    <tr>\n",
              "      <th>809</th>\n",
              "      <td>0</td>\n",
              "      <td>B</td>\n",
              "      <td>BRASIL</td>\n",
              "      <td>PR</td>\n",
              "      <td>LONDRINA</td>\n",
              "      <td>PR</td>\n",
              "      <td>MARIALVA</td>\n",
              "      <td>0</td>\n",
              "    </tr>\n",
              "    <tr>\n",
              "      <th>1489</th>\n",
              "      <td>0</td>\n",
              "      <td>B</td>\n",
              "      <td>BRASIL</td>\n",
              "      <td>PR</td>\n",
              "      <td>MARINGA</td>\n",
              "      <td>--</td>\n",
              "      <td>NAO INFORMADO</td>\n",
              "      <td>1</td>\n",
              "    </tr>\n",
              "    <tr>\n",
              "      <th>1490</th>\n",
              "      <td>0</td>\n",
              "      <td>B</td>\n",
              "      <td>BRASIL</td>\n",
              "      <td>PR</td>\n",
              "      <td>MARINGA</td>\n",
              "      <td>--</td>\n",
              "      <td>NAO INFORMADO</td>\n",
              "      <td>1</td>\n",
              "    </tr>\n",
              "    <tr>\n",
              "      <th>...</th>\n",
              "      <td>...</td>\n",
              "      <td>...</td>\n",
              "      <td>...</td>\n",
              "      <td>...</td>\n",
              "      <td>...</td>\n",
              "      <td>...</td>\n",
              "      <td>...</td>\n",
              "      <td>...</td>\n",
              "    </tr>\n",
              "    <tr>\n",
              "      <th>71216</th>\n",
              "      <td>0</td>\n",
              "      <td>B</td>\n",
              "      <td>BRASIL</td>\n",
              "      <td>PR</td>\n",
              "      <td>BRAGANTINA</td>\n",
              "      <td>NaN</td>\n",
              "      <td>MARINGA</td>\n",
              "      <td>0</td>\n",
              "    </tr>\n",
              "    <tr>\n",
              "      <th>71217</th>\n",
              "      <td>0</td>\n",
              "      <td>B</td>\n",
              "      <td>BRASIL</td>\n",
              "      <td>PR</td>\n",
              "      <td>CURITIBA</td>\n",
              "      <td>NaN</td>\n",
              "      <td>APUCARANA</td>\n",
              "      <td>0</td>\n",
              "    </tr>\n",
              "    <tr>\n",
              "      <th>71218</th>\n",
              "      <td>0</td>\n",
              "      <td>B</td>\n",
              "      <td>NaN</td>\n",
              "      <td>PR</td>\n",
              "      <td>JACAREZINHO</td>\n",
              "      <td>NaN</td>\n",
              "      <td>NaN</td>\n",
              "      <td>6</td>\n",
              "    </tr>\n",
              "    <tr>\n",
              "      <th>71219</th>\n",
              "      <td>0</td>\n",
              "      <td>B</td>\n",
              "      <td>NaN</td>\n",
              "      <td>PR</td>\n",
              "      <td>LONDRINA</td>\n",
              "      <td>NaN</td>\n",
              "      <td>NaN</td>\n",
              "      <td>6</td>\n",
              "    </tr>\n",
              "    <tr>\n",
              "      <th>71220</th>\n",
              "      <td>0</td>\n",
              "      <td>B</td>\n",
              "      <td>NaN</td>\n",
              "      <td>PR</td>\n",
              "      <td>CANDIDO DE ABREU</td>\n",
              "      <td>NaN</td>\n",
              "      <td>NaN</td>\n",
              "      <td>6</td>\n",
              "    </tr>\n",
              "  </tbody>\n",
              "</table>\n",
              "<p>7322 rows × 8 columns</p>\n",
              "</div>"
            ],
            "text/plain": [
              "       CD_ORIGEM_ALUNO LT_NACIONALIDADE NM_PAIS_NASC SG_UF_NASC_ALUNO  \\\n",
              "1                    0                B       BRASIL               PR   \n",
              "51                   0                B       BRASIL               PR   \n",
              "809                  0                B       BRASIL               PR   \n",
              "1489                 0                B       BRASIL               PR   \n",
              "1490                 0                B       BRASIL               PR   \n",
              "...                ...              ...          ...              ...   \n",
              "71216                0                B       BRASIL               PR   \n",
              "71217                0                B       BRASIL               PR   \n",
              "71218                0                B          NaN               PR   \n",
              "71219                0                B          NaN               PR   \n",
              "71220                0                B          NaN               PR   \n",
              "\n",
              "         NM_CIDADE_NASC SG_UF_FERIAS NM_CIDADE_FERIAS  F_CD_ORIGEM_ALUNO  \n",
              "1            MANDAGUARI          NaN              NaN                  0  \n",
              "51              MARINGA           PR          MARINGA                  1  \n",
              "809            LONDRINA           PR         MARIALVA                  0  \n",
              "1489            MARINGA           --    NAO INFORMADO                  1  \n",
              "1490            MARINGA           --    NAO INFORMADO                  1  \n",
              "...                 ...          ...              ...                ...  \n",
              "71216        BRAGANTINA          NaN          MARINGA                  0  \n",
              "71217          CURITIBA          NaN        APUCARANA                  0  \n",
              "71218       JACAREZINHO          NaN              NaN                  6  \n",
              "71219          LONDRINA          NaN              NaN                  6  \n",
              "71220  CANDIDO DE ABREU          NaN              NaN                  6  \n",
              "\n",
              "[7322 rows x 8 columns]"
            ]
          },
          "execution_count": 20,
          "metadata": {},
          "output_type": "execute_result"
        }
      ],
      "source": [
        "df_final[df_final['CD_ORIGEM_ALUNO'] == 0][colunas_loc_nasc_aluno + ['F_CD_ORIGEM_ALUNO']]"
      ]
    },
    {
      "cell_type": "markdown",
      "metadata": {
        "id": "UfMhr5dIKruR"
      },
      "source": [
        "Comecei a tratar, mas acho melhor voltar depois de tratar 'CD_ORIGEM_ALUNO', 'LT_NACIONALIDADE', 'NM_CIDADE_NASC', 'NM_PAIS_NASC', 'SG_UF_NASC_ALUNO'"
      ]
    },
    {
      "cell_type": "code",
      "execution_count": 21,
      "metadata": {
        "id": "MNuAHBBJKruR"
      },
      "outputs": [],
      "source": [
        "colunas_a_remover.append('CD_ORIGEM_ALUNO')"
      ]
    },
    {
      "cell_type": "markdown",
      "metadata": {
        "id": "Xff6es5tKruR"
      },
      "source": [
        "### CD_TURNO"
      ]
    },
    {
      "cell_type": "markdown",
      "metadata": {
        "id": "HKgEYK_SKruR"
      },
      "source": [
        "Mantém como está."
      ]
    },
    {
      "cell_type": "markdown",
      "metadata": {
        "id": "SIOCNrSZKruR"
      },
      "source": [
        "### DE_NATURALIDADE"
      ]
    },
    {
      "cell_type": "markdown",
      "metadata": {
        "id": "XpCQ0pNYKruR"
      },
      "source": [
        "Comentário do Alison:\n",
        "\n",
        "> Acho que deveria ser a cidade de nascimento. Acho que este também não é um bom campo, pois também está em desuso, a maioria dos alunos estão com esse campo nulo. O que se usa mais é DE_NAT_ESTRANG o qual é a cidade de nascimento quando a pessoa é estrangeira e o próprio usuário digita como quiser, pois o campo NM_CIDADE_NASC é populado por um selectbox conforme cadastro dos correios e não tem cidades fora do Brasil.\n",
        "\n",
        "Melhor desconsiderar esse campo."
      ]
    },
    {
      "cell_type": "code",
      "execution_count": 22,
      "metadata": {
        "id": "XChZAQcrKruR"
      },
      "outputs": [],
      "source": [
        "colunas_a_remover.append('DE_NATURALIDADE')"
      ]
    },
    {
      "cell_type": "markdown",
      "metadata": {
        "id": "3TbSipFkKruR"
      },
      "source": [
        "### DH_MATRICULA"
      ]
    },
    {
      "cell_type": "markdown",
      "metadata": {
        "id": "KkbdoIzmKruR"
      },
      "source": [
        "Mantém como está. Ano calendário"
      ]
    },
    {
      "cell_type": "markdown",
      "metadata": {
        "id": "o-1btUujKruR"
      },
      "source": [
        "### DH_SITUACAO"
      ]
    },
    {
      "cell_type": "markdown",
      "metadata": {
        "id": "yJ-wRnYuKruR"
      },
      "source": [
        "Mantém como está. Ano calendário"
      ]
    },
    {
      "cell_type": "markdown",
      "metadata": {
        "id": "1dsXb8ovKruR"
      },
      "source": [
        "Data da última situação do aluno\n",
        "\n",
        "A partir de 2007 estará mais confiável. Antes pode ter informação errada. Foi feita uma tratativa para pegar o DH_MATRICULA se o DH_SITUACAO estivesse vazio.\n",
        "\n",
        "\n",
        "Um caso: aluno entrou em 2014 e estava com a situação em branco, ou seja, matriculado. Quando um aluno tranca e volta, o DH_SITUACAO vai estar com a data da volta, e não da matrícula.\n",
        "\n",
        "Outro caso: aluno com data de matrícula 2009 e data de ingresso 2006, o errado nesse caso seria o DH_MATRICULA. Antigamente era tudo manual.\n"
      ]
    },
    {
      "cell_type": "markdown",
      "metadata": {
        "id": "PHAWWLBbKruR"
      },
      "source": [
        "### DT_ANO_INGRES"
      ]
    },
    {
      "cell_type": "markdown",
      "metadata": {
        "id": "j9pta62EKruR"
      },
      "source": [
        "Mantém como está. Ano letivo"
      ]
    },
    {
      "cell_type": "markdown",
      "metadata": {
        "id": "2vo690fMKruR"
      },
      "source": [
        "### DT_NASC_ALUNO"
      ]
    },
    {
      "cell_type": "markdown",
      "metadata": {
        "id": "ofsRNTrWKruR"
      },
      "source": [
        "Vou manter apenas o ano (calendário)"
      ]
    },
    {
      "cell_type": "code",
      "execution_count": 23,
      "metadata": {
        "colab": {
          "base_uri": "https://localhost:8080/",
          "height": 490
        },
        "id": "ryz-3DYMKruR",
        "outputId": "b9dfa587-6dcf-453f-c670-c260d5cf5f27"
      },
      "outputs": [
        {
          "data": {
            "text/plain": [
              "DT_NASC_ALUNO\n",
              "0001-01-01    62\n",
              "1991-03-01    29\n",
              "1990-10-10    28\n",
              "1990-02-08    24\n",
              "1994-06-22    23\n",
              "              ..\n",
              "1965-01-31     1\n",
              "1969-03-31     1\n",
              "1972-01-06     1\n",
              "1979-12-18     1\n",
              "1969-01-25     1\n",
              "Name: count, Length: 11681, dtype: int64"
            ]
          },
          "execution_count": 23,
          "metadata": {},
          "output_type": "execute_result"
        }
      ],
      "source": [
        "df_final['DT_NASC_ALUNO'].value_counts(dropna=False)"
      ]
    },
    {
      "cell_type": "code",
      "execution_count": 24,
      "metadata": {
        "id": "kKd6tBttKruV"
      },
      "outputs": [],
      "source": [
        "df_final['F_DT_NASC_ALUNO'] = df_final['DT_NASC_ALUNO'].apply(lambda x: x.split('-')[0])"
      ]
    },
    {
      "cell_type": "code",
      "execution_count": 25,
      "metadata": {
        "colab": {
          "base_uri": "https://localhost:8080/",
          "height": 424
        },
        "id": "8mnPbQ6uKruV",
        "outputId": "e5e3716f-5c53-4edf-9b3c-a598ae534d8e"
      },
      "outputs": [
        {
          "data": {
            "text/html": [
              "<div>\n",
              "<style scoped>\n",
              "    .dataframe tbody tr th:only-of-type {\n",
              "        vertical-align: middle;\n",
              "    }\n",
              "\n",
              "    .dataframe tbody tr th {\n",
              "        vertical-align: top;\n",
              "    }\n",
              "\n",
              "    .dataframe thead th {\n",
              "        text-align: right;\n",
              "    }\n",
              "</style>\n",
              "<table border=\"1\" class=\"dataframe\">\n",
              "  <thead>\n",
              "    <tr style=\"text-align: right;\">\n",
              "      <th></th>\n",
              "      <th>DT_NASC_ALUNO</th>\n",
              "      <th>F_DT_NASC_ALUNO</th>\n",
              "    </tr>\n",
              "  </thead>\n",
              "  <tbody>\n",
              "    <tr>\n",
              "      <th>0</th>\n",
              "      <td>1974-07-08</td>\n",
              "      <td>1974</td>\n",
              "    </tr>\n",
              "    <tr>\n",
              "      <th>1</th>\n",
              "      <td>1971-02-08</td>\n",
              "      <td>1971</td>\n",
              "    </tr>\n",
              "    <tr>\n",
              "      <th>2</th>\n",
              "      <td>1971-07-12</td>\n",
              "      <td>1971</td>\n",
              "    </tr>\n",
              "    <tr>\n",
              "      <th>3</th>\n",
              "      <td>1974-05-25</td>\n",
              "      <td>1974</td>\n",
              "    </tr>\n",
              "    <tr>\n",
              "      <th>4</th>\n",
              "      <td>1966-07-27</td>\n",
              "      <td>1966</td>\n",
              "    </tr>\n",
              "    <tr>\n",
              "      <th>...</th>\n",
              "      <td>...</td>\n",
              "      <td>...</td>\n",
              "    </tr>\n",
              "    <tr>\n",
              "      <th>71216</th>\n",
              "      <td>1972-10-16</td>\n",
              "      <td>1972</td>\n",
              "    </tr>\n",
              "    <tr>\n",
              "      <th>71217</th>\n",
              "      <td>1981-01-16</td>\n",
              "      <td>1981</td>\n",
              "    </tr>\n",
              "    <tr>\n",
              "      <th>71218</th>\n",
              "      <td>2001-07-15</td>\n",
              "      <td>2001</td>\n",
              "    </tr>\n",
              "    <tr>\n",
              "      <th>71219</th>\n",
              "      <td>1999-12-13</td>\n",
              "      <td>1999</td>\n",
              "    </tr>\n",
              "    <tr>\n",
              "      <th>71220</th>\n",
              "      <td>2000-03-04</td>\n",
              "      <td>2000</td>\n",
              "    </tr>\n",
              "  </tbody>\n",
              "</table>\n",
              "<p>71221 rows × 2 columns</p>\n",
              "</div>"
            ],
            "text/plain": [
              "      DT_NASC_ALUNO F_DT_NASC_ALUNO\n",
              "0        1974-07-08            1974\n",
              "1        1971-02-08            1971\n",
              "2        1971-07-12            1971\n",
              "3        1974-05-25            1974\n",
              "4        1966-07-27            1966\n",
              "...             ...             ...\n",
              "71216    1972-10-16            1972\n",
              "71217    1981-01-16            1981\n",
              "71218    2001-07-15            2001\n",
              "71219    1999-12-13            1999\n",
              "71220    2000-03-04            2000\n",
              "\n",
              "[71221 rows x 2 columns]"
            ]
          },
          "execution_count": 25,
          "metadata": {},
          "output_type": "execute_result"
        }
      ],
      "source": [
        "df_final[['DT_NASC_ALUNO', 'F_DT_NASC_ALUNO']]"
      ]
    },
    {
      "cell_type": "code",
      "execution_count": 26,
      "metadata": {
        "id": "BxCrYqsQKruV"
      },
      "outputs": [],
      "source": [
        "colunas_a_remover.append('DT_NASC_ALUNO')"
      ]
    },
    {
      "cell_type": "markdown",
      "metadata": {
        "id": "CDrApqPXKruV"
      },
      "source": [
        "### LT_ESTADO_CIVIL"
      ]
    },
    {
      "cell_type": "markdown",
      "metadata": {
        "id": "Y9vgfrKBKruV"
      },
      "source": [
        "0 ou em branco = NÃO INFORMADO\n",
        "\n",
        "1 = SOLTEIRO(A)\n",
        "\n",
        "2 = CASADO(A)\n",
        "\n",
        "3 = SEPARADO(A)\n",
        "\n",
        "4 = DIVORCIADO(A)\n",
        "\n",
        "5 = VIÚVO(A)\n",
        "\n",
        "6 = OUTROS"
      ]
    },
    {
      "cell_type": "code",
      "execution_count": 27,
      "metadata": {
        "colab": {
          "base_uri": "https://localhost:8080/",
          "height": 366
        },
        "id": "DMfvpJayKruW",
        "outputId": "f16c627a-fb59-4248-9c34-187ac0ff0357"
      },
      "outputs": [
        {
          "data": {
            "text/plain": [
              "LT_ESTADO_CIVIL\n",
              "0.0     1204\n",
              "1.0    64671\n",
              "2.0     3674\n",
              "3.0     1001\n",
              "4.0      278\n",
              "5.0       15\n",
              "6.0      146\n",
              "NaN      232\n",
              "Name: count, dtype: int64"
            ]
          },
          "execution_count": 27,
          "metadata": {},
          "output_type": "execute_result"
        }
      ],
      "source": [
        "df_final['LT_ESTADO_CIVIL'].value_counts(dropna=False).sort_index()"
      ]
    },
    {
      "cell_type": "code",
      "execution_count": 28,
      "metadata": {
        "id": "YW8F8pELKruW"
      },
      "outputs": [],
      "source": [
        "df_final['LT_ESTADO_CIVIL'].fillna(0.0, inplace=True)"
      ]
    },
    {
      "cell_type": "markdown",
      "metadata": {
        "id": "3DZluWT4KruW"
      },
      "source": [
        "### LT_MODALIDADE"
      ]
    },
    {
      "cell_type": "markdown",
      "metadata": {
        "id": "A3iUESN1KruW"
      },
      "source": [
        "Como só tem um valor, desconsiderar coluna."
      ]
    },
    {
      "cell_type": "code",
      "execution_count": 29,
      "metadata": {
        "id": "SqgdXsJiKruW"
      },
      "outputs": [],
      "source": [
        "colunas_a_remover.append('LT_MODALIDADE')"
      ]
    },
    {
      "cell_type": "markdown",
      "metadata": {
        "id": "-XU72Jk5KruW"
      },
      "source": [
        "### LT_NACIONALIDADE"
      ]
    },
    {
      "cell_type": "markdown",
      "metadata": {
        "id": "wOE3M9GnKruW"
      },
      "source": [
        "Mantém como está? Vamos usar?"
      ]
    },
    {
      "cell_type": "code",
      "execution_count": 30,
      "metadata": {
        "colab": {
          "base_uri": "https://localhost:8080/",
          "height": 272
        },
        "id": "yDRPDxm7KruW",
        "outputId": "43b6673e-31f2-47c3-f224-bb304d73eed5"
      },
      "outputs": [
        {
          "data": {
            "text/plain": [
              "LT_NACIONALIDADE\n",
              "B      70395\n",
              "NaN      297\n",
              "R        216\n",
              "N        179\n",
              "E        134\n",
              "Name: count, dtype: int64"
            ]
          },
          "execution_count": 30,
          "metadata": {},
          "output_type": "execute_result"
        }
      ],
      "source": [
        "df_final['LT_NACIONALIDADE'].value_counts(dropna=False)"
      ]
    },
    {
      "cell_type": "markdown",
      "metadata": {
        "id": "hIgtNTPsKruW"
      },
      "source": [
        "B= BRASILEIRA\n",
        "\n",
        "E= ESTRANGEIRA\n",
        "\n",
        "N= BRASILEIRO NATURALIZADO\n",
        "\n",
        "R= BRASILEIRO NASCIDO NO EXTERIOR\n",
        "\n",
        "Nulo ou em branco = NÃO INFORMADO"
      ]
    },
    {
      "cell_type": "markdown",
      "metadata": {
        "id": "TUGOmbZWKruW"
      },
      "source": [
        "### LT_RACA"
      ]
    },
    {
      "cell_type": "markdown",
      "metadata": {
        "id": "cng87fC_KruW"
      },
      "source": [
        "Mantém como está"
      ]
    },
    {
      "cell_type": "code",
      "execution_count": 31,
      "metadata": {
        "colab": {
          "base_uri": "https://localhost:8080/",
          "height": 304
        },
        "id": "Ky9VOa7DKruW",
        "outputId": "d961b4e0-bb11-4195-e428-1c2c08feba2b"
      },
      "outputs": [
        {
          "data": {
            "text/plain": [
              "LT_RACA\n",
              "0    20818\n",
              "1     3171\n",
              "2    37476\n",
              "3      177\n",
              "4     1526\n",
              "5     8053\n",
              "Name: count, dtype: int64"
            ]
          },
          "execution_count": 31,
          "metadata": {},
          "output_type": "execute_result"
        }
      ],
      "source": [
        "df_final['LT_RACA'].value_counts(dropna=False).sort_index()"
      ]
    },
    {
      "cell_type": "markdown",
      "metadata": {
        "id": "LlLw8Ix0KruX"
      },
      "source": [
        "0 = NÃO DECLARADA\n",
        "\n",
        "1 = AMARELO(A), DE ORIGEM ORIENTAL\n",
        "\n",
        "2 = BRANCO(A)\n",
        "\n",
        "3 = INDÍGENA OU DE ORIGEM INDÍGENA\n",
        "\n",
        "4 = NEGRO(A)\n",
        "\n",
        "5 = PARDO(A)/MUDALTO(A)\n",
        "\n",
        "Nulo ou em branco = NÃO INFORMADO"
      ]
    },
    {
      "cell_type": "markdown",
      "metadata": {
        "id": "3MtenarfKruX"
      },
      "source": [
        "### NM_CIDADE_AULA"
      ]
    },
    {
      "cell_type": "markdown",
      "metadata": {
        "id": "PGXXV7FsKruX"
      },
      "source": [
        "Desconsiderar. Muitas cidades, deveria ser só as cidades das regiões de cada campus."
      ]
    },
    {
      "cell_type": "code",
      "execution_count": 32,
      "metadata": {
        "colab": {
          "base_uri": "https://localhost:8080/",
          "height": 774
        },
        "id": "1XkdY0jHKruX",
        "outputId": "47a29809-5a61-4108-ba87-820b2f55d08f"
      },
      "outputs": [
        {
          "data": {
            "text/plain": [
              "DT_ANO_INGRES\n",
              "2002     90\n",
              "2003    157\n",
              "2004    237\n",
              "2005    351\n",
              "2006    418\n",
              "2007    464\n",
              "2008    460\n",
              "2009    578\n",
              "2010    481\n",
              "2011    470\n",
              "2012    414\n",
              "2013    438\n",
              "2014    431\n",
              "2015    404\n",
              "2016    371\n",
              "2017    371\n",
              "2018    368\n",
              "2019    395\n",
              "2020    438\n",
              "2021    447\n",
              "2022    445\n",
              "Name: NM_CIDADE_NASC, dtype: int64"
            ]
          },
          "execution_count": 32,
          "metadata": {},
          "output_type": "execute_result"
        }
      ],
      "source": [
        "df_final.groupby('DT_ANO_INGRES')['NM_CIDADE_NASC'].nunique()"
      ]
    },
    {
      "cell_type": "code",
      "execution_count": 33,
      "metadata": {
        "id": "aToXkn6pKruX"
      },
      "outputs": [],
      "source": [
        "colunas_a_remover.append('NM_CIDADE_AULA')"
      ]
    },
    {
      "cell_type": "markdown",
      "metadata": {
        "id": "VQKwlS6dKruX"
      },
      "source": [
        "### NM_CIDADE_EST2GRAU, NM_CIDADE_FERIAS"
      ]
    },
    {
      "cell_type": "markdown",
      "metadata": {
        "id": "HswgQyb4KruX"
      },
      "source": [
        "Vamos usar?\n",
        "\n",
        "Verificar se tem influência com a evasão antes de decidir\n",
        "\n",
        "Separar campus sede dos outros"
      ]
    },
    {
      "cell_type": "markdown",
      "metadata": {
        "id": "h5l6SU_zKruX"
      },
      "source": [
        "### NM_CIDADE_NASC"
      ]
    },
    {
      "cell_type": "markdown",
      "metadata": {
        "id": "EaXgO80VKruX"
      },
      "source": [
        "Vamos usar? Muitos nulos, como proceder?"
      ]
    },
    {
      "cell_type": "code",
      "execution_count": 34,
      "metadata": {
        "colab": {
          "base_uri": "https://localhost:8080/",
          "height": 490
        },
        "id": "J8-I2ntFKruY",
        "outputId": "c5aab44d-9a9a-4a54-b1b1-8588f62672f9"
      },
      "outputs": [
        {
          "data": {
            "text/plain": [
              "NM_CIDADE_NASC\n",
              "MARINGA           17790\n",
              "NaN               13264\n",
              "CIANORTE           1789\n",
              "SAO PAULO          1703\n",
              "UMUARAMA           1455\n",
              "                  ...  \n",
              "LIDIANOPOLIS          1\n",
              "FARROUPILHA           1\n",
              "PRES. EPITACIO        1\n",
              "LIMA                  1\n",
              "BRAGANTINA            1\n",
              "Name: count, Length: 1502, dtype: int64"
            ]
          },
          "execution_count": 34,
          "metadata": {},
          "output_type": "execute_result"
        }
      ],
      "source": [
        "df_final['NM_CIDADE_NASC'].value_counts(dropna=False)"
      ]
    },
    {
      "cell_type": "code",
      "execution_count": 35,
      "metadata": {
        "colab": {
          "base_uri": "https://localhost:8080/",
          "height": 490
        },
        "id": "OB7HShbCKruY",
        "outputId": "d4b8e0bd-8cb3-4ff5-c5a4-299a60804cec"
      },
      "outputs": [
        {
          "data": {
            "text/plain": [
              "NM_CIDADE_NASC\n",
              "NaN               1274\n",
              "MARINGA            198\n",
              "LONDRINA            26\n",
              "CIANORTE            25\n",
              "SAO PAULO           24\n",
              "                  ... \n",
              "JACAREI              1\n",
              "GUATAMBU             1\n",
              "URANIA               1\n",
              "JOAQUIM TAVORA       1\n",
              "JACAREZINHO          1\n",
              "Name: count, Length: 401, dtype: int64"
            ]
          },
          "execution_count": 35,
          "metadata": {},
          "output_type": "execute_result"
        }
      ],
      "source": [
        "df_final[df_final['NM_PAIS_NASC'] != 'BRASIL']['NM_CIDADE_NASC'].value_counts(dropna=False)"
      ]
    },
    {
      "cell_type": "markdown",
      "metadata": {
        "id": "3rOlsMDuKruY"
      },
      "source": [
        "### NM_PAIS_NASC"
      ]
    },
    {
      "cell_type": "code",
      "execution_count": 36,
      "metadata": {
        "colab": {
          "base_uri": "https://localhost:8080/",
          "height": 1000
        },
        "id": "U4XNlYMrKruZ",
        "outputId": "c1735077-afe9-446b-8291-2304d235c323"
      },
      "outputs": [
        {
          "data": {
            "text/plain": [
              "NM_PAIS_NASC\n",
              "BRASIL             68872\n",
              "NaN                 1751\n",
              "JAPAO                342\n",
              "ESTADOS UNIDOS        28\n",
              "PARAGUAI              25\n",
              "PORTUGAL              20\n",
              "GUINE-BISSAU          17\n",
              "CHINA                 15\n",
              "ESPANHA               12\n",
              "ARGENTINA             11\n",
              "BOLIVIA               11\n",
              "REPUBLICA DO HA       10\n",
              "ALEMANHA               9\n",
              "CHILE                  8\n",
              "AFEGANISTAO            8\n",
              "ITALIA                 7\n",
              "PERU                   7\n",
              "VENEZUELA              7\n",
              "ANGOLA                 6\n",
              "FRANCA                 6\n",
              "CABO VERDE             5\n",
              "COLOMBIA               4\n",
              "TAIWAN                 3\n",
              "CANADA                 2\n",
              "BR                     2\n",
              "INGLATERRA             2\n",
              "HAITI                  2\n",
              "S.TOME PRINCIPE        2\n",
              "GUINE EQUATORIA        2\n",
              "REP. DO HAITI          2\n",
              "GANA                   1\n",
              "GUINE BISSAU           1\n",
              "BRASILEIRO             1\n",
              "10\\/11\\/1999           1\n",
              "REPUBLICA ARABE        1\n",
              "COSTA DO MARFIM        1\n",
              "BRAZIL                 1\n",
              "27032001               1\n",
              "FOZ DO IGUACU          1\n",
              "MOCAMBIQUE             1\n",
              "SARANDI                1\n",
              "EUA                    1\n",
              "GUATEMALA              1\n",
              "REP.DEM.CONGO          1\n",
              "HONDURAS               1\n",
              "TCHECOSLOVAQUIA        1\n",
              "BUTAO                  1\n",
              "BENIN                  1\n",
              "URUGUAI                1\n",
              "JORDANIA               1\n",
              "REINO UNIDO            1\n",
              "AUSTRIA                1\n",
              "EQUADOR                1\n",
              "Name: count, dtype: int64"
            ]
          },
          "execution_count": 36,
          "metadata": {},
          "output_type": "execute_result"
        }
      ],
      "source": [
        "df_final['NM_PAIS_NASC'].value_counts(dropna=False)"
      ]
    },
    {
      "cell_type": "code",
      "execution_count": 37,
      "metadata": {
        "colab": {
          "base_uri": "https://localhost:8080/",
          "height": 241
        },
        "id": "fHqAwA8MKruZ",
        "outputId": "9bde14de-babd-4ce5-ea30-394d44b76e5e"
      },
      "outputs": [
        {
          "data": {
            "text/plain": [
              "LT_NACIONALIDADE\n",
              "B      1731\n",
              "NaN      13\n",
              "E         6\n",
              "N         1\n",
              "Name: count, dtype: int64"
            ]
          },
          "execution_count": 37,
          "metadata": {},
          "output_type": "execute_result"
        }
      ],
      "source": [
        "NM_PAIS_NASC_nan = df_final[df_final['NM_PAIS_NASC'].isna()][colunas_loc_nasc_aluno]\n",
        "NM_PAIS_NASC_nan['LT_NACIONALIDADE'].value_counts(dropna=False)"
      ]
    },
    {
      "cell_type": "markdown",
      "metadata": {
        "id": "t5vWBOoRKruZ"
      },
      "source": [
        "Preenchendo essa coluna com base na coluna LT_NACIONALIDADE"
      ]
    },
    {
      "cell_type": "code",
      "execution_count": 38,
      "metadata": {
        "id": "B5sNdZDzKruZ"
      },
      "outputs": [],
      "source": [
        "df_final['F_NM_PAIS_NASC'] = df_final.apply(lambda x: 'BRASIL' if x['LT_NACIONALIDADE'] == 'B' else x['NM_PAIS_NASC'], axis=1)"
      ]
    },
    {
      "cell_type": "code",
      "execution_count": 39,
      "metadata": {
        "colab": {
          "base_uri": "https://localhost:8080/",
          "height": 1000
        },
        "id": "WraVBni5KruZ",
        "outputId": "e80cd894-30ad-4839-f161-2fb6da38c914"
      },
      "outputs": [
        {
          "data": {
            "text/plain": [
              "F_NM_PAIS_NASC\n",
              "BRASIL             70717\n",
              "JAPAO                262\n",
              "ESTADOS UNIDOS        26\n",
              "PARAGUAI              22\n",
              "NaN                   20\n",
              "GUINE-BISSAU          17\n",
              "CHINA                 15\n",
              "PORTUGAL              15\n",
              "BOLIVIA               11\n",
              "REPUBLICA DO HA       10\n",
              "ARGENTINA              9\n",
              "ESPANHA                9\n",
              "ALEMANHA               9\n",
              "VENEZUELA              7\n",
              "CHILE                  7\n",
              "PERU                   7\n",
              "FRANCA                 6\n",
              "ANGOLA                 6\n",
              "ITALIA                 6\n",
              "CABO VERDE             5\n",
              "COLOMBIA               4\n",
              "TAIWAN                 3\n",
              "INGLATERRA             2\n",
              "HAITI                  2\n",
              "GUINE EQUATORIA        2\n",
              "REP. DO HAITI          2\n",
              "CANADA                 2\n",
              "S.TOME PRINCIPE        2\n",
              "MOCAMBIQUE             1\n",
              "GANA                   1\n",
              "AUSTRIA                1\n",
              "REINO UNIDO            1\n",
              "COSTA DO MARFIM        1\n",
              "REPUBLICA ARABE        1\n",
              "GUINE BISSAU           1\n",
              "JORDANIA               1\n",
              "BENIN                  1\n",
              "EUA                    1\n",
              "GUATEMALA              1\n",
              "REP.DEM.CONGO          1\n",
              "HONDURAS               1\n",
              "URUGUAI                1\n",
              "TCHECOSLOVAQUIA        1\n",
              "EQUADOR                1\n",
              "Name: count, dtype: int64"
            ]
          },
          "execution_count": 39,
          "metadata": {},
          "output_type": "execute_result"
        }
      ],
      "source": [
        "df_final['F_NM_PAIS_NASC'].value_counts(dropna=False)"
      ]
    },
    {
      "cell_type": "code",
      "execution_count": 40,
      "metadata": {
        "colab": {
          "base_uri": "https://localhost:8080/",
          "height": 677
        },
        "id": "A3X9BYZzKruZ",
        "outputId": "7586ddce-5685-49d1-8603-f979a7fcc356"
      },
      "outputs": [
        {
          "data": {
            "text/html": [
              "<div>\n",
              "<style scoped>\n",
              "    .dataframe tbody tr th:only-of-type {\n",
              "        vertical-align: middle;\n",
              "    }\n",
              "\n",
              "    .dataframe tbody tr th {\n",
              "        vertical-align: top;\n",
              "    }\n",
              "\n",
              "    .dataframe thead th {\n",
              "        text-align: right;\n",
              "    }\n",
              "</style>\n",
              "<table border=\"1\" class=\"dataframe\">\n",
              "  <thead>\n",
              "    <tr style=\"text-align: right;\">\n",
              "      <th></th>\n",
              "      <th>CD_ORIGEM_ALUNO</th>\n",
              "      <th>LT_NACIONALIDADE</th>\n",
              "      <th>NM_PAIS_NASC</th>\n",
              "      <th>SG_UF_NASC_ALUNO</th>\n",
              "      <th>NM_CIDADE_NASC</th>\n",
              "      <th>SG_UF_FERIAS</th>\n",
              "      <th>NM_CIDADE_FERIAS</th>\n",
              "      <th>F_NM_PAIS_NASC</th>\n",
              "    </tr>\n",
              "  </thead>\n",
              "  <tbody>\n",
              "    <tr>\n",
              "      <th>128</th>\n",
              "      <td>6</td>\n",
              "      <td>E</td>\n",
              "      <td>NaN</td>\n",
              "      <td>NaN</td>\n",
              "      <td>BISSAU</td>\n",
              "      <td>PR</td>\n",
              "      <td>MARINGA</td>\n",
              "      <td>NaN</td>\n",
              "    </tr>\n",
              "    <tr>\n",
              "      <th>129</th>\n",
              "      <td>6</td>\n",
              "      <td>E</td>\n",
              "      <td>NaN</td>\n",
              "      <td>NaN</td>\n",
              "      <td>BISSAU</td>\n",
              "      <td>PR</td>\n",
              "      <td>MARINGA</td>\n",
              "      <td>NaN</td>\n",
              "    </tr>\n",
              "    <tr>\n",
              "      <th>17112</th>\n",
              "      <td>6</td>\n",
              "      <td>E</td>\n",
              "      <td>NaN</td>\n",
              "      <td>NaN</td>\n",
              "      <td>GUINE-BISSAU</td>\n",
              "      <td>PR</td>\n",
              "      <td>MARINGA</td>\n",
              "      <td>NaN</td>\n",
              "    </tr>\n",
              "    <tr>\n",
              "      <th>17115</th>\n",
              "      <td>6</td>\n",
              "      <td>E</td>\n",
              "      <td>NaN</td>\n",
              "      <td>NaN</td>\n",
              "      <td>NaN</td>\n",
              "      <td>PR</td>\n",
              "      <td>MARINGA</td>\n",
              "      <td>NaN</td>\n",
              "    </tr>\n",
              "    <tr>\n",
              "      <th>17116</th>\n",
              "      <td>6</td>\n",
              "      <td>E</td>\n",
              "      <td>NaN</td>\n",
              "      <td>NaN</td>\n",
              "      <td>GUINE-BISSAU</td>\n",
              "      <td>PR</td>\n",
              "      <td>MARINGA</td>\n",
              "      <td>NaN</td>\n",
              "    </tr>\n",
              "    <tr>\n",
              "      <th>32721</th>\n",
              "      <td>0</td>\n",
              "      <td>N</td>\n",
              "      <td>NaN</td>\n",
              "      <td>SP</td>\n",
              "      <td>SAO PAULO</td>\n",
              "      <td>SP</td>\n",
              "      <td>BAURU</td>\n",
              "      <td>NaN</td>\n",
              "    </tr>\n",
              "    <tr>\n",
              "      <th>51119</th>\n",
              "      <td>0</td>\n",
              "      <td>NaN</td>\n",
              "      <td>NaN</td>\n",
              "      <td>SP</td>\n",
              "      <td>NaN</td>\n",
              "      <td>SP</td>\n",
              "      <td>ADAMANTINA</td>\n",
              "      <td>NaN</td>\n",
              "    </tr>\n",
              "    <tr>\n",
              "      <th>51849</th>\n",
              "      <td>0</td>\n",
              "      <td>NaN</td>\n",
              "      <td>NaN</td>\n",
              "      <td>PR</td>\n",
              "      <td>NaN</td>\n",
              "      <td>PR</td>\n",
              "      <td>DOURADINA</td>\n",
              "      <td>NaN</td>\n",
              "    </tr>\n",
              "    <tr>\n",
              "      <th>52625</th>\n",
              "      <td>0</td>\n",
              "      <td>NaN</td>\n",
              "      <td>NaN</td>\n",
              "      <td>PR</td>\n",
              "      <td>NaN</td>\n",
              "      <td>PR</td>\n",
              "      <td>MARINGA</td>\n",
              "      <td>NaN</td>\n",
              "    </tr>\n",
              "    <tr>\n",
              "      <th>54252</th>\n",
              "      <td>0</td>\n",
              "      <td>NaN</td>\n",
              "      <td>NaN</td>\n",
              "      <td>PR</td>\n",
              "      <td>NaN</td>\n",
              "      <td>PR</td>\n",
              "      <td>APUCARANA</td>\n",
              "      <td>NaN</td>\n",
              "    </tr>\n",
              "    <tr>\n",
              "      <th>56077</th>\n",
              "      <td>0</td>\n",
              "      <td>NaN</td>\n",
              "      <td>NaN</td>\n",
              "      <td>MT</td>\n",
              "      <td>NaN</td>\n",
              "      <td>MT</td>\n",
              "      <td>CUIABA</td>\n",
              "      <td>NaN</td>\n",
              "    </tr>\n",
              "    <tr>\n",
              "      <th>60258</th>\n",
              "      <td>0</td>\n",
              "      <td>NaN</td>\n",
              "      <td>NaN</td>\n",
              "      <td>PR</td>\n",
              "      <td>NaN</td>\n",
              "      <td>PR</td>\n",
              "      <td>TERRA BOA</td>\n",
              "      <td>NaN</td>\n",
              "    </tr>\n",
              "    <tr>\n",
              "      <th>60767</th>\n",
              "      <td>0</td>\n",
              "      <td>NaN</td>\n",
              "      <td>NaN</td>\n",
              "      <td>SP</td>\n",
              "      <td>NaN</td>\n",
              "      <td>SP</td>\n",
              "      <td>MARILIA</td>\n",
              "      <td>NaN</td>\n",
              "    </tr>\n",
              "    <tr>\n",
              "      <th>61184</th>\n",
              "      <td>0</td>\n",
              "      <td>NaN</td>\n",
              "      <td>NaN</td>\n",
              "      <td>PR</td>\n",
              "      <td>NaN</td>\n",
              "      <td>PR</td>\n",
              "      <td>ROLANDIA</td>\n",
              "      <td>NaN</td>\n",
              "    </tr>\n",
              "    <tr>\n",
              "      <th>61504</th>\n",
              "      <td>0</td>\n",
              "      <td>NaN</td>\n",
              "      <td>NaN</td>\n",
              "      <td>PR</td>\n",
              "      <td>NaN</td>\n",
              "      <td>PR</td>\n",
              "      <td>APUCARANA</td>\n",
              "      <td>NaN</td>\n",
              "    </tr>\n",
              "    <tr>\n",
              "      <th>62047</th>\n",
              "      <td>0</td>\n",
              "      <td>NaN</td>\n",
              "      <td>NaN</td>\n",
              "      <td>PR</td>\n",
              "      <td>NaN</td>\n",
              "      <td>PR</td>\n",
              "      <td>COLORADO</td>\n",
              "      <td>NaN</td>\n",
              "    </tr>\n",
              "    <tr>\n",
              "      <th>62285</th>\n",
              "      <td>0</td>\n",
              "      <td>NaN</td>\n",
              "      <td>NaN</td>\n",
              "      <td>PR</td>\n",
              "      <td>NaN</td>\n",
              "      <td>PR</td>\n",
              "      <td>LONDRINA</td>\n",
              "      <td>NaN</td>\n",
              "    </tr>\n",
              "    <tr>\n",
              "      <th>62417</th>\n",
              "      <td>0</td>\n",
              "      <td>NaN</td>\n",
              "      <td>NaN</td>\n",
              "      <td>PR</td>\n",
              "      <td>NaN</td>\n",
              "      <td>PR</td>\n",
              "      <td>CRUZEIRO DO OESTE</td>\n",
              "      <td>NaN</td>\n",
              "    </tr>\n",
              "    <tr>\n",
              "      <th>62493</th>\n",
              "      <td>0</td>\n",
              "      <td>NaN</td>\n",
              "      <td>NaN</td>\n",
              "      <td>PR</td>\n",
              "      <td>NaN</td>\n",
              "      <td>NaN</td>\n",
              "      <td>MARINGA</td>\n",
              "      <td>NaN</td>\n",
              "    </tr>\n",
              "    <tr>\n",
              "      <th>62690</th>\n",
              "      <td>1</td>\n",
              "      <td>E</td>\n",
              "      <td>NaN</td>\n",
              "      <td>NaN</td>\n",
              "      <td>NaN</td>\n",
              "      <td>NaN</td>\n",
              "      <td>NaN</td>\n",
              "      <td>NaN</td>\n",
              "    </tr>\n",
              "  </tbody>\n",
              "</table>\n",
              "</div>"
            ],
            "text/plain": [
              "       CD_ORIGEM_ALUNO LT_NACIONALIDADE NM_PAIS_NASC SG_UF_NASC_ALUNO  \\\n",
              "128                  6                E          NaN              NaN   \n",
              "129                  6                E          NaN              NaN   \n",
              "17112                6                E          NaN              NaN   \n",
              "17115                6                E          NaN              NaN   \n",
              "17116                6                E          NaN              NaN   \n",
              "32721                0                N          NaN               SP   \n",
              "51119                0              NaN          NaN               SP   \n",
              "51849                0              NaN          NaN               PR   \n",
              "52625                0              NaN          NaN               PR   \n",
              "54252                0              NaN          NaN               PR   \n",
              "56077                0              NaN          NaN               MT   \n",
              "60258                0              NaN          NaN               PR   \n",
              "60767                0              NaN          NaN               SP   \n",
              "61184                0              NaN          NaN               PR   \n",
              "61504                0              NaN          NaN               PR   \n",
              "62047                0              NaN          NaN               PR   \n",
              "62285                0              NaN          NaN               PR   \n",
              "62417                0              NaN          NaN               PR   \n",
              "62493                0              NaN          NaN               PR   \n",
              "62690                1                E          NaN              NaN   \n",
              "\n",
              "      NM_CIDADE_NASC SG_UF_FERIAS   NM_CIDADE_FERIAS F_NM_PAIS_NASC  \n",
              "128           BISSAU           PR            MARINGA            NaN  \n",
              "129           BISSAU           PR            MARINGA            NaN  \n",
              "17112   GUINE-BISSAU           PR            MARINGA            NaN  \n",
              "17115            NaN           PR            MARINGA            NaN  \n",
              "17116   GUINE-BISSAU           PR            MARINGA            NaN  \n",
              "32721      SAO PAULO           SP              BAURU            NaN  \n",
              "51119            NaN           SP         ADAMANTINA            NaN  \n",
              "51849            NaN           PR          DOURADINA            NaN  \n",
              "52625            NaN           PR            MARINGA            NaN  \n",
              "54252            NaN           PR          APUCARANA            NaN  \n",
              "56077            NaN           MT             CUIABA            NaN  \n",
              "60258            NaN           PR          TERRA BOA            NaN  \n",
              "60767            NaN           SP            MARILIA            NaN  \n",
              "61184            NaN           PR           ROLANDIA            NaN  \n",
              "61504            NaN           PR          APUCARANA            NaN  \n",
              "62047            NaN           PR           COLORADO            NaN  \n",
              "62285            NaN           PR           LONDRINA            NaN  \n",
              "62417            NaN           PR  CRUZEIRO DO OESTE            NaN  \n",
              "62493            NaN          NaN            MARINGA            NaN  \n",
              "62690            NaN          NaN                NaN            NaN  "
            ]
          },
          "execution_count": 40,
          "metadata": {},
          "output_type": "execute_result"
        }
      ],
      "source": [
        "df_final[df_final['F_NM_PAIS_NASC'].isna()][colunas_loc_nasc_aluno + ['F_NM_PAIS_NASC']]"
      ]
    },
    {
      "cell_type": "markdown",
      "metadata": {
        "id": "EOOh0xF9KruZ"
      },
      "source": [
        "Ainda restam alguns nulos que podemos preencher com a coluna SG_UF_NASC_ALUNO"
      ]
    },
    {
      "cell_type": "code",
      "execution_count": 41,
      "metadata": {
        "id": "53RVmG50KruZ"
      },
      "outputs": [],
      "source": [
        "df_final['F_NM_PAIS_NASC'] = df_final.apply(lambda x: 'BRASIL' if (not pd.isna(x['SG_UF_NASC_ALUNO'])) and pd.isna(x['F_NM_PAIS_NASC'])  else x['F_NM_PAIS_NASC'], axis=1)"
      ]
    },
    {
      "cell_type": "code",
      "execution_count": 42,
      "metadata": {
        "colab": {
          "base_uri": "https://localhost:8080/",
          "height": 238
        },
        "id": "No_EplcgKrua",
        "outputId": "761811f2-935f-4bb1-acb0-bba8519c4578"
      },
      "outputs": [
        {
          "data": {
            "text/html": [
              "<div>\n",
              "<style scoped>\n",
              "    .dataframe tbody tr th:only-of-type {\n",
              "        vertical-align: middle;\n",
              "    }\n",
              "\n",
              "    .dataframe tbody tr th {\n",
              "        vertical-align: top;\n",
              "    }\n",
              "\n",
              "    .dataframe thead th {\n",
              "        text-align: right;\n",
              "    }\n",
              "</style>\n",
              "<table border=\"1\" class=\"dataframe\">\n",
              "  <thead>\n",
              "    <tr style=\"text-align: right;\">\n",
              "      <th></th>\n",
              "      <th>CD_ORIGEM_ALUNO</th>\n",
              "      <th>LT_NACIONALIDADE</th>\n",
              "      <th>NM_PAIS_NASC</th>\n",
              "      <th>SG_UF_NASC_ALUNO</th>\n",
              "      <th>NM_CIDADE_NASC</th>\n",
              "      <th>SG_UF_FERIAS</th>\n",
              "      <th>NM_CIDADE_FERIAS</th>\n",
              "      <th>F_NM_PAIS_NASC</th>\n",
              "    </tr>\n",
              "  </thead>\n",
              "  <tbody>\n",
              "    <tr>\n",
              "      <th>128</th>\n",
              "      <td>6</td>\n",
              "      <td>E</td>\n",
              "      <td>NaN</td>\n",
              "      <td>NaN</td>\n",
              "      <td>BISSAU</td>\n",
              "      <td>PR</td>\n",
              "      <td>MARINGA</td>\n",
              "      <td>NaN</td>\n",
              "    </tr>\n",
              "    <tr>\n",
              "      <th>129</th>\n",
              "      <td>6</td>\n",
              "      <td>E</td>\n",
              "      <td>NaN</td>\n",
              "      <td>NaN</td>\n",
              "      <td>BISSAU</td>\n",
              "      <td>PR</td>\n",
              "      <td>MARINGA</td>\n",
              "      <td>NaN</td>\n",
              "    </tr>\n",
              "    <tr>\n",
              "      <th>17112</th>\n",
              "      <td>6</td>\n",
              "      <td>E</td>\n",
              "      <td>NaN</td>\n",
              "      <td>NaN</td>\n",
              "      <td>GUINE-BISSAU</td>\n",
              "      <td>PR</td>\n",
              "      <td>MARINGA</td>\n",
              "      <td>NaN</td>\n",
              "    </tr>\n",
              "    <tr>\n",
              "      <th>17115</th>\n",
              "      <td>6</td>\n",
              "      <td>E</td>\n",
              "      <td>NaN</td>\n",
              "      <td>NaN</td>\n",
              "      <td>NaN</td>\n",
              "      <td>PR</td>\n",
              "      <td>MARINGA</td>\n",
              "      <td>NaN</td>\n",
              "    </tr>\n",
              "    <tr>\n",
              "      <th>17116</th>\n",
              "      <td>6</td>\n",
              "      <td>E</td>\n",
              "      <td>NaN</td>\n",
              "      <td>NaN</td>\n",
              "      <td>GUINE-BISSAU</td>\n",
              "      <td>PR</td>\n",
              "      <td>MARINGA</td>\n",
              "      <td>NaN</td>\n",
              "    </tr>\n",
              "    <tr>\n",
              "      <th>62690</th>\n",
              "      <td>1</td>\n",
              "      <td>E</td>\n",
              "      <td>NaN</td>\n",
              "      <td>NaN</td>\n",
              "      <td>NaN</td>\n",
              "      <td>NaN</td>\n",
              "      <td>NaN</td>\n",
              "      <td>NaN</td>\n",
              "    </tr>\n",
              "  </tbody>\n",
              "</table>\n",
              "</div>"
            ],
            "text/plain": [
              "       CD_ORIGEM_ALUNO LT_NACIONALIDADE NM_PAIS_NASC SG_UF_NASC_ALUNO  \\\n",
              "128                  6                E          NaN              NaN   \n",
              "129                  6                E          NaN              NaN   \n",
              "17112                6                E          NaN              NaN   \n",
              "17115                6                E          NaN              NaN   \n",
              "17116                6                E          NaN              NaN   \n",
              "62690                1                E          NaN              NaN   \n",
              "\n",
              "      NM_CIDADE_NASC SG_UF_FERIAS NM_CIDADE_FERIAS F_NM_PAIS_NASC  \n",
              "128           BISSAU           PR          MARINGA            NaN  \n",
              "129           BISSAU           PR          MARINGA            NaN  \n",
              "17112   GUINE-BISSAU           PR          MARINGA            NaN  \n",
              "17115            NaN           PR          MARINGA            NaN  \n",
              "17116   GUINE-BISSAU           PR          MARINGA            NaN  \n",
              "62690            NaN          NaN              NaN            NaN  "
            ]
          },
          "execution_count": 42,
          "metadata": {},
          "output_type": "execute_result"
        }
      ],
      "source": [
        "df_final[df_final['F_NM_PAIS_NASC'].isna()][colunas_loc_nasc_aluno + ['F_NM_PAIS_NASC']]"
      ]
    },
    {
      "cell_type": "markdown",
      "metadata": {
        "id": "g7EIMgd1Krua"
      },
      "source": [
        "Existem ainda NaN cuja NM_CIDADE_NASC está BISSAU ou GUINE-BISSAU ainda podemos substituir. Bissau é a capital de Guiné-Bissau, então vou substituir todos esses por GUINE-BISSAU."
      ]
    },
    {
      "cell_type": "code",
      "execution_count": 43,
      "metadata": {
        "id": "cmPr2YBrKrua"
      },
      "outputs": [],
      "source": [
        "df_final['F_NM_PAIS_NASC'] = df_final.apply(lambda x: 'GUINE-BISSAU' if (not pd.isna(x['NM_CIDADE_NASC'])) and pd.isna(x['F_NM_PAIS_NASC'])  else x['F_NM_PAIS_NASC'], axis=1)"
      ]
    },
    {
      "cell_type": "code",
      "execution_count": 44,
      "metadata": {
        "colab": {
          "base_uri": "https://localhost:8080/",
          "height": 112
        },
        "id": "icuxfhlSKrua",
        "outputId": "9005fc68-b9ae-441e-f17e-7daf334a78cf"
      },
      "outputs": [
        {
          "data": {
            "text/html": [
              "<div>\n",
              "<style scoped>\n",
              "    .dataframe tbody tr th:only-of-type {\n",
              "        vertical-align: middle;\n",
              "    }\n",
              "\n",
              "    .dataframe tbody tr th {\n",
              "        vertical-align: top;\n",
              "    }\n",
              "\n",
              "    .dataframe thead th {\n",
              "        text-align: right;\n",
              "    }\n",
              "</style>\n",
              "<table border=\"1\" class=\"dataframe\">\n",
              "  <thead>\n",
              "    <tr style=\"text-align: right;\">\n",
              "      <th></th>\n",
              "      <th>CD_ORIGEM_ALUNO</th>\n",
              "      <th>LT_NACIONALIDADE</th>\n",
              "      <th>NM_PAIS_NASC</th>\n",
              "      <th>SG_UF_NASC_ALUNO</th>\n",
              "      <th>NM_CIDADE_NASC</th>\n",
              "      <th>SG_UF_FERIAS</th>\n",
              "      <th>NM_CIDADE_FERIAS</th>\n",
              "      <th>F_NM_PAIS_NASC</th>\n",
              "    </tr>\n",
              "  </thead>\n",
              "  <tbody>\n",
              "    <tr>\n",
              "      <th>17115</th>\n",
              "      <td>6</td>\n",
              "      <td>E</td>\n",
              "      <td>NaN</td>\n",
              "      <td>NaN</td>\n",
              "      <td>NaN</td>\n",
              "      <td>PR</td>\n",
              "      <td>MARINGA</td>\n",
              "      <td>NaN</td>\n",
              "    </tr>\n",
              "    <tr>\n",
              "      <th>62690</th>\n",
              "      <td>1</td>\n",
              "      <td>E</td>\n",
              "      <td>NaN</td>\n",
              "      <td>NaN</td>\n",
              "      <td>NaN</td>\n",
              "      <td>NaN</td>\n",
              "      <td>NaN</td>\n",
              "      <td>NaN</td>\n",
              "    </tr>\n",
              "  </tbody>\n",
              "</table>\n",
              "</div>"
            ],
            "text/plain": [
              "       CD_ORIGEM_ALUNO LT_NACIONALIDADE NM_PAIS_NASC SG_UF_NASC_ALUNO  \\\n",
              "17115                6                E          NaN              NaN   \n",
              "62690                1                E          NaN              NaN   \n",
              "\n",
              "      NM_CIDADE_NASC SG_UF_FERIAS NM_CIDADE_FERIAS F_NM_PAIS_NASC  \n",
              "17115            NaN           PR          MARINGA            NaN  \n",
              "62690            NaN          NaN              NaN            NaN  "
            ]
          },
          "execution_count": 44,
          "metadata": {},
          "output_type": "execute_result"
        }
      ],
      "source": [
        "df_final[df_final['F_NM_PAIS_NASC'].isna()][colunas_loc_nasc_aluno + ['F_NM_PAIS_NASC']]"
      ]
    },
    {
      "cell_type": "markdown",
      "metadata": {
        "id": "2_zE7clqKrua"
      },
      "source": [
        "Esses dois NaN que sobraram não tem muito o que fazer..."
      ]
    },
    {
      "cell_type": "code",
      "execution_count": 45,
      "metadata": {
        "id": "3nD4HWyMKrua"
      },
      "outputs": [],
      "source": [
        "colunas_a_remover.append('NM_PAIS_NASC')\n",
        "colunas_loc_nasc_aluno.remove('NM_PAIS_NASC')\n",
        "colunas_loc_nasc_aluno.append('F_NM_PAIS_NASC')"
      ]
    },
    {
      "cell_type": "markdown",
      "metadata": {
        "id": "_pDTd2ybKrua"
      },
      "source": [
        "### NU_SEMESTRE2_VEST"
      ]
    },
    {
      "cell_type": "markdown",
      "metadata": {
        "id": "I-xu59HTKrua"
      },
      "source": [
        "Ver em conjunto com TP_INGRES_CURSO. Talvez usaremos apenas esse campo, que já é basicamente o TP_INGRES_CURSO agrupado."
      ]
    },
    {
      "cell_type": "markdown",
      "metadata": {
        "id": "ce8GOMIUKrua"
      },
      "source": [
        "É o processo seletivo que o candidato fez para se tornar aluno, e atualmente usamos esses valores:\n",
        "\n",
        "I = Vestibular de Inverno\n",
        "\n",
        "V = Vestibular de Verão\n",
        "\n",
        "A = PAS\n",
        "\n",
        "D = Vestibular EAD\n",
        "\n",
        "R = Vagas Remanescentes para Candidatos do Vestibular\n",
        "\n",
        "E = Vagas Remanescentes para quem fez ENEM\n",
        "\n",
        "G = Vagas Remanescentes para Refugiados ou Imigrantes em Situação de Vulnerabilidade\n",
        "\n",
        "S = SiSU"
      ]
    },
    {
      "cell_type": "code",
      "execution_count": 46,
      "metadata": {
        "colab": {
          "base_uri": "https://localhost:8080/",
          "height": 398
        },
        "id": "w9ECUtZVKrua",
        "outputId": "09aab7ba-5fd4-49d9-cd0f-8f6e5b2d74d9"
      },
      "outputs": [
        {
          "data": {
            "text/plain": [
              "NU_SEMESTRE2_VEST\n",
              "V      31836\n",
              "I      27573\n",
              "A       5781\n",
              "NaN     4141\n",
              "E       1128\n",
              "S        373\n",
              "R        360\n",
              "G         22\n",
              "2          7\n",
              "Name: count, dtype: int64"
            ]
          },
          "execution_count": 46,
          "metadata": {},
          "output_type": "execute_result"
        }
      ],
      "source": [
        "df_final['NU_SEMESTRE2_VEST'].value_counts(dropna=False)"
      ]
    },
    {
      "cell_type": "code",
      "execution_count": 47,
      "metadata": {
        "colab": {
          "base_uri": "https://localhost:8080/",
          "height": 677
        },
        "id": "3aAn6e8JKrua",
        "outputId": "60ef9b42-b57c-4478-f725-b58dc6cfa53a"
      },
      "outputs": [
        {
          "data": {
            "text/html": [
              "<div>\n",
              "<style scoped>\n",
              "    .dataframe tbody tr th:only-of-type {\n",
              "        vertical-align: middle;\n",
              "    }\n",
              "\n",
              "    .dataframe tbody tr th {\n",
              "        vertical-align: top;\n",
              "    }\n",
              "\n",
              "    .dataframe thead th {\n",
              "        text-align: right;\n",
              "    }\n",
              "</style>\n",
              "<table border=\"1\" class=\"dataframe\">\n",
              "  <thead>\n",
              "    <tr style=\"text-align: right;\">\n",
              "      <th></th>\n",
              "      <th>NU_SEMESTRE2_VEST</th>\n",
              "      <th>TP_INGRES_CURSO</th>\n",
              "      <th>ST_ALUNO</th>\n",
              "    </tr>\n",
              "  </thead>\n",
              "  <tbody>\n",
              "    <tr>\n",
              "      <th>0</th>\n",
              "      <td>I</td>\n",
              "      <td>1</td>\n",
              "      <td>2</td>\n",
              "    </tr>\n",
              "    <tr>\n",
              "      <th>1</th>\n",
              "      <td>NaN</td>\n",
              "      <td>6</td>\n",
              "      <td>7</td>\n",
              "    </tr>\n",
              "    <tr>\n",
              "      <th>2</th>\n",
              "      <td>V</td>\n",
              "      <td>1</td>\n",
              "      <td>7</td>\n",
              "    </tr>\n",
              "    <tr>\n",
              "      <th>3</th>\n",
              "      <td>NaN</td>\n",
              "      <td>6</td>\n",
              "      <td>8</td>\n",
              "    </tr>\n",
              "    <tr>\n",
              "      <th>4</th>\n",
              "      <td>NaN</td>\n",
              "      <td>11</td>\n",
              "      <td>9</td>\n",
              "    </tr>\n",
              "    <tr>\n",
              "      <th>5</th>\n",
              "      <td>I</td>\n",
              "      <td>14</td>\n",
              "      <td>7</td>\n",
              "    </tr>\n",
              "    <tr>\n",
              "      <th>6</th>\n",
              "      <td>NaN</td>\n",
              "      <td>6</td>\n",
              "      <td>2</td>\n",
              "    </tr>\n",
              "    <tr>\n",
              "      <th>7</th>\n",
              "      <td>NaN</td>\n",
              "      <td>6</td>\n",
              "      <td>2</td>\n",
              "    </tr>\n",
              "    <tr>\n",
              "      <th>8</th>\n",
              "      <td>V</td>\n",
              "      <td>1</td>\n",
              "      <td>2</td>\n",
              "    </tr>\n",
              "    <tr>\n",
              "      <th>9</th>\n",
              "      <td>I</td>\n",
              "      <td>1</td>\n",
              "      <td>8</td>\n",
              "    </tr>\n",
              "    <tr>\n",
              "      <th>10</th>\n",
              "      <td>I</td>\n",
              "      <td>1</td>\n",
              "      <td>NaN</td>\n",
              "    </tr>\n",
              "    <tr>\n",
              "      <th>11</th>\n",
              "      <td>I</td>\n",
              "      <td>1</td>\n",
              "      <td>J</td>\n",
              "    </tr>\n",
              "    <tr>\n",
              "      <th>12</th>\n",
              "      <td>I</td>\n",
              "      <td>1</td>\n",
              "      <td>8</td>\n",
              "    </tr>\n",
              "    <tr>\n",
              "      <th>13</th>\n",
              "      <td>V</td>\n",
              "      <td>1</td>\n",
              "      <td>8</td>\n",
              "    </tr>\n",
              "    <tr>\n",
              "      <th>14</th>\n",
              "      <td>I</td>\n",
              "      <td>10</td>\n",
              "      <td>F</td>\n",
              "    </tr>\n",
              "    <tr>\n",
              "      <th>15</th>\n",
              "      <td>I</td>\n",
              "      <td>10</td>\n",
              "      <td>8</td>\n",
              "    </tr>\n",
              "    <tr>\n",
              "      <th>16</th>\n",
              "      <td>V</td>\n",
              "      <td>1</td>\n",
              "      <td>8</td>\n",
              "    </tr>\n",
              "    <tr>\n",
              "      <th>17</th>\n",
              "      <td>NaN</td>\n",
              "      <td>6</td>\n",
              "      <td>7</td>\n",
              "    </tr>\n",
              "    <tr>\n",
              "      <th>18</th>\n",
              "      <td>NaN</td>\n",
              "      <td>6</td>\n",
              "      <td>J</td>\n",
              "    </tr>\n",
              "    <tr>\n",
              "      <th>19</th>\n",
              "      <td>V</td>\n",
              "      <td>14</td>\n",
              "      <td>NaN</td>\n",
              "    </tr>\n",
              "  </tbody>\n",
              "</table>\n",
              "</div>"
            ],
            "text/plain": [
              "   NU_SEMESTRE2_VEST  TP_INGRES_CURSO ST_ALUNO\n",
              "0                  I                1        2\n",
              "1                NaN                6        7\n",
              "2                  V                1        7\n",
              "3                NaN                6        8\n",
              "4                NaN               11        9\n",
              "5                  I               14        7\n",
              "6                NaN                6        2\n",
              "7                NaN                6        2\n",
              "8                  V                1        2\n",
              "9                  I                1        8\n",
              "10                 I                1      NaN\n",
              "11                 I                1        J\n",
              "12                 I                1        8\n",
              "13                 V                1        8\n",
              "14                 I               10        F\n",
              "15                 I               10        8\n",
              "16                 V                1        8\n",
              "17               NaN                6        7\n",
              "18               NaN                6        J\n",
              "19                 V               14      NaN"
            ]
          },
          "execution_count": 47,
          "metadata": {},
          "output_type": "execute_result"
        }
      ],
      "source": [
        "df_final[['NU_SEMESTRE2_VEST', 'TP_INGRES_CURSO', 'ST_ALUNO']].head(20)"
      ]
    },
    {
      "cell_type": "markdown",
      "metadata": {
        "id": "xe8hi43VKrua"
      },
      "source": [
        "TP_INGRES_CURSO encontrados quando NU_SEMESTRE2_VEST é nulo."
      ]
    },
    {
      "cell_type": "code",
      "execution_count": 48,
      "metadata": {
        "colab": {
          "base_uri": "https://localhost:8080/",
          "height": 743
        },
        "id": "PhF7-rjsKrub",
        "outputId": "c07f8f42-1739-4df5-c169-542d31d1344c"
      },
      "outputs": [
        {
          "data": {
            "text/plain": [
              "TP_INGRES_CURSO\n",
              "6     1243\n",
              "32    1113\n",
              "3      996\n",
              "5      384\n",
              "8      105\n",
              "22      97\n",
              "7       50\n",
              "4       49\n",
              "53      32\n",
              "26      24\n",
              "10      22\n",
              "56       9\n",
              "12       4\n",
              "1        4\n",
              "11       3\n",
              "19       2\n",
              "24       1\n",
              "16       1\n",
              "29       1\n",
              "27       1\n",
              "Name: count, dtype: int64"
            ]
          },
          "execution_count": 48,
          "metadata": {},
          "output_type": "execute_result"
        }
      ],
      "source": [
        "df_final[df_final['NU_SEMESTRE2_VEST'].isna()]['TP_INGRES_CURSO'].value_counts(dropna=False)"
      ]
    },
    {
      "cell_type": "markdown",
      "metadata": {
        "id": "C1dK52GHKrub"
      },
      "source": [
        "5 - PORTADOR DE DIPLOMA PARA OUTRO CURSO\n",
        "6 - PORTADOR DE DIPLOMA PARA NOVA HABILITACAO\n",
        "32 - NOVA HABILITAÇÃO - CONTINUIDADE\n",
        "\n",
        "7 - CONVENIO CULTURAL\n",
        "\n",
        "3 - TRANSFERENCIA EXTERNA\n",
        "4 - TRANSFERENCIA EX-OFFICIO\n",
        "8 - TRANSFERENCIA INTERNA DE CURSO\n",
        "10 - TRANSFERENCIA DE CAMPUS PARA MESMO CURSO\n",
        "11 - TRANSFERENCIA DE CAMPUS PARA OUTRO CURSO\n",
        "26 - PERMUTA DE CAMPUS\n",
        "53 - TRANSFERENCIA INTERNA INDIGENA\n",
        "56 - TRANSFERENCIA EXTERNA INDIGENA\n",
        "\n",
        "1 - VESTIBULAR\n",
        "12 - PROCESSO SELETIVO\n",
        "16 - VESTIBULAR - 2 CHAMADA EXTRAORDINARIA\n",
        "19 - VESTIBULAR - 5 CHAMADA EXTRAORDINARIA\n",
        "22 - CONCURSO VESTIBULAR - INDIGENA\n",
        "24 - VESTIBULAR - 6 CHAMADA EXTRAORDINARIA\n",
        "29 - VESTIBULAR - 3 CHAMADA\n",
        "\n",
        "27 - MATRICULA SUB-JUDICE"
      ]
    },
    {
      "cell_type": "code",
      "execution_count": 49,
      "metadata": {
        "id": "EleHFD4qKrub"
      },
      "outputs": [],
      "source": [
        "portador_diploma = [5, 6, 32]\n",
        "convenio_cultural = [7]\n",
        "transferencia = [3, 4, 8, 10, 11, 26, 53, 56]\n",
        "vestibular = [1, 12, 16, 19, 22, 24, 29]\n",
        "subjudice = [27]"
      ]
    },
    {
      "cell_type": "markdown",
      "metadata": {
        "id": "7Wuo8-zhKrub"
      },
      "source": [
        "Verificando o que tem na coluna NU_SEMESTRE2_VEST para cada valor de TP_INGRES_CURSO que foi econtrado com nulo em NU_SEMESTRE2_VEST"
      ]
    },
    {
      "cell_type": "code",
      "execution_count": 50,
      "metadata": {
        "colab": {
          "base_uri": "https://localhost:8080/",
          "height": 230
        },
        "id": "tm1jr_xcKrub",
        "outputId": "305b6a4d-69d5-4a0c-ddf9-9a2cf9f5f902"
      },
      "outputs": [
        {
          "data": {
            "text/html": [
              "<div>\n",
              "<style scoped>\n",
              "    .dataframe tbody tr th:only-of-type {\n",
              "        vertical-align: middle;\n",
              "    }\n",
              "\n",
              "    .dataframe tbody tr th {\n",
              "        vertical-align: top;\n",
              "    }\n",
              "\n",
              "    .dataframe thead th {\n",
              "        text-align: right;\n",
              "    }\n",
              "</style>\n",
              "<table border=\"1\" class=\"dataframe\">\n",
              "  <thead>\n",
              "    <tr style=\"text-align: right;\">\n",
              "      <th></th>\n",
              "      <th>ANO_OCORRENCIA</th>\n",
              "      <th>CD_ALUNO</th>\n",
              "      <th>CD_CURSO</th>\n",
              "      <th>CD_ORIGEM_ALUNO</th>\n",
              "      <th>CD_TURNO</th>\n",
              "      <th>DE_NATURALIDADE</th>\n",
              "      <th>DH_MATRICULA</th>\n",
              "      <th>DH_SITUACAO</th>\n",
              "      <th>DT_ANO_INGRES</th>\n",
              "      <th>DT_NASC_ALUNO</th>\n",
              "      <th>LT_ESTADO_CIVIL</th>\n",
              "      <th>LT_MODALIDADE</th>\n",
              "      <th>LT_NACIONALIDADE</th>\n",
              "      <th>LT_RACA</th>\n",
              "      <th>NM_CIDADE_AULA</th>\n",
              "      <th>NM_CIDADE_EST2GRAU</th>\n",
              "      <th>NM_CIDADE_FERIAS</th>\n",
              "      <th>NM_CIDADE_NASC</th>\n",
              "      <th>NM_PAIS_NASC</th>\n",
              "      <th>NU_SEMESTRE2_VEST</th>\n",
              "      <th>SG_SEXO_ALUNO</th>\n",
              "      <th>SG_UF_AULA</th>\n",
              "      <th>SG_UF_EST2GRAU</th>\n",
              "      <th>SG_UF_FERIAS</th>\n",
              "      <th>SG_UF_NASC_ALUNO</th>\n",
              "      <th>ST_ALUNO</th>\n",
              "      <th>TP_DEFIC_INEP</th>\n",
              "      <th>TP_ESCOLA</th>\n",
              "      <th>TP_INGRES_CURSO</th>\n",
              "      <th>TP_OPCAO_COTAS</th>\n",
              "      <th>F_CD_ORIGEM_ALUNO</th>\n",
              "      <th>F_DT_NASC_ALUNO</th>\n",
              "      <th>F_NM_PAIS_NASC</th>\n",
              "    </tr>\n",
              "  </thead>\n",
              "  <tbody>\n",
              "    <tr>\n",
              "      <th>12297</th>\n",
              "      <td>2011</td>\n",
              "      <td>1746001157</td>\n",
              "      <td>12</td>\n",
              "      <td>1</td>\n",
              "      <td>M</td>\n",
              "      <td>BRASILEIRO</td>\n",
              "      <td>2007-02-01</td>\n",
              "      <td>2011-07-19</td>\n",
              "      <td>2007</td>\n",
              "      <td>1983-08-28</td>\n",
              "      <td>1.0</td>\n",
              "      <td>P</td>\n",
              "      <td>B</td>\n",
              "      <td>0</td>\n",
              "      <td>MARINGA</td>\n",
              "      <td>MARINGA</td>\n",
              "      <td>MARINGA</td>\n",
              "      <td>MARINGA</td>\n",
              "      <td>BRASIL</td>\n",
              "      <td>NaN</td>\n",
              "      <td>M</td>\n",
              "      <td>PR</td>\n",
              "      <td>PR</td>\n",
              "      <td>PR</td>\n",
              "      <td>PR</td>\n",
              "      <td>8</td>\n",
              "      <td>SNNNNNNN</td>\n",
              "      <td>GI</td>\n",
              "      <td>12</td>\n",
              "      <td>N</td>\n",
              "      <td>1</td>\n",
              "      <td>1983</td>\n",
              "      <td>BRASIL</td>\n",
              "    </tr>\n",
              "    <tr>\n",
              "      <th>15734</th>\n",
              "      <td>2009</td>\n",
              "      <td>1002268555</td>\n",
              "      <td>13</td>\n",
              "      <td>4</td>\n",
              "      <td>M</td>\n",
              "      <td>BRASILEIRA</td>\n",
              "      <td>2007-02-01</td>\n",
              "      <td>2018-09-25</td>\n",
              "      <td>2007</td>\n",
              "      <td>1987-04-18</td>\n",
              "      <td>1.0</td>\n",
              "      <td>P</td>\n",
              "      <td>B</td>\n",
              "      <td>0</td>\n",
              "      <td>RIBEIRO DOS INDIOS</td>\n",
              "      <td>NaN</td>\n",
              "      <td>RIBEIRO DOS INDIOS</td>\n",
              "      <td>LINS</td>\n",
              "      <td>BRASIL</td>\n",
              "      <td>NaN</td>\n",
              "      <td>F</td>\n",
              "      <td>SP</td>\n",
              "      <td>NaN</td>\n",
              "      <td>SP</td>\n",
              "      <td>SP</td>\n",
              "      <td>6</td>\n",
              "      <td>NaN</td>\n",
              "      <td>P</td>\n",
              "      <td>12</td>\n",
              "      <td>N</td>\n",
              "      <td>4</td>\n",
              "      <td>1987</td>\n",
              "      <td>BRASIL</td>\n",
              "    </tr>\n",
              "    <tr>\n",
              "      <th>15737</th>\n",
              "      <td>2009</td>\n",
              "      <td>1153058270</td>\n",
              "      <td>13</td>\n",
              "      <td>3</td>\n",
              "      <td>M</td>\n",
              "      <td>BRASILEIRA</td>\n",
              "      <td>2007-02-01</td>\n",
              "      <td>2009-07-21</td>\n",
              "      <td>2007</td>\n",
              "      <td>1972-10-06</td>\n",
              "      <td>2.0</td>\n",
              "      <td>P</td>\n",
              "      <td>B</td>\n",
              "      <td>0</td>\n",
              "      <td>CIANORTE</td>\n",
              "      <td>NaN</td>\n",
              "      <td>CIANORTE</td>\n",
              "      <td>NaN</td>\n",
              "      <td>BRASIL</td>\n",
              "      <td>NaN</td>\n",
              "      <td>F</td>\n",
              "      <td>AC</td>\n",
              "      <td>NaN</td>\n",
              "      <td>PR</td>\n",
              "      <td>PR</td>\n",
              "      <td>8</td>\n",
              "      <td>NaN</td>\n",
              "      <td>GI</td>\n",
              "      <td>12</td>\n",
              "      <td>N</td>\n",
              "      <td>0</td>\n",
              "      <td>1972</td>\n",
              "      <td>BRASIL</td>\n",
              "    </tr>\n",
              "    <tr>\n",
              "      <th>15745</th>\n",
              "      <td>2011</td>\n",
              "      <td>1555422179</td>\n",
              "      <td>12</td>\n",
              "      <td>3</td>\n",
              "      <td>M</td>\n",
              "      <td>BRASILEIRA</td>\n",
              "      <td>2007-02-01</td>\n",
              "      <td>2011-12-23</td>\n",
              "      <td>2007</td>\n",
              "      <td>1988-07-25</td>\n",
              "      <td>1.0</td>\n",
              "      <td>P</td>\n",
              "      <td>B</td>\n",
              "      <td>2</td>\n",
              "      <td>CRUZEIRO DO OESTE</td>\n",
              "      <td>UMUARAMA</td>\n",
              "      <td>CRUZEIRO DO OESTE</td>\n",
              "      <td>CRUZEIRO DO OESTE</td>\n",
              "      <td>BRASIL</td>\n",
              "      <td>NaN</td>\n",
              "      <td>F</td>\n",
              "      <td>PR</td>\n",
              "      <td>PR</td>\n",
              "      <td>PR</td>\n",
              "      <td>PR</td>\n",
              "      <td>7</td>\n",
              "      <td>NNNNNNNN</td>\n",
              "      <td>P</td>\n",
              "      <td>12</td>\n",
              "      <td>N</td>\n",
              "      <td>0</td>\n",
              "      <td>1988</td>\n",
              "      <td>BRASIL</td>\n",
              "    </tr>\n",
              "  </tbody>\n",
              "</table>\n",
              "</div>"
            ],
            "text/plain": [
              "       ANO_OCORRENCIA    CD_ALUNO  CD_CURSO  CD_ORIGEM_ALUNO CD_TURNO  \\\n",
              "12297            2011  1746001157        12                1        M   \n",
              "15734            2009  1002268555        13                4        M   \n",
              "15737            2009  1153058270        13                3        M   \n",
              "15745            2011  1555422179        12                3        M   \n",
              "\n",
              "      DE_NATURALIDADE DH_MATRICULA DH_SITUACAO  DT_ANO_INGRES DT_NASC_ALUNO  \\\n",
              "12297      BRASILEIRO   2007-02-01  2011-07-19           2007    1983-08-28   \n",
              "15734      BRASILEIRA   2007-02-01  2018-09-25           2007    1987-04-18   \n",
              "15737      BRASILEIRA   2007-02-01  2009-07-21           2007    1972-10-06   \n",
              "15745      BRASILEIRA   2007-02-01  2011-12-23           2007    1988-07-25   \n",
              "\n",
              "       LT_ESTADO_CIVIL LT_MODALIDADE LT_NACIONALIDADE  LT_RACA  \\\n",
              "12297              1.0             P                B        0   \n",
              "15734              1.0             P                B        0   \n",
              "15737              2.0             P                B        0   \n",
              "15745              1.0             P                B        2   \n",
              "\n",
              "           NM_CIDADE_AULA NM_CIDADE_EST2GRAU    NM_CIDADE_FERIAS  \\\n",
              "12297             MARINGA            MARINGA             MARINGA   \n",
              "15734  RIBEIRO DOS INDIOS                NaN  RIBEIRO DOS INDIOS   \n",
              "15737            CIANORTE                NaN            CIANORTE   \n",
              "15745   CRUZEIRO DO OESTE           UMUARAMA   CRUZEIRO DO OESTE   \n",
              "\n",
              "          NM_CIDADE_NASC NM_PAIS_NASC NU_SEMESTRE2_VEST SG_SEXO_ALUNO  \\\n",
              "12297            MARINGA       BRASIL               NaN             M   \n",
              "15734               LINS       BRASIL               NaN             F   \n",
              "15737                NaN       BRASIL               NaN             F   \n",
              "15745  CRUZEIRO DO OESTE       BRASIL               NaN             F   \n",
              "\n",
              "      SG_UF_AULA SG_UF_EST2GRAU SG_UF_FERIAS SG_UF_NASC_ALUNO ST_ALUNO  \\\n",
              "12297         PR             PR           PR               PR        8   \n",
              "15734         SP            NaN           SP               SP        6   \n",
              "15737         AC            NaN           PR               PR        8   \n",
              "15745         PR             PR           PR               PR        7   \n",
              "\n",
              "      TP_DEFIC_INEP TP_ESCOLA  TP_INGRES_CURSO TP_OPCAO_COTAS  \\\n",
              "12297      SNNNNNNN        GI               12              N   \n",
              "15734           NaN         P               12              N   \n",
              "15737           NaN        GI               12              N   \n",
              "15745      NNNNNNNN         P               12              N   \n",
              "\n",
              "       F_CD_ORIGEM_ALUNO F_DT_NASC_ALUNO F_NM_PAIS_NASC  \n",
              "12297                  1            1983         BRASIL  \n",
              "15734                  4            1987         BRASIL  \n",
              "15737                  0            1972         BRASIL  \n",
              "15745                  0            1988         BRASIL  "
            ]
          },
          "execution_count": 50,
          "metadata": {},
          "output_type": "execute_result"
        }
      ],
      "source": [
        "df_final[(df_final['NU_SEMESTRE2_VEST'].isna()) & (df_final['TP_INGRES_CURSO'] == 12)]"
      ]
    },
    {
      "cell_type": "code",
      "execution_count": 51,
      "metadata": {
        "colab": {
          "base_uri": "https://localhost:8080/",
          "height": 178
        },
        "id": "JKOlC-6qKrub",
        "outputId": "067e1c42-ac9c-429a-a699-4bbf2a48bac6"
      },
      "outputs": [
        {
          "data": {
            "text/plain": [
              "NU_SEMESTRE2_VEST\n",
              "NaN    2740\n",
              "V       106\n",
              "Name: count, dtype: int64"
            ]
          },
          "execution_count": 51,
          "metadata": {},
          "output_type": "execute_result"
        }
      ],
      "source": [
        "df_final[df_final['TP_INGRES_CURSO'].isin(portador_diploma)]['NU_SEMESTRE2_VEST'].value_counts(dropna=False)"
      ]
    },
    {
      "cell_type": "code",
      "execution_count": 52,
      "metadata": {
        "colab": {
          "base_uri": "https://localhost:8080/",
          "height": 147
        },
        "id": "7KdmGTf8Krub",
        "outputId": "696a8736-9c4b-4fc9-8ebe-5f562a3adf72"
      },
      "outputs": [
        {
          "data": {
            "text/plain": [
              "NU_SEMESTRE2_VEST\n",
              "NaN    50\n",
              "Name: count, dtype: int64"
            ]
          },
          "execution_count": 52,
          "metadata": {},
          "output_type": "execute_result"
        }
      ],
      "source": [
        "df_final[df_final['TP_INGRES_CURSO'].isin(convenio_cultural)]['NU_SEMESTRE2_VEST'].value_counts(dropna=False)"
      ]
    },
    {
      "cell_type": "code",
      "execution_count": 53,
      "metadata": {
        "colab": {
          "base_uri": "https://localhost:8080/",
          "height": 241
        },
        "id": "qPGv6V4wKrub",
        "outputId": "39ca1fb1-eae3-4fea-e718-f9851e599ae2"
      },
      "outputs": [
        {
          "data": {
            "text/plain": [
              "NU_SEMESTRE2_VEST\n",
              "NaN    1240\n",
              "I       102\n",
              "V       101\n",
              "A         3\n",
              "Name: count, dtype: int64"
            ]
          },
          "execution_count": 53,
          "metadata": {},
          "output_type": "execute_result"
        }
      ],
      "source": [
        "df_final[df_final['TP_INGRES_CURSO'].isin(transferencia)]['NU_SEMESTRE2_VEST'].value_counts(dropna=False)"
      ]
    },
    {
      "cell_type": "code",
      "execution_count": 54,
      "metadata": {
        "colab": {
          "base_uri": "https://localhost:8080/",
          "height": 272
        },
        "id": "-K3vLPHAKrub",
        "outputId": "9afec97b-f1a4-42eb-b4cc-0b8034224963"
      },
      "outputs": [
        {
          "data": {
            "text/plain": [
              "NU_SEMESTRE2_VEST\n",
              "V      25725\n",
              "I      21177\n",
              "A       4143\n",
              "NaN      110\n",
              "2          3\n",
              "Name: count, dtype: int64"
            ]
          },
          "execution_count": 54,
          "metadata": {},
          "output_type": "execute_result"
        }
      ],
      "source": [
        "df_final[df_final['TP_INGRES_CURSO'].isin(vestibular)]['NU_SEMESTRE2_VEST'].value_counts(dropna=False)"
      ]
    },
    {
      "cell_type": "code",
      "execution_count": 55,
      "metadata": {
        "colab": {
          "base_uri": "https://localhost:8080/",
          "height": 210
        },
        "id": "oqDCmiRlKrub",
        "outputId": "53303531-ac0f-435c-fbb9-77db5f47ed92"
      },
      "outputs": [
        {
          "data": {
            "text/plain": [
              "NU_SEMESTRE2_VEST\n",
              "I      2\n",
              "V      1\n",
              "NaN    1\n",
              "Name: count, dtype: int64"
            ]
          },
          "execution_count": 55,
          "metadata": {},
          "output_type": "execute_result"
        }
      ],
      "source": [
        "df_final[df_final['TP_INGRES_CURSO'].isin(subjudice)]['NU_SEMESTRE2_VEST'].value_counts(dropna=False)"
      ]
    },
    {
      "cell_type": "code",
      "execution_count": 56,
      "metadata": {
        "id": "rXRr5J6VKrub"
      },
      "outputs": [],
      "source": [
        "dict_balanceamento = {'V': 57, 'I': 46, 'A':10}"
      ]
    },
    {
      "cell_type": "code",
      "execution_count": 57,
      "metadata": {
        "id": "RPFvv5DuKrub"
      },
      "outputs": [],
      "source": [
        "def set_nu_semestre2_vest(linha, dict_balanceamento=dict_balanceamento):\n",
        "    if linha['NU_SEMESTRE2_VEST'] == '2':\n",
        "        return 'V'\n",
        "    elif linha['TP_INGRES_CURSO'] in transferencia:\n",
        "        return 'T'\n",
        "    elif linha['TP_INGRES_CURSO'] in portador_diploma:\n",
        "        return 'P'\n",
        "    elif not pd.isna(linha['NU_SEMESTRE2_VEST']):\n",
        "        return linha['NU_SEMESTRE2_VEST']\n",
        "    elif linha['TP_INGRES_CURSO'] in vestibular:\n",
        "        if dict_balanceamento['V'] > 0:\n",
        "            dict_balanceamento['V'] -= 1\n",
        "            return 'V'\n",
        "        elif dict_balanceamento['I'] > 0:\n",
        "            dict_balanceamento['I'] -= 1\n",
        "            return 'I'\n",
        "        elif dict_balanceamento['A'] > 0:\n",
        "            dict_balanceamento['A'] -= 1\n",
        "            return 'A'\n",
        "    elif linha['TP_INGRES_CURSO'] in convenio_cultural:\n",
        "        return 'C'\n",
        "    elif linha['TP_INGRES_CURSO'] in subjudice:\n",
        "        return 'V'\n"
      ]
    },
    {
      "cell_type": "code",
      "execution_count": 58,
      "metadata": {
        "id": "0VyErJGvKrub"
      },
      "outputs": [],
      "source": [
        "df_final['F_NU_SEMESTRE2_VEST'] = df_final.apply(set_nu_semestre2_vest, axis=1)"
      ]
    },
    {
      "cell_type": "code",
      "execution_count": 59,
      "metadata": {
        "colab": {
          "base_uri": "https://localhost:8080/",
          "height": 429
        },
        "id": "OzltBvHoKrub",
        "outputId": "783855cc-5187-47c0-d8c9-983fde0032b8"
      },
      "outputs": [
        {
          "data": {
            "text/plain": [
              "F_NU_SEMESTRE2_VEST\n",
              "V    31694\n",
              "I    27517\n",
              "A     5785\n",
              "P     2846\n",
              "T     1446\n",
              "E     1128\n",
              "S      373\n",
              "R      360\n",
              "C       50\n",
              "G       22\n",
              "Name: count, dtype: int64"
            ]
          },
          "execution_count": 59,
          "metadata": {},
          "output_type": "execute_result"
        }
      ],
      "source": [
        "df_final['F_NU_SEMESTRE2_VEST'].value_counts(dropna=False)"
      ]
    },
    {
      "cell_type": "code",
      "execution_count": 60,
      "metadata": {
        "id": "VP3YAjt7Kruc"
      },
      "outputs": [],
      "source": [
        "colunas_a_remover.append('NU_SEMESTRE2_VEST')"
      ]
    },
    {
      "cell_type": "markdown",
      "metadata": {
        "id": "tEMET3E1Kruc"
      },
      "source": [
        "Criadas 3 categorias novas: 'C' para convenio cultural, 'T' para transferência e 'P' para portador de diploma.\n",
        "Para as outras, foram atribuídos proporcionalmente aos valores da coluna NU_SEMESTRE2_VEST"
      ]
    },
    {
      "cell_type": "markdown",
      "metadata": {
        "id": "wBHCgYeaKruc"
      },
      "source": [
        "### SG_SEXO_ALUNO"
      ]
    },
    {
      "cell_type": "markdown",
      "metadata": {
        "id": "AyAoh4EAKruc"
      },
      "source": [
        "Mantém como está"
      ]
    },
    {
      "cell_type": "markdown",
      "metadata": {
        "id": "3CC-UUlmKruc"
      },
      "source": [
        "### SG_UF_AULA, SG_UF_EST2GRAU"
      ]
    },
    {
      "cell_type": "markdown",
      "metadata": {
        "id": "TrE6JFfEKruc"
      },
      "source": [
        "Vamos usar?"
      ]
    },
    {
      "cell_type": "markdown",
      "metadata": {
        "id": "MTY0lMylKruc"
      },
      "source": [
        "### SG_UF_FERIAS"
      ]
    },
    {
      "cell_type": "code",
      "execution_count": 61,
      "metadata": {
        "colab": {
          "base_uri": "https://localhost:8080/",
          "height": 1000
        },
        "id": "d18296neKruc",
        "outputId": "6d3cf3af-27ff-47c5-e8d8-e56cacb2516b"
      },
      "outputs": [
        {
          "data": {
            "text/plain": [
              "SG_UF_FERIAS\n",
              "PR     56591\n",
              "SP      9339\n",
              "NaN     3443\n",
              "MS       669\n",
              "MT       295\n",
              "MG       238\n",
              "SC       170\n",
              "GO        89\n",
              "RO        88\n",
              "AC        63\n",
              "RS        46\n",
              "RJ        42\n",
              "BA        40\n",
              "DF        21\n",
              "PA        13\n",
              "TO        12\n",
              "ES        11\n",
              "CE         7\n",
              "MA         6\n",
              "--         6\n",
              "P          5\n",
              "RN         5\n",
              "PI         4\n",
              "PB         4\n",
              "PE         3\n",
              "AM         3\n",
              "RR         2\n",
              "S          2\n",
              "SE         1\n",
              "R          1\n",
              "AL         1\n",
              "AP         1\n",
              "Name: count, dtype: int64"
            ]
          },
          "execution_count": 61,
          "metadata": {},
          "output_type": "execute_result"
        }
      ],
      "source": [
        "df_final['SG_UF_FERIAS'].value_counts(dropna=False)"
      ]
    },
    {
      "cell_type": "code",
      "execution_count": 62,
      "metadata": {
        "colab": {
          "base_uri": "https://localhost:8080/"
        },
        "id": "OCOV0d7oKruc",
        "outputId": "bb671ab2-fd8a-4e28-eed6-6e704d015b7f"
      },
      "outputs": [
        {
          "data": {
            "text/plain": [
              "(array(['PR', nan, 'SP', 'MG', 'SC', 'MT', 'GO', 'AC', 'MS', 'RS', 'RO',\n",
              "        '--', 'S', 'PA', 'P', 'BA', 'PB', 'RJ', 'ES', 'TO', 'DF', 'RN',\n",
              "        'CE', 'SE', 'MA', 'PE', 'RR', 'R', 'AL', 'PI', 'AM', 'AP'],\n",
              "       dtype=object),\n",
              " 32)"
            ]
          },
          "execution_count": 62,
          "metadata": {},
          "output_type": "execute_result"
        }
      ],
      "source": [
        "df_final['SG_UF_FERIAS'].unique(), df_final['SG_UF_FERIAS'].nunique(dropna=False)"
      ]
    },
    {
      "cell_type": "code",
      "execution_count": 63,
      "metadata": {
        "colab": {
          "base_uri": "https://localhost:8080/",
          "height": 241
        },
        "id": "q2UUt_3oKruc",
        "outputId": "563f80a1-0799-4ead-8caa-eb65b76c52c6"
      },
      "outputs": [
        {
          "data": {
            "text/plain": [
              "SG_UF_FERIAS\n",
              "--    6\n",
              "P     5\n",
              "S     2\n",
              "R     1\n",
              "Name: count, dtype: int64"
            ]
          },
          "execution_count": 63,
          "metadata": {},
          "output_type": "execute_result"
        }
      ],
      "source": [
        "estados_a_remover_uf_ferias = ['--', 'S', 'P', 'R']\n",
        "\n",
        "df_final[df_final['SG_UF_FERIAS'].isin(estados_a_remover_uf_ferias)]['SG_UF_FERIAS'].value_counts(dropna=False)"
      ]
    },
    {
      "cell_type": "code",
      "execution_count": 64,
      "metadata": {
        "colab": {
          "base_uri": "https://localhost:8080/",
          "height": 398
        },
        "id": "y3DJ3iXeKruc",
        "outputId": "1889e4ab-f4eb-4ea6-cc6b-f876ff494ba9"
      },
      "outputs": [
        {
          "data": {
            "text/plain": [
              "NM_CIDADE_FERIAS\n",
              "NAO INFORMADO        6\n",
              "S\\U001AO PAULO       1\n",
              "CAMPO MOUR\\U001AO    1\n",
              "JACAREZINHO          1\n",
              "GUARACI              1\n",
              "MARINGA              1\n",
              "AQUIDABAN            1\n",
              "HOLAMBRA             1\n",
              "PALMAS               1\n",
              "Name: count, dtype: int64"
            ]
          },
          "execution_count": 64,
          "metadata": {},
          "output_type": "execute_result"
        }
      ],
      "source": [
        "df_final[df_final['SG_UF_FERIAS'].isin(estados_a_remover_uf_ferias)]['NM_CIDADE_FERIAS'].value_counts(dropna=False)"
      ]
    },
    {
      "cell_type": "code",
      "execution_count": 65,
      "metadata": {
        "colab": {
          "base_uri": "https://localhost:8080/",
          "height": 488
        },
        "id": "ZYQIfNHFKruc",
        "outputId": "b9bed275-20d0-4b0b-abab-96062366b89f"
      },
      "outputs": [
        {
          "data": {
            "text/html": [
              "<div>\n",
              "<style scoped>\n",
              "    .dataframe tbody tr th:only-of-type {\n",
              "        vertical-align: middle;\n",
              "    }\n",
              "\n",
              "    .dataframe tbody tr th {\n",
              "        vertical-align: top;\n",
              "    }\n",
              "\n",
              "    .dataframe thead th {\n",
              "        text-align: right;\n",
              "    }\n",
              "</style>\n",
              "<table border=\"1\" class=\"dataframe\">\n",
              "  <thead>\n",
              "    <tr style=\"text-align: right;\">\n",
              "      <th></th>\n",
              "      <th>CD_ORIGEM_ALUNO</th>\n",
              "      <th>LT_NACIONALIDADE</th>\n",
              "      <th>SG_UF_NASC_ALUNO</th>\n",
              "      <th>NM_CIDADE_NASC</th>\n",
              "      <th>SG_UF_FERIAS</th>\n",
              "      <th>NM_CIDADE_FERIAS</th>\n",
              "      <th>F_NM_PAIS_NASC</th>\n",
              "      <th>NM_CIDADE_FERIAS</th>\n",
              "      <th>SG_UF_FERIAS</th>\n",
              "    </tr>\n",
              "  </thead>\n",
              "  <tbody>\n",
              "    <tr>\n",
              "      <th>1489</th>\n",
              "      <td>0</td>\n",
              "      <td>B</td>\n",
              "      <td>PR</td>\n",
              "      <td>MARINGA</td>\n",
              "      <td>--</td>\n",
              "      <td>NAO INFORMADO</td>\n",
              "      <td>BRASIL</td>\n",
              "      <td>NAO INFORMADO</td>\n",
              "      <td>--</td>\n",
              "    </tr>\n",
              "    <tr>\n",
              "      <th>1490</th>\n",
              "      <td>0</td>\n",
              "      <td>B</td>\n",
              "      <td>PR</td>\n",
              "      <td>MARINGA</td>\n",
              "      <td>--</td>\n",
              "      <td>NAO INFORMADO</td>\n",
              "      <td>BRASIL</td>\n",
              "      <td>NAO INFORMADO</td>\n",
              "      <td>--</td>\n",
              "    </tr>\n",
              "    <tr>\n",
              "      <th>1491</th>\n",
              "      <td>0</td>\n",
              "      <td>B</td>\n",
              "      <td>PR</td>\n",
              "      <td>MARINGA</td>\n",
              "      <td>--</td>\n",
              "      <td>NAO INFORMADO</td>\n",
              "      <td>BRASIL</td>\n",
              "      <td>NAO INFORMADO</td>\n",
              "      <td>--</td>\n",
              "    </tr>\n",
              "    <tr>\n",
              "      <th>1857</th>\n",
              "      <td>4</td>\n",
              "      <td>B</td>\n",
              "      <td>SP</td>\n",
              "      <td>NaN</td>\n",
              "      <td>S</td>\n",
              "      <td>S\\U001AO PAULO</td>\n",
              "      <td>BRASIL</td>\n",
              "      <td>S\\U001AO PAULO</td>\n",
              "      <td>S</td>\n",
              "    </tr>\n",
              "    <tr>\n",
              "      <th>2003</th>\n",
              "      <td>3</td>\n",
              "      <td>B</td>\n",
              "      <td>PR</td>\n",
              "      <td>NaN</td>\n",
              "      <td>P</td>\n",
              "      <td>CAMPO MOUR\\U001AO</td>\n",
              "      <td>BRASIL</td>\n",
              "      <td>CAMPO MOUR\\U001AO</td>\n",
              "      <td>P</td>\n",
              "    </tr>\n",
              "    <tr>\n",
              "      <th>2189</th>\n",
              "      <td>3</td>\n",
              "      <td>B</td>\n",
              "      <td>PR</td>\n",
              "      <td>NaN</td>\n",
              "      <td>P</td>\n",
              "      <td>JACAREZINHO</td>\n",
              "      <td>BRASIL</td>\n",
              "      <td>JACAREZINHO</td>\n",
              "      <td>P</td>\n",
              "    </tr>\n",
              "    <tr>\n",
              "      <th>8566</th>\n",
              "      <td>3</td>\n",
              "      <td>B</td>\n",
              "      <td>PR</td>\n",
              "      <td>NaN</td>\n",
              "      <td>P</td>\n",
              "      <td>GUARACI</td>\n",
              "      <td>BRASIL</td>\n",
              "      <td>GUARACI</td>\n",
              "      <td>P</td>\n",
              "    </tr>\n",
              "    <tr>\n",
              "      <th>9086</th>\n",
              "      <td>1</td>\n",
              "      <td>B</td>\n",
              "      <td>PR</td>\n",
              "      <td>NaN</td>\n",
              "      <td>P</td>\n",
              "      <td>MARINGA</td>\n",
              "      <td>BRASIL</td>\n",
              "      <td>MARINGA</td>\n",
              "      <td>P</td>\n",
              "    </tr>\n",
              "    <tr>\n",
              "      <th>11382</th>\n",
              "      <td>1</td>\n",
              "      <td>B</td>\n",
              "      <td>PR</td>\n",
              "      <td>NaN</td>\n",
              "      <td>P</td>\n",
              "      <td>AQUIDABAN</td>\n",
              "      <td>BRASIL</td>\n",
              "      <td>AQUIDABAN</td>\n",
              "      <td>P</td>\n",
              "    </tr>\n",
              "    <tr>\n",
              "      <th>16689</th>\n",
              "      <td>4</td>\n",
              "      <td>B</td>\n",
              "      <td>SP</td>\n",
              "      <td>NaN</td>\n",
              "      <td>S</td>\n",
              "      <td>HOLAMBRA</td>\n",
              "      <td>BRASIL</td>\n",
              "      <td>HOLAMBRA</td>\n",
              "      <td>S</td>\n",
              "    </tr>\n",
              "    <tr>\n",
              "      <th>18665</th>\n",
              "      <td>0</td>\n",
              "      <td>B</td>\n",
              "      <td>SP</td>\n",
              "      <td>BAURU</td>\n",
              "      <td>--</td>\n",
              "      <td>NAO INFORMADO</td>\n",
              "      <td>BRASIL</td>\n",
              "      <td>NAO INFORMADO</td>\n",
              "      <td>--</td>\n",
              "    </tr>\n",
              "    <tr>\n",
              "      <th>22683</th>\n",
              "      <td>0</td>\n",
              "      <td>B</td>\n",
              "      <td>PR</td>\n",
              "      <td>GOIOERE</td>\n",
              "      <td>--</td>\n",
              "      <td>NAO INFORMADO</td>\n",
              "      <td>BRASIL</td>\n",
              "      <td>NAO INFORMADO</td>\n",
              "      <td>--</td>\n",
              "    </tr>\n",
              "    <tr>\n",
              "      <th>23879</th>\n",
              "      <td>3</td>\n",
              "      <td>B</td>\n",
              "      <td>PR</td>\n",
              "      <td>PALMAS</td>\n",
              "      <td>R</td>\n",
              "      <td>PALMAS</td>\n",
              "      <td>BRASIL</td>\n",
              "      <td>PALMAS</td>\n",
              "      <td>R</td>\n",
              "    </tr>\n",
              "    <tr>\n",
              "      <th>69828</th>\n",
              "      <td>0</td>\n",
              "      <td>B</td>\n",
              "      <td>CE</td>\n",
              "      <td>FORTALEZA</td>\n",
              "      <td>--</td>\n",
              "      <td>NAO INFORMADO</td>\n",
              "      <td>BRASIL</td>\n",
              "      <td>NAO INFORMADO</td>\n",
              "      <td>--</td>\n",
              "    </tr>\n",
              "  </tbody>\n",
              "</table>\n",
              "</div>"
            ],
            "text/plain": [
              "       CD_ORIGEM_ALUNO LT_NACIONALIDADE SG_UF_NASC_ALUNO NM_CIDADE_NASC  \\\n",
              "1489                 0                B               PR        MARINGA   \n",
              "1490                 0                B               PR        MARINGA   \n",
              "1491                 0                B               PR        MARINGA   \n",
              "1857                 4                B               SP            NaN   \n",
              "2003                 3                B               PR            NaN   \n",
              "2189                 3                B               PR            NaN   \n",
              "8566                 3                B               PR            NaN   \n",
              "9086                 1                B               PR            NaN   \n",
              "11382                1                B               PR            NaN   \n",
              "16689                4                B               SP            NaN   \n",
              "18665                0                B               SP          BAURU   \n",
              "22683                0                B               PR        GOIOERE   \n",
              "23879                3                B               PR         PALMAS   \n",
              "69828                0                B               CE      FORTALEZA   \n",
              "\n",
              "      SG_UF_FERIAS   NM_CIDADE_FERIAS F_NM_PAIS_NASC   NM_CIDADE_FERIAS  \\\n",
              "1489            --      NAO INFORMADO         BRASIL      NAO INFORMADO   \n",
              "1490            --      NAO INFORMADO         BRASIL      NAO INFORMADO   \n",
              "1491            --      NAO INFORMADO         BRASIL      NAO INFORMADO   \n",
              "1857             S     S\\U001AO PAULO         BRASIL     S\\U001AO PAULO   \n",
              "2003             P  CAMPO MOUR\\U001AO         BRASIL  CAMPO MOUR\\U001AO   \n",
              "2189             P        JACAREZINHO         BRASIL        JACAREZINHO   \n",
              "8566             P            GUARACI         BRASIL            GUARACI   \n",
              "9086             P            MARINGA         BRASIL            MARINGA   \n",
              "11382            P          AQUIDABAN         BRASIL          AQUIDABAN   \n",
              "16689            S           HOLAMBRA         BRASIL           HOLAMBRA   \n",
              "18665           --      NAO INFORMADO         BRASIL      NAO INFORMADO   \n",
              "22683           --      NAO INFORMADO         BRASIL      NAO INFORMADO   \n",
              "23879            R             PALMAS         BRASIL             PALMAS   \n",
              "69828           --      NAO INFORMADO         BRASIL      NAO INFORMADO   \n",
              "\n",
              "      SG_UF_FERIAS  \n",
              "1489            --  \n",
              "1490            --  \n",
              "1491            --  \n",
              "1857             S  \n",
              "2003             P  \n",
              "2189             P  \n",
              "8566             P  \n",
              "9086             P  \n",
              "11382            P  \n",
              "16689            S  \n",
              "18665           --  \n",
              "22683           --  \n",
              "23879            R  \n",
              "69828           --  "
            ]
          },
          "execution_count": 65,
          "metadata": {},
          "output_type": "execute_result"
        }
      ],
      "source": [
        "df_final[df_final['SG_UF_FERIAS'].isin(estados_a_remover_uf_ferias)][colunas_loc_nasc_aluno + ['NM_CIDADE_FERIAS', 'SG_UF_FERIAS']]"
      ]
    },
    {
      "cell_type": "code",
      "execution_count": 66,
      "metadata": {
        "id": "TfEPgERcKruc"
      },
      "outputs": [],
      "source": [
        "def set_SG_UF_FERIAS_ALUNO_1(linha):\n",
        "    if linha['NM_CIDADE_NASC'] in ['MARINGA', 'CAMPO MOURAO', 'JACAREZINHO', 'PALMAS', 'AQUIDABAN', 'GUARACI']:\n",
        "        return 'PR'\n",
        "    elif linha['NM_CIDADE_NASC'] in ['SAO PAULO', 'HOLAMBRA', 'SAO PAULO']:\n",
        "        return 'SP'\n",
        "    elif not pd.isna(linha['SG_UF_FERIAS']):\n",
        "        return linha['SG_UF_FERIAS']\n",
        "    else:\n",
        "        return np.nan"
      ]
    },
    {
      "cell_type": "code",
      "execution_count": 67,
      "metadata": {
        "id": "YogEeBJhKruc"
      },
      "outputs": [],
      "source": [
        "df_final['F_SG_UF_FERIAS'] = df_final.apply(set_SG_UF_FERIAS_ALUNO_1, axis=1)"
      ]
    },
    {
      "cell_type": "code",
      "execution_count": 68,
      "metadata": {
        "id": "HtqhXMu5Kruc"
      },
      "outputs": [],
      "source": [
        "df_final['F_SG_UF_FERIAS'] = df_final['F_SG_UF_FERIAS'].replace({'P':'PR', 'R':'PR', 'S':'SP'})"
      ]
    },
    {
      "cell_type": "code",
      "execution_count": 69,
      "metadata": {
        "colab": {
          "base_uri": "https://localhost:8080/"
        },
        "id": "f0BB2yzDKrud",
        "outputId": "c99d8770-101c-4407-bb98-e1f27abe46d8"
      },
      "outputs": [
        {
          "data": {
            "text/plain": [
              "3272"
            ]
          },
          "execution_count": 69,
          "metadata": {},
          "output_type": "execute_result"
        }
      ],
      "source": [
        "df_final[df_final['F_SG_UF_FERIAS'].isna()].shape[0]"
      ]
    },
    {
      "cell_type": "markdown",
      "metadata": {
        "id": "KrMSZFoVKrud"
      },
      "source": [
        "Preenchidos os estados com uma letra só, colocando a sigla completa"
      ]
    },
    {
      "cell_type": "code",
      "execution_count": 70,
      "metadata": {
        "colab": {
          "base_uri": "https://localhost:8080/",
          "height": 238
        },
        "id": "MGVRnXNRKrud",
        "outputId": "c76719f6-2270-47e4-8bb2-bed60a166903"
      },
      "outputs": [
        {
          "data": {
            "text/html": [
              "<div>\n",
              "<style scoped>\n",
              "    .dataframe tbody tr th:only-of-type {\n",
              "        vertical-align: middle;\n",
              "    }\n",
              "\n",
              "    .dataframe tbody tr th {\n",
              "        vertical-align: top;\n",
              "    }\n",
              "\n",
              "    .dataframe thead th {\n",
              "        text-align: right;\n",
              "    }\n",
              "</style>\n",
              "<table border=\"1\" class=\"dataframe\">\n",
              "  <thead>\n",
              "    <tr style=\"text-align: right;\">\n",
              "      <th></th>\n",
              "      <th>CD_ORIGEM_ALUNO</th>\n",
              "      <th>LT_NACIONALIDADE</th>\n",
              "      <th>SG_UF_NASC_ALUNO</th>\n",
              "      <th>NM_CIDADE_NASC</th>\n",
              "      <th>SG_UF_FERIAS</th>\n",
              "      <th>NM_CIDADE_FERIAS</th>\n",
              "      <th>F_NM_PAIS_NASC</th>\n",
              "      <th>NM_CIDADE_FERIAS</th>\n",
              "      <th>SG_UF_FERIAS</th>\n",
              "      <th>F_SG_UF_FERIAS</th>\n",
              "    </tr>\n",
              "  </thead>\n",
              "  <tbody>\n",
              "    <tr>\n",
              "      <th>1489</th>\n",
              "      <td>0</td>\n",
              "      <td>B</td>\n",
              "      <td>PR</td>\n",
              "      <td>MARINGA</td>\n",
              "      <td>--</td>\n",
              "      <td>NAO INFORMADO</td>\n",
              "      <td>BRASIL</td>\n",
              "      <td>NAO INFORMADO</td>\n",
              "      <td>--</td>\n",
              "      <td>PR</td>\n",
              "    </tr>\n",
              "    <tr>\n",
              "      <th>1490</th>\n",
              "      <td>0</td>\n",
              "      <td>B</td>\n",
              "      <td>PR</td>\n",
              "      <td>MARINGA</td>\n",
              "      <td>--</td>\n",
              "      <td>NAO INFORMADO</td>\n",
              "      <td>BRASIL</td>\n",
              "      <td>NAO INFORMADO</td>\n",
              "      <td>--</td>\n",
              "      <td>PR</td>\n",
              "    </tr>\n",
              "    <tr>\n",
              "      <th>1491</th>\n",
              "      <td>0</td>\n",
              "      <td>B</td>\n",
              "      <td>PR</td>\n",
              "      <td>MARINGA</td>\n",
              "      <td>--</td>\n",
              "      <td>NAO INFORMADO</td>\n",
              "      <td>BRASIL</td>\n",
              "      <td>NAO INFORMADO</td>\n",
              "      <td>--</td>\n",
              "      <td>PR</td>\n",
              "    </tr>\n",
              "    <tr>\n",
              "      <th>18665</th>\n",
              "      <td>0</td>\n",
              "      <td>B</td>\n",
              "      <td>SP</td>\n",
              "      <td>BAURU</td>\n",
              "      <td>--</td>\n",
              "      <td>NAO INFORMADO</td>\n",
              "      <td>BRASIL</td>\n",
              "      <td>NAO INFORMADO</td>\n",
              "      <td>--</td>\n",
              "      <td>--</td>\n",
              "    </tr>\n",
              "    <tr>\n",
              "      <th>22683</th>\n",
              "      <td>0</td>\n",
              "      <td>B</td>\n",
              "      <td>PR</td>\n",
              "      <td>GOIOERE</td>\n",
              "      <td>--</td>\n",
              "      <td>NAO INFORMADO</td>\n",
              "      <td>BRASIL</td>\n",
              "      <td>NAO INFORMADO</td>\n",
              "      <td>--</td>\n",
              "      <td>--</td>\n",
              "    </tr>\n",
              "    <tr>\n",
              "      <th>69828</th>\n",
              "      <td>0</td>\n",
              "      <td>B</td>\n",
              "      <td>CE</td>\n",
              "      <td>FORTALEZA</td>\n",
              "      <td>--</td>\n",
              "      <td>NAO INFORMADO</td>\n",
              "      <td>BRASIL</td>\n",
              "      <td>NAO INFORMADO</td>\n",
              "      <td>--</td>\n",
              "      <td>--</td>\n",
              "    </tr>\n",
              "  </tbody>\n",
              "</table>\n",
              "</div>"
            ],
            "text/plain": [
              "       CD_ORIGEM_ALUNO LT_NACIONALIDADE SG_UF_NASC_ALUNO NM_CIDADE_NASC  \\\n",
              "1489                 0                B               PR        MARINGA   \n",
              "1490                 0                B               PR        MARINGA   \n",
              "1491                 0                B               PR        MARINGA   \n",
              "18665                0                B               SP          BAURU   \n",
              "22683                0                B               PR        GOIOERE   \n",
              "69828                0                B               CE      FORTALEZA   \n",
              "\n",
              "      SG_UF_FERIAS NM_CIDADE_FERIAS F_NM_PAIS_NASC NM_CIDADE_FERIAS  \\\n",
              "1489            --    NAO INFORMADO         BRASIL    NAO INFORMADO   \n",
              "1490            --    NAO INFORMADO         BRASIL    NAO INFORMADO   \n",
              "1491            --    NAO INFORMADO         BRASIL    NAO INFORMADO   \n",
              "18665           --    NAO INFORMADO         BRASIL    NAO INFORMADO   \n",
              "22683           --    NAO INFORMADO         BRASIL    NAO INFORMADO   \n",
              "69828           --    NAO INFORMADO         BRASIL    NAO INFORMADO   \n",
              "\n",
              "      SG_UF_FERIAS F_SG_UF_FERIAS  \n",
              "1489            --             PR  \n",
              "1490            --             PR  \n",
              "1491            --             PR  \n",
              "18665           --             --  \n",
              "22683           --             --  \n",
              "69828           --             --  "
            ]
          },
          "execution_count": 70,
          "metadata": {},
          "output_type": "execute_result"
        }
      ],
      "source": [
        "df_final[df_final['NM_CIDADE_FERIAS'] == 'NAO INFORMADO'][colunas_loc_nasc_aluno + ['NM_CIDADE_FERIAS', 'SG_UF_FERIAS', 'F_SG_UF_FERIAS']]"
      ]
    },
    {
      "cell_type": "code",
      "execution_count": 71,
      "metadata": {
        "colab": {
          "base_uri": "https://localhost:8080/",
          "height": 424
        },
        "id": "OTBCvE-qKrud",
        "outputId": "d49207fa-24b4-4f1e-da15-430580fab687"
      },
      "outputs": [
        {
          "data": {
            "text/html": [
              "<div>\n",
              "<style scoped>\n",
              "    .dataframe tbody tr th:only-of-type {\n",
              "        vertical-align: middle;\n",
              "    }\n",
              "\n",
              "    .dataframe tbody tr th {\n",
              "        vertical-align: top;\n",
              "    }\n",
              "\n",
              "    .dataframe thead th {\n",
              "        text-align: right;\n",
              "    }\n",
              "</style>\n",
              "<table border=\"1\" class=\"dataframe\">\n",
              "  <thead>\n",
              "    <tr style=\"text-align: right;\">\n",
              "      <th></th>\n",
              "      <th>CD_ORIGEM_ALUNO</th>\n",
              "      <th>LT_NACIONALIDADE</th>\n",
              "      <th>SG_UF_NASC_ALUNO</th>\n",
              "      <th>NM_CIDADE_NASC</th>\n",
              "      <th>SG_UF_FERIAS</th>\n",
              "      <th>NM_CIDADE_FERIAS</th>\n",
              "      <th>F_NM_PAIS_NASC</th>\n",
              "      <th>SG_UF_FERIAS</th>\n",
              "      <th>F_SG_UF_FERIAS</th>\n",
              "    </tr>\n",
              "  </thead>\n",
              "  <tbody>\n",
              "    <tr>\n",
              "      <th>106</th>\n",
              "      <td>1</td>\n",
              "      <td>B</td>\n",
              "      <td>SP</td>\n",
              "      <td>GUARULHOS</td>\n",
              "      <td>NaN</td>\n",
              "      <td>MARINGA</td>\n",
              "      <td>BRASIL</td>\n",
              "      <td>NaN</td>\n",
              "      <td>NaN</td>\n",
              "    </tr>\n",
              "    <tr>\n",
              "      <th>332</th>\n",
              "      <td>4</td>\n",
              "      <td>B</td>\n",
              "      <td>SP</td>\n",
              "      <td>NaN</td>\n",
              "      <td>NaN</td>\n",
              "      <td>VOTUPORANGA</td>\n",
              "      <td>BRASIL</td>\n",
              "      <td>NaN</td>\n",
              "      <td>NaN</td>\n",
              "    </tr>\n",
              "    <tr>\n",
              "      <th>706</th>\n",
              "      <td>1</td>\n",
              "      <td>B</td>\n",
              "      <td>PR</td>\n",
              "      <td>NaN</td>\n",
              "      <td>NaN</td>\n",
              "      <td>MARINGA</td>\n",
              "      <td>BRASIL</td>\n",
              "      <td>NaN</td>\n",
              "      <td>NaN</td>\n",
              "    </tr>\n",
              "    <tr>\n",
              "      <th>934</th>\n",
              "      <td>2</td>\n",
              "      <td>B</td>\n",
              "      <td>PR</td>\n",
              "      <td>NaN</td>\n",
              "      <td>NaN</td>\n",
              "      <td>SANTA FE</td>\n",
              "      <td>BRASIL</td>\n",
              "      <td>NaN</td>\n",
              "      <td>NaN</td>\n",
              "    </tr>\n",
              "    <tr>\n",
              "      <th>1182</th>\n",
              "      <td>3</td>\n",
              "      <td>B</td>\n",
              "      <td>PR</td>\n",
              "      <td>NaN</td>\n",
              "      <td>NaN</td>\n",
              "      <td>PARANACITY</td>\n",
              "      <td>BRASIL</td>\n",
              "      <td>NaN</td>\n",
              "      <td>NaN</td>\n",
              "    </tr>\n",
              "    <tr>\n",
              "      <th>...</th>\n",
              "      <td>...</td>\n",
              "      <td>...</td>\n",
              "      <td>...</td>\n",
              "      <td>...</td>\n",
              "      <td>...</td>\n",
              "      <td>...</td>\n",
              "      <td>...</td>\n",
              "      <td>...</td>\n",
              "      <td>...</td>\n",
              "    </tr>\n",
              "    <tr>\n",
              "      <th>71203</th>\n",
              "      <td>0</td>\n",
              "      <td>B</td>\n",
              "      <td>RN</td>\n",
              "      <td>MACAU</td>\n",
              "      <td>NaN</td>\n",
              "      <td>MARINGA</td>\n",
              "      <td>BRASIL</td>\n",
              "      <td>NaN</td>\n",
              "      <td>NaN</td>\n",
              "    </tr>\n",
              "    <tr>\n",
              "      <th>71205</th>\n",
              "      <td>0</td>\n",
              "      <td>B</td>\n",
              "      <td>PR</td>\n",
              "      <td>LONDRINA</td>\n",
              "      <td>NaN</td>\n",
              "      <td>LONDRINA</td>\n",
              "      <td>BRASIL</td>\n",
              "      <td>NaN</td>\n",
              "      <td>NaN</td>\n",
              "    </tr>\n",
              "    <tr>\n",
              "      <th>71208</th>\n",
              "      <td>0</td>\n",
              "      <td>B</td>\n",
              "      <td>RO</td>\n",
              "      <td>PORTO VELHO</td>\n",
              "      <td>NaN</td>\n",
              "      <td>MARINGA</td>\n",
              "      <td>BRASIL</td>\n",
              "      <td>NaN</td>\n",
              "      <td>NaN</td>\n",
              "    </tr>\n",
              "    <tr>\n",
              "      <th>71216</th>\n",
              "      <td>0</td>\n",
              "      <td>B</td>\n",
              "      <td>PR</td>\n",
              "      <td>BRAGANTINA</td>\n",
              "      <td>NaN</td>\n",
              "      <td>MARINGA</td>\n",
              "      <td>BRASIL</td>\n",
              "      <td>NaN</td>\n",
              "      <td>NaN</td>\n",
              "    </tr>\n",
              "    <tr>\n",
              "      <th>71217</th>\n",
              "      <td>0</td>\n",
              "      <td>B</td>\n",
              "      <td>PR</td>\n",
              "      <td>CURITIBA</td>\n",
              "      <td>NaN</td>\n",
              "      <td>APUCARANA</td>\n",
              "      <td>BRASIL</td>\n",
              "      <td>NaN</td>\n",
              "      <td>NaN</td>\n",
              "    </tr>\n",
              "  </tbody>\n",
              "</table>\n",
              "<p>414 rows × 9 columns</p>\n",
              "</div>"
            ],
            "text/plain": [
              "       CD_ORIGEM_ALUNO LT_NACIONALIDADE SG_UF_NASC_ALUNO NM_CIDADE_NASC  \\\n",
              "106                  1                B               SP      GUARULHOS   \n",
              "332                  4                B               SP            NaN   \n",
              "706                  1                B               PR            NaN   \n",
              "934                  2                B               PR            NaN   \n",
              "1182                 3                B               PR            NaN   \n",
              "...                ...              ...              ...            ...   \n",
              "71203                0                B               RN          MACAU   \n",
              "71205                0                B               PR       LONDRINA   \n",
              "71208                0                B               RO    PORTO VELHO   \n",
              "71216                0                B               PR     BRAGANTINA   \n",
              "71217                0                B               PR       CURITIBA   \n",
              "\n",
              "      SG_UF_FERIAS NM_CIDADE_FERIAS F_NM_PAIS_NASC SG_UF_FERIAS F_SG_UF_FERIAS  \n",
              "106            NaN          MARINGA         BRASIL          NaN            NaN  \n",
              "332            NaN      VOTUPORANGA         BRASIL          NaN            NaN  \n",
              "706            NaN          MARINGA         BRASIL          NaN            NaN  \n",
              "934            NaN         SANTA FE         BRASIL          NaN            NaN  \n",
              "1182           NaN       PARANACITY         BRASIL          NaN            NaN  \n",
              "...            ...              ...            ...          ...            ...  \n",
              "71203          NaN          MARINGA         BRASIL          NaN            NaN  \n",
              "71205          NaN         LONDRINA         BRASIL          NaN            NaN  \n",
              "71208          NaN          MARINGA         BRASIL          NaN            NaN  \n",
              "71216          NaN          MARINGA         BRASIL          NaN            NaN  \n",
              "71217          NaN        APUCARANA         BRASIL          NaN            NaN  \n",
              "\n",
              "[414 rows x 9 columns]"
            ]
          },
          "execution_count": 71,
          "metadata": {},
          "output_type": "execute_result"
        }
      ],
      "source": [
        "sg_ferias_nulo_cidade = df_final[(pd.isna(df_final['F_SG_UF_FERIAS'])) & (~pd.isna(df_final['NM_CIDADE_FERIAS']))][colunas_loc_nasc_aluno + [ 'SG_UF_FERIAS', 'F_SG_UF_FERIAS']]\n",
        "sg_ferias_nulo_cidade"
      ]
    },
    {
      "cell_type": "code",
      "execution_count": 72,
      "metadata": {
        "colab": {
          "base_uri": "https://localhost:8080/",
          "height": 490
        },
        "id": "Wb-Rvx6pKrud",
        "outputId": "c92a4424-9efe-4756-a4fe-591490d0f601"
      },
      "outputs": [
        {
          "data": {
            "text/plain": [
              "NM_CIDADE_FERIAS\n",
              "MARINGA              118\n",
              "UMUARAMA              20\n",
              "SARANDI                9\n",
              "MANDAGUARI             8\n",
              "APUCARANA              7\n",
              "                    ... \n",
              "FARTURA                1\n",
              "QUARTO CENTENARIO      1\n",
              "HERCULANDIA            1\n",
              "SERTAOZINHO            1\n",
              "BOM SUCESSO            1\n",
              "Name: count, Length: 192, dtype: int64"
            ]
          },
          "execution_count": 72,
          "metadata": {},
          "output_type": "execute_result"
        }
      ],
      "source": [
        "sg_ferias_nulo_cidade['NM_CIDADE_FERIAS'].value_counts(dropna=False)"
      ]
    },
    {
      "cell_type": "code",
      "execution_count": 73,
      "metadata": {
        "id": "dw1nLkOIKrud"
      },
      "outputs": [],
      "source": [
        "def set_SG_UF_FERIAS_2(linha, df_estados_municipios=df_estados_municipios):\n",
        "    if pd.isna(linha['F_SG_UF_FERIAS']):\n",
        "        try:\n",
        "            return df_estados_municipios[df_estados_municipios['nome'] == linha['NM_CIDADE_FERIAS']]['uf'].values[0]\n",
        "\n",
        "        except:\n",
        "            return linha['F_SG_UF_FERIAS']\n",
        "    else:\n",
        "        return linha['F_SG_UF_FERIAS']"
      ]
    },
    {
      "cell_type": "code",
      "execution_count": 74,
      "metadata": {
        "id": "HsSD5qm-Krud"
      },
      "outputs": [],
      "source": [
        "df_final['F_SG_UF_FERIAS'] = df_final.apply(set_SG_UF_FERIAS_2, axis=1)"
      ]
    },
    {
      "cell_type": "code",
      "execution_count": 75,
      "metadata": {
        "colab": {
          "base_uri": "https://localhost:8080/"
        },
        "id": "87-n0NwFKrud",
        "outputId": "e2da5074-8bc0-4b55-b239-2e90a27092ea"
      },
      "outputs": [
        {
          "data": {
            "text/plain": [
              "2909"
            ]
          },
          "execution_count": 75,
          "metadata": {},
          "output_type": "execute_result"
        }
      ],
      "source": [
        "df_final[df_final['F_SG_UF_FERIAS'].isna()].shape[0]"
      ]
    },
    {
      "cell_type": "markdown",
      "metadata": {
        "id": "YjctH78DKrud"
      },
      "source": [
        "Após usar datasets de estados e cidades brasileiras, ainda ficamos com 2909 nulos."
      ]
    },
    {
      "cell_type": "code",
      "execution_count": 76,
      "metadata": {
        "id": "XPRN_akkKrud"
      },
      "outputs": [],
      "source": [
        "colunas_a_remover.append('SG_UF_FERIAS')\n",
        "colunas_loc_nasc_aluno.remove('SG_UF_FERIAS')\n",
        "colunas_loc_nasc_aluno.append('F_SG_UF_FERIAS')"
      ]
    },
    {
      "cell_type": "markdown",
      "metadata": {
        "id": "Bc21-uztKrud"
      },
      "source": [
        "### SG_UF_NASC_ALUNO"
      ]
    },
    {
      "cell_type": "code",
      "execution_count": 77,
      "metadata": {
        "colab": {
          "base_uri": "https://localhost:8080/",
          "height": 1000
        },
        "id": "day2D6ddKrud",
        "outputId": "9940bd36-0452-4e08-a1bb-9fc13c9cc456"
      },
      "outputs": [
        {
          "data": {
            "text/plain": [
              "SG_UF_NASC_ALUNO\n",
              "PR     51503\n",
              "SP     13942\n",
              "MS      1071\n",
              "NaN      962\n",
              "MT       656\n",
              "MG       634\n",
              "SC       453\n",
              "RO       365\n",
              "RS       332\n",
              "RJ       324\n",
              "GO       187\n",
              "BA       138\n",
              "PA       126\n",
              "DF        88\n",
              "PE        74\n",
              "CE        65\n",
              "AM        49\n",
              "PB        40\n",
              "ES        37\n",
              "MA        31\n",
              "AL        25\n",
              "RN        25\n",
              "TO        23\n",
              "AP        17\n",
              "PI        15\n",
              "AC        15\n",
              "SE        14\n",
              "RR         6\n",
              "WP         1\n",
              "1          1\n",
              "PY         1\n",
              "5          1\n",
              "Name: count, dtype: int64"
            ]
          },
          "execution_count": 77,
          "metadata": {},
          "output_type": "execute_result"
        }
      ],
      "source": [
        "df_final['SG_UF_NASC_ALUNO'].value_counts(dropna=False)"
      ]
    },
    {
      "cell_type": "code",
      "execution_count": 78,
      "metadata": {
        "colab": {
          "base_uri": "https://localhost:8080/"
        },
        "id": "rr9iMQ7cKrue",
        "outputId": "9f445c30-6fe1-43ec-a39c-2e79436747d7"
      },
      "outputs": [
        {
          "data": {
            "text/plain": [
              "(array(['PR', 'SP', 'RS', 'PB', 'MS', 'RJ', 'SC', 'MG', nan, 'MT', 'GO',\n",
              "        'RO', 'DF', 'PA', 'PE', 'MA', 'BA', 'AL', 'AM', 'PI', 'ES', 'AC',\n",
              "        '5', 'CE', 'SE', 'AP', 'RN', '1', 'WP', 'TO', 'PY', 'RR'],\n",
              "       dtype=object),\n",
              " 32)"
            ]
          },
          "execution_count": 78,
          "metadata": {},
          "output_type": "execute_result"
        }
      ],
      "source": [
        "df_final['SG_UF_NASC_ALUNO'].unique(), len(df_final['SG_UF_NASC_ALUNO'].unique())"
      ]
    },
    {
      "cell_type": "markdown",
      "metadata": {
        "id": "3KUPHg6HKrue"
      },
      "source": [
        "Temos alguns valores que não são siglas de estados, logo devem ser tratados"
      ]
    },
    {
      "cell_type": "code",
      "execution_count": 79,
      "metadata": {
        "colab": {
          "base_uri": "https://localhost:8080/",
          "height": 81
        },
        "id": "EeVTfPsoKrue",
        "outputId": "bbdbd5c9-b845-49ac-dad7-0ea55cc6e8af"
      },
      "outputs": [
        {
          "data": {
            "text/html": [
              "<div>\n",
              "<style scoped>\n",
              "    .dataframe tbody tr th:only-of-type {\n",
              "        vertical-align: middle;\n",
              "    }\n",
              "\n",
              "    .dataframe tbody tr th {\n",
              "        vertical-align: top;\n",
              "    }\n",
              "\n",
              "    .dataframe thead th {\n",
              "        text-align: right;\n",
              "    }\n",
              "</style>\n",
              "<table border=\"1\" class=\"dataframe\">\n",
              "  <thead>\n",
              "    <tr style=\"text-align: right;\">\n",
              "      <th></th>\n",
              "      <th>CD_ORIGEM_ALUNO</th>\n",
              "      <th>LT_NACIONALIDADE</th>\n",
              "      <th>SG_UF_NASC_ALUNO</th>\n",
              "      <th>NM_CIDADE_NASC</th>\n",
              "      <th>NM_CIDADE_FERIAS</th>\n",
              "      <th>F_NM_PAIS_NASC</th>\n",
              "      <th>F_SG_UF_FERIAS</th>\n",
              "    </tr>\n",
              "  </thead>\n",
              "  <tbody>\n",
              "    <tr>\n",
              "      <th>4074</th>\n",
              "      <td>5</td>\n",
              "      <td>B</td>\n",
              "      <td>5</td>\n",
              "      <td>NaN</td>\n",
              "      <td>COLIDER</td>\n",
              "      <td>BRASIL</td>\n",
              "      <td>MT</td>\n",
              "    </tr>\n",
              "  </tbody>\n",
              "</table>\n",
              "</div>"
            ],
            "text/plain": [
              "      CD_ORIGEM_ALUNO LT_NACIONALIDADE SG_UF_NASC_ALUNO NM_CIDADE_NASC  \\\n",
              "4074                5                B                5            NaN   \n",
              "\n",
              "     NM_CIDADE_FERIAS F_NM_PAIS_NASC F_SG_UF_FERIAS  \n",
              "4074          COLIDER         BRASIL             MT  "
            ]
          },
          "execution_count": 79,
          "metadata": {},
          "output_type": "execute_result"
        }
      ],
      "source": [
        "estados_a_remover = ['5', '1', 'WP', 'PY', np.nan]\n",
        "\n",
        "df_estados_a_remover = df_final[df_final['SG_UF_NASC_ALUNO'].isin(estados_a_remover)][colunas_loc_nasc_aluno]\n",
        "\n",
        "df_estados_a_remover[df_estados_a_remover['SG_UF_NASC_ALUNO'] == '5']"
      ]
    },
    {
      "cell_type": "code",
      "execution_count": 80,
      "metadata": {
        "colab": {
          "base_uri": "https://localhost:8080/",
          "height": 424
        },
        "id": "pM2MOeZsKrue",
        "outputId": "e267cf56-b8d2-4b79-a58d-9d123274c972"
      },
      "outputs": [
        {
          "data": {
            "text/html": [
              "<div>\n",
              "<style scoped>\n",
              "    .dataframe tbody tr th:only-of-type {\n",
              "        vertical-align: middle;\n",
              "    }\n",
              "\n",
              "    .dataframe tbody tr th {\n",
              "        vertical-align: top;\n",
              "    }\n",
              "\n",
              "    .dataframe thead th {\n",
              "        text-align: right;\n",
              "    }\n",
              "</style>\n",
              "<table border=\"1\" class=\"dataframe\">\n",
              "  <thead>\n",
              "    <tr style=\"text-align: right;\">\n",
              "      <th></th>\n",
              "      <th>CD_ORIGEM_ALUNO</th>\n",
              "      <th>LT_NACIONALIDADE</th>\n",
              "      <th>SG_UF_NASC_ALUNO</th>\n",
              "      <th>NM_CIDADE_NASC</th>\n",
              "      <th>NM_CIDADE_FERIAS</th>\n",
              "      <th>F_NM_PAIS_NASC</th>\n",
              "      <th>F_SG_UF_FERIAS</th>\n",
              "    </tr>\n",
              "  </thead>\n",
              "  <tbody>\n",
              "    <tr>\n",
              "      <th>133</th>\n",
              "      <td>6</td>\n",
              "      <td>B</td>\n",
              "      <td>NaN</td>\n",
              "      <td>NaN</td>\n",
              "      <td>MARINGA</td>\n",
              "      <td>BRASIL</td>\n",
              "      <td>PR</td>\n",
              "    </tr>\n",
              "    <tr>\n",
              "      <th>1014</th>\n",
              "      <td>5</td>\n",
              "      <td>B</td>\n",
              "      <td>NaN</td>\n",
              "      <td>NaN</td>\n",
              "      <td>MARINGA</td>\n",
              "      <td>BRASIL</td>\n",
              "      <td>PR</td>\n",
              "    </tr>\n",
              "    <tr>\n",
              "      <th>2596</th>\n",
              "      <td>3</td>\n",
              "      <td>B</td>\n",
              "      <td>NaN</td>\n",
              "      <td>NaN</td>\n",
              "      <td>PRADO FERREIRA</td>\n",
              "      <td>BRASIL</td>\n",
              "      <td>PR</td>\n",
              "    </tr>\n",
              "    <tr>\n",
              "      <th>3242</th>\n",
              "      <td>3</td>\n",
              "      <td>B</td>\n",
              "      <td>NaN</td>\n",
              "      <td>NaN</td>\n",
              "      <td>NaN</td>\n",
              "      <td>BRASIL</td>\n",
              "      <td>NaN</td>\n",
              "    </tr>\n",
              "    <tr>\n",
              "      <th>3328</th>\n",
              "      <td>0</td>\n",
              "      <td>B</td>\n",
              "      <td>NaN</td>\n",
              "      <td>NaN</td>\n",
              "      <td>NaN</td>\n",
              "      <td>BRASIL</td>\n",
              "      <td>NaN</td>\n",
              "    </tr>\n",
              "    <tr>\n",
              "      <th>...</th>\n",
              "      <td>...</td>\n",
              "      <td>...</td>\n",
              "      <td>...</td>\n",
              "      <td>...</td>\n",
              "      <td>...</td>\n",
              "      <td>...</td>\n",
              "      <td>...</td>\n",
              "    </tr>\n",
              "    <tr>\n",
              "      <th>71081</th>\n",
              "      <td>0</td>\n",
              "      <td>B</td>\n",
              "      <td>NaN</td>\n",
              "      <td>NaN</td>\n",
              "      <td>MARINGA</td>\n",
              "      <td>BRASIL</td>\n",
              "      <td>PR</td>\n",
              "    </tr>\n",
              "    <tr>\n",
              "      <th>71082</th>\n",
              "      <td>0</td>\n",
              "      <td>B</td>\n",
              "      <td>NaN</td>\n",
              "      <td>NaN</td>\n",
              "      <td>MARINGA</td>\n",
              "      <td>BRASIL</td>\n",
              "      <td>PR</td>\n",
              "    </tr>\n",
              "    <tr>\n",
              "      <th>71092</th>\n",
              "      <td>0</td>\n",
              "      <td>B</td>\n",
              "      <td>NaN</td>\n",
              "      <td>NaN</td>\n",
              "      <td>MARINGA</td>\n",
              "      <td>BRASIL</td>\n",
              "      <td>PR</td>\n",
              "    </tr>\n",
              "    <tr>\n",
              "      <th>71094</th>\n",
              "      <td>0</td>\n",
              "      <td>B</td>\n",
              "      <td>NaN</td>\n",
              "      <td>NaN</td>\n",
              "      <td>NOVA ESPERANCA</td>\n",
              "      <td>BRASIL</td>\n",
              "      <td>PR</td>\n",
              "    </tr>\n",
              "    <tr>\n",
              "      <th>71174</th>\n",
              "      <td>0</td>\n",
              "      <td>B</td>\n",
              "      <td>NaN</td>\n",
              "      <td>NaN</td>\n",
              "      <td>UMUARAMA</td>\n",
              "      <td>BRASIL</td>\n",
              "      <td>PR</td>\n",
              "    </tr>\n",
              "  </tbody>\n",
              "</table>\n",
              "<p>532 rows × 7 columns</p>\n",
              "</div>"
            ],
            "text/plain": [
              "       CD_ORIGEM_ALUNO LT_NACIONALIDADE SG_UF_NASC_ALUNO NM_CIDADE_NASC  \\\n",
              "133                  6                B              NaN            NaN   \n",
              "1014                 5                B              NaN            NaN   \n",
              "2596                 3                B              NaN            NaN   \n",
              "3242                 3                B              NaN            NaN   \n",
              "3328                 0                B              NaN            NaN   \n",
              "...                ...              ...              ...            ...   \n",
              "71081                0                B              NaN            NaN   \n",
              "71082                0                B              NaN            NaN   \n",
              "71092                0                B              NaN            NaN   \n",
              "71094                0                B              NaN            NaN   \n",
              "71174                0                B              NaN            NaN   \n",
              "\n",
              "      NM_CIDADE_FERIAS F_NM_PAIS_NASC F_SG_UF_FERIAS  \n",
              "133            MARINGA         BRASIL             PR  \n",
              "1014           MARINGA         BRASIL             PR  \n",
              "2596    PRADO FERREIRA         BRASIL             PR  \n",
              "3242               NaN         BRASIL            NaN  \n",
              "3328               NaN         BRASIL            NaN  \n",
              "...                ...            ...            ...  \n",
              "71081          MARINGA         BRASIL             PR  \n",
              "71082          MARINGA         BRASIL             PR  \n",
              "71092          MARINGA         BRASIL             PR  \n",
              "71094   NOVA ESPERANCA         BRASIL             PR  \n",
              "71174         UMUARAMA         BRASIL             PR  \n",
              "\n",
              "[532 rows x 7 columns]"
            ]
          },
          "execution_count": 80,
          "metadata": {},
          "output_type": "execute_result"
        }
      ],
      "source": [
        "df_estados_a_remover[df_estados_a_remover['F_NM_PAIS_NASC'] == 'BRASIL']"
      ]
    },
    {
      "cell_type": "code",
      "execution_count": 81,
      "metadata": {
        "colab": {
          "base_uri": "https://localhost:8080/",
          "height": 272
        },
        "id": "q3nMDk5rKrue",
        "outputId": "72ff9052-e7f8-4925-a28c-b7b02cfa3f9c"
      },
      "outputs": [
        {
          "data": {
            "text/plain": [
              "SG_UF_NASC_ALUNO\n",
              "NaN    528\n",
              "5        1\n",
              "1        1\n",
              "WP       1\n",
              "PY       1\n",
              "Name: count, dtype: int64"
            ]
          },
          "execution_count": 81,
          "metadata": {},
          "output_type": "execute_result"
        }
      ],
      "source": [
        "df_estados_a_remover[df_estados_a_remover['F_NM_PAIS_NASC'] == 'BRASIL']['SG_UF_NASC_ALUNO'].value_counts(dropna=False)"
      ]
    },
    {
      "cell_type": "markdown",
      "metadata": {
        "id": "t6SAcWaDKrue"
      },
      "source": [
        "531 alunos nascidos no Brasil tem o campo SG_UF_NASC_ALUNO nulo ou com valores inválidos. Todos os valores inválidos não nulos estão com os brasileiros."
      ]
    },
    {
      "cell_type": "code",
      "execution_count": 82,
      "metadata": {
        "colab": {
          "base_uri": "https://localhost:8080/",
          "height": 774
        },
        "id": "IGjeF9URKrue",
        "outputId": "ed813b38-4cee-4c8d-a7b1-f3804099582a"
      },
      "outputs": [
        {
          "data": {
            "text/plain": [
              "NM_CIDADE_NASC\n",
              "NaN                    503\n",
              "MARINGA                  7\n",
              "ASSIS CHATEAUBRIAND      2\n",
              "SAO PAULO                2\n",
              "ALMADA                   2\n",
              "IBARAKI                  1\n",
              "ISESAKI                  1\n",
              "YUKI-SHI                 1\n",
              "SUZUKA                   1\n",
              "SANTIAGO                 1\n",
              "FUJIYOSHIDA              1\n",
              "HARUE                    1\n",
              "ALTO PARANA              1\n",
              "CIANORTE                 1\n",
              "FOZ DO IGUACU            1\n",
              "BILAC                    1\n",
              "GUAIRA                   1\n",
              "TOLEDO                   1\n",
              "CUIABA                   1\n",
              "NANCY - FRANCA           1\n",
              "OBU-SHI                  1\n",
              "Name: count, dtype: int64"
            ]
          },
          "execution_count": 82,
          "metadata": {},
          "output_type": "execute_result"
        }
      ],
      "source": [
        "df_estados_a_remover[df_estados_a_remover['F_NM_PAIS_NASC'] == 'BRASIL']['NM_CIDADE_NASC'].value_counts(dropna=False)"
      ]
    },
    {
      "cell_type": "code",
      "execution_count": 83,
      "metadata": {
        "id": "-J_YecjiKrue"
      },
      "outputs": [],
      "source": [
        "def set_SG_UF_NASC_ALUNO_1(linha):\n",
        "    if linha['NM_CIDADE_NASC'] in ['MARINGA', 'TOLEDO', 'ASSIS CHATEAUBRIAND', 'ALTO PARANA', 'CIANORTE', 'FOZ DO IGUACU', 'GUAIRA', ]:\n",
        "        return 'PR'\n",
        "    elif linha['NM_CIDADE_NASC'] in ['SAO PAULO', 'BILAC']:\n",
        "        return 'SP'\n",
        "    elif linha['NM_CIDADE_NASC'] in ['CUIABA']:\n",
        "        return 'MT'\n",
        "    elif not pd.isna(linha['SG_UF_NASC_ALUNO']):\n",
        "        return linha['SG_UF_NASC_ALUNO']\n",
        "    else:\n",
        "        return np.nan"
      ]
    },
    {
      "cell_type": "code",
      "execution_count": 84,
      "metadata": {
        "id": "iLHm7mGRKrue"
      },
      "outputs": [],
      "source": [
        "df_final['F_SG_UF_NASC_ALUNO'] = df_final.apply(set_SG_UF_NASC_ALUNO_1, axis=1)"
      ]
    },
    {
      "cell_type": "code",
      "execution_count": 85,
      "metadata": {
        "colab": {
          "base_uri": "https://localhost:8080/",
          "height": 1000
        },
        "id": "nNdlEbK8Krue",
        "outputId": "b9349760-4177-4a6b-bc7a-e607a15abf16"
      },
      "outputs": [
        {
          "data": {
            "text/plain": [
              "F_SG_UF_NASC_ALUNO\n",
              "PR     51547\n",
              "SP     13934\n",
              "MS      1069\n",
              "NaN      935\n",
              "MT       658\n",
              "MG       632\n",
              "SC       453\n",
              "RO       362\n",
              "RS       331\n",
              "RJ       324\n",
              "GO       187\n",
              "BA       138\n",
              "PA       126\n",
              "DF        87\n",
              "PE        74\n",
              "CE        65\n",
              "AM        47\n",
              "PB        40\n",
              "ES        37\n",
              "MA        31\n",
              "AL        25\n",
              "RN        25\n",
              "TO        23\n",
              "AP        17\n",
              "PI        15\n",
              "AC        15\n",
              "SE        14\n",
              "RR         6\n",
              "WP         1\n",
              "1          1\n",
              "PY         1\n",
              "5          1\n",
              "Name: count, dtype: int64"
            ]
          },
          "execution_count": 85,
          "metadata": {},
          "output_type": "execute_result"
        }
      ],
      "source": [
        "df_final['F_SG_UF_NASC_ALUNO'].value_counts(dropna=False)"
      ]
    },
    {
      "cell_type": "code",
      "execution_count": 86,
      "metadata": {
        "id": "F9OlKlVGKrue"
      },
      "outputs": [],
      "source": [
        "def set_SG_UF_NASC_ALUNO_2(linha, df_estados_municipios=df_estados_municipios, estados_a_remover=estados_a_remover):\n",
        "    if pd.isna(linha['F_SG_UF_NASC_ALUNO']):\n",
        "        try:\n",
        "            return df_estados_municipios[df_estados_municipios['nome'] == linha['NM_CIDADE_NASC']]['uf'].values[0]\n",
        "\n",
        "        except:\n",
        "            return linha['F_SG_UF_NASC_ALUNO']\n",
        "    else:\n",
        "        return linha['F_SG_UF_NASC_ALUNO']"
      ]
    },
    {
      "cell_type": "code",
      "execution_count": 87,
      "metadata": {
        "id": "-eret_M_Krue"
      },
      "outputs": [],
      "source": [
        "df_final['F_SG_UF_NASC_ALUNO'] = df_final.apply(set_SG_UF_NASC_ALUNO_2, axis=1)"
      ]
    },
    {
      "cell_type": "code",
      "execution_count": 88,
      "metadata": {
        "colab": {
          "base_uri": "https://localhost:8080/"
        },
        "id": "9ISTmPfgKrue",
        "outputId": "68399ec3-42e2-4290-e762-1d71b70312a3"
      },
      "outputs": [
        {
          "data": {
            "text/plain": [
              "921"
            ]
          },
          "execution_count": 88,
          "metadata": {},
          "output_type": "execute_result"
        }
      ],
      "source": [
        "df_final[df_final['F_SG_UF_NASC_ALUNO'].isna()].shape[0]"
      ]
    },
    {
      "cell_type": "code",
      "execution_count": 89,
      "metadata": {
        "id": "a7ezZVnuKrue"
      },
      "outputs": [],
      "source": [
        "colunas_a_remover.append('SG_UF_NASC_ALUNO')\n",
        "colunas_loc_nasc_aluno.remove('SG_UF_NASC_ALUNO')\n",
        "colunas_loc_nasc_aluno.append('F_SG_UF_NASC_ALUNO')"
      ]
    },
    {
      "cell_type": "markdown",
      "metadata": {
        "id": "tXxTbSlQKrue"
      },
      "source": [
        "Essas colunas de localização ainda posso refinar mais..."
      ]
    },
    {
      "cell_type": "markdown",
      "metadata": {
        "id": "0Y68INEQKruf"
      },
      "source": [
        "### ST_ALUNO"
      ]
    },
    {
      "cell_type": "markdown",
      "metadata": {
        "id": "a4rdTyjXKruf"
      },
      "source": [
        "NaN - **NÃO EVASÃO / MATRICULADO** - Matriculado(a)\n",
        "\n",
        "0 - **EVASÃO / CANCELAMENTO** - Matrícula Cancelada pela UEM\n",
        "\n",
        "1 - **NÃO EVASÃO / MATRICULADO** Trancado(a)\n",
        "\n",
        "2 - **EVASÃO / CANCELAMENTO** - Matrícula Cancelada (Pelo aluno)\n",
        "\n",
        "4 - **EVASÃO / TRANSFERÊNCIA** - Transferido de Curso (Outro campus)\n",
        "\n",
        "6 - **EVASÃO / TRANSFERÊNCIA** - Transferido de IES\n",
        "\n",
        "7 - **NÃO EVASÃO / FORMADO** - Formado(a)\n",
        "\n",
        "8 - **EVASÃO / CANCELAMENTO** - Cancelado por Abandono\n",
        "\n",
        "9 - **NÃO EVASÃO / JUBILADO** - Jubilado(a)\n",
        "\n",
        "B - **NÃO EVASÃO / MATRICULADO** - Transferido de Campus\n",
        "\n",
        "F - **NÃO EVASÃO / MATRICULADO** - Permuta Campus (Mesmo curso)\n",
        "\n",
        "H - **EVASÃO / TRANSFERÊNCIA** - Permuta Campus (Outro curso)\n",
        "\n",
        "I - **NÃO EVASÃO / FALECIDO** - Falecido(a)\n",
        "\n",
        "J - **EVASÃO / CANCELAMENTO** - Matrícula Cancelada (Reprovação por falta por dois anos consecutivos)\n",
        "\n",
        "K - **EVASÃO / CANCELAMENTO** - Matrícula Cancelada (Reprovação por nota duas vezes consecutivas – Regimento antigo)\n",
        "\n",
        "M - **NÃO EVASÃO / MATRICULADO** - Em Mobilidade Estudantil\n",
        "\n",
        "O - **EVASÃO / TRANSFERÊNCIA** - ND - Situação lançada em meados de 2001 para alunos com ocorrência de “Transferência interna de curso”. Pode incluir outras situações\n",
        "\n",
        "P - **EVASÃO / TRANSFERÊNCIA** - Transferido de Curso (Mesmo campus)\n",
        "\n"
      ]
    },
    {
      "cell_type": "code",
      "execution_count": 90,
      "metadata": {
        "id": "S7YYVScbKruf"
      },
      "outputs": [],
      "source": [
        "st_evasao = ['0', '2', '4', '6', '8', 'P', 'O', 'K', 'J', 'H']\n",
        "st_nao_evasao = [np.nan, '1', '9', 'B', 'F', 'M', '7']\n",
        "\n",
        "st_cancelamento = ['0', '2', '8', 'J', 'K']\n",
        "st_transferencia = ['4', '6', 'H', 'O', 'P']\n",
        "st_matriculado = [np.nan, '1', 'B', 'F' , 'M']\n",
        "st_formado = ['7']\n",
        "st_jubilado = ['9']\n",
        "st_falecido = ['I']"
      ]
    },
    {
      "cell_type": "code",
      "execution_count": 91,
      "metadata": {
        "colab": {
          "base_uri": "https://localhost:8080/"
        },
        "id": "d-izaHT-Kruf",
        "outputId": "99cd1c2c-38c8-44c7-f488-638a9194d5ba"
      },
      "outputs": [
        {
          "data": {
            "text/plain": [
              "26932"
            ]
          },
          "execution_count": 91,
          "metadata": {},
          "output_type": "execute_result"
        }
      ],
      "source": [
        "df_final[df_final['ST_ALUNO'].isin(st_evasao) == True].shape[0]"
      ]
    },
    {
      "cell_type": "code",
      "execution_count": 92,
      "metadata": {
        "id": "gN_0HV-9Kruf"
      },
      "outputs": [],
      "source": [
        "def set_BOOL_TRANCADO(linha):\n",
        "    if linha['ST_ALUNO'] == '1':\n",
        "        return 1\n",
        "    return 0"
      ]
    },
    {
      "cell_type": "code",
      "execution_count": 93,
      "metadata": {
        "id": "-fA133XVKruf"
      },
      "outputs": [],
      "source": [
        "df_final['BOOL_TRANCADO'] = df_final.apply(set_BOOL_TRANCADO, axis=1)"
      ]
    },
    {
      "cell_type": "code",
      "execution_count": 94,
      "metadata": {
        "id": "rb14U8azKruf"
      },
      "outputs": [],
      "source": [
        "def set_BOOL_ST_ALUNO(linha:pd.Series) -> int:\n",
        "    if linha['ST_ALUNO'] in st_evasao:\n",
        "        return 1\n",
        "    elif linha['ST_ALUNO'] in st_nao_evasao:\n",
        "        return 0"
      ]
    },
    {
      "cell_type": "code",
      "execution_count": 95,
      "metadata": {
        "id": "Ww30ZOqFKruf"
      },
      "outputs": [],
      "source": [
        "df_final['BOOL_ST_ALUNO'] = df_final.apply(set_BOOL_ST_ALUNO, axis=1)"
      ]
    },
    {
      "cell_type": "code",
      "execution_count": 96,
      "metadata": {
        "id": "FCsCUhf-Kruf"
      },
      "outputs": [],
      "source": [
        "def set_MULTI_ST_ALUNO(linha:pd.Series) -> str:\n",
        "    if linha['ST_ALUNO'] in st_formado:\n",
        "        return 'FORMADO'\n",
        "    elif linha['ST_ALUNO'] in st_cancelamento:\n",
        "        return 'CANCELAMENTO'\n",
        "    elif linha['ST_ALUNO'] in st_matriculado:\n",
        "        return 'MATRICULADO'\n",
        "    elif linha['ST_ALUNO'] in st_jubilado:\n",
        "        return 'JUBILADO'\n",
        "    elif linha['ST_ALUNO'] in st_transferencia:\n",
        "        return 'TRANSFERENCIA'\n",
        "    elif linha['ST_ALUNO'] in st_falecido:\n",
        "        return 'FALECIDO'\n"
      ]
    },
    {
      "cell_type": "code",
      "execution_count": 97,
      "metadata": {
        "id": "mqEVYxqMKruf"
      },
      "outputs": [],
      "source": [
        "df_final['MULTI_ST_ALUNO'] = df_final.apply(set_MULTI_ST_ALUNO, axis=1)"
      ]
    },
    {
      "cell_type": "code",
      "execution_count": 98,
      "metadata": {
        "colab": {
          "base_uri": "https://localhost:8080/",
          "height": 210
        },
        "id": "13rU50eVKruf",
        "outputId": "9e5e6a6b-0e3a-4c1f-87a5-e6d9d55e3278"
      },
      "outputs": [
        {
          "data": {
            "text/plain": [
              "BOOL_ST_ALUNO\n",
              "0.0    44241\n",
              "1.0    26932\n",
              "NaN       48\n",
              "Name: count, dtype: int64"
            ]
          },
          "execution_count": 98,
          "metadata": {},
          "output_type": "execute_result"
        }
      ],
      "source": [
        "df_final['BOOL_ST_ALUNO'].value_counts(dropna=False)"
      ]
    },
    {
      "cell_type": "markdown",
      "metadata": {
        "id": "l7KwxTpeKruf"
      },
      "source": [
        "Esses NaN são os falecidos."
      ]
    },
    {
      "cell_type": "code",
      "execution_count": 99,
      "metadata": {
        "colab": {
          "base_uri": "https://localhost:8080/",
          "height": 178
        },
        "id": "770z4vvHKrug",
        "outputId": "5b8e1fc8-a759-49d9-9fc0-7e73f01cdb86"
      },
      "outputs": [
        {
          "data": {
            "text/plain": [
              "BOOL_ST_ALUNO\n",
              "0.0    62.159808\n",
              "1.0    37.840192\n",
              "Name: proportion, dtype: float64"
            ]
          },
          "execution_count": 99,
          "metadata": {},
          "output_type": "execute_result"
        }
      ],
      "source": [
        "df_final['BOOL_ST_ALUNO'].value_counts(normalize=True) * 100"
      ]
    },
    {
      "cell_type": "code",
      "execution_count": 100,
      "metadata": {
        "colab": {
          "base_uri": "https://localhost:8080/"
        },
        "id": "4hoTkwGHKrug",
        "outputId": "76c19280-0b59-4fb8-c235-52ea1cb17a17"
      },
      "outputs": [
        {
          "name": "stdout",
          "output_type": "stream",
          "text": [
            "Percentual de evadidos: 37.81%\n",
            "Percentual de não evadidos: 62.12%\n"
          ]
        }
      ],
      "source": [
        "pct_evadidos = df_final[df_final['BOOL_ST_ALUNO'] == 1].shape[0] / df_final.shape[0] * 100\n",
        "pct_nao_evadidos = df_final[df_final['BOOL_ST_ALUNO'] == 0].shape[0] / df_final.shape[0] * 100\n",
        "\n",
        "print(f'Percentual de evadidos: {pct_evadidos:.2f}%')\n",
        "print(f'Percentual de não evadidos: {pct_nao_evadidos:.2f}%')"
      ]
    },
    {
      "cell_type": "code",
      "execution_count": 101,
      "metadata": {
        "colab": {
          "base_uri": "https://localhost:8080/",
          "height": 304
        },
        "id": "gEVLbnWGKrug",
        "outputId": "010a55a0-8db0-439d-cf58-8b2f8fdb8cd5"
      },
      "outputs": [
        {
          "data": {
            "text/plain": [
              "MULTI_ST_ALUNO\n",
              "FORMADO          34016\n",
              "CANCELAMENTO     26086\n",
              "MATRICULADO       8981\n",
              "JUBILADO          1244\n",
              "TRANSFERENCIA      846\n",
              "FALECIDO            48\n",
              "Name: count, dtype: int64"
            ]
          },
          "execution_count": 101,
          "metadata": {},
          "output_type": "execute_result"
        }
      ],
      "source": [
        "df_final['MULTI_ST_ALUNO'].value_counts(dropna=False)"
      ]
    },
    {
      "cell_type": "code",
      "execution_count": 102,
      "metadata": {
        "colab": {
          "base_uri": "https://localhost:8080/",
          "height": 304
        },
        "id": "mogWUkLWKrug",
        "outputId": "8299a1a7-6f19-451a-edca-1fcf94cefcbb"
      },
      "outputs": [
        {
          "data": {
            "text/plain": [
              "MULTI_ST_ALUNO\n",
              "FORMADO          47.761194\n",
              "CANCELAMENTO     36.626838\n",
              "MATRICULADO      12.610045\n",
              "JUBILADO          1.746676\n",
              "TRANSFERENCIA     1.187852\n",
              "FALECIDO          0.067396\n",
              "Name: proportion, dtype: float64"
            ]
          },
          "execution_count": 102,
          "metadata": {},
          "output_type": "execute_result"
        }
      ],
      "source": [
        "df_final['MULTI_ST_ALUNO'].value_counts(normalize=True) * 100"
      ]
    },
    {
      "cell_type": "code",
      "execution_count": 103,
      "metadata": {
        "colab": {
          "base_uri": "https://localhost:8080/"
        },
        "id": "2cLalRkKKrug",
        "outputId": "34bd8d19-089f-4d2d-c57b-6825c8a876fe"
      },
      "outputs": [
        {
          "name": "stdout",
          "output_type": "stream",
          "text": [
            "Percentual de FORMADOS: 47.76%\n",
            "Percentual de CANCELADOS: 36.63%\n",
            "Percentual de MATRICULADOS: 12.61%\n",
            "Percentual de JUBILADOS: 1.75%\n",
            "Percentual de TRANSFERIDOS: 1.19%\n",
            "Percentual de FALECIDOS: 0.07%\n"
          ]
        }
      ],
      "source": [
        "pct_formados = df_final[df_final['MULTI_ST_ALUNO'] == 'FORMADO'].shape[0] / df_final.shape[0] * 100\n",
        "pct_cancelados = df_final[df_final['MULTI_ST_ALUNO'] == 'CANCELAMENTO'].shape[0] / df_final.shape[0] * 100\n",
        "pct_matriculados = df_final[df_final['MULTI_ST_ALUNO'] == 'MATRICULADO'].shape[0] / df_final.shape[0] * 100\n",
        "pct_jubilados = df_final[df_final['MULTI_ST_ALUNO'] == 'JUBILADO'].shape[0] / df_final.shape[0] * 100\n",
        "pct_transferidos = df_final[df_final['MULTI_ST_ALUNO'] == 'TRANSFERENCIA'].shape[0] / df_final.shape[0] * 100\n",
        "pct_falecidos = df_final[df_final['MULTI_ST_ALUNO'] == 'FALECIDO'].shape[0] / df_final.shape[0] * 100\n",
        "\n",
        "print(f'Percentual de FORMADOS: {pct_formados:.2f}%')\n",
        "print(f'Percentual de CANCELADOS: {pct_cancelados:.2f}%')\n",
        "print(f'Percentual de MATRICULADOS: {pct_matriculados:.2f}%')\n",
        "print(f'Percentual de JUBILADOS: {pct_jubilados:.2f}%')\n",
        "print(f'Percentual de TRANSFERIDOS: {pct_transferidos:.2f}%')\n",
        "print(f'Percentual de FALECIDOS: {pct_falecidos:.2f}%')"
      ]
    },
    {
      "cell_type": "markdown",
      "metadata": {
        "id": "vBU7nuTFKrug"
      },
      "source": [
        "Série temporal - evadidos no decorrer do tempo"
      ]
    },
    {
      "cell_type": "markdown",
      "metadata": {
        "id": "vbg-U-JbKrug"
      },
      "source": [
        "### TP_DEFIC_INEP"
      ]
    },
    {
      "cell_type": "code",
      "execution_count": 104,
      "metadata": {
        "colab": {
          "base_uri": "https://localhost:8080/"
        },
        "id": "AmAb5UnMKrug",
        "outputId": "1825f29c-47e1-4a10-9c46-3a9abb5e1f43"
      },
      "outputs": [
        {
          "data": {
            "text/plain": [
              "array(['NNNNNNNN', nan, 'NNNSNNNN', 'NNNNNNNNNNNNN', 'SNNNNNNN',\n",
              "       'SNSSNNNN', 'NNSNNNNN', 'SNSNNNNN', 'SNNNNNNNNNNNN', 'NNSSNNNN',\n",
              "       'NNNNNSNN', 'NNNNNNNNSSNNN', 'SNNSNNNN', 'NNNNNNNNSNNNN',\n",
              "       'SSNNNNNN', 'NSNNNNNN', 'NNSNNNSN', 'SNNNSNNN', 'NNNSNNNNNNNNN',\n",
              "       'NNNNNNSN', 'NNSNNNNNNNNNN', 'NNNNSNNN', 'NNSNNNSNNNNNN',\n",
              "       'SSNNNNNNNNNNN', 'NNNNNNNNSNNSN', 'NNNNSNNNNNNNN', 'NNNNNNNNNNNSN',\n",
              "       'NNNNNNNNNSNNN', 'SNNNNNNNNNNSN', 'NNNNNNNNSSNSN', 'NSNNNNNNNNNNN',\n",
              "       'SNNNSSNN'], dtype=object)"
            ]
          },
          "execution_count": 104,
          "metadata": {},
          "output_type": "execute_result"
        }
      ],
      "source": [
        "df_final['TP_DEFIC_INEP'].unique()"
      ]
    },
    {
      "cell_type": "code",
      "execution_count": 105,
      "metadata": {
        "colab": {
          "base_uri": "https://localhost:8080/",
          "height": 1000
        },
        "id": "8Vk0ElEfKrug",
        "outputId": "e25400c7-603d-49d2-e0a3-0d112435f718"
      },
      "outputs": [
        {
          "data": {
            "text/plain": [
              "TP_DEFIC_INEP\n",
              "NNNNNNNN         49921\n",
              "NaN              16099\n",
              "NNNNNNNNNNNNN     4027\n",
              "SNNNNNNN           873\n",
              "NNNSNNNN            77\n",
              "NNSNNNNN            63\n",
              "SNNNNNNNNNNNN       55\n",
              "NNNNNNNNNNNSN       13\n",
              "NNNSNNNNNNNNN       13\n",
              "NNNNSNNN            12\n",
              "SNSNNNNN             9\n",
              "SNNSNNNN             7\n",
              "NNNNNNNNNSNNN        7\n",
              "NNSNNNNNNNNNN        6\n",
              "NNNNNNNNSNNNN        6\n",
              "NSNNNNNN             6\n",
              "NNNNSNNNNNNNN        4\n",
              "NNNNNNNNSSNNN        3\n",
              "SSNNNNNN             3\n",
              "NNSNNNSNNNNNN        2\n",
              "NNSNNNSN             2\n",
              "SNNNSNNN             2\n",
              "NNSSNNNN             2\n",
              "NNNNNNSN             1\n",
              "SSNNNNNNNNNNN        1\n",
              "NNNNNNNNSNNSN        1\n",
              "NNNNNSNN             1\n",
              "SNSSNNNN             1\n",
              "SNNNNNNNNNNSN        1\n",
              "NNNNNNNNSSNSN        1\n",
              "NSNNNNNNNNNNN        1\n",
              "SNNNSSNN             1\n",
              "Name: count, dtype: int64"
            ]
          },
          "execution_count": 105,
          "metadata": {},
          "output_type": "execute_result"
        }
      ],
      "source": [
        "df_final['TP_DEFIC_INEP'].value_counts(dropna=False)"
      ]
    },
    {
      "cell_type": "markdown",
      "metadata": {
        "id": "dfzN0vnqKruh"
      },
      "source": [
        "Como a maioria não tem deficiência, criar coluna boolrana para tem/não tem"
      ]
    },
    {
      "cell_type": "code",
      "execution_count": 106,
      "metadata": {
        "colab": {
          "base_uri": "https://localhost:8080/",
          "height": 178
        },
        "id": "2C0vXvpNKruh",
        "outputId": "d498ca3c-f241-4896-8dd2-d983eb9614e6"
      },
      "outputs": [
        {
          "data": {
            "text/plain": [
              "TP_DEFIC_INEP\n",
              "False    70047\n",
              "True      1174\n",
              "Name: count, dtype: int64"
            ]
          },
          "execution_count": 106,
          "metadata": {},
          "output_type": "execute_result"
        }
      ],
      "source": [
        "df_final['TP_DEFIC_INEP'].fillna('NNNNNNNN').replace({r'[.*S+.*]' : True,\n",
        "                                                      'NNNNNNNN' : False,\n",
        "                                                      'NNNNNNNNNNNNN' : False}, regex=True).value_counts(dropna=False)"
      ]
    },
    {
      "cell_type": "markdown",
      "metadata": {
        "id": "yxBUXa5QKruh"
      },
      "source": [
        "Validado acima"
      ]
    },
    {
      "cell_type": "code",
      "execution_count": 107,
      "metadata": {
        "id": "fj6kuKkRKruh"
      },
      "outputs": [],
      "source": [
        "df_final['BOOL_DEFIC_INEP'] = df_final['TP_DEFIC_INEP'].fillna('NNNNNNNN').replace({r'[.*S+.*]' : True,\n",
        "                                                      'NNNNNNNN' : False,\n",
        "                                                      'NNNNNNNNNNNNN' : False}, regex=True)"
      ]
    },
    {
      "cell_type": "code",
      "execution_count": 108,
      "metadata": {
        "colab": {
          "base_uri": "https://localhost:8080/",
          "height": 178
        },
        "id": "ovL4ge4IKruh",
        "outputId": "bc72b6a6-93bf-42c3-c88c-f88864996200"
      },
      "outputs": [
        {
          "data": {
            "text/plain": [
              "BOOL_DEFIC_INEP\n",
              "False    70047\n",
              "True      1174\n",
              "Name: count, dtype: int64"
            ]
          },
          "execution_count": 108,
          "metadata": {},
          "output_type": "execute_result"
        }
      ],
      "source": [
        "df_final['BOOL_DEFIC_INEP'].value_counts(dropna=False)"
      ]
    },
    {
      "cell_type": "markdown",
      "metadata": {
        "id": "MhNj7TjNKruh"
      },
      "source": [
        "### TP_ESCOLA"
      ]
    },
    {
      "cell_type": "code",
      "execution_count": 109,
      "metadata": {
        "colab": {
          "base_uri": "https://localhost:8080/",
          "height": 429
        },
        "id": "J7QggHWHKruh",
        "outputId": "689cc2ca-c3ca-4fe3-d6fb-d16b4936db91"
      },
      "outputs": [
        {
          "data": {
            "text/plain": [
              "TP_ESCOLA\n",
              "GI     33592\n",
              "P      27342\n",
              "E       4467\n",
              "GP      3392\n",
              "NaN     1154\n",
              "SG       776\n",
              "SP       266\n",
              "F        107\n",
              "EX        91\n",
              "M         34\n",
              "Name: count, dtype: int64"
            ]
          },
          "execution_count": 109,
          "metadata": {},
          "output_type": "execute_result"
        }
      ],
      "source": [
        "df_final['TP_ESCOLA'].value_counts(dropna=False)"
      ]
    },
    {
      "cell_type": "markdown",
      "metadata": {
        "id": "NvfTvI_gKruh"
      },
      "source": [
        "Os tipos F, E e M não são mais utilizados. Vou agregar todos em uma única categoria 'G'. Quanto aos nulos, não há o que fazer."
      ]
    },
    {
      "cell_type": "code",
      "execution_count": 110,
      "metadata": {
        "id": "iE1SdymOKruh"
      },
      "outputs": [],
      "source": [
        "df_final['F_TP_ESCOLA'] = df_final['TP_ESCOLA'].replace({'E' : 'G', 'M' : 'G', 'F' : 'G'})"
      ]
    },
    {
      "cell_type": "code",
      "execution_count": 111,
      "metadata": {
        "colab": {
          "base_uri": "https://localhost:8080/",
          "height": 366
        },
        "id": "eyq7EKAZKruh",
        "outputId": "96e34252-b41f-4d4b-d6f5-b12110828167"
      },
      "outputs": [
        {
          "data": {
            "text/plain": [
              "F_TP_ESCOLA\n",
              "GI     33592\n",
              "P      27342\n",
              "G       4608\n",
              "GP      3392\n",
              "NaN     1154\n",
              "SG       776\n",
              "SP       266\n",
              "EX        91\n",
              "Name: count, dtype: int64"
            ]
          },
          "execution_count": 111,
          "metadata": {},
          "output_type": "execute_result"
        }
      ],
      "source": [
        "df_final['F_TP_ESCOLA'].value_counts(dropna=False)"
      ]
    },
    {
      "cell_type": "code",
      "execution_count": 112,
      "metadata": {
        "id": "uTBx2mi1Krui"
      },
      "outputs": [],
      "source": [
        "colunas_a_remover.append('TP_ESCOLA')"
      ]
    },
    {
      "cell_type": "markdown",
      "metadata": {
        "id": "mIUUOs65Krui"
      },
      "source": [
        "### TP_INGRES_CURSO"
      ]
    },
    {
      "cell_type": "code",
      "execution_count": 113,
      "metadata": {
        "id": "PI8siyGfKrui"
      },
      "outputs": [],
      "source": [
        "colunas_a_remover.append('TP_INGRES_CURSO')"
      ]
    },
    {
      "cell_type": "markdown",
      "metadata": {
        "id": "ZHdFHUpBKrui"
      },
      "source": [
        "Provavelmente não será utilizada da forma como está, muitos valores.\n",
        "\n",
        "Agrupá-los de alguma forma. A coluna NU_SEMESTRE2_VEST já é essa agrupada.\n",
        "\n",
        "Valores e grupos de TP_INGRESS_CURSO quando NU_SEMESTRE2_VEST."
      ]
    },
    {
      "cell_type": "markdown",
      "metadata": {
        "id": "4tNo9fn8Krui"
      },
      "source": [
        "5 - PORTADOR DE DIPLOMA PARA OUTRO CURSO\n",
        "6 - PORTADOR DE DIPLOMA PARA NOVA HABILITACAO\n",
        "32 - NOVA HABILITAÇÃO - CONTINUIDADE\n",
        "\n",
        "7 - CONVENIO CULTURAL\n",
        "\n",
        "3 - TRANSFERENCIA EXTERNA\n",
        "4 - TRANSFERENCIA EX-OFFICIO\n",
        "8 - TRANSFERENCIA INTERNA DE CURSO\n",
        "10 - TRANSFERENCIA DE CAMPUS PARA MESMO CURSO\n",
        "11 - TRANSFERENCIA DE CAMPUS PARA OUTRO CURSO\n",
        "26 - PERMUTA DE CAMPUS\n",
        "53 - TRANSFERENCIA INTERNA INDIGENA\n",
        "56 - TRANSFERENCIA EXTERNA INDIGENA\n",
        "\n",
        "1 - VESTIBULAR\n",
        "12 - PROCESSO SELETIVO\n",
        "16 - VESTIBULAR - 2 CHAMADA EXTRAORDINARIA\n",
        "19 - VESTIBULAR - 5 CHAMADA EXTRAORDINARIA\n",
        "22 - CONCURSO VESTIBULAR - INDIGENA\n",
        "24 - VESTIBULAR - 6 CHAMADA EXTRAORDINARIA\n",
        "29 - VESTIBULAR - 3 CHAMADA\n",
        "\n",
        "27 - MATRICULA SUB-JUDICE"
      ]
    },
    {
      "cell_type": "markdown",
      "metadata": {
        "id": "EPKjdMObKrui"
      },
      "source": [
        "### TP_OPCAO_COTAS"
      ]
    },
    {
      "cell_type": "code",
      "execution_count": 114,
      "metadata": {
        "colab": {
          "base_uri": "https://localhost:8080/",
          "height": 304
        },
        "id": "cHDwkhSPKrui",
        "outputId": "2fd965a4-229d-425f-9356-125be90ffdee"
      },
      "outputs": [
        {
          "data": {
            "text/plain": [
              "TP_OPCAO_COTAS\n",
              "N      62808\n",
              "S       5862\n",
              "NaN     2277\n",
              "O        127\n",
              "G        126\n",
              "F         21\n",
              "Name: count, dtype: int64"
            ]
          },
          "execution_count": 114,
          "metadata": {},
          "output_type": "execute_result"
        }
      ],
      "source": [
        "df_final['TP_OPCAO_COTAS'].value_counts(dropna=False)"
      ]
    },
    {
      "cell_type": "markdown",
      "metadata": {
        "id": "PgUbYpmYKrui"
      },
      "source": [
        "Os nulos aqui são não informado. Vou considerar sem cotas, universal"
      ]
    },
    {
      "cell_type": "code",
      "execution_count": 115,
      "metadata": {
        "id": "5yE3vPhYKrui"
      },
      "outputs": [],
      "source": [
        "df_final['F_TP_OPCAO_COTAS'] = df_final['TP_OPCAO_COTAS'].fillna('N')"
      ]
    },
    {
      "cell_type": "code",
      "execution_count": 116,
      "metadata": {
        "id": "WImHEOo-Krui"
      },
      "outputs": [],
      "source": [
        "colunas_a_remover.append('TP_OPCAO_COTAS')"
      ]
    },
    {
      "cell_type": "markdown",
      "metadata": {
        "id": "MzhBEgv9Krui"
      },
      "source": [
        "Criando uma coluna booleana de cotas"
      ]
    },
    {
      "cell_type": "code",
      "execution_count": 117,
      "metadata": {
        "id": "uGAB9EjYKrui"
      },
      "outputs": [],
      "source": [
        "df_final['BOOL_COTAS'] = df_final['F_TP_OPCAO_COTAS'].apply(lambda x: 0 if x == 'N' else 1)"
      ]
    },
    {
      "cell_type": "code",
      "execution_count": 118,
      "metadata": {
        "colab": {
          "base_uri": "https://localhost:8080/",
          "height": 178
        },
        "id": "Goe1Gw4UKrui",
        "outputId": "918ad495-84f7-4830-e3e9-29f884c1365b"
      },
      "outputs": [
        {
          "data": {
            "text/plain": [
              "BOOL_COTAS\n",
              "0    65085\n",
              "1     6136\n",
              "Name: count, dtype: int64"
            ]
          },
          "execution_count": 118,
          "metadata": {},
          "output_type": "execute_result"
        }
      ],
      "source": [
        "df_final['BOOL_COTAS'].value_counts(dropna=False)"
      ]
    },
    {
      "cell_type": "markdown",
      "metadata": {
        "id": "RDdJSzpgKrui"
      },
      "source": [
        "# Colunas"
      ]
    },
    {
      "cell_type": "code",
      "execution_count": 119,
      "metadata": {
        "colab": {
          "base_uri": "https://localhost:8080/"
        },
        "id": "TynLEogwKrui",
        "outputId": "275eb9b9-235b-40d0-e3e4-173602e8afa7"
      },
      "outputs": [
        {
          "data": {
            "text/plain": [
              "Index(['ANO_OCORRENCIA', 'CD_ALUNO', 'CD_CURSO', 'CD_ORIGEM_ALUNO', 'CD_TURNO',\n",
              "       'DE_NATURALIDADE', 'DH_MATRICULA', 'DH_SITUACAO', 'DT_ANO_INGRES',\n",
              "       'DT_NASC_ALUNO', 'LT_ESTADO_CIVIL', 'LT_MODALIDADE', 'LT_NACIONALIDADE',\n",
              "       'LT_RACA', 'NM_CIDADE_AULA', 'NM_CIDADE_EST2GRAU', 'NM_CIDADE_FERIAS',\n",
              "       'NM_CIDADE_NASC', 'NM_PAIS_NASC', 'NU_SEMESTRE2_VEST', 'SG_SEXO_ALUNO',\n",
              "       'SG_UF_AULA', 'SG_UF_EST2GRAU', 'SG_UF_FERIAS', 'SG_UF_NASC_ALUNO',\n",
              "       'ST_ALUNO', 'TP_DEFIC_INEP', 'TP_ESCOLA', 'TP_INGRES_CURSO',\n",
              "       'TP_OPCAO_COTAS', 'F_CD_ORIGEM_ALUNO', 'F_DT_NASC_ALUNO',\n",
              "       'F_NM_PAIS_NASC', 'F_NU_SEMESTRE2_VEST', 'F_SG_UF_FERIAS',\n",
              "       'F_SG_UF_NASC_ALUNO', 'BOOL_TRANCADO', 'BOOL_ST_ALUNO',\n",
              "       'MULTI_ST_ALUNO', 'BOOL_DEFIC_INEP', 'F_TP_ESCOLA', 'F_TP_OPCAO_COTAS',\n",
              "       'BOOL_COTAS'],\n",
              "      dtype='object')"
            ]
          },
          "execution_count": 119,
          "metadata": {},
          "output_type": "execute_result"
        }
      ],
      "source": [
        "df_final.columns"
      ]
    },
    {
      "cell_type": "markdown",
      "metadata": {
        "id": "CKgQUo5hKrui"
      },
      "source": [
        "Idade no ingresso\n",
        "\n",
        "Morar ou não na cidade do campus\n",
        "\n",
        "Ser de outros estado\n",
        "\n"
      ]
    },
    {
      "cell_type": "markdown",
      "metadata": {
        "id": "3vJxGsf6Krui"
      },
      "source": [
        "# MEDIDAS"
      ]
    },
    {
      "cell_type": "code",
      "execution_count": 147,
      "metadata": {},
      "outputs": [
        {
          "name": "stderr",
          "output_type": "stream",
          "text": [
            "C:\\Users\\romul\\AppData\\Local\\Temp\\ipykernel_15716\\761581769.py:1: DtypeWarning: Columns (5) have mixed types. Specify dtype option on import or set low_memory=False.\n",
            "  df_merge = pd.read_csv('arquivos\\dadosalunos-limpo.csv')\n"
          ]
        }
      ],
      "source": [
        "df_merge = pd.read_csv('arquivos\\dadosalunos-limpo.csv')"
      ]
    },
    {
      "cell_type": "markdown",
      "metadata": {
        "id": "f3K0WA3UKrui"
      },
      "source": [
        "### Idade na matrícula"
      ]
    },
    {
      "cell_type": "code",
      "execution_count": 106,
      "metadata": {
        "id": "BIsY8NKIKruj"
      },
      "outputs": [],
      "source": [
        "from datetime import datetime, timedelta"
      ]
    },
    {
      "cell_type": "code",
      "execution_count": 107,
      "metadata": {
        "colab": {
          "base_uri": "https://localhost:8080/",
          "height": 73
        },
        "id": "Z2HrK4KNKruj",
        "outputId": "ec3884d9-1c2a-4760-a473-fa27268c9ceb"
      },
      "outputs": [
        {
          "data": {
            "text/html": [
              "<div>\n",
              "<style scoped>\n",
              "    .dataframe tbody tr th:only-of-type {\n",
              "        vertical-align: middle;\n",
              "    }\n",
              "\n",
              "    .dataframe tbody tr th {\n",
              "        vertical-align: top;\n",
              "    }\n",
              "\n",
              "    .dataframe thead th {\n",
              "        text-align: right;\n",
              "    }\n",
              "</style>\n",
              "<table border=\"1\" class=\"dataframe\">\n",
              "  <thead>\n",
              "    <tr style=\"text-align: right;\">\n",
              "      <th></th>\n",
              "      <th>ANO_OCORRENCIA</th>\n",
              "      <th>CD_ALUNO</th>\n",
              "      <th>CD_CURSO</th>\n",
              "      <th>CD_ORIGEM_ALUNO</th>\n",
              "      <th>CD_TURNO</th>\n",
              "      <th>DE_NATURALIDADE</th>\n",
              "      <th>DH_MATRICULA</th>\n",
              "      <th>DH_SITUACAO</th>\n",
              "      <th>DT_ANO_INGRES</th>\n",
              "      <th>DT_NASC_ALUNO</th>\n",
              "      <th>...</th>\n",
              "      <th>ANO_NASCIMENTO</th>\n",
              "      <th>MESES_ATE_ULTIMA_SITUACAO</th>\n",
              "      <th>NM_CURSO</th>\n",
              "      <th>TP_HABILITACAO</th>\n",
              "      <th>SG_CENTRO</th>\n",
              "      <th>NM_CAMPUS</th>\n",
              "      <th>MAX_ANOS</th>\n",
              "      <th>BOOL_SEDE</th>\n",
              "      <th>LOCAL_FERIAS</th>\n",
              "      <th>LOCAL_NASC</th>\n",
              "    </tr>\n",
              "  </thead>\n",
              "  <tbody>\n",
              "  </tbody>\n",
              "</table>\n",
              "<p>0 rows × 54 columns</p>\n",
              "</div>"
            ],
            "text/plain": [
              "Empty DataFrame\n",
              "Columns: [ANO_OCORRENCIA, CD_ALUNO, CD_CURSO, CD_ORIGEM_ALUNO, CD_TURNO, DE_NATURALIDADE, DH_MATRICULA, DH_SITUACAO, DT_ANO_INGRES, DT_NASC_ALUNO, LT_ESTADO_CIVIL, LT_MODALIDADE, LT_NACIONALIDADE, LT_RACA, NM_CIDADE_AULA, NM_CIDADE_EST2GRAU, NM_CIDADE_FERIAS, NM_CIDADE_NASC, NM_PAIS_NASC, NU_SEMESTRE2_VEST, SG_SEXO_ALUNO, SG_UF_AULA, SG_UF_EST2GRAU, SG_UF_FERIAS, SG_UF_NASC_ALUNO, ST_ALUNO, TP_DEFIC_INEP, TP_ESCOLA, TP_INGRES_CURSO, TP_OPCAO_COTAS, F_CD_ORIGEM_ALUNO, F_DT_NASC_ALUNO, F_NM_PAIS_NASC, F_NU_SEMESTRE2_VEST, F_SG_UF_FERIAS, F_SG_UF_NASC_ALUNO, BOOL_TRANCADO, BOOL_ST_ALUNO, MULTI_ST_ALUNO, BOOL_DEFIC_INEP, F_TP_ESCOLA, F_TP_OPCAO_COTAS, BOOL_COTAS, IDADE_MATRICULA, ANO_NASCIMENTO, MESES_ATE_ULTIMA_SITUACAO, NM_CURSO, TP_HABILITACAO, SG_CENTRO, NM_CAMPUS, MAX_ANOS, BOOL_SEDE, LOCAL_FERIAS, LOCAL_NASC]\n",
              "Index: []\n",
              "\n",
              "[0 rows x 54 columns]"
            ]
          },
          "execution_count": 107,
          "metadata": {},
          "output_type": "execute_result"
        }
      ],
      "source": [
        "df_final[df_final['DH_MATRICULA'].isna()]"
      ]
    },
    {
      "cell_type": "code",
      "execution_count": 108,
      "metadata": {
        "colab": {
          "base_uri": "https://localhost:8080/",
          "height": 73
        },
        "id": "fyO2lX-cKruj",
        "outputId": "a75e4f44-8f2e-4d71-b66c-db716cbf46b4"
      },
      "outputs": [
        {
          "data": {
            "text/html": [
              "<div>\n",
              "<style scoped>\n",
              "    .dataframe tbody tr th:only-of-type {\n",
              "        vertical-align: middle;\n",
              "    }\n",
              "\n",
              "    .dataframe tbody tr th {\n",
              "        vertical-align: top;\n",
              "    }\n",
              "\n",
              "    .dataframe thead th {\n",
              "        text-align: right;\n",
              "    }\n",
              "</style>\n",
              "<table border=\"1\" class=\"dataframe\">\n",
              "  <thead>\n",
              "    <tr style=\"text-align: right;\">\n",
              "      <th></th>\n",
              "      <th>ANO_OCORRENCIA</th>\n",
              "      <th>CD_ALUNO</th>\n",
              "      <th>CD_CURSO</th>\n",
              "      <th>CD_ORIGEM_ALUNO</th>\n",
              "      <th>CD_TURNO</th>\n",
              "      <th>DE_NATURALIDADE</th>\n",
              "      <th>DH_MATRICULA</th>\n",
              "      <th>DH_SITUACAO</th>\n",
              "      <th>DT_ANO_INGRES</th>\n",
              "      <th>DT_NASC_ALUNO</th>\n",
              "      <th>...</th>\n",
              "      <th>ANO_NASCIMENTO</th>\n",
              "      <th>MESES_ATE_ULTIMA_SITUACAO</th>\n",
              "      <th>NM_CURSO</th>\n",
              "      <th>TP_HABILITACAO</th>\n",
              "      <th>SG_CENTRO</th>\n",
              "      <th>NM_CAMPUS</th>\n",
              "      <th>MAX_ANOS</th>\n",
              "      <th>BOOL_SEDE</th>\n",
              "      <th>LOCAL_FERIAS</th>\n",
              "      <th>LOCAL_NASC</th>\n",
              "    </tr>\n",
              "  </thead>\n",
              "  <tbody>\n",
              "  </tbody>\n",
              "</table>\n",
              "<p>0 rows × 54 columns</p>\n",
              "</div>"
            ],
            "text/plain": [
              "Empty DataFrame\n",
              "Columns: [ANO_OCORRENCIA, CD_ALUNO, CD_CURSO, CD_ORIGEM_ALUNO, CD_TURNO, DE_NATURALIDADE, DH_MATRICULA, DH_SITUACAO, DT_ANO_INGRES, DT_NASC_ALUNO, LT_ESTADO_CIVIL, LT_MODALIDADE, LT_NACIONALIDADE, LT_RACA, NM_CIDADE_AULA, NM_CIDADE_EST2GRAU, NM_CIDADE_FERIAS, NM_CIDADE_NASC, NM_PAIS_NASC, NU_SEMESTRE2_VEST, SG_SEXO_ALUNO, SG_UF_AULA, SG_UF_EST2GRAU, SG_UF_FERIAS, SG_UF_NASC_ALUNO, ST_ALUNO, TP_DEFIC_INEP, TP_ESCOLA, TP_INGRES_CURSO, TP_OPCAO_COTAS, F_CD_ORIGEM_ALUNO, F_DT_NASC_ALUNO, F_NM_PAIS_NASC, F_NU_SEMESTRE2_VEST, F_SG_UF_FERIAS, F_SG_UF_NASC_ALUNO, BOOL_TRANCADO, BOOL_ST_ALUNO, MULTI_ST_ALUNO, BOOL_DEFIC_INEP, F_TP_ESCOLA, F_TP_OPCAO_COTAS, BOOL_COTAS, IDADE_MATRICULA, ANO_NASCIMENTO, MESES_ATE_ULTIMA_SITUACAO, NM_CURSO, TP_HABILITACAO, SG_CENTRO, NM_CAMPUS, MAX_ANOS, BOOL_SEDE, LOCAL_FERIAS, LOCAL_NASC]\n",
              "Index: []\n",
              "\n",
              "[0 rows x 54 columns]"
            ]
          },
          "execution_count": 108,
          "metadata": {},
          "output_type": "execute_result"
        }
      ],
      "source": [
        "df_final[df_final['DT_NASC_ALUNO'].isna()]"
      ]
    },
    {
      "cell_type": "code",
      "execution_count": 109,
      "metadata": {
        "colab": {
          "base_uri": "https://localhost:8080/",
          "height": 458
        },
        "id": "udAG-ewFKruj",
        "outputId": "c2813e54-1292-41ee-f645-24c6df28dccf"
      },
      "outputs": [
        {
          "data": {
            "text/plain": [
              "0        1974-07-08\n",
              "1        1971-07-12\n",
              "2        1966-07-27\n",
              "3        1967-10-01\n",
              "4        1975-12-06\n",
              "            ...    \n",
              "66814    1999-12-01\n",
              "66815    1995-10-11\n",
              "66816    1972-10-16\n",
              "66817    1981-01-16\n",
              "66818    2001-07-15\n",
              "Name: DT_NASC_ALUNO, Length: 66819, dtype: object"
            ]
          },
          "execution_count": 109,
          "metadata": {},
          "output_type": "execute_result"
        }
      ],
      "source": [
        "df_final['DT_NASC_ALUNO']"
      ]
    },
    {
      "cell_type": "code",
      "execution_count": 110,
      "metadata": {
        "id": "qeczSDH-Kruj"
      },
      "outputs": [],
      "source": [
        "diff = pd.to_datetime(df_final['DH_MATRICULA'], errors='coerce') - pd.to_datetime(df_final['DT_NASC_ALUNO'], errors='coerce')\n",
        "\n",
        "def a(linha):\n",
        "    if pd.isna(linha):\n",
        "        return np.nan\n",
        "\n",
        "    return np.floor(linha.days / 365)\n",
        "\n",
        "df_final['IDADE_MATRICULA'] = diff.apply(a)"
      ]
    },
    {
      "cell_type": "code",
      "execution_count": 111,
      "metadata": {
        "colab": {
          "base_uri": "https://localhost:8080/"
        },
        "id": "ILMEHPAYKruj",
        "outputId": "aac59b47-81ae-4fce-bafd-4dd658a2f689"
      },
      "outputs": [
        {
          "data": {
            "text/plain": [
              "52"
            ]
          },
          "execution_count": 111,
          "metadata": {},
          "output_type": "execute_result"
        }
      ],
      "source": [
        "df_final['IDADE_MATRICULA'].nunique()"
      ]
    },
    {
      "cell_type": "code",
      "execution_count": 112,
      "metadata": {
        "colab": {
          "base_uri": "https://localhost:8080/",
          "height": 1000
        },
        "id": "AQ4FMffFKruj",
        "outputId": "c362a6e8-15db-4535-dd56-c3949bb8e93a"
      },
      "outputs": [
        {
          "data": {
            "text/plain": [
              "IDADE_MATRICULA\n",
              "17.0    19435\n",
              "18.0    16814\n",
              "19.0     9156\n",
              "20.0     5095\n",
              "21.0     3253\n",
              "22.0     2418\n",
              "23.0     1834\n",
              "24.0     1392\n",
              "25.0     1023\n",
              "16.0      933\n",
              "26.0      856\n",
              "27.0      734\n",
              "28.0      569\n",
              "29.0      463\n",
              "30.0      364\n",
              "31.0      300\n",
              "32.0      250\n",
              "33.0      222\n",
              "35.0      184\n",
              "34.0      183\n",
              "36.0      168\n",
              "37.0      154\n",
              "38.0      119\n",
              "39.0      114\n",
              "40.0       91\n",
              "41.0       89\n",
              "43.0       71\n",
              "42.0       71\n",
              "44.0       59\n",
              "45.0       56\n",
              "47.0       56\n",
              "46.0       46\n",
              "48.0       37\n",
              "49.0       37\n",
              "50.0       32\n",
              "51.0       29\n",
              "52.0       20\n",
              "53.0       18\n",
              "55.0       14\n",
              "57.0       13\n",
              "56.0       11\n",
              "54.0       11\n",
              "58.0        6\n",
              "60.0        3\n",
              "59.0        3\n",
              "63.0        3\n",
              "61.0        3\n",
              "15.0        2\n",
              "62.0        2\n",
              "66.0        1\n",
              "65.0        1\n",
              "0.0         1\n",
              "Name: count, dtype: int64"
            ]
          },
          "execution_count": 112,
          "metadata": {},
          "output_type": "execute_result"
        }
      ],
      "source": [
        "df_final['IDADE_MATRICULA'].value_counts(dropna=False)"
      ]
    },
    {
      "cell_type": "code",
      "execution_count": 113,
      "metadata": {
        "colab": {
          "base_uri": "https://localhost:8080/",
          "height": 238
        },
        "id": "PrMVCF7ZKruk",
        "outputId": "9d253498-ecc6-4bb8-e768-7ce11a3db794"
      },
      "outputs": [
        {
          "data": {
            "text/html": [
              "<div>\n",
              "<style scoped>\n",
              "    .dataframe tbody tr th:only-of-type {\n",
              "        vertical-align: middle;\n",
              "    }\n",
              "\n",
              "    .dataframe tbody tr th {\n",
              "        vertical-align: top;\n",
              "    }\n",
              "\n",
              "    .dataframe thead th {\n",
              "        text-align: right;\n",
              "    }\n",
              "</style>\n",
              "<table border=\"1\" class=\"dataframe\">\n",
              "  <thead>\n",
              "    <tr style=\"text-align: right;\">\n",
              "      <th></th>\n",
              "      <th>DT_NASC_ALUNO</th>\n",
              "      <th>DH_MATRICULA</th>\n",
              "      <th>IDADE_MATRICULA</th>\n",
              "    </tr>\n",
              "  </thead>\n",
              "  <tbody>\n",
              "    <tr>\n",
              "      <th>23046</th>\n",
              "      <td>1992-08-17</td>\n",
              "      <td>2008-08-04</td>\n",
              "      <td>15.0</td>\n",
              "    </tr>\n",
              "    <tr>\n",
              "      <th>32079</th>\n",
              "      <td>1995-01-21</td>\n",
              "      <td>2011-01-16</td>\n",
              "      <td>15.0</td>\n",
              "    </tr>\n",
              "    <tr>\n",
              "      <th>65424</th>\n",
              "      <td>2021-09-30</td>\n",
              "      <td>2022-04-26</td>\n",
              "      <td>0.0</td>\n",
              "    </tr>\n",
              "  </tbody>\n",
              "</table>\n",
              "</div>"
            ],
            "text/plain": [
              "      DT_NASC_ALUNO DH_MATRICULA  IDADE_MATRICULA\n",
              "23046    1992-08-17   2008-08-04             15.0\n",
              "32079    1995-01-21   2011-01-16             15.0\n",
              "65424    2021-09-30   2022-04-26              0.0"
            ]
          },
          "execution_count": 113,
          "metadata": {},
          "output_type": "execute_result"
        }
      ],
      "source": [
        "df_final[(df_final['IDADE_MATRICULA'] < 16) | (df_final['IDADE_MATRICULA'] > 70)][['DT_NASC_ALUNO', 'DH_MATRICULA', 'IDADE_MATRICULA']]"
      ]
    },
    {
      "cell_type": "code",
      "execution_count": 114,
      "metadata": {
        "colab": {
          "base_uri": "https://localhost:8080/",
          "height": 424
        },
        "id": "N8uSfWlqKruk",
        "outputId": "86e36806-0fb0-44ae-95fe-cb85a0d37034"
      },
      "outputs": [
        {
          "data": {
            "text/html": [
              "<div>\n",
              "<style scoped>\n",
              "    .dataframe tbody tr th:only-of-type {\n",
              "        vertical-align: middle;\n",
              "    }\n",
              "\n",
              "    .dataframe tbody tr th {\n",
              "        vertical-align: top;\n",
              "    }\n",
              "\n",
              "    .dataframe thead th {\n",
              "        text-align: right;\n",
              "    }\n",
              "</style>\n",
              "<table border=\"1\" class=\"dataframe\">\n",
              "  <thead>\n",
              "    <tr style=\"text-align: right;\">\n",
              "      <th></th>\n",
              "      <th>DT_NASC_ALUNO</th>\n",
              "      <th>DH_MATRICULA</th>\n",
              "      <th>IDADE_MATRICULA</th>\n",
              "    </tr>\n",
              "  </thead>\n",
              "  <tbody>\n",
              "  </tbody>\n",
              "</table>\n",
              "</div>"
            ],
            "text/plain": [
              "Empty DataFrame\n",
              "Columns: [DT_NASC_ALUNO, DH_MATRICULA, IDADE_MATRICULA]\n",
              "Index: []"
            ]
          },
          "execution_count": 114,
          "metadata": {},
          "output_type": "execute_result"
        }
      ],
      "source": [
        "df_final[pd.isna(df_final['IDADE_MATRICULA'])][['DT_NASC_ALUNO', 'DH_MATRICULA', 'IDADE_MATRICULA']]"
      ]
    },
    {
      "cell_type": "markdown",
      "metadata": {
        "id": "X_lwegJ5Kruk"
      },
      "source": [
        "Definir faixa etária"
      ]
    },
    {
      "cell_type": "markdown",
      "metadata": {
        "id": "7pVVU8G1Kruk"
      },
      "source": [
        "### Ano de nascimento"
      ]
    },
    {
      "cell_type": "code",
      "execution_count": 115,
      "metadata": {
        "id": "La1wGTfUKruk"
      },
      "outputs": [],
      "source": [
        "df_final['ANO_NASCIMENTO'] = df_final['DT_NASC_ALUNO'].apply(lambda x: datetime.strptime(x, '%Y-%m-%d').year)"
      ]
    },
    {
      "cell_type": "code",
      "execution_count": 116,
      "metadata": {
        "colab": {
          "base_uri": "https://localhost:8080/"
        },
        "id": "2iCfp0FCKruk",
        "outputId": "b9832a2e-d70c-4eab-a70a-831d8869421b"
      },
      "outputs": [
        {
          "data": {
            "text/plain": [
              "64"
            ]
          },
          "execution_count": 116,
          "metadata": {},
          "output_type": "execute_result"
        }
      ],
      "source": [
        "df_final['ANO_NASCIMENTO'].nunique(dropna=False)"
      ]
    },
    {
      "cell_type": "code",
      "execution_count": 117,
      "metadata": {
        "colab": {
          "base_uri": "https://localhost:8080/",
          "height": 490
        },
        "id": "FnAlcQJgKruk",
        "outputId": "70c2cd71-8d2c-48ac-9fcd-4940694c5f9d"
      },
      "outputs": [
        {
          "data": {
            "text/plain": [
              "ANO_NASCIMENTO\n",
              "1990    3839\n",
              "1991    3518\n",
              "1989    3479\n",
              "1988    3397\n",
              "1994    3098\n",
              "        ... \n",
              "1950       2\n",
              "1944       1\n",
              "1945       1\n",
              "1943       1\n",
              "2021       1\n",
              "Name: count, Length: 64, dtype: int64"
            ]
          },
          "execution_count": 117,
          "metadata": {},
          "output_type": "execute_result"
        }
      ],
      "source": [
        "df_final['ANO_NASCIMENTO'].value_counts(dropna=False)"
      ]
    },
    {
      "cell_type": "code",
      "execution_count": 118,
      "metadata": {
        "colab": {
          "base_uri": "https://localhost:8080/",
          "height": 53
        },
        "id": "LUwJAn0_Kruk",
        "outputId": "d18c153b-4014-4b53-9f71-72328a02ec77"
      },
      "outputs": [
        {
          "data": {
            "text/html": [
              "<div>\n",
              "<style scoped>\n",
              "    .dataframe tbody tr th:only-of-type {\n",
              "        vertical-align: middle;\n",
              "    }\n",
              "\n",
              "    .dataframe tbody tr th {\n",
              "        vertical-align: top;\n",
              "    }\n",
              "\n",
              "    .dataframe thead th {\n",
              "        text-align: right;\n",
              "    }\n",
              "</style>\n",
              "<table border=\"1\" class=\"dataframe\">\n",
              "  <thead>\n",
              "    <tr style=\"text-align: right;\">\n",
              "      <th></th>\n",
              "      <th>DT_NASC_ALUNO</th>\n",
              "      <th>DH_MATRICULA</th>\n",
              "      <th>ANO_NASCIMENTO</th>\n",
              "    </tr>\n",
              "  </thead>\n",
              "  <tbody>\n",
              "  </tbody>\n",
              "</table>\n",
              "</div>"
            ],
            "text/plain": [
              "Empty DataFrame\n",
              "Columns: [DT_NASC_ALUNO, DH_MATRICULA, ANO_NASCIMENTO]\n",
              "Index: []"
            ]
          },
          "execution_count": 118,
          "metadata": {},
          "output_type": "execute_result"
        }
      ],
      "source": [
        "df_final[pd.isna(df_final['ANO_NASCIMENTO'])][['DT_NASC_ALUNO', 'DH_MATRICULA', 'ANO_NASCIMENTO']]"
      ]
    },
    {
      "cell_type": "markdown",
      "metadata": {
        "id": "FonNYEgNKruk"
      },
      "source": [
        "### Curso é ou não no campus sede"
      ]
    },
    {
      "cell_type": "code",
      "execution_count": 119,
      "metadata": {
        "id": "xCmpCAsiKruk"
      },
      "outputs": [],
      "source": [
        "df_cursos['BOOL_SEDE'] = df_cursos.apply(lambda x: True if x['NM_CAMPUS'] == 'MARINGA' else False, axis=1)"
      ]
    },
    {
      "cell_type": "markdown",
      "metadata": {
        "id": "ItP-3miKKruk"
      },
      "source": [
        "### Tempo cursado até última situação (em meses)"
      ]
    },
    {
      "cell_type": "code",
      "execution_count": 120,
      "metadata": {
        "colab": {
          "base_uri": "https://localhost:8080/",
          "height": 458
        },
        "id": "NSr5mY28Kruk",
        "outputId": "6847f585-8726-4f9c-8f4b-d25056459d38"
      },
      "outputs": [
        {
          "data": {
            "text/plain": [
              "0        228 days\n",
              "1       1466 days\n",
              "2       1825 days\n",
              "3       1567 days\n",
              "4        248 days\n",
              "           ...   \n",
              "66814    361 days\n",
              "66815    333 days\n",
              "66816    355 days\n",
              "66817      0 days\n",
              "66818      0 days\n",
              "Length: 66819, dtype: timedelta64[ns]"
            ]
          },
          "execution_count": 120,
          "metadata": {},
          "output_type": "execute_result"
        }
      ],
      "source": [
        "diff = pd.to_datetime(df_final['DH_SITUACAO'], errors='coerce') - pd.to_datetime(df_final['DH_MATRICULA'], errors='coerce')\n",
        "diff"
      ]
    },
    {
      "cell_type": "code",
      "execution_count": 121,
      "metadata": {
        "id": "hjut4o9DKruk"
      },
      "outputs": [],
      "source": [
        "def to_meses(linha):\n",
        "    if pd.isna(linha):\n",
        "        return np.nan\n",
        "\n",
        "    return linha.days / 30"
      ]
    },
    {
      "cell_type": "code",
      "execution_count": 122,
      "metadata": {
        "id": "t1RUh6k0Krul"
      },
      "outputs": [],
      "source": [
        "df_final['MESES_ATE_ULTIMA_SITUACAO'] = diff.apply(to_meses)"
      ]
    },
    {
      "cell_type": "code",
      "execution_count": 123,
      "metadata": {
        "colab": {
          "base_uri": "https://localhost:8080/",
          "height": 490
        },
        "id": "G-X3PME7Krul",
        "outputId": "87c4c3b6-e9b9-4a63-8fa6-8933d71d57bd"
      },
      "outputs": [
        {
          "data": {
            "text/plain": [
              "MESES_ATE_ULTIMA_SITUACAO\n",
              "0.000000      10305\n",
              "0.133333        726\n",
              "59.533333       641\n",
              "60.466667       615\n",
              "47.366667       535\n",
              "              ...  \n",
              "80.166667         1\n",
              "55.733333         1\n",
              "201.566667        1\n",
              "117.200000        1\n",
              "8.800000          1\n",
              "Name: count, Length: 3363, dtype: int64"
            ]
          },
          "execution_count": 123,
          "metadata": {},
          "output_type": "execute_result"
        }
      ],
      "source": [
        "df_final['MESES_ATE_ULTIMA_SITUACAO'].value_counts(dropna=False)"
      ]
    },
    {
      "cell_type": "markdown",
      "metadata": {
        "id": "SeTOzGrgKrul"
      },
      "source": [
        "### CD_ORIGEM_ALUNO"
      ]
    },
    {
      "cell_type": "code",
      "execution_count": 124,
      "metadata": {
        "colab": {
          "base_uri": "https://localhost:8080/",
          "height": 424
        },
        "id": "jqDjT2-4Krul",
        "outputId": "b93d80b3-104c-46f6-eb44-4b47a802b713"
      },
      "outputs": [
        {
          "data": {
            "text/html": [
              "<div>\n",
              "<style scoped>\n",
              "    .dataframe tbody tr th:only-of-type {\n",
              "        vertical-align: middle;\n",
              "    }\n",
              "\n",
              "    .dataframe tbody tr th {\n",
              "        vertical-align: top;\n",
              "    }\n",
              "\n",
              "    .dataframe thead th {\n",
              "        text-align: right;\n",
              "    }\n",
              "</style>\n",
              "<table border=\"1\" class=\"dataframe\">\n",
              "  <thead>\n",
              "    <tr style=\"text-align: right;\">\n",
              "      <th></th>\n",
              "      <th>NM_CIDADE_NASC</th>\n",
              "      <th>NM_CIDADE_FERIAS</th>\n",
              "      <th>NM_CIDADE_AULA</th>\n",
              "      <th>NM_CIDADE_EST2GRAU</th>\n",
              "    </tr>\n",
              "  </thead>\n",
              "  <tbody>\n",
              "    <tr>\n",
              "      <th>0</th>\n",
              "      <td>MARINGA</td>\n",
              "      <td>MARINGA</td>\n",
              "      <td>MARINGA</td>\n",
              "      <td>MARINGA</td>\n",
              "    </tr>\n",
              "    <tr>\n",
              "      <th>1</th>\n",
              "      <td>MARINGA</td>\n",
              "      <td>MARINGA</td>\n",
              "      <td>MARINGA</td>\n",
              "      <td>MARINGA</td>\n",
              "    </tr>\n",
              "    <tr>\n",
              "      <th>4</th>\n",
              "      <td>MARINGA</td>\n",
              "      <td>ITAMBE</td>\n",
              "      <td>MARINGA</td>\n",
              "      <td>NaN</td>\n",
              "    </tr>\n",
              "    <tr>\n",
              "      <th>8</th>\n",
              "      <td>MARINGA</td>\n",
              "      <td>MARINGA</td>\n",
              "      <td>MARINGA</td>\n",
              "      <td>MARINGA</td>\n",
              "    </tr>\n",
              "    <tr>\n",
              "      <th>9</th>\n",
              "      <td>MARINGA</td>\n",
              "      <td>MARINGA</td>\n",
              "      <td>MARINGA</td>\n",
              "      <td>MARINGA</td>\n",
              "    </tr>\n",
              "    <tr>\n",
              "      <th>...</th>\n",
              "      <td>...</td>\n",
              "      <td>...</td>\n",
              "      <td>...</td>\n",
              "      <td>...</td>\n",
              "    </tr>\n",
              "    <tr>\n",
              "      <th>66722</th>\n",
              "      <td>MARINGA</td>\n",
              "      <td>MARINGA</td>\n",
              "      <td>MARINGA</td>\n",
              "      <td>SARANDI</td>\n",
              "    </tr>\n",
              "    <tr>\n",
              "      <th>66726</th>\n",
              "      <td>UBATUBA</td>\n",
              "      <td>CIANORTE</td>\n",
              "      <td>CIANORTE</td>\n",
              "      <td>UBATUBA</td>\n",
              "    </tr>\n",
              "    <tr>\n",
              "      <th>66750</th>\n",
              "      <td>UMUARAMA</td>\n",
              "      <td>UMUARAMA</td>\n",
              "      <td>UMUARAMA</td>\n",
              "      <td>UMUARAMA</td>\n",
              "    </tr>\n",
              "    <tr>\n",
              "      <th>66781</th>\n",
              "      <td>UMUARAMA</td>\n",
              "      <td>UMUARAMA</td>\n",
              "      <td>UMUARAMA</td>\n",
              "      <td>ALTO PIQUIRI</td>\n",
              "    </tr>\n",
              "    <tr>\n",
              "      <th>66788</th>\n",
              "      <td>MARINGA</td>\n",
              "      <td>MARINGA</td>\n",
              "      <td>MARINGA</td>\n",
              "      <td>MARINGA</td>\n",
              "    </tr>\n",
              "  </tbody>\n",
              "</table>\n",
              "<p>25815 rows × 4 columns</p>\n",
              "</div>"
            ],
            "text/plain": [
              "      NM_CIDADE_NASC NM_CIDADE_FERIAS NM_CIDADE_AULA NM_CIDADE_EST2GRAU\n",
              "0            MARINGA          MARINGA        MARINGA            MARINGA\n",
              "1            MARINGA          MARINGA        MARINGA            MARINGA\n",
              "4            MARINGA           ITAMBE        MARINGA                NaN\n",
              "8            MARINGA          MARINGA        MARINGA            MARINGA\n",
              "9            MARINGA          MARINGA        MARINGA            MARINGA\n",
              "...              ...              ...            ...                ...\n",
              "66722        MARINGA          MARINGA        MARINGA            SARANDI\n",
              "66726        UBATUBA         CIANORTE       CIANORTE            UBATUBA\n",
              "66750       UMUARAMA         UMUARAMA       UMUARAMA           UMUARAMA\n",
              "66781       UMUARAMA         UMUARAMA       UMUARAMA       ALTO PIQUIRI\n",
              "66788        MARINGA          MARINGA        MARINGA            MARINGA\n",
              "\n",
              "[25815 rows x 4 columns]"
            ]
          },
          "execution_count": 124,
          "metadata": {},
          "output_type": "execute_result"
        }
      ],
      "source": [
        "cidades_origem_maringa = df_final[df_final['CD_ORIGEM_ALUNO'] == 1][['NM_CIDADE_NASC', 'NM_CIDADE_FERIAS', 'NM_CIDADE_AULA', 'NM_CIDADE_EST2GRAU']]\n",
        "cidades_origem_maringa"
      ]
    },
    {
      "cell_type": "markdown",
      "metadata": {
        "id": "dXStFEldKrul"
      },
      "source": [
        "A ideia era pegar esse campo (CD_ORIGEM_ALUNO) e verificar quais são as cidades que ele considera na região de Maringá para criar este campo para NM_CIDADE_NASC e NM_CIDADE_FERIAS. Porém, ao filtrarmos esse campo para Maringá, vemos entradas que em nenhum dos campos de cidade consta Maringá...\n",
        "\n",
        "O que ele considera como ORIGEM? Queria responder isso também\n",
        "\n",
        "Ideias\n",
        "* Passa as férias na cidade de seu campus? (Usar NM_CIDADE_FERIAS, já que NM_CIDADE_AULA não é útil)\n",
        "* Aluno nasceu no PR, SP, Outros Estados ou Exterior (SG_UF_NASC_ALUNO)\n",
        "* Da para fazer um igual ao de cima para SG_UF_FERIAS"
      ]
    },
    {
      "cell_type": "markdown",
      "metadata": {
        "id": "ql23AvPQKrul"
      },
      "source": [
        "### LOCAL_FERIAS e LOCAL_NASCIMENTO"
      ]
    },
    {
      "cell_type": "markdown",
      "metadata": {
        "id": "Y7R5NMyUKrul"
      },
      "source": [
        "Merge com o df dos cursos para ver o campus"
      ]
    },
    {
      "cell_type": "code",
      "execution_count": 125,
      "metadata": {
        "colab": {
          "base_uri": "https://localhost:8080/",
          "height": 244
        },
        "id": "l9ln2u_DKrul",
        "outputId": "e0470a0b-f9ef-484a-a548-04a4bcdfaf92"
      },
      "outputs": [
        {
          "data": {
            "text/html": [
              "<div>\n",
              "<style scoped>\n",
              "    .dataframe tbody tr th:only-of-type {\n",
              "        vertical-align: middle;\n",
              "    }\n",
              "\n",
              "    .dataframe tbody tr th {\n",
              "        vertical-align: top;\n",
              "    }\n",
              "\n",
              "    .dataframe thead th {\n",
              "        text-align: right;\n",
              "    }\n",
              "</style>\n",
              "<table border=\"1\" class=\"dataframe\">\n",
              "  <thead>\n",
              "    <tr style=\"text-align: right;\">\n",
              "      <th></th>\n",
              "      <th>ANO_OCORRENCIA</th>\n",
              "      <th>CD_ALUNO</th>\n",
              "      <th>CD_CURSO</th>\n",
              "      <th>CD_ORIGEM_ALUNO</th>\n",
              "      <th>CD_TURNO</th>\n",
              "      <th>DE_NATURALIDADE</th>\n",
              "      <th>DH_MATRICULA</th>\n",
              "      <th>DH_SITUACAO</th>\n",
              "      <th>DT_ANO_INGRES</th>\n",
              "      <th>DT_NASC_ALUNO</th>\n",
              "      <th>...</th>\n",
              "      <th>MAX_ANOS_x</th>\n",
              "      <th>BOOL_SEDE_x</th>\n",
              "      <th>LOCAL_FERIAS</th>\n",
              "      <th>LOCAL_NASC</th>\n",
              "      <th>NM_CURSO_y</th>\n",
              "      <th>TP_HABILITACAO_y</th>\n",
              "      <th>SG_CENTRO_y</th>\n",
              "      <th>NM_CAMPUS_y</th>\n",
              "      <th>MAX_ANOS_y</th>\n",
              "      <th>BOOL_SEDE_y</th>\n",
              "    </tr>\n",
              "  </thead>\n",
              "  <tbody>\n",
              "    <tr>\n",
              "      <th>0</th>\n",
              "      <td>2014</td>\n",
              "      <td>145457572</td>\n",
              "      <td>3</td>\n",
              "      <td>1</td>\n",
              "      <td>N</td>\n",
              "      <td>BRASILEIRO</td>\n",
              "      <td>2014-01-10</td>\n",
              "      <td>2014-08-26</td>\n",
              "      <td>2014</td>\n",
              "      <td>1974-07-08</td>\n",
              "      <td>...</td>\n",
              "      <td>8</td>\n",
              "      <td>True</td>\n",
              "      <td>1.0</td>\n",
              "      <td>1.0</td>\n",
              "      <td>Letras</td>\n",
              "      <td>LICENCIATURA</td>\n",
              "      <td>CCH</td>\n",
              "      <td>MARINGA</td>\n",
              "      <td>8</td>\n",
              "      <td>True</td>\n",
              "    </tr>\n",
              "    <tr>\n",
              "      <th>1</th>\n",
              "      <td>2018</td>\n",
              "      <td>131671183</td>\n",
              "      <td>34</td>\n",
              "      <td>1</td>\n",
              "      <td>V</td>\n",
              "      <td>BRASILEIRO</td>\n",
              "      <td>2015-01-13</td>\n",
              "      <td>2019-01-18</td>\n",
              "      <td>2015</td>\n",
              "      <td>1971-07-12</td>\n",
              "      <td>...</td>\n",
              "      <td>8</td>\n",
              "      <td>True</td>\n",
              "      <td>1.0</td>\n",
              "      <td>1.0</td>\n",
              "      <td>Filosofia</td>\n",
              "      <td>LICENCIATURA</td>\n",
              "      <td>CCH</td>\n",
              "      <td>MARINGA</td>\n",
              "      <td>8</td>\n",
              "      <td>True</td>\n",
              "    </tr>\n",
              "    <tr>\n",
              "      <th>2</th>\n",
              "      <td>2009</td>\n",
              "      <td>1748606897</td>\n",
              "      <td>3</td>\n",
              "      <td>5</td>\n",
              "      <td>N</td>\n",
              "      <td>BRASILEIRA</td>\n",
              "      <td>2004-02-01</td>\n",
              "      <td>2009-01-30</td>\n",
              "      <td>2004</td>\n",
              "      <td>1966-07-27</td>\n",
              "      <td>...</td>\n",
              "      <td>8</td>\n",
              "      <td>True</td>\n",
              "      <td>1.0</td>\n",
              "      <td>4.0</td>\n",
              "      <td>Letras</td>\n",
              "      <td>LICENCIATURA</td>\n",
              "      <td>CCH</td>\n",
              "      <td>MARINGA</td>\n",
              "      <td>8</td>\n",
              "      <td>True</td>\n",
              "    </tr>\n",
              "    <tr>\n",
              "      <th>3</th>\n",
              "      <td>2020</td>\n",
              "      <td>1204692590</td>\n",
              "      <td>7</td>\n",
              "      <td>3</td>\n",
              "      <td>N</td>\n",
              "      <td>BRASILEIRA</td>\n",
              "      <td>2017-03-09</td>\n",
              "      <td>2021-06-23</td>\n",
              "      <td>2017</td>\n",
              "      <td>1967-10-01</td>\n",
              "      <td>...</td>\n",
              "      <td>8</td>\n",
              "      <td>True</td>\n",
              "      <td>1.0</td>\n",
              "      <td>2.0</td>\n",
              "      <td>Matemática</td>\n",
              "      <td>AMBOS</td>\n",
              "      <td>CCE</td>\n",
              "      <td>MARINGA</td>\n",
              "      <td>8</td>\n",
              "      <td>True</td>\n",
              "    </tr>\n",
              "    <tr>\n",
              "      <th>4</th>\n",
              "      <td>2011</td>\n",
              "      <td>1308695326</td>\n",
              "      <td>4</td>\n",
              "      <td>1</td>\n",
              "      <td>M</td>\n",
              "      <td>BRASILEIRA</td>\n",
              "      <td>2011-02-14</td>\n",
              "      <td>2011-10-20</td>\n",
              "      <td>2011</td>\n",
              "      <td>1975-12-06</td>\n",
              "      <td>...</td>\n",
              "      <td>8</td>\n",
              "      <td>True</td>\n",
              "      <td>2.0</td>\n",
              "      <td>1.0</td>\n",
              "      <td>Geografia</td>\n",
              "      <td>AMBOS</td>\n",
              "      <td>CCH</td>\n",
              "      <td>MARINGA</td>\n",
              "      <td>8</td>\n",
              "      <td>True</td>\n",
              "    </tr>\n",
              "  </tbody>\n",
              "</table>\n",
              "<p>5 rows × 60 columns</p>\n",
              "</div>"
            ],
            "text/plain": [
              "   ANO_OCORRENCIA    CD_ALUNO  CD_CURSO  CD_ORIGEM_ALUNO CD_TURNO  \\\n",
              "0            2014   145457572         3                1        N   \n",
              "1            2018   131671183        34                1        V   \n",
              "2            2009  1748606897         3                5        N   \n",
              "3            2020  1204692590         7                3        N   \n",
              "4            2011  1308695326         4                1        M   \n",
              "\n",
              "  DE_NATURALIDADE DH_MATRICULA DH_SITUACAO  DT_ANO_INGRES DT_NASC_ALUNO  ...  \\\n",
              "0      BRASILEIRO   2014-01-10  2014-08-26           2014    1974-07-08  ...   \n",
              "1      BRASILEIRO   2015-01-13  2019-01-18           2015    1971-07-12  ...   \n",
              "2      BRASILEIRA   2004-02-01  2009-01-30           2004    1966-07-27  ...   \n",
              "3      BRASILEIRA   2017-03-09  2021-06-23           2017    1967-10-01  ...   \n",
              "4      BRASILEIRA   2011-02-14  2011-10-20           2011    1975-12-06  ...   \n",
              "\n",
              "   MAX_ANOS_x BOOL_SEDE_x LOCAL_FERIAS  LOCAL_NASC  NM_CURSO_y  \\\n",
              "0           8        True          1.0         1.0      Letras   \n",
              "1           8        True          1.0         1.0   Filosofia   \n",
              "2           8        True          1.0         4.0      Letras   \n",
              "3           8        True          1.0         2.0  Matemática   \n",
              "4           8        True          2.0         1.0   Geografia   \n",
              "\n",
              "  TP_HABILITACAO_y SG_CENTRO_y NM_CAMPUS_y MAX_ANOS_y BOOL_SEDE_y  \n",
              "0     LICENCIATURA       CCH       MARINGA          8        True  \n",
              "1     LICENCIATURA       CCH       MARINGA          8        True  \n",
              "2     LICENCIATURA       CCH       MARINGA          8        True  \n",
              "3            AMBOS       CCE       MARINGA          8        True  \n",
              "4            AMBOS       CCH       MARINGA          8        True  \n",
              "\n",
              "[5 rows x 60 columns]"
            ]
          },
          "execution_count": 125,
          "metadata": {},
          "output_type": "execute_result"
        }
      ],
      "source": [
        "df_merge = df_final.merge(df_cursos, on='CD_CURSO', how='left')\n",
        "df_merge.head()"
      ]
    },
    {
      "cell_type": "code",
      "execution_count": 126,
      "metadata": {
        "colab": {
          "base_uri": "https://localhost:8080/"
        },
        "id": "WAiYmwInKrul",
        "outputId": "069f522c-759b-4bbd-e509-c2d3237e3f82"
      },
      "outputs": [
        {
          "data": {
            "text/plain": [
              "(0, 123)"
            ]
          },
          "execution_count": 126,
          "metadata": {},
          "output_type": "execute_result"
        }
      ],
      "source": [
        "df_merge[df_merge['F_SG_UF_FERIAS'].isna()].shape[0], df_merge[df_merge['NM_CIDADE_FERIAS'].isna()].shape[0]"
      ]
    },
    {
      "cell_type": "code",
      "execution_count": 127,
      "metadata": {
        "colab": {
          "base_uri": "https://localhost:8080/"
        },
        "id": "tH3_oWyGKrul",
        "outputId": "c5cd4a6a-51ca-4df4-acc6-9b37f73fef65"
      },
      "outputs": [
        {
          "data": {
            "text/plain": [
              "(0, 9545)"
            ]
          },
          "execution_count": 127,
          "metadata": {},
          "output_type": "execute_result"
        }
      ],
      "source": [
        "df_merge[df_merge['F_SG_UF_NASC_ALUNO'].isna()].shape[0], df_merge[df_merge['NM_CIDADE_NASC'].isna()].shape[0]"
      ]
    },
    {
      "cell_type": "code",
      "execution_count": 128,
      "metadata": {
        "colab": {
          "base_uri": "https://localhost:8080/",
          "height": 617
        },
        "id": "CqO6DkByKrul",
        "outputId": "2ed1a731-a865-4edd-d43e-e81503905995"
      },
      "outputs": [
        {
          "data": {
            "text/plain": [
              "Series([], Name: count, dtype: int64)"
            ]
          },
          "execution_count": 128,
          "metadata": {},
          "output_type": "execute_result"
        }
      ],
      "source": [
        "df_merge[df_merge['F_SG_UF_FERIAS'].isna()]['F_NM_PAIS_NASC'].value_counts(dropna=False)"
      ]
    },
    {
      "cell_type": "code",
      "execution_count": 129,
      "metadata": {
        "colab": {
          "base_uri": "https://localhost:8080/",
          "height": 1000
        },
        "id": "lUseYHcMKrul",
        "outputId": "61b78495-f130-40f8-cfaf-1c2b92cc1bdd"
      },
      "outputs": [
        {
          "data": {
            "text/plain": [
              "Series([], Name: count, dtype: int64)"
            ]
          },
          "execution_count": 129,
          "metadata": {},
          "output_type": "execute_result"
        }
      ],
      "source": [
        "df_merge[df_merge['F_SG_UF_NASC_ALUNO'].isna()]['F_NM_PAIS_NASC'].value_counts(dropna=False)"
      ]
    },
    {
      "cell_type": "markdown",
      "metadata": {
        "id": "eQQgL7vnKrul"
      },
      "source": [
        "1 - passa férias / nasceu na cidade do campus\n",
        "\n",
        "2 - outras cidades do Paraná\n",
        "\n",
        "3 - estado de São Paulo\n",
        "\n",
        "4 - outros estados\n",
        "\n",
        "Esse 5 não se aplica para férias, 29 casos apenas, o que é irrelevante\n",
        "\n",
        "5 - exterior"
      ]
    },
    {
      "cell_type": "code",
      "execution_count": 130,
      "metadata": {
        "colab": {
          "base_uri": "https://localhost:8080/"
        },
        "id": "CHc-HvhKKrul",
        "outputId": "43706193-3d0d-4da0-bc09-18f4e8e79fb6"
      },
      "outputs": [
        {
          "data": {
            "text/plain": [
              "Index(['ANO_OCORRENCIA', 'CD_ALUNO', 'CD_CURSO', 'CD_ORIGEM_ALUNO', 'CD_TURNO',\n",
              "       'DE_NATURALIDADE', 'DH_MATRICULA', 'DH_SITUACAO', 'DT_ANO_INGRES',\n",
              "       'DT_NASC_ALUNO', 'LT_ESTADO_CIVIL', 'LT_MODALIDADE', 'LT_NACIONALIDADE',\n",
              "       'LT_RACA', 'NM_CIDADE_AULA', 'NM_CIDADE_EST2GRAU', 'NM_CIDADE_FERIAS',\n",
              "       'NM_CIDADE_NASC', 'NM_PAIS_NASC', 'NU_SEMESTRE2_VEST', 'SG_SEXO_ALUNO',\n",
              "       'SG_UF_AULA', 'SG_UF_EST2GRAU', 'SG_UF_FERIAS', 'SG_UF_NASC_ALUNO',\n",
              "       'ST_ALUNO', 'TP_DEFIC_INEP', 'TP_ESCOLA', 'TP_INGRES_CURSO',\n",
              "       'TP_OPCAO_COTAS', 'F_CD_ORIGEM_ALUNO', 'F_DT_NASC_ALUNO',\n",
              "       'F_NM_PAIS_NASC', 'F_NU_SEMESTRE2_VEST', 'F_SG_UF_FERIAS',\n",
              "       'F_SG_UF_NASC_ALUNO', 'BOOL_TRANCADO', 'BOOL_ST_ALUNO',\n",
              "       'MULTI_ST_ALUNO', 'BOOL_DEFIC_INEP', 'F_TP_ESCOLA', 'F_TP_OPCAO_COTAS',\n",
              "       'BOOL_COTAS', 'IDADE_MATRICULA', 'ANO_NASCIMENTO',\n",
              "       'MESES_ATE_ULTIMA_SITUACAO', 'NM_CURSO_x', 'TP_HABILITACAO_x',\n",
              "       'SG_CENTRO_x', 'NM_CAMPUS_x', 'MAX_ANOS_x', 'BOOL_SEDE_x',\n",
              "       'LOCAL_FERIAS', 'LOCAL_NASC', 'NM_CURSO_y', 'TP_HABILITACAO_y',\n",
              "       'SG_CENTRO_y', 'NM_CAMPUS_y', 'MAX_ANOS_y', 'BOOL_SEDE_y'],\n",
              "      dtype='object')"
            ]
          },
          "execution_count": 130,
          "metadata": {},
          "output_type": "execute_result"
        }
      ],
      "source": [
        "df_merge.columns"
      ]
    },
    {
      "cell_type": "code",
      "execution_count": 131,
      "metadata": {
        "id": "ItrNr_T3Krul"
      },
      "outputs": [],
      "source": [
        "def det_LOCAL_FERIAS(linha):\n",
        "    if linha['NM_CIDADE_FERIAS'] == linha['NM_CAMPUS']:\n",
        "        return 1\n",
        "    elif linha['F_SG_UF_FERIAS'] == 'PR':\n",
        "        return 2\n",
        "    elif linha['F_SG_UF_FERIAS'] == 'SP':\n",
        "        return 3\n",
        "    elif not pd.isna(linha['F_SG_UF_FERIAS']):\n",
        "        return 4\n",
        "    else:\n",
        "        return np.nan"
      ]
    },
    {
      "cell_type": "code",
      "execution_count": 132,
      "metadata": {
        "id": "5rN-A6v5Krul"
      },
      "outputs": [],
      "source": [
        "def det_LOCAL_NASC(linha):\n",
        "    if linha['NM_CIDADE_NASC'] == linha['NM_CAMPUS']:\n",
        "        return 1\n",
        "    elif linha['F_SG_UF_NASC_ALUNO'] == 'PR':\n",
        "        return 2\n",
        "    elif linha['F_SG_UF_NASC_ALUNO'] == 'SP':\n",
        "        return 3\n",
        "    elif not pd.isna(linha['F_SG_UF_NASC_ALUNO']):\n",
        "        return 4\n",
        "    elif linha['F_NM_PAIS_NASC'] != 'BRASIL':\n",
        "        return 5\n",
        "    else:\n",
        "        return np.nan\n"
      ]
    },
    {
      "cell_type": "code",
      "execution_count": 133,
      "metadata": {
        "id": "5y52N5VyKrul"
      },
      "outputs": [
        {
          "ename": "KeyError",
          "evalue": "'NM_CAMPUS'",
          "output_type": "error",
          "traceback": [
            "\u001b[1;31m---------------------------------------------------------------------------\u001b[0m",
            "\u001b[1;31mKeyError\u001b[0m                                  Traceback (most recent call last)",
            "File \u001b[1;32mc:\\Users\\romul\\AppData\\Local\\Programs\\Python\\Python311\\Lib\\site-packages\\pandas\\core\\indexes\\base.py:3790\u001b[0m, in \u001b[0;36mIndex.get_loc\u001b[1;34m(self, key)\u001b[0m\n\u001b[0;32m   3789\u001b[0m \u001b[38;5;28;01mtry\u001b[39;00m:\n\u001b[1;32m-> 3790\u001b[0m     \u001b[38;5;28;01mreturn\u001b[39;00m \u001b[38;5;28;43mself\u001b[39;49m\u001b[38;5;241;43m.\u001b[39;49m\u001b[43m_engine\u001b[49m\u001b[38;5;241;43m.\u001b[39;49m\u001b[43mget_loc\u001b[49m\u001b[43m(\u001b[49m\u001b[43mcasted_key\u001b[49m\u001b[43m)\u001b[49m\n\u001b[0;32m   3791\u001b[0m \u001b[38;5;28;01mexcept\u001b[39;00m \u001b[38;5;167;01mKeyError\u001b[39;00m \u001b[38;5;28;01mas\u001b[39;00m err:\n",
            "File \u001b[1;32mindex.pyx:152\u001b[0m, in \u001b[0;36mpandas._libs.index.IndexEngine.get_loc\u001b[1;34m()\u001b[0m\n",
            "File \u001b[1;32mindex.pyx:181\u001b[0m, in \u001b[0;36mpandas._libs.index.IndexEngine.get_loc\u001b[1;34m()\u001b[0m\n",
            "File \u001b[1;32mpandas\\_libs\\hashtable_class_helper.pxi:7080\u001b[0m, in \u001b[0;36mpandas._libs.hashtable.PyObjectHashTable.get_item\u001b[1;34m()\u001b[0m\n",
            "File \u001b[1;32mpandas\\_libs\\hashtable_class_helper.pxi:7088\u001b[0m, in \u001b[0;36mpandas._libs.hashtable.PyObjectHashTable.get_item\u001b[1;34m()\u001b[0m\n",
            "\u001b[1;31mKeyError\u001b[0m: 'NM_CAMPUS'",
            "\nThe above exception was the direct cause of the following exception:\n",
            "\u001b[1;31mKeyError\u001b[0m                                  Traceback (most recent call last)",
            "Cell \u001b[1;32mIn[133], line 1\u001b[0m\n\u001b[1;32m----> 1\u001b[0m df_merge[\u001b[38;5;124m'\u001b[39m\u001b[38;5;124mLOCAL_FERIAS\u001b[39m\u001b[38;5;124m'\u001b[39m] \u001b[38;5;241m=\u001b[39m \u001b[43mdf_merge\u001b[49m\u001b[38;5;241;43m.\u001b[39;49m\u001b[43mapply\u001b[49m\u001b[43m(\u001b[49m\u001b[43mdet_LOCAL_FERIAS\u001b[49m\u001b[43m,\u001b[49m\u001b[43m \u001b[49m\u001b[43maxis\u001b[49m\u001b[38;5;241;43m=\u001b[39;49m\u001b[38;5;241;43m1\u001b[39;49m\u001b[43m)\u001b[49m\n\u001b[0;32m      2\u001b[0m df_merge[\u001b[38;5;124m'\u001b[39m\u001b[38;5;124mLOCAL_NASC\u001b[39m\u001b[38;5;124m'\u001b[39m] \u001b[38;5;241m=\u001b[39m df_merge\u001b[38;5;241m.\u001b[39mapply(det_LOCAL_NASC, axis\u001b[38;5;241m=\u001b[39m\u001b[38;5;241m1\u001b[39m)\n",
            "File \u001b[1;32mc:\\Users\\romul\\AppData\\Local\\Programs\\Python\\Python311\\Lib\\site-packages\\pandas\\core\\frame.py:10037\u001b[0m, in \u001b[0;36mDataFrame.apply\u001b[1;34m(self, func, axis, raw, result_type, args, by_row, **kwargs)\u001b[0m\n\u001b[0;32m  10025\u001b[0m \u001b[38;5;28;01mfrom\u001b[39;00m \u001b[38;5;21;01mpandas\u001b[39;00m\u001b[38;5;21;01m.\u001b[39;00m\u001b[38;5;21;01mcore\u001b[39;00m\u001b[38;5;21;01m.\u001b[39;00m\u001b[38;5;21;01mapply\u001b[39;00m \u001b[38;5;28;01mimport\u001b[39;00m frame_apply\n\u001b[0;32m  10027\u001b[0m op \u001b[38;5;241m=\u001b[39m frame_apply(\n\u001b[0;32m  10028\u001b[0m     \u001b[38;5;28mself\u001b[39m,\n\u001b[0;32m  10029\u001b[0m     func\u001b[38;5;241m=\u001b[39mfunc,\n\u001b[1;32m   (...)\u001b[0m\n\u001b[0;32m  10035\u001b[0m     kwargs\u001b[38;5;241m=\u001b[39mkwargs,\n\u001b[0;32m  10036\u001b[0m )\n\u001b[1;32m> 10037\u001b[0m \u001b[38;5;28;01mreturn\u001b[39;00m \u001b[43mop\u001b[49m\u001b[38;5;241;43m.\u001b[39;49m\u001b[43mapply\u001b[49m\u001b[43m(\u001b[49m\u001b[43m)\u001b[49m\u001b[38;5;241m.\u001b[39m__finalize__(\u001b[38;5;28mself\u001b[39m, method\u001b[38;5;241m=\u001b[39m\u001b[38;5;124m\"\u001b[39m\u001b[38;5;124mapply\u001b[39m\u001b[38;5;124m\"\u001b[39m)\n",
            "File \u001b[1;32mc:\\Users\\romul\\AppData\\Local\\Programs\\Python\\Python311\\Lib\\site-packages\\pandas\\core\\apply.py:831\u001b[0m, in \u001b[0;36mFrameApply.apply\u001b[1;34m(self)\u001b[0m\n\u001b[0;32m    828\u001b[0m \u001b[38;5;28;01melif\u001b[39;00m \u001b[38;5;28mself\u001b[39m\u001b[38;5;241m.\u001b[39mraw:\n\u001b[0;32m    829\u001b[0m     \u001b[38;5;28;01mreturn\u001b[39;00m \u001b[38;5;28mself\u001b[39m\u001b[38;5;241m.\u001b[39mapply_raw()\n\u001b[1;32m--> 831\u001b[0m \u001b[38;5;28;01mreturn\u001b[39;00m \u001b[38;5;28;43mself\u001b[39;49m\u001b[38;5;241;43m.\u001b[39;49m\u001b[43mapply_standard\u001b[49m\u001b[43m(\u001b[49m\u001b[43m)\u001b[49m\n",
            "File \u001b[1;32mc:\\Users\\romul\\AppData\\Local\\Programs\\Python\\Python311\\Lib\\site-packages\\pandas\\core\\apply.py:957\u001b[0m, in \u001b[0;36mFrameApply.apply_standard\u001b[1;34m(self)\u001b[0m\n\u001b[0;32m    956\u001b[0m \u001b[38;5;28;01mdef\u001b[39;00m \u001b[38;5;21mapply_standard\u001b[39m(\u001b[38;5;28mself\u001b[39m):\n\u001b[1;32m--> 957\u001b[0m     results, res_index \u001b[38;5;241m=\u001b[39m \u001b[38;5;28;43mself\u001b[39;49m\u001b[38;5;241;43m.\u001b[39;49m\u001b[43mapply_series_generator\u001b[49m\u001b[43m(\u001b[49m\u001b[43m)\u001b[49m\n\u001b[0;32m    959\u001b[0m     \u001b[38;5;66;03m# wrap results\u001b[39;00m\n\u001b[0;32m    960\u001b[0m     \u001b[38;5;28;01mreturn\u001b[39;00m \u001b[38;5;28mself\u001b[39m\u001b[38;5;241m.\u001b[39mwrap_results(results, res_index)\n",
            "File \u001b[1;32mc:\\Users\\romul\\AppData\\Local\\Programs\\Python\\Python311\\Lib\\site-packages\\pandas\\core\\apply.py:973\u001b[0m, in \u001b[0;36mFrameApply.apply_series_generator\u001b[1;34m(self)\u001b[0m\n\u001b[0;32m    970\u001b[0m \u001b[38;5;28;01mwith\u001b[39;00m option_context(\u001b[38;5;124m\"\u001b[39m\u001b[38;5;124mmode.chained_assignment\u001b[39m\u001b[38;5;124m\"\u001b[39m, \u001b[38;5;28;01mNone\u001b[39;00m):\n\u001b[0;32m    971\u001b[0m     \u001b[38;5;28;01mfor\u001b[39;00m i, v \u001b[38;5;129;01min\u001b[39;00m \u001b[38;5;28menumerate\u001b[39m(series_gen):\n\u001b[0;32m    972\u001b[0m         \u001b[38;5;66;03m# ignore SettingWithCopy here in case the user mutates\u001b[39;00m\n\u001b[1;32m--> 973\u001b[0m         results[i] \u001b[38;5;241m=\u001b[39m \u001b[38;5;28;43mself\u001b[39;49m\u001b[38;5;241;43m.\u001b[39;49m\u001b[43mfunc\u001b[49m\u001b[43m(\u001b[49m\u001b[43mv\u001b[49m\u001b[43m,\u001b[49m\u001b[43m \u001b[49m\u001b[38;5;241;43m*\u001b[39;49m\u001b[38;5;28;43mself\u001b[39;49m\u001b[38;5;241;43m.\u001b[39;49m\u001b[43margs\u001b[49m\u001b[43m,\u001b[49m\u001b[43m \u001b[49m\u001b[38;5;241;43m*\u001b[39;49m\u001b[38;5;241;43m*\u001b[39;49m\u001b[38;5;28;43mself\u001b[39;49m\u001b[38;5;241;43m.\u001b[39;49m\u001b[43mkwargs\u001b[49m\u001b[43m)\u001b[49m\n\u001b[0;32m    974\u001b[0m         \u001b[38;5;28;01mif\u001b[39;00m \u001b[38;5;28misinstance\u001b[39m(results[i], ABCSeries):\n\u001b[0;32m    975\u001b[0m             \u001b[38;5;66;03m# If we have a view on v, we need to make a copy because\u001b[39;00m\n\u001b[0;32m    976\u001b[0m             \u001b[38;5;66;03m#  series_generator will swap out the underlying data\u001b[39;00m\n\u001b[0;32m    977\u001b[0m             results[i] \u001b[38;5;241m=\u001b[39m results[i]\u001b[38;5;241m.\u001b[39mcopy(deep\u001b[38;5;241m=\u001b[39m\u001b[38;5;28;01mFalse\u001b[39;00m)\n",
            "Cell \u001b[1;32mIn[131], line 2\u001b[0m, in \u001b[0;36mdet_LOCAL_FERIAS\u001b[1;34m(linha)\u001b[0m\n\u001b[0;32m      1\u001b[0m \u001b[38;5;28;01mdef\u001b[39;00m \u001b[38;5;21mdet_LOCAL_FERIAS\u001b[39m(linha):\n\u001b[1;32m----> 2\u001b[0m     \u001b[38;5;28;01mif\u001b[39;00m linha[\u001b[38;5;124m'\u001b[39m\u001b[38;5;124mNM_CIDADE_FERIAS\u001b[39m\u001b[38;5;124m'\u001b[39m] \u001b[38;5;241m==\u001b[39m \u001b[43mlinha\u001b[49m\u001b[43m[\u001b[49m\u001b[38;5;124;43m'\u001b[39;49m\u001b[38;5;124;43mNM_CAMPUS\u001b[39;49m\u001b[38;5;124;43m'\u001b[39;49m\u001b[43m]\u001b[49m:\n\u001b[0;32m      3\u001b[0m         \u001b[38;5;28;01mreturn\u001b[39;00m \u001b[38;5;241m1\u001b[39m\n\u001b[0;32m      4\u001b[0m     \u001b[38;5;28;01melif\u001b[39;00m linha[\u001b[38;5;124m'\u001b[39m\u001b[38;5;124mF_SG_UF_FERIAS\u001b[39m\u001b[38;5;124m'\u001b[39m] \u001b[38;5;241m==\u001b[39m \u001b[38;5;124m'\u001b[39m\u001b[38;5;124mPR\u001b[39m\u001b[38;5;124m'\u001b[39m:\n",
            "File \u001b[1;32mc:\\Users\\romul\\AppData\\Local\\Programs\\Python\\Python311\\Lib\\site-packages\\pandas\\core\\series.py:1040\u001b[0m, in \u001b[0;36mSeries.__getitem__\u001b[1;34m(self, key)\u001b[0m\n\u001b[0;32m   1037\u001b[0m     \u001b[38;5;28;01mreturn\u001b[39;00m \u001b[38;5;28mself\u001b[39m\u001b[38;5;241m.\u001b[39m_values[key]\n\u001b[0;32m   1039\u001b[0m \u001b[38;5;28;01melif\u001b[39;00m key_is_scalar:\n\u001b[1;32m-> 1040\u001b[0m     \u001b[38;5;28;01mreturn\u001b[39;00m \u001b[38;5;28;43mself\u001b[39;49m\u001b[38;5;241;43m.\u001b[39;49m\u001b[43m_get_value\u001b[49m\u001b[43m(\u001b[49m\u001b[43mkey\u001b[49m\u001b[43m)\u001b[49m\n\u001b[0;32m   1042\u001b[0m \u001b[38;5;66;03m# Convert generator to list before going through hashable part\u001b[39;00m\n\u001b[0;32m   1043\u001b[0m \u001b[38;5;66;03m# (We will iterate through the generator there to check for slices)\u001b[39;00m\n\u001b[0;32m   1044\u001b[0m \u001b[38;5;28;01mif\u001b[39;00m is_iterator(key):\n",
            "File \u001b[1;32mc:\\Users\\romul\\AppData\\Local\\Programs\\Python\\Python311\\Lib\\site-packages\\pandas\\core\\series.py:1156\u001b[0m, in \u001b[0;36mSeries._get_value\u001b[1;34m(self, label, takeable)\u001b[0m\n\u001b[0;32m   1153\u001b[0m     \u001b[38;5;28;01mreturn\u001b[39;00m \u001b[38;5;28mself\u001b[39m\u001b[38;5;241m.\u001b[39m_values[label]\n\u001b[0;32m   1155\u001b[0m \u001b[38;5;66;03m# Similar to Index.get_value, but we do not fall back to positional\u001b[39;00m\n\u001b[1;32m-> 1156\u001b[0m loc \u001b[38;5;241m=\u001b[39m \u001b[38;5;28;43mself\u001b[39;49m\u001b[38;5;241;43m.\u001b[39;49m\u001b[43mindex\u001b[49m\u001b[38;5;241;43m.\u001b[39;49m\u001b[43mget_loc\u001b[49m\u001b[43m(\u001b[49m\u001b[43mlabel\u001b[49m\u001b[43m)\u001b[49m\n\u001b[0;32m   1158\u001b[0m \u001b[38;5;28;01mif\u001b[39;00m is_integer(loc):\n\u001b[0;32m   1159\u001b[0m     \u001b[38;5;28;01mreturn\u001b[39;00m \u001b[38;5;28mself\u001b[39m\u001b[38;5;241m.\u001b[39m_values[loc]\n",
            "File \u001b[1;32mc:\\Users\\romul\\AppData\\Local\\Programs\\Python\\Python311\\Lib\\site-packages\\pandas\\core\\indexes\\base.py:3797\u001b[0m, in \u001b[0;36mIndex.get_loc\u001b[1;34m(self, key)\u001b[0m\n\u001b[0;32m   3792\u001b[0m     \u001b[38;5;28;01mif\u001b[39;00m \u001b[38;5;28misinstance\u001b[39m(casted_key, \u001b[38;5;28mslice\u001b[39m) \u001b[38;5;129;01mor\u001b[39;00m (\n\u001b[0;32m   3793\u001b[0m         \u001b[38;5;28misinstance\u001b[39m(casted_key, abc\u001b[38;5;241m.\u001b[39mIterable)\n\u001b[0;32m   3794\u001b[0m         \u001b[38;5;129;01mand\u001b[39;00m \u001b[38;5;28many\u001b[39m(\u001b[38;5;28misinstance\u001b[39m(x, \u001b[38;5;28mslice\u001b[39m) \u001b[38;5;28;01mfor\u001b[39;00m x \u001b[38;5;129;01min\u001b[39;00m casted_key)\n\u001b[0;32m   3795\u001b[0m     ):\n\u001b[0;32m   3796\u001b[0m         \u001b[38;5;28;01mraise\u001b[39;00m InvalidIndexError(key)\n\u001b[1;32m-> 3797\u001b[0m     \u001b[38;5;28;01mraise\u001b[39;00m \u001b[38;5;167;01mKeyError\u001b[39;00m(key) \u001b[38;5;28;01mfrom\u001b[39;00m \u001b[38;5;21;01merr\u001b[39;00m\n\u001b[0;32m   3798\u001b[0m \u001b[38;5;28;01mexcept\u001b[39;00m \u001b[38;5;167;01mTypeError\u001b[39;00m:\n\u001b[0;32m   3799\u001b[0m     \u001b[38;5;66;03m# If we have a listlike key, _check_indexing_error will raise\u001b[39;00m\n\u001b[0;32m   3800\u001b[0m     \u001b[38;5;66;03m#  InvalidIndexError. Otherwise we fall through and re-raise\u001b[39;00m\n\u001b[0;32m   3801\u001b[0m     \u001b[38;5;66;03m#  the TypeError.\u001b[39;00m\n\u001b[0;32m   3802\u001b[0m     \u001b[38;5;28mself\u001b[39m\u001b[38;5;241m.\u001b[39m_check_indexing_error(key)\n",
            "\u001b[1;31mKeyError\u001b[0m: 'NM_CAMPUS'"
          ]
        }
      ],
      "source": [
        "df_merge['LOCAL_FERIAS'] = df_merge.apply(det_LOCAL_FERIAS, axis=1)\n",
        "df_merge['LOCAL_NASC'] = df_merge.apply(det_LOCAL_NASC, axis=1)"
      ]
    },
    {
      "cell_type": "code",
      "execution_count": null,
      "metadata": {
        "colab": {
          "base_uri": "https://localhost:8080/",
          "height": 272
        },
        "id": "Y_yz0nIGKrul",
        "outputId": "d3b12233-cda8-4ac7-f23b-85c6652f7136"
      },
      "outputs": [
        {
          "data": {
            "text/plain": [
              "LOCAL_FERIAS\n",
              "1.0    31863\n",
              "2.0    24982\n",
              "3.0     9740\n",
              "NaN     2909\n",
              "4.0     1727\n",
              "Name: count, dtype: int64"
            ]
          },
          "execution_count": 148,
          "metadata": {},
          "output_type": "execute_result"
        }
      ],
      "source": [
        "df_merge['LOCAL_FERIAS'].value_counts(dropna=False)"
      ]
    },
    {
      "cell_type": "code",
      "execution_count": null,
      "metadata": {
        "colab": {
          "base_uri": "https://localhost:8080/",
          "height": 304
        },
        "id": "n7KgfyPwKrum",
        "outputId": "3f14b5ed-84f0-4ce3-c0a9-28a5a30e361f"
      },
      "outputs": [
        {
          "data": {
            "text/plain": [
              "LOCAL_NASC\n",
              "2.0    32489\n",
              "1.0    19064\n",
              "3.0    13937\n",
              "4.0     4810\n",
              "NaN      509\n",
              "5.0      412\n",
              "Name: count, dtype: int64"
            ]
          },
          "execution_count": 149,
          "metadata": {},
          "output_type": "execute_result"
        }
      ],
      "source": [
        "df_merge['LOCAL_NASC'].value_counts(dropna=False)"
      ]
    },
    {
      "cell_type": "code",
      "execution_count": null,
      "metadata": {
        "colab": {
          "base_uri": "https://localhost:8080/",
          "height": 1000
        },
        "id": "cKIQzddoKrum",
        "outputId": "57dddc32-6619-4c31-c317-656abe365ca2"
      },
      "outputs": [
        {
          "data": {
            "text/plain": [
              "F_NM_PAIS_NASC\n",
              "BRASIL             70731\n",
              "JAPAO                262\n",
              "ESTADOS UNIDOS        26\n",
              "PARAGUAI              22\n",
              "GUINE-BISSAU          21\n",
              "CHINA                 15\n",
              "PORTUGAL              15\n",
              "BOLIVIA               11\n",
              "REPUBLICA DO HA       10\n",
              "ARGENTINA              9\n",
              "ESPANHA                9\n",
              "ALEMANHA               9\n",
              "VENEZUELA              7\n",
              "CHILE                  7\n",
              "PERU                   7\n",
              "FRANCA                 6\n",
              "ANGOLA                 6\n",
              "ITALIA                 6\n",
              "CABO VERDE             5\n",
              "COLOMBIA               4\n",
              "TAIWAN                 3\n",
              "INGLATERRA             2\n",
              "HAITI                  2\n",
              "REP. DO HAITI          2\n",
              "GUINE EQUATORIA        2\n",
              "CANADA                 2\n",
              "S.TOME PRINCIPE        2\n",
              "NaN                    2\n",
              "URUGUAI                1\n",
              "AUSTRIA                1\n",
              "REINO UNIDO            1\n",
              "COSTA DO MARFIM        1\n",
              "REPUBLICA ARABE        1\n",
              "GUINE BISSAU           1\n",
              "GANA                   1\n",
              "MOCAMBIQUE             1\n",
              "EUA                    1\n",
              "GUATEMALA              1\n",
              "REP.DEM.CONGO          1\n",
              "HONDURAS               1\n",
              "JORDANIA               1\n",
              "TCHECOSLOVAQUIA        1\n",
              "BENIN                  1\n",
              "EQUADOR                1\n",
              "Name: count, dtype: int64"
            ]
          },
          "execution_count": 150,
          "metadata": {},
          "output_type": "execute_result"
        }
      ],
      "source": [
        "df_merge['F_NM_PAIS_NASC'].value_counts(dropna=False)"
      ]
    },
    {
      "cell_type": "markdown",
      "metadata": {},
      "source": [
        "### Gerações Completas"
      ]
    },
    {
      "cell_type": "code",
      "execution_count": 148,
      "metadata": {},
      "outputs": [
        {
          "data": {
            "text/plain": [
              "66819"
            ]
          },
          "execution_count": 148,
          "metadata": {},
          "output_type": "execute_result"
        }
      ],
      "source": [
        "df_merge.shape[0]"
      ]
    },
    {
      "cell_type": "code",
      "execution_count": 149,
      "metadata": {},
      "outputs": [],
      "source": [
        "df_merge['GERACAO_COMPLETA'] = df_merge.apply(lambda x: 1 if (x['DT_ANO_INGRES'] + x['MAX_ANOS']) <= 2022 else 0, axis=1)"
      ]
    },
    {
      "cell_type": "code",
      "execution_count": 150,
      "metadata": {},
      "outputs": [
        {
          "data": {
            "text/plain": [
              "GERACAO_COMPLETA\n",
              "1    42249\n",
              "0    24570\n",
              "Name: count, dtype: int64"
            ]
          },
          "execution_count": 150,
          "metadata": {},
          "output_type": "execute_result"
        }
      ],
      "source": [
        "df_merge['GERACAO_COMPLETA'].value_counts(dropna=False)"
      ]
    },
    {
      "cell_type": "code",
      "execution_count": 151,
      "metadata": {},
      "outputs": [
        {
          "data": {
            "text/plain": [
              "MULTI_ST_ALUNO\n",
              "FORMADO          25987\n",
              "CANCELAMENTO     14593\n",
              "JUBILADO           982\n",
              "TRANSFERENCIA      545\n",
              "MATRICULADO        142\n",
              "Name: count, dtype: int64"
            ]
          },
          "execution_count": 151,
          "metadata": {},
          "output_type": "execute_result"
        }
      ],
      "source": [
        "df_merge[df_merge['GERACAO_COMPLETA'] == 1]['MULTI_ST_ALUNO'].value_counts()\n"
      ]
    },
    {
      "cell_type": "code",
      "execution_count": 152,
      "metadata": {},
      "outputs": [
        {
          "data": {
            "text/plain": [
              "MULTI_ST_ALUNO\n",
              "CANCELAMENTO     9010\n",
              "MATRICULADO      8644\n",
              "FORMADO          6562\n",
              "TRANSFERENCIA     185\n",
              "JUBILADO          169\n",
              "Name: count, dtype: int64"
            ]
          },
          "execution_count": 152,
          "metadata": {},
          "output_type": "execute_result"
        }
      ],
      "source": [
        "df_merge[df_merge['GERACAO_COMPLETA'] == 0]['MULTI_ST_ALUNO'].value_counts()\n"
      ]
    },
    {
      "cell_type": "markdown",
      "metadata": {},
      "source": [
        "Não deveria ter jubilado aqui... vou filtrar jubilados que não são geração completa e matriculados que são geração completa"
      ]
    },
    {
      "cell_type": "code",
      "execution_count": 153,
      "metadata": {},
      "outputs": [],
      "source": [
        "df_merge.drop(df_merge[(df_merge['GERACAO_COMPLETA'] == 1) & \n",
        "                       (df_merge['MULTI_ST_ALUNO'] == 'MATRICULADO')].index, \n",
        "                       inplace=True)"
      ]
    },
    {
      "cell_type": "code",
      "execution_count": 154,
      "metadata": {},
      "outputs": [],
      "source": [
        "df_merge.drop(df_merge[(df_merge['GERACAO_COMPLETA'] == 0) & \n",
        "                       (df_merge['MULTI_ST_ALUNO'] == 'JUBILADO')].index, \n",
        "              inplace=True)"
      ]
    },
    {
      "cell_type": "markdown",
      "metadata": {},
      "source": [
        "### Número da Geração"
      ]
    },
    {
      "cell_type": "code",
      "execution_count": 155,
      "metadata": {},
      "outputs": [
        {
          "data": {
            "text/plain": [
              "66508"
            ]
          },
          "execution_count": 155,
          "metadata": {},
          "output_type": "execute_result"
        }
      ],
      "source": [
        "df_merge.shape[0]"
      ]
    },
    {
      "cell_type": "code",
      "execution_count": 156,
      "metadata": {},
      "outputs": [],
      "source": [
        "df_merge['NUMERO_GERACAO'] = df_merge[df_merge['GERACAO_COMPLETA'] == 1]['DT_ANO_INGRES'] % 2001"
      ]
    },
    {
      "cell_type": "code",
      "execution_count": 157,
      "metadata": {},
      "outputs": [],
      "source": [
        "df_merge['NUMERO_GERACAO'].fillna(0.0, inplace=True)"
      ]
    },
    {
      "cell_type": "code",
      "execution_count": 158,
      "metadata": {},
      "outputs": [
        {
          "data": {
            "text/plain": [
              "NUMERO_GERACAO\n",
              "0.0     24401\n",
              "8.0      4078\n",
              "7.0      4061\n",
              "10.0     3558\n",
              "9.0      3503\n",
              "12.0     3498\n",
              "11.0     3358\n",
              "6.0      3178\n",
              "5.0      2998\n",
              "4.0      2841\n",
              "3.0      2749\n",
              "2.0      2723\n",
              "13.0     2639\n",
              "1.0      2201\n",
              "14.0      607\n",
              "15.0       63\n",
              "16.0       52\n",
              "Name: count, dtype: int64"
            ]
          },
          "execution_count": 158,
          "metadata": {},
          "output_type": "execute_result"
        }
      ],
      "source": [
        "df_merge['NUMERO_GERACAO'].value_counts(dropna=False)"
      ]
    },
    {
      "cell_type": "code",
      "execution_count": null,
      "metadata": {},
      "outputs": [],
      "source": []
    },
    {
      "cell_type": "markdown",
      "metadata": {
        "id": "8Qg-N6_HKrum"
      },
      "source": [
        "# Final"
      ]
    },
    {
      "cell_type": "code",
      "execution_count": 159,
      "metadata": {
        "colab": {
          "base_uri": "https://localhost:8080/"
        },
        "id": "zqLIVtHlKrum",
        "outputId": "8f44aaeb-012a-4d39-ce01-74aa06711763"
      },
      "outputs": [
        {
          "data": {
            "text/plain": [
              "Index(['ANO_OCORRENCIA', 'CD_ALUNO', 'CD_CURSO', 'CD_ORIGEM_ALUNO', 'CD_TURNO',\n",
              "       'DE_NATURALIDADE', 'DH_MATRICULA', 'DH_SITUACAO', 'DT_ANO_INGRES',\n",
              "       'DT_NASC_ALUNO', 'LT_ESTADO_CIVIL', 'LT_MODALIDADE', 'LT_NACIONALIDADE',\n",
              "       'LT_RACA', 'NM_CIDADE_AULA', 'NM_CIDADE_EST2GRAU', 'NM_CIDADE_FERIAS',\n",
              "       'NM_CIDADE_NASC', 'NM_PAIS_NASC', 'NU_SEMESTRE2_VEST', 'SG_SEXO_ALUNO',\n",
              "       'SG_UF_AULA', 'SG_UF_EST2GRAU', 'SG_UF_FERIAS', 'SG_UF_NASC_ALUNO',\n",
              "       'ST_ALUNO', 'TP_DEFIC_INEP', 'TP_ESCOLA', 'TP_INGRES_CURSO',\n",
              "       'TP_OPCAO_COTAS', 'F_CD_ORIGEM_ALUNO', 'F_DT_NASC_ALUNO',\n",
              "       'F_NM_PAIS_NASC', 'F_NU_SEMESTRE2_VEST', 'F_SG_UF_FERIAS',\n",
              "       'F_SG_UF_NASC_ALUNO', 'BOOL_TRANCADO', 'BOOL_ST_ALUNO',\n",
              "       'MULTI_ST_ALUNO', 'BOOL_DEFIC_INEP', 'F_TP_ESCOLA', 'F_TP_OPCAO_COTAS',\n",
              "       'BOOL_COTAS', 'IDADE_MATRICULA', 'ANO_NASCIMENTO',\n",
              "       'MESES_ATE_ULTIMA_SITUACAO', 'NM_CURSO', 'TP_HABILITACAO', 'SG_CENTRO',\n",
              "       'NM_CAMPUS', 'MAX_ANOS', 'BOOL_SEDE', 'LOCAL_FERIAS', 'LOCAL_NASC',\n",
              "       'GERACAO_COMPLETA', 'NUMERO_GERACAO'],\n",
              "      dtype='object')"
            ]
          },
          "execution_count": 159,
          "metadata": {},
          "output_type": "execute_result"
        }
      ],
      "source": [
        "df_merge.columns"
      ]
    },
    {
      "cell_type": "code",
      "execution_count": 160,
      "metadata": {
        "colab": {
          "base_uri": "https://localhost:8080/"
        },
        "id": "S1PjhSTuKrum",
        "outputId": "8f6744bb-e5e5-4214-d860-8e32b159e198"
      },
      "outputs": [
        {
          "data": {
            "text/plain": [
              "35"
            ]
          },
          "execution_count": 160,
          "metadata": {},
          "output_type": "execute_result"
        }
      ],
      "source": [
        "colunas_relevantes = ['CD_ALUNO',\n",
        "                      'CD_CURSO',\n",
        "                      'CD_TURNO',\n",
        "                      'DH_MATRICULA',\n",
        "                      'DH_SITUACAO',\n",
        "                      'DT_ANO_INGRES',\n",
        "                      'DT_NASC_ALUNO',\n",
        "                      'LT_ESTADO_CIVIL',\n",
        "                      'LT_RACA',\n",
        "                      'F_NU_SEMESTRE2_VEST',\n",
        "                      'TP_INGRES_CURSO',\n",
        "                      'SG_SEXO_ALUNO',\n",
        "                      'F_NM_PAIS_NASC',\n",
        "                      'F_SG_UF_NASC_ALUNO',\n",
        "                      'F_SG_UF_FERIAS',\n",
        "                      'BOOL_TRANCADO',\n",
        "                      'BOOL_ST_ALUNO',\n",
        "                      'MULTI_ST_ALUNO',\n",
        "                      'BOOL_DEFIC_INEP',\n",
        "                      'F_TP_ESCOLA',\n",
        "                      'F_TP_OPCAO_COTAS',\n",
        "                      'BOOL_COTAS',\n",
        "                      'IDADE_MATRICULA',\n",
        "                      'ANO_NASCIMENTO',\n",
        "                      'MESES_ATE_ULTIMA_SITUACAO',\n",
        "                      'LOCAL_FERIAS',\n",
        "                      'LOCAL_NASC',\n",
        "                      'NM_CURSO',\n",
        "                      'TP_HABILITACAO',\n",
        "                      'SG_CENTRO',\n",
        "                      'NM_CAMPUS',\n",
        "                      'MAX_ANOS',\n",
        "                      'GERACAO_COMPLETA',\n",
        "                      'NUMERO_GERACAO',\n",
        "                      'BOOL_SEDE']\n",
        "len(colunas_relevantes)\n"
      ]
    },
    {
      "cell_type": "code",
      "execution_count": 161,
      "metadata": {
        "id": "unjKvKM3Krum"
      },
      "outputs": [],
      "source": [
        "df_merge.dropna(subset=colunas_relevantes, inplace=True)"
      ]
    },
    {
      "cell_type": "code",
      "execution_count": null,
      "metadata": {
        "id": "gtGyFpjWPcxr"
      },
      "outputs": [],
      "source": [
        "# df_merge[colunas_relevantes].apply(lambda x: x.nunique(dropna=False)).reset_index().to_excel('colunas_unicos.xlsx')"
      ]
    },
    {
      "cell_type": "code",
      "execution_count": 162,
      "metadata": {
        "colab": {
          "base_uri": "https://localhost:8080/",
          "height": 272
        },
        "id": "Hx-Cx07SKrum",
        "outputId": "609f3059-5040-4e08-cf16-e6beb8f9d2da"
      },
      "outputs": [
        {
          "data": {
            "text/plain": [
              "MULTI_ST_ALUNO\n",
              "FORMADO          32549\n",
              "CANCELAMENTO     23603\n",
              "MATRICULADO       8644\n",
              "JUBILADO           982\n",
              "TRANSFERENCIA      730\n",
              "Name: count, dtype: int64"
            ]
          },
          "execution_count": 162,
          "metadata": {},
          "output_type": "execute_result"
        }
      ],
      "source": [
        "df_merge['MULTI_ST_ALUNO'].value_counts(dropna=False)"
      ]
    },
    {
      "cell_type": "code",
      "execution_count": 163,
      "metadata": {
        "id": "pu--Is99Krum"
      },
      "outputs": [],
      "source": [
        "df_merge = df_merge[df_merge['MULTI_ST_ALUNO'] != 'FALECIDO']"
      ]
    },
    {
      "cell_type": "code",
      "execution_count": 164,
      "metadata": {
        "colab": {
          "base_uri": "https://localhost:8080/",
          "height": 444
        },
        "id": "KVdDQxEFKrum",
        "outputId": "ba065dac-8a9c-4668-f9e4-2693a94d365f"
      },
      "outputs": [
        {
          "data": {
            "text/html": [
              "<div>\n",
              "<style scoped>\n",
              "    .dataframe tbody tr th:only-of-type {\n",
              "        vertical-align: middle;\n",
              "    }\n",
              "\n",
              "    .dataframe tbody tr th {\n",
              "        vertical-align: top;\n",
              "    }\n",
              "\n",
              "    .dataframe thead th {\n",
              "        text-align: right;\n",
              "    }\n",
              "</style>\n",
              "<table border=\"1\" class=\"dataframe\">\n",
              "  <thead>\n",
              "    <tr style=\"text-align: right;\">\n",
              "      <th></th>\n",
              "      <th>CD_ALUNO</th>\n",
              "      <th>CD_CURSO</th>\n",
              "      <th>CD_TURNO</th>\n",
              "      <th>DH_MATRICULA</th>\n",
              "      <th>DH_SITUACAO</th>\n",
              "      <th>DT_ANO_INGRES</th>\n",
              "      <th>DT_NASC_ALUNO</th>\n",
              "      <th>LT_ESTADO_CIVIL</th>\n",
              "      <th>LT_RACA</th>\n",
              "      <th>F_NU_SEMESTRE2_VEST</th>\n",
              "      <th>...</th>\n",
              "      <th>LOCAL_FERIAS</th>\n",
              "      <th>LOCAL_NASC</th>\n",
              "      <th>NM_CURSO</th>\n",
              "      <th>TP_HABILITACAO</th>\n",
              "      <th>SG_CENTRO</th>\n",
              "      <th>NM_CAMPUS</th>\n",
              "      <th>MAX_ANOS</th>\n",
              "      <th>GERACAO_COMPLETA</th>\n",
              "      <th>NUMERO_GERACAO</th>\n",
              "      <th>BOOL_SEDE</th>\n",
              "    </tr>\n",
              "  </thead>\n",
              "  <tbody>\n",
              "    <tr>\n",
              "      <th>0</th>\n",
              "      <td>145457572</td>\n",
              "      <td>3</td>\n",
              "      <td>N</td>\n",
              "      <td>2014-01-10</td>\n",
              "      <td>2014-08-26</td>\n",
              "      <td>2014</td>\n",
              "      <td>1974-07-08</td>\n",
              "      <td>1.0</td>\n",
              "      <td>4</td>\n",
              "      <td>I</td>\n",
              "      <td>...</td>\n",
              "      <td>1.0</td>\n",
              "      <td>1.0</td>\n",
              "      <td>Letras</td>\n",
              "      <td>LICENCIATURA</td>\n",
              "      <td>CCH</td>\n",
              "      <td>MARINGA</td>\n",
              "      <td>8</td>\n",
              "      <td>1</td>\n",
              "      <td>13.0</td>\n",
              "      <td>True</td>\n",
              "    </tr>\n",
              "    <tr>\n",
              "      <th>1</th>\n",
              "      <td>131671183</td>\n",
              "      <td>34</td>\n",
              "      <td>V</td>\n",
              "      <td>2015-01-13</td>\n",
              "      <td>2019-01-18</td>\n",
              "      <td>2015</td>\n",
              "      <td>1971-07-12</td>\n",
              "      <td>1.0</td>\n",
              "      <td>5</td>\n",
              "      <td>V</td>\n",
              "      <td>...</td>\n",
              "      <td>1.0</td>\n",
              "      <td>1.0</td>\n",
              "      <td>Filosofia</td>\n",
              "      <td>LICENCIATURA</td>\n",
              "      <td>CCH</td>\n",
              "      <td>MARINGA</td>\n",
              "      <td>8</td>\n",
              "      <td>0</td>\n",
              "      <td>0.0</td>\n",
              "      <td>True</td>\n",
              "    </tr>\n",
              "    <tr>\n",
              "      <th>2</th>\n",
              "      <td>1748606897</td>\n",
              "      <td>3</td>\n",
              "      <td>N</td>\n",
              "      <td>2004-02-01</td>\n",
              "      <td>2009-01-30</td>\n",
              "      <td>2004</td>\n",
              "      <td>1966-07-27</td>\n",
              "      <td>2.0</td>\n",
              "      <td>0</td>\n",
              "      <td>T</td>\n",
              "      <td>...</td>\n",
              "      <td>1.0</td>\n",
              "      <td>4.0</td>\n",
              "      <td>Letras</td>\n",
              "      <td>LICENCIATURA</td>\n",
              "      <td>CCH</td>\n",
              "      <td>MARINGA</td>\n",
              "      <td>8</td>\n",
              "      <td>1</td>\n",
              "      <td>3.0</td>\n",
              "      <td>True</td>\n",
              "    </tr>\n",
              "    <tr>\n",
              "      <th>3</th>\n",
              "      <td>1204692590</td>\n",
              "      <td>7</td>\n",
              "      <td>N</td>\n",
              "      <td>2017-03-09</td>\n",
              "      <td>2021-06-23</td>\n",
              "      <td>2017</td>\n",
              "      <td>1967-10-01</td>\n",
              "      <td>4.0</td>\n",
              "      <td>2</td>\n",
              "      <td>I</td>\n",
              "      <td>...</td>\n",
              "      <td>1.0</td>\n",
              "      <td>2.0</td>\n",
              "      <td>Matemática</td>\n",
              "      <td>AMBOS</td>\n",
              "      <td>CCE</td>\n",
              "      <td>MARINGA</td>\n",
              "      <td>8</td>\n",
              "      <td>0</td>\n",
              "      <td>0.0</td>\n",
              "      <td>True</td>\n",
              "    </tr>\n",
              "    <tr>\n",
              "      <th>4</th>\n",
              "      <td>1308695326</td>\n",
              "      <td>4</td>\n",
              "      <td>M</td>\n",
              "      <td>2011-02-14</td>\n",
              "      <td>2011-10-20</td>\n",
              "      <td>2011</td>\n",
              "      <td>1975-12-06</td>\n",
              "      <td>2.0</td>\n",
              "      <td>2</td>\n",
              "      <td>P</td>\n",
              "      <td>...</td>\n",
              "      <td>2.0</td>\n",
              "      <td>1.0</td>\n",
              "      <td>Geografia</td>\n",
              "      <td>AMBOS</td>\n",
              "      <td>CCH</td>\n",
              "      <td>MARINGA</td>\n",
              "      <td>8</td>\n",
              "      <td>1</td>\n",
              "      <td>10.0</td>\n",
              "      <td>True</td>\n",
              "    </tr>\n",
              "    <tr>\n",
              "      <th>...</th>\n",
              "      <td>...</td>\n",
              "      <td>...</td>\n",
              "      <td>...</td>\n",
              "      <td>...</td>\n",
              "      <td>...</td>\n",
              "      <td>...</td>\n",
              "      <td>...</td>\n",
              "      <td>...</td>\n",
              "      <td>...</td>\n",
              "      <td>...</td>\n",
              "      <td>...</td>\n",
              "      <td>...</td>\n",
              "      <td>...</td>\n",
              "      <td>...</td>\n",
              "      <td>...</td>\n",
              "      <td>...</td>\n",
              "      <td>...</td>\n",
              "      <td>...</td>\n",
              "      <td>...</td>\n",
              "      <td>...</td>\n",
              "      <td>...</td>\n",
              "    </tr>\n",
              "    <tr>\n",
              "      <th>66814</th>\n",
              "      <td>13366520600</td>\n",
              "      <td>3</td>\n",
              "      <td>M</td>\n",
              "      <td>2022-07-14</td>\n",
              "      <td>2023-07-10</td>\n",
              "      <td>2022</td>\n",
              "      <td>1999-12-01</td>\n",
              "      <td>1.0</td>\n",
              "      <td>0</td>\n",
              "      <td>P</td>\n",
              "      <td>...</td>\n",
              "      <td>1.0</td>\n",
              "      <td>4.0</td>\n",
              "      <td>Letras</td>\n",
              "      <td>LICENCIATURA</td>\n",
              "      <td>CCH</td>\n",
              "      <td>MARINGA</td>\n",
              "      <td>8</td>\n",
              "      <td>0</td>\n",
              "      <td>0.0</td>\n",
              "      <td>True</td>\n",
              "    </tr>\n",
              "    <tr>\n",
              "      <th>66815</th>\n",
              "      <td>11333398558</td>\n",
              "      <td>8</td>\n",
              "      <td>M</td>\n",
              "      <td>2022-07-15</td>\n",
              "      <td>2023-06-13</td>\n",
              "      <td>2022</td>\n",
              "      <td>1995-10-11</td>\n",
              "      <td>0.0</td>\n",
              "      <td>0</td>\n",
              "      <td>A</td>\n",
              "      <td>...</td>\n",
              "      <td>2.0</td>\n",
              "      <td>2.0</td>\n",
              "      <td>Administração</td>\n",
              "      <td>BACHARELADO</td>\n",
              "      <td>CSA</td>\n",
              "      <td>MARINGA</td>\n",
              "      <td>8</td>\n",
              "      <td>0</td>\n",
              "      <td>0.0</td>\n",
              "      <td>True</td>\n",
              "    </tr>\n",
              "    <tr>\n",
              "      <th>66816</th>\n",
              "      <td>19881374013</td>\n",
              "      <td>13</td>\n",
              "      <td>N</td>\n",
              "      <td>2022-07-20</td>\n",
              "      <td>2023-07-10</td>\n",
              "      <td>2022</td>\n",
              "      <td>1972-10-16</td>\n",
              "      <td>3.0</td>\n",
              "      <td>0</td>\n",
              "      <td>T</td>\n",
              "      <td>...</td>\n",
              "      <td>1.0</td>\n",
              "      <td>2.0</td>\n",
              "      <td>Pedagogia</td>\n",
              "      <td>LICENCIATURA</td>\n",
              "      <td>CCH</td>\n",
              "      <td>MARINGA</td>\n",
              "      <td>8</td>\n",
              "      <td>0</td>\n",
              "      <td>0.0</td>\n",
              "      <td>True</td>\n",
              "    </tr>\n",
              "    <tr>\n",
              "      <th>66817</th>\n",
              "      <td>14796067716</td>\n",
              "      <td>42</td>\n",
              "      <td>I</td>\n",
              "      <td>2022-07-29</td>\n",
              "      <td>2022-07-29</td>\n",
              "      <td>2022</td>\n",
              "      <td>1981-01-16</td>\n",
              "      <td>2.0</td>\n",
              "      <td>0</td>\n",
              "      <td>T</td>\n",
              "      <td>...</td>\n",
              "      <td>2.0</td>\n",
              "      <td>2.0</td>\n",
              "      <td>Música</td>\n",
              "      <td>BACHARELADO</td>\n",
              "      <td>CCH</td>\n",
              "      <td>MARINGA</td>\n",
              "      <td>6</td>\n",
              "      <td>0</td>\n",
              "      <td>0.0</td>\n",
              "      <td>True</td>\n",
              "    </tr>\n",
              "    <tr>\n",
              "      <th>66818</th>\n",
              "      <td>16902075967</td>\n",
              "      <td>8</td>\n",
              "      <td>M</td>\n",
              "      <td>2022-11-24</td>\n",
              "      <td>2022-11-24</td>\n",
              "      <td>2022</td>\n",
              "      <td>2001-07-15</td>\n",
              "      <td>1.0</td>\n",
              "      <td>0</td>\n",
              "      <td>T</td>\n",
              "      <td>...</td>\n",
              "      <td>2.0</td>\n",
              "      <td>2.0</td>\n",
              "      <td>Administração</td>\n",
              "      <td>BACHARELADO</td>\n",
              "      <td>CSA</td>\n",
              "      <td>MARINGA</td>\n",
              "      <td>8</td>\n",
              "      <td>0</td>\n",
              "      <td>0.0</td>\n",
              "      <td>True</td>\n",
              "    </tr>\n",
              "  </tbody>\n",
              "</table>\n",
              "<p>66508 rows × 35 columns</p>\n",
              "</div>"
            ],
            "text/plain": [
              "          CD_ALUNO  CD_CURSO CD_TURNO DH_MATRICULA DH_SITUACAO  DT_ANO_INGRES  \\\n",
              "0        145457572         3        N   2014-01-10  2014-08-26           2014   \n",
              "1        131671183        34        V   2015-01-13  2019-01-18           2015   \n",
              "2       1748606897         3        N   2004-02-01  2009-01-30           2004   \n",
              "3       1204692590         7        N   2017-03-09  2021-06-23           2017   \n",
              "4       1308695326         4        M   2011-02-14  2011-10-20           2011   \n",
              "...            ...       ...      ...          ...         ...            ...   \n",
              "66814  13366520600         3        M   2022-07-14  2023-07-10           2022   \n",
              "66815  11333398558         8        M   2022-07-15  2023-06-13           2022   \n",
              "66816  19881374013        13        N   2022-07-20  2023-07-10           2022   \n",
              "66817  14796067716        42        I   2022-07-29  2022-07-29           2022   \n",
              "66818  16902075967         8        M   2022-11-24  2022-11-24           2022   \n",
              "\n",
              "      DT_NASC_ALUNO  LT_ESTADO_CIVIL  LT_RACA F_NU_SEMESTRE2_VEST  ...  \\\n",
              "0        1974-07-08              1.0        4                   I  ...   \n",
              "1        1971-07-12              1.0        5                   V  ...   \n",
              "2        1966-07-27              2.0        0                   T  ...   \n",
              "3        1967-10-01              4.0        2                   I  ...   \n",
              "4        1975-12-06              2.0        2                   P  ...   \n",
              "...             ...              ...      ...                 ...  ...   \n",
              "66814    1999-12-01              1.0        0                   P  ...   \n",
              "66815    1995-10-11              0.0        0                   A  ...   \n",
              "66816    1972-10-16              3.0        0                   T  ...   \n",
              "66817    1981-01-16              2.0        0                   T  ...   \n",
              "66818    2001-07-15              1.0        0                   T  ...   \n",
              "\n",
              "       LOCAL_FERIAS LOCAL_NASC       NM_CURSO TP_HABILITACAO SG_CENTRO  \\\n",
              "0               1.0        1.0         Letras   LICENCIATURA     CCH     \n",
              "1               1.0        1.0      Filosofia   LICENCIATURA     CCH     \n",
              "2               1.0        4.0         Letras   LICENCIATURA     CCH     \n",
              "3               1.0        2.0     Matemática          AMBOS     CCE     \n",
              "4               2.0        1.0      Geografia          AMBOS     CCH     \n",
              "...             ...        ...            ...            ...       ...   \n",
              "66814           1.0        4.0         Letras   LICENCIATURA     CCH     \n",
              "66815           2.0        2.0  Administração    BACHARELADO     CSA     \n",
              "66816           1.0        2.0      Pedagogia   LICENCIATURA     CCH     \n",
              "66817           2.0        2.0         Música    BACHARELADO     CCH     \n",
              "66818           2.0        2.0  Administração    BACHARELADO     CSA     \n",
              "\n",
              "       NM_CAMPUS  MAX_ANOS GERACAO_COMPLETA  NUMERO_GERACAO BOOL_SEDE  \n",
              "0        MARINGA         8                1            13.0      True  \n",
              "1        MARINGA         8                0             0.0      True  \n",
              "2        MARINGA         8                1             3.0      True  \n",
              "3        MARINGA         8                0             0.0      True  \n",
              "4        MARINGA         8                1            10.0      True  \n",
              "...          ...       ...              ...             ...       ...  \n",
              "66814    MARINGA         8                0             0.0      True  \n",
              "66815    MARINGA         8                0             0.0      True  \n",
              "66816    MARINGA         8                0             0.0      True  \n",
              "66817    MARINGA         6                0             0.0      True  \n",
              "66818    MARINGA         8                0             0.0      True  \n",
              "\n",
              "[66508 rows x 35 columns]"
            ]
          },
          "execution_count": 164,
          "metadata": {},
          "output_type": "execute_result"
        }
      ],
      "source": [
        "df_merge[colunas_relevantes]"
      ]
    },
    {
      "cell_type": "code",
      "execution_count": 165,
      "metadata": {
        "colab": {
          "base_uri": "https://localhost:8080/"
        },
        "id": "5yTZXUCnKrum",
        "outputId": "fd7c757b-e3ba-4a01-9c7f-f9034bf63e26"
      },
      "outputs": [
        {
          "data": {
            "text/plain": [
              "66508"
            ]
          },
          "execution_count": 165,
          "metadata": {},
          "output_type": "execute_result"
        }
      ],
      "source": [
        "df_merge.shape[0]"
      ]
    },
    {
      "cell_type": "code",
      "execution_count": 166,
      "metadata": {
        "colab": {
          "base_uri": "https://localhost:8080/"
        },
        "id": "5AuYiQsWKrum",
        "outputId": "47e390eb-ffa1-4ba3-e1a0-90067a53a939"
      },
      "outputs": [
        {
          "data": {
            "text/plain": [
              "311"
            ]
          },
          "execution_count": 166,
          "metadata": {},
          "output_type": "execute_result"
        }
      ],
      "source": [
        "df_final.shape[0] - df_merge.shape[0]"
      ]
    },
    {
      "cell_type": "code",
      "execution_count": 167,
      "metadata": {
        "colab": {
          "base_uri": "https://localhost:8080/"
        },
        "id": "zmXCkoqdKrum",
        "outputId": "383acc5e-c8bb-4d12-d5bc-12f284f44a40"
      },
      "outputs": [
        {
          "data": {
            "text/plain": [
              "(BOOL_ST_ALUNO\n",
              " 0.0    42486\n",
              " 1.0    24333\n",
              " Name: count, dtype: int64,\n",
              " BOOL_ST_ALUNO\n",
              " 0.0    63.583711\n",
              " 1.0    36.416289\n",
              " Name: proportion, dtype: float64)"
            ]
          },
          "execution_count": 167,
          "metadata": {},
          "output_type": "execute_result"
        }
      ],
      "source": [
        "df_final['BOOL_ST_ALUNO'].value_counts(), df_final['BOOL_ST_ALUNO'].value_counts(normalize=True) * 100"
      ]
    },
    {
      "cell_type": "code",
      "execution_count": 168,
      "metadata": {
        "colab": {
          "base_uri": "https://localhost:8080/"
        },
        "id": "TVdcPbCjKrum",
        "outputId": "418d5d1d-6baf-400f-dde7-03e9fde4fe20"
      },
      "outputs": [
        {
          "data": {
            "text/plain": [
              "(BOOL_ST_ALUNO\n",
              " 0.0    42175\n",
              " 1.0    24333\n",
              " Name: count, dtype: int64,\n",
              " BOOL_ST_ALUNO\n",
              " 0.0    63.413424\n",
              " 1.0    36.586576\n",
              " Name: proportion, dtype: float64)"
            ]
          },
          "execution_count": 168,
          "metadata": {},
          "output_type": "execute_result"
        }
      ],
      "source": [
        "df_merge['BOOL_ST_ALUNO'].value_counts(), df_merge['BOOL_ST_ALUNO'].value_counts(normalize=True) * 100"
      ]
    },
    {
      "cell_type": "code",
      "execution_count": 169,
      "metadata": {
        "colab": {
          "base_uri": "https://localhost:8080/"
        },
        "id": "arnUMmeaKrum",
        "outputId": "daca4760-ad99-48c8-b67c-b3ad204ebbfb"
      },
      "outputs": [
        {
          "data": {
            "text/plain": [
              "(MULTI_ST_ALUNO\n",
              " FORMADO          32549\n",
              " CANCELAMENTO     23603\n",
              " MATRICULADO       8786\n",
              " JUBILADO          1151\n",
              " TRANSFERENCIA      730\n",
              " Name: count, dtype: int64,\n",
              " MULTI_ST_ALUNO\n",
              " FORMADO          48.712193\n",
              " CANCELAMENTO     35.323785\n",
              " MATRICULADO      13.148955\n",
              " JUBILADO          1.722564\n",
              " TRANSFERENCIA     1.092504\n",
              " Name: proportion, dtype: float64)"
            ]
          },
          "execution_count": 169,
          "metadata": {},
          "output_type": "execute_result"
        }
      ],
      "source": [
        "df_final['MULTI_ST_ALUNO'].value_counts(), df_final['MULTI_ST_ALUNO'].value_counts(normalize=True) * 100"
      ]
    },
    {
      "cell_type": "code",
      "execution_count": 170,
      "metadata": {
        "colab": {
          "base_uri": "https://localhost:8080/"
        },
        "id": "kgj2biYUKrum",
        "outputId": "71c76e4b-4b49-4d9a-80af-23e14fd88a59"
      },
      "outputs": [
        {
          "data": {
            "text/plain": [
              "(MULTI_ST_ALUNO\n",
              " FORMADO          32549\n",
              " CANCELAMENTO     23603\n",
              " MATRICULADO       8644\n",
              " JUBILADO           982\n",
              " TRANSFERENCIA      730\n",
              " Name: count, dtype: int64,\n",
              " MULTI_ST_ALUNO\n",
              " FORMADO          48.939977\n",
              " CANCELAMENTO     35.488964\n",
              " MATRICULADO      12.996933\n",
              " JUBILADO          1.476514\n",
              " TRANSFERENCIA     1.097612\n",
              " Name: proportion, dtype: float64)"
            ]
          },
          "execution_count": 170,
          "metadata": {},
          "output_type": "execute_result"
        }
      ],
      "source": [
        "df_merge['MULTI_ST_ALUNO'].value_counts(), df_merge['MULTI_ST_ALUNO'].value_counts(normalize=True) * 100"
      ]
    },
    {
      "cell_type": "code",
      "execution_count": 171,
      "metadata": {
        "id": "AiK6xZ46Krum"
      },
      "outputs": [],
      "source": [
        "# df_merge['NM_CURSO'].value_counts().reset_index().to_excel('/alunos-curso.xlsx')"
      ]
    },
    {
      "cell_type": "markdown",
      "metadata": {
        "id": "mNULgAM3Wa63"
      },
      "source": [
        "### Dropando estados errado"
      ]
    },
    {
      "cell_type": "code",
      "execution_count": 172,
      "metadata": {
        "colab": {
          "base_uri": "https://localhost:8080/"
        },
        "id": "ySfm3FrcTpY4",
        "outputId": "da0ea813-6d8f-4472-b22f-6e929e62bf26"
      },
      "outputs": [
        {
          "data": {
            "text/plain": [
              "array(['PR', 'RS', 'SP', 'PB', 'MS', 'RJ', 'SC', 'MG', 'GO', 'DF', 'PA',\n",
              "       'MT', 'PE', 'MA', 'RO', 'BA', 'AL', 'AM', 'PI', 'ES', 'AC', 'CE',\n",
              "       'SE', 'AP', 'RN', 'TO', 'RR'], dtype=object)"
            ]
          },
          "execution_count": 172,
          "metadata": {},
          "output_type": "execute_result"
        }
      ],
      "source": [
        "df_merge['F_SG_UF_NASC_ALUNO'].unique()"
      ]
    },
    {
      "cell_type": "code",
      "execution_count": 173,
      "metadata": {
        "colab": {
          "base_uri": "https://localhost:8080/",
          "height": 101
        },
        "id": "EstEZLChKrun",
        "outputId": "2f912b32-cc70-4a86-e7e1-ff9b0a2e2ef3"
      },
      "outputs": [
        {
          "data": {
            "text/html": [
              "<div>\n",
              "<style scoped>\n",
              "    .dataframe tbody tr th:only-of-type {\n",
              "        vertical-align: middle;\n",
              "    }\n",
              "\n",
              "    .dataframe tbody tr th {\n",
              "        vertical-align: top;\n",
              "    }\n",
              "\n",
              "    .dataframe thead th {\n",
              "        text-align: right;\n",
              "    }\n",
              "</style>\n",
              "<table border=\"1\" class=\"dataframe\">\n",
              "  <thead>\n",
              "    <tr style=\"text-align: right;\">\n",
              "      <th></th>\n",
              "      <th>ANO_OCORRENCIA</th>\n",
              "      <th>CD_ALUNO</th>\n",
              "      <th>CD_CURSO</th>\n",
              "      <th>CD_ORIGEM_ALUNO</th>\n",
              "      <th>CD_TURNO</th>\n",
              "      <th>DE_NATURALIDADE</th>\n",
              "      <th>DH_MATRICULA</th>\n",
              "      <th>DH_SITUACAO</th>\n",
              "      <th>DT_ANO_INGRES</th>\n",
              "      <th>DT_NASC_ALUNO</th>\n",
              "      <th>...</th>\n",
              "      <th>NM_CURSO</th>\n",
              "      <th>TP_HABILITACAO</th>\n",
              "      <th>SG_CENTRO</th>\n",
              "      <th>NM_CAMPUS</th>\n",
              "      <th>MAX_ANOS</th>\n",
              "      <th>BOOL_SEDE</th>\n",
              "      <th>LOCAL_FERIAS</th>\n",
              "      <th>LOCAL_NASC</th>\n",
              "      <th>GERACAO_COMPLETA</th>\n",
              "      <th>NUMERO_GERACAO</th>\n",
              "    </tr>\n",
              "  </thead>\n",
              "  <tbody>\n",
              "  </tbody>\n",
              "</table>\n",
              "<p>0 rows × 56 columns</p>\n",
              "</div>"
            ],
            "text/plain": [
              "Empty DataFrame\n",
              "Columns: [ANO_OCORRENCIA, CD_ALUNO, CD_CURSO, CD_ORIGEM_ALUNO, CD_TURNO, DE_NATURALIDADE, DH_MATRICULA, DH_SITUACAO, DT_ANO_INGRES, DT_NASC_ALUNO, LT_ESTADO_CIVIL, LT_MODALIDADE, LT_NACIONALIDADE, LT_RACA, NM_CIDADE_AULA, NM_CIDADE_EST2GRAU, NM_CIDADE_FERIAS, NM_CIDADE_NASC, NM_PAIS_NASC, NU_SEMESTRE2_VEST, SG_SEXO_ALUNO, SG_UF_AULA, SG_UF_EST2GRAU, SG_UF_FERIAS, SG_UF_NASC_ALUNO, ST_ALUNO, TP_DEFIC_INEP, TP_ESCOLA, TP_INGRES_CURSO, TP_OPCAO_COTAS, F_CD_ORIGEM_ALUNO, F_DT_NASC_ALUNO, F_NM_PAIS_NASC, F_NU_SEMESTRE2_VEST, F_SG_UF_FERIAS, F_SG_UF_NASC_ALUNO, BOOL_TRANCADO, BOOL_ST_ALUNO, MULTI_ST_ALUNO, BOOL_DEFIC_INEP, F_TP_ESCOLA, F_TP_OPCAO_COTAS, BOOL_COTAS, IDADE_MATRICULA, ANO_NASCIMENTO, MESES_ATE_ULTIMA_SITUACAO, NM_CURSO, TP_HABILITACAO, SG_CENTRO, NM_CAMPUS, MAX_ANOS, BOOL_SEDE, LOCAL_FERIAS, LOCAL_NASC, GERACAO_COMPLETA, NUMERO_GERACAO]\n",
              "Index: []\n",
              "\n",
              "[0 rows x 56 columns]"
            ]
          },
          "execution_count": 173,
          "metadata": {},
          "output_type": "execute_result"
        }
      ],
      "source": [
        "df_merge[df_merge['F_SG_UF_NASC_ALUNO'] == '5']"
      ]
    },
    {
      "cell_type": "code",
      "execution_count": 174,
      "metadata": {
        "id": "chgQnlkKUuqH"
      },
      "outputs": [],
      "source": [
        "df_merge.drop(4074, inplace=True)"
      ]
    },
    {
      "cell_type": "code",
      "execution_count": 175,
      "metadata": {
        "colab": {
          "base_uri": "https://localhost:8080/",
          "height": 101
        },
        "id": "YBRRf2JqU22H",
        "outputId": "c9da41bb-28d8-4ba0-8eb2-689ec8aa5edc"
      },
      "outputs": [
        {
          "data": {
            "text/html": [
              "<div>\n",
              "<style scoped>\n",
              "    .dataframe tbody tr th:only-of-type {\n",
              "        vertical-align: middle;\n",
              "    }\n",
              "\n",
              "    .dataframe tbody tr th {\n",
              "        vertical-align: top;\n",
              "    }\n",
              "\n",
              "    .dataframe thead th {\n",
              "        text-align: right;\n",
              "    }\n",
              "</style>\n",
              "<table border=\"1\" class=\"dataframe\">\n",
              "  <thead>\n",
              "    <tr style=\"text-align: right;\">\n",
              "      <th></th>\n",
              "      <th>ANO_OCORRENCIA</th>\n",
              "      <th>CD_ALUNO</th>\n",
              "      <th>CD_CURSO</th>\n",
              "      <th>CD_ORIGEM_ALUNO</th>\n",
              "      <th>CD_TURNO</th>\n",
              "      <th>DE_NATURALIDADE</th>\n",
              "      <th>DH_MATRICULA</th>\n",
              "      <th>DH_SITUACAO</th>\n",
              "      <th>DT_ANO_INGRES</th>\n",
              "      <th>DT_NASC_ALUNO</th>\n",
              "      <th>...</th>\n",
              "      <th>NM_CURSO</th>\n",
              "      <th>TP_HABILITACAO</th>\n",
              "      <th>SG_CENTRO</th>\n",
              "      <th>NM_CAMPUS</th>\n",
              "      <th>MAX_ANOS</th>\n",
              "      <th>BOOL_SEDE</th>\n",
              "      <th>LOCAL_FERIAS</th>\n",
              "      <th>LOCAL_NASC</th>\n",
              "      <th>GERACAO_COMPLETA</th>\n",
              "      <th>NUMERO_GERACAO</th>\n",
              "    </tr>\n",
              "  </thead>\n",
              "  <tbody>\n",
              "  </tbody>\n",
              "</table>\n",
              "<p>0 rows × 56 columns</p>\n",
              "</div>"
            ],
            "text/plain": [
              "Empty DataFrame\n",
              "Columns: [ANO_OCORRENCIA, CD_ALUNO, CD_CURSO, CD_ORIGEM_ALUNO, CD_TURNO, DE_NATURALIDADE, DH_MATRICULA, DH_SITUACAO, DT_ANO_INGRES, DT_NASC_ALUNO, LT_ESTADO_CIVIL, LT_MODALIDADE, LT_NACIONALIDADE, LT_RACA, NM_CIDADE_AULA, NM_CIDADE_EST2GRAU, NM_CIDADE_FERIAS, NM_CIDADE_NASC, NM_PAIS_NASC, NU_SEMESTRE2_VEST, SG_SEXO_ALUNO, SG_UF_AULA, SG_UF_EST2GRAU, SG_UF_FERIAS, SG_UF_NASC_ALUNO, ST_ALUNO, TP_DEFIC_INEP, TP_ESCOLA, TP_INGRES_CURSO, TP_OPCAO_COTAS, F_CD_ORIGEM_ALUNO, F_DT_NASC_ALUNO, F_NM_PAIS_NASC, F_NU_SEMESTRE2_VEST, F_SG_UF_FERIAS, F_SG_UF_NASC_ALUNO, BOOL_TRANCADO, BOOL_ST_ALUNO, MULTI_ST_ALUNO, BOOL_DEFIC_INEP, F_TP_ESCOLA, F_TP_OPCAO_COTAS, BOOL_COTAS, IDADE_MATRICULA, ANO_NASCIMENTO, MESES_ATE_ULTIMA_SITUACAO, NM_CURSO, TP_HABILITACAO, SG_CENTRO, NM_CAMPUS, MAX_ANOS, BOOL_SEDE, LOCAL_FERIAS, LOCAL_NASC, GERACAO_COMPLETA, NUMERO_GERACAO]\n",
              "Index: []\n",
              "\n",
              "[0 rows x 56 columns]"
            ]
          },
          "execution_count": 175,
          "metadata": {},
          "output_type": "execute_result"
        }
      ],
      "source": [
        "df_merge[df_merge['F_SG_UF_NASC_ALUNO'] == 'WP']"
      ]
    },
    {
      "cell_type": "code",
      "execution_count": 176,
      "metadata": {
        "id": "j5d7GiNNVAmW"
      },
      "outputs": [],
      "source": [
        "df_merge.drop(14023, inplace=True)"
      ]
    },
    {
      "cell_type": "code",
      "execution_count": 177,
      "metadata": {
        "colab": {
          "base_uri": "https://localhost:8080/"
        },
        "id": "5fptimAxV9Sr",
        "outputId": "a849ffc0-cb94-4528-bbd7-05b232e4f45a"
      },
      "outputs": [
        {
          "data": {
            "text/plain": [
              "array(['PR', 'SP', 'MG', 'SC', 'MT', 'GO', 'AC', 'MS', 'RS', 'RO', 'PA',\n",
              "       'BA', 'PB', 'RJ', 'ES', 'TO', 'DF', 'RN', 'CE', 'SE', 'MA', 'PE',\n",
              "       'RR', 'AL', 'PI', 'AM', 'AP'], dtype=object)"
            ]
          },
          "execution_count": 177,
          "metadata": {},
          "output_type": "execute_result"
        }
      ],
      "source": [
        "df_merge['F_SG_UF_FERIAS'].unique()"
      ]
    },
    {
      "cell_type": "code",
      "execution_count": 178,
      "metadata": {
        "colab": {
          "base_uri": "https://localhost:8080/",
          "height": 250
        },
        "id": "-vN6REwvWJHB",
        "outputId": "3ff32420-f700-432e-d6c0-915428441b3d"
      },
      "outputs": [
        {
          "data": {
            "text/html": [
              "<div>\n",
              "<style scoped>\n",
              "    .dataframe tbody tr th:only-of-type {\n",
              "        vertical-align: middle;\n",
              "    }\n",
              "\n",
              "    .dataframe tbody tr th {\n",
              "        vertical-align: top;\n",
              "    }\n",
              "\n",
              "    .dataframe thead th {\n",
              "        text-align: right;\n",
              "    }\n",
              "</style>\n",
              "<table border=\"1\" class=\"dataframe\">\n",
              "  <thead>\n",
              "    <tr style=\"text-align: right;\">\n",
              "      <th></th>\n",
              "      <th>ANO_OCORRENCIA</th>\n",
              "      <th>CD_ALUNO</th>\n",
              "      <th>CD_CURSO</th>\n",
              "      <th>CD_ORIGEM_ALUNO</th>\n",
              "      <th>CD_TURNO</th>\n",
              "      <th>DE_NATURALIDADE</th>\n",
              "      <th>DH_MATRICULA</th>\n",
              "      <th>DH_SITUACAO</th>\n",
              "      <th>DT_ANO_INGRES</th>\n",
              "      <th>DT_NASC_ALUNO</th>\n",
              "      <th>...</th>\n",
              "      <th>NM_CURSO</th>\n",
              "      <th>TP_HABILITACAO</th>\n",
              "      <th>SG_CENTRO</th>\n",
              "      <th>NM_CAMPUS</th>\n",
              "      <th>MAX_ANOS</th>\n",
              "      <th>BOOL_SEDE</th>\n",
              "      <th>LOCAL_FERIAS</th>\n",
              "      <th>LOCAL_NASC</th>\n",
              "      <th>GERACAO_COMPLETA</th>\n",
              "      <th>NUMERO_GERACAO</th>\n",
              "    </tr>\n",
              "  </thead>\n",
              "  <tbody>\n",
              "  </tbody>\n",
              "</table>\n",
              "<p>0 rows × 56 columns</p>\n",
              "</div>"
            ],
            "text/plain": [
              "Empty DataFrame\n",
              "Columns: [ANO_OCORRENCIA, CD_ALUNO, CD_CURSO, CD_ORIGEM_ALUNO, CD_TURNO, DE_NATURALIDADE, DH_MATRICULA, DH_SITUACAO, DT_ANO_INGRES, DT_NASC_ALUNO, LT_ESTADO_CIVIL, LT_MODALIDADE, LT_NACIONALIDADE, LT_RACA, NM_CIDADE_AULA, NM_CIDADE_EST2GRAU, NM_CIDADE_FERIAS, NM_CIDADE_NASC, NM_PAIS_NASC, NU_SEMESTRE2_VEST, SG_SEXO_ALUNO, SG_UF_AULA, SG_UF_EST2GRAU, SG_UF_FERIAS, SG_UF_NASC_ALUNO, ST_ALUNO, TP_DEFIC_INEP, TP_ESCOLA, TP_INGRES_CURSO, TP_OPCAO_COTAS, F_CD_ORIGEM_ALUNO, F_DT_NASC_ALUNO, F_NM_PAIS_NASC, F_NU_SEMESTRE2_VEST, F_SG_UF_FERIAS, F_SG_UF_NASC_ALUNO, BOOL_TRANCADO, BOOL_ST_ALUNO, MULTI_ST_ALUNO, BOOL_DEFIC_INEP, F_TP_ESCOLA, F_TP_OPCAO_COTAS, BOOL_COTAS, IDADE_MATRICULA, ANO_NASCIMENTO, MESES_ATE_ULTIMA_SITUACAO, NM_CURSO, TP_HABILITACAO, SG_CENTRO, NM_CAMPUS, MAX_ANOS, BOOL_SEDE, LOCAL_FERIAS, LOCAL_NASC, GERACAO_COMPLETA, NUMERO_GERACAO]\n",
              "Index: []\n",
              "\n",
              "[0 rows x 56 columns]"
            ]
          },
          "execution_count": 178,
          "metadata": {},
          "output_type": "execute_result"
        }
      ],
      "source": [
        "df_merge[df_merge['F_SG_UF_FERIAS'] == '--']"
      ]
    },
    {
      "cell_type": "code",
      "execution_count": 180,
      "metadata": {
        "id": "n_QVIZYeWIMZ"
      },
      "outputs": [],
      "source": [
        "df_merge.drop([18665, 22683], inplace=True)"
      ]
    },
    {
      "cell_type": "markdown",
      "metadata": {
        "id": "4wuG41zOXl3a"
      },
      "source": [
        "### Visualizações finais"
      ]
    },
    {
      "cell_type": "code",
      "execution_count": 181,
      "metadata": {
        "colab": {
          "base_uri": "https://localhost:8080/"
        },
        "id": "kMhQDEjcXpV6",
        "outputId": "8c2982bf-a6b3-4989-96a9-bacb270786af"
      },
      "outputs": [
        {
          "data": {
            "text/plain": [
              "66504"
            ]
          },
          "execution_count": 181,
          "metadata": {},
          "output_type": "execute_result"
        }
      ],
      "source": [
        "df_merge.shape[0]"
      ]
    },
    {
      "cell_type": "code",
      "execution_count": 182,
      "metadata": {
        "colab": {
          "base_uri": "https://localhost:8080/"
        },
        "id": "zU_pGIahXyxN",
        "outputId": "b099130d-9924-4bd5-a604-c0f2a92792fe"
      },
      "outputs": [
        {
          "data": {
            "text/plain": [
              "(2002, 2022)"
            ]
          },
          "execution_count": 182,
          "metadata": {},
          "output_type": "execute_result"
        }
      ],
      "source": [
        "df_merge['DT_ANO_INGRES'].min(), df_merge['DT_ANO_INGRES'].max()"
      ]
    },
    {
      "cell_type": "code",
      "execution_count": 183,
      "metadata": {
        "id": "St-RHgjwYOhZ"
      },
      "outputs": [
        {
          "data": {
            "text/html": [
              "<div>\n",
              "<style scoped>\n",
              "    .dataframe tbody tr th:only-of-type {\n",
              "        vertical-align: middle;\n",
              "    }\n",
              "\n",
              "    .dataframe tbody tr th {\n",
              "        vertical-align: top;\n",
              "    }\n",
              "\n",
              "    .dataframe thead th {\n",
              "        text-align: right;\n",
              "    }\n",
              "</style>\n",
              "<table border=\"1\" class=\"dataframe\">\n",
              "  <thead>\n",
              "    <tr style=\"text-align: right;\">\n",
              "      <th></th>\n",
              "      <th>ANO_OCORRENCIA</th>\n",
              "      <th>CD_ALUNO</th>\n",
              "      <th>CD_CURSO</th>\n",
              "      <th>CD_ORIGEM_ALUNO</th>\n",
              "      <th>CD_TURNO</th>\n",
              "      <th>DE_NATURALIDADE</th>\n",
              "      <th>DH_MATRICULA</th>\n",
              "      <th>DH_SITUACAO</th>\n",
              "      <th>DT_ANO_INGRES</th>\n",
              "      <th>DT_NASC_ALUNO</th>\n",
              "      <th>...</th>\n",
              "      <th>NM_CURSO</th>\n",
              "      <th>TP_HABILITACAO</th>\n",
              "      <th>SG_CENTRO</th>\n",
              "      <th>NM_CAMPUS</th>\n",
              "      <th>MAX_ANOS</th>\n",
              "      <th>BOOL_SEDE</th>\n",
              "      <th>LOCAL_FERIAS</th>\n",
              "      <th>LOCAL_NASC</th>\n",
              "      <th>GERACAO_COMPLETA</th>\n",
              "      <th>NUMERO_GERACAO</th>\n",
              "    </tr>\n",
              "  </thead>\n",
              "  <tbody>\n",
              "    <tr>\n",
              "      <th>0</th>\n",
              "      <td>2014</td>\n",
              "      <td>145457572</td>\n",
              "      <td>3</td>\n",
              "      <td>1</td>\n",
              "      <td>N</td>\n",
              "      <td>BRASILEIRO</td>\n",
              "      <td>2014-01-10</td>\n",
              "      <td>2014-08-26</td>\n",
              "      <td>2014</td>\n",
              "      <td>1974-07-08</td>\n",
              "      <td>...</td>\n",
              "      <td>Letras</td>\n",
              "      <td>LICENCIATURA</td>\n",
              "      <td>CCH</td>\n",
              "      <td>MARINGA</td>\n",
              "      <td>8</td>\n",
              "      <td>True</td>\n",
              "      <td>1.0</td>\n",
              "      <td>1.0</td>\n",
              "      <td>1</td>\n",
              "      <td>13.0</td>\n",
              "    </tr>\n",
              "    <tr>\n",
              "      <th>1</th>\n",
              "      <td>2018</td>\n",
              "      <td>131671183</td>\n",
              "      <td>34</td>\n",
              "      <td>1</td>\n",
              "      <td>V</td>\n",
              "      <td>BRASILEIRO</td>\n",
              "      <td>2015-01-13</td>\n",
              "      <td>2019-01-18</td>\n",
              "      <td>2015</td>\n",
              "      <td>1971-07-12</td>\n",
              "      <td>...</td>\n",
              "      <td>Filosofia</td>\n",
              "      <td>LICENCIATURA</td>\n",
              "      <td>CCH</td>\n",
              "      <td>MARINGA</td>\n",
              "      <td>8</td>\n",
              "      <td>True</td>\n",
              "      <td>1.0</td>\n",
              "      <td>1.0</td>\n",
              "      <td>0</td>\n",
              "      <td>0.0</td>\n",
              "    </tr>\n",
              "    <tr>\n",
              "      <th>2</th>\n",
              "      <td>2009</td>\n",
              "      <td>1748606897</td>\n",
              "      <td>3</td>\n",
              "      <td>5</td>\n",
              "      <td>N</td>\n",
              "      <td>BRASILEIRA</td>\n",
              "      <td>2004-02-01</td>\n",
              "      <td>2009-01-30</td>\n",
              "      <td>2004</td>\n",
              "      <td>1966-07-27</td>\n",
              "      <td>...</td>\n",
              "      <td>Letras</td>\n",
              "      <td>LICENCIATURA</td>\n",
              "      <td>CCH</td>\n",
              "      <td>MARINGA</td>\n",
              "      <td>8</td>\n",
              "      <td>True</td>\n",
              "      <td>1.0</td>\n",
              "      <td>4.0</td>\n",
              "      <td>1</td>\n",
              "      <td>3.0</td>\n",
              "    </tr>\n",
              "    <tr>\n",
              "      <th>3</th>\n",
              "      <td>2020</td>\n",
              "      <td>1204692590</td>\n",
              "      <td>7</td>\n",
              "      <td>3</td>\n",
              "      <td>N</td>\n",
              "      <td>BRASILEIRA</td>\n",
              "      <td>2017-03-09</td>\n",
              "      <td>2021-06-23</td>\n",
              "      <td>2017</td>\n",
              "      <td>1967-10-01</td>\n",
              "      <td>...</td>\n",
              "      <td>Matemática</td>\n",
              "      <td>AMBOS</td>\n",
              "      <td>CCE</td>\n",
              "      <td>MARINGA</td>\n",
              "      <td>8</td>\n",
              "      <td>True</td>\n",
              "      <td>1.0</td>\n",
              "      <td>2.0</td>\n",
              "      <td>0</td>\n",
              "      <td>0.0</td>\n",
              "    </tr>\n",
              "    <tr>\n",
              "      <th>4</th>\n",
              "      <td>2011</td>\n",
              "      <td>1308695326</td>\n",
              "      <td>4</td>\n",
              "      <td>1</td>\n",
              "      <td>M</td>\n",
              "      <td>BRASILEIRA</td>\n",
              "      <td>2011-02-14</td>\n",
              "      <td>2011-10-20</td>\n",
              "      <td>2011</td>\n",
              "      <td>1975-12-06</td>\n",
              "      <td>...</td>\n",
              "      <td>Geografia</td>\n",
              "      <td>AMBOS</td>\n",
              "      <td>CCH</td>\n",
              "      <td>MARINGA</td>\n",
              "      <td>8</td>\n",
              "      <td>True</td>\n",
              "      <td>2.0</td>\n",
              "      <td>1.0</td>\n",
              "      <td>1</td>\n",
              "      <td>10.0</td>\n",
              "    </tr>\n",
              "    <tr>\n",
              "      <th>...</th>\n",
              "      <td>...</td>\n",
              "      <td>...</td>\n",
              "      <td>...</td>\n",
              "      <td>...</td>\n",
              "      <td>...</td>\n",
              "      <td>...</td>\n",
              "      <td>...</td>\n",
              "      <td>...</td>\n",
              "      <td>...</td>\n",
              "      <td>...</td>\n",
              "      <td>...</td>\n",
              "      <td>...</td>\n",
              "      <td>...</td>\n",
              "      <td>...</td>\n",
              "      <td>...</td>\n",
              "      <td>...</td>\n",
              "      <td>...</td>\n",
              "      <td>...</td>\n",
              "      <td>...</td>\n",
              "      <td>...</td>\n",
              "      <td>...</td>\n",
              "    </tr>\n",
              "    <tr>\n",
              "      <th>66814</th>\n",
              "      <td>2023</td>\n",
              "      <td>13366520600</td>\n",
              "      <td>3</td>\n",
              "      <td>0</td>\n",
              "      <td>M</td>\n",
              "      <td>NaN</td>\n",
              "      <td>2022-07-14</td>\n",
              "      <td>2023-07-10</td>\n",
              "      <td>2022</td>\n",
              "      <td>1999-12-01</td>\n",
              "      <td>...</td>\n",
              "      <td>Letras</td>\n",
              "      <td>LICENCIATURA</td>\n",
              "      <td>CCH</td>\n",
              "      <td>MARINGA</td>\n",
              "      <td>8</td>\n",
              "      <td>True</td>\n",
              "      <td>1.0</td>\n",
              "      <td>4.0</td>\n",
              "      <td>0</td>\n",
              "      <td>0.0</td>\n",
              "    </tr>\n",
              "    <tr>\n",
              "      <th>66815</th>\n",
              "      <td>2022</td>\n",
              "      <td>11333398558</td>\n",
              "      <td>8</td>\n",
              "      <td>3</td>\n",
              "      <td>M</td>\n",
              "      <td>NaN</td>\n",
              "      <td>2022-07-15</td>\n",
              "      <td>2023-06-13</td>\n",
              "      <td>2022</td>\n",
              "      <td>1995-10-11</td>\n",
              "      <td>...</td>\n",
              "      <td>Administração</td>\n",
              "      <td>BACHARELADO</td>\n",
              "      <td>CSA</td>\n",
              "      <td>MARINGA</td>\n",
              "      <td>8</td>\n",
              "      <td>True</td>\n",
              "      <td>2.0</td>\n",
              "      <td>2.0</td>\n",
              "      <td>0</td>\n",
              "      <td>0.0</td>\n",
              "    </tr>\n",
              "    <tr>\n",
              "      <th>66816</th>\n",
              "      <td>2023</td>\n",
              "      <td>19881374013</td>\n",
              "      <td>13</td>\n",
              "      <td>0</td>\n",
              "      <td>N</td>\n",
              "      <td>NaN</td>\n",
              "      <td>2022-07-20</td>\n",
              "      <td>2023-07-10</td>\n",
              "      <td>2022</td>\n",
              "      <td>1972-10-16</td>\n",
              "      <td>...</td>\n",
              "      <td>Pedagogia</td>\n",
              "      <td>LICENCIATURA</td>\n",
              "      <td>CCH</td>\n",
              "      <td>MARINGA</td>\n",
              "      <td>8</td>\n",
              "      <td>True</td>\n",
              "      <td>1.0</td>\n",
              "      <td>2.0</td>\n",
              "      <td>0</td>\n",
              "      <td>0.0</td>\n",
              "    </tr>\n",
              "    <tr>\n",
              "      <th>66817</th>\n",
              "      <td>0</td>\n",
              "      <td>14796067716</td>\n",
              "      <td>42</td>\n",
              "      <td>0</td>\n",
              "      <td>I</td>\n",
              "      <td>NaN</td>\n",
              "      <td>2022-07-29</td>\n",
              "      <td>2022-07-29</td>\n",
              "      <td>2022</td>\n",
              "      <td>1981-01-16</td>\n",
              "      <td>...</td>\n",
              "      <td>Música</td>\n",
              "      <td>BACHARELADO</td>\n",
              "      <td>CCH</td>\n",
              "      <td>MARINGA</td>\n",
              "      <td>6</td>\n",
              "      <td>True</td>\n",
              "      <td>2.0</td>\n",
              "      <td>2.0</td>\n",
              "      <td>0</td>\n",
              "      <td>0.0</td>\n",
              "    </tr>\n",
              "    <tr>\n",
              "      <th>66818</th>\n",
              "      <td>0</td>\n",
              "      <td>16902075967</td>\n",
              "      <td>8</td>\n",
              "      <td>0</td>\n",
              "      <td>M</td>\n",
              "      <td>NaN</td>\n",
              "      <td>2022-11-24</td>\n",
              "      <td>2022-11-24</td>\n",
              "      <td>2022</td>\n",
              "      <td>2001-07-15</td>\n",
              "      <td>...</td>\n",
              "      <td>Administração</td>\n",
              "      <td>BACHARELADO</td>\n",
              "      <td>CSA</td>\n",
              "      <td>MARINGA</td>\n",
              "      <td>8</td>\n",
              "      <td>True</td>\n",
              "      <td>2.0</td>\n",
              "      <td>2.0</td>\n",
              "      <td>0</td>\n",
              "      <td>0.0</td>\n",
              "    </tr>\n",
              "  </tbody>\n",
              "</table>\n",
              "<p>66504 rows × 56 columns</p>\n",
              "</div>"
            ],
            "text/plain": [
              "       ANO_OCORRENCIA     CD_ALUNO  CD_CURSO  CD_ORIGEM_ALUNO CD_TURNO  \\\n",
              "0                2014    145457572         3                1        N   \n",
              "1                2018    131671183        34                1        V   \n",
              "2                2009   1748606897         3                5        N   \n",
              "3                2020   1204692590         7                3        N   \n",
              "4                2011   1308695326         4                1        M   \n",
              "...               ...          ...       ...              ...      ...   \n",
              "66814            2023  13366520600         3                0        M   \n",
              "66815            2022  11333398558         8                3        M   \n",
              "66816            2023  19881374013        13                0        N   \n",
              "66817               0  14796067716        42                0        I   \n",
              "66818               0  16902075967         8                0        M   \n",
              "\n",
              "      DE_NATURALIDADE DH_MATRICULA DH_SITUACAO  DT_ANO_INGRES DT_NASC_ALUNO  \\\n",
              "0          BRASILEIRO   2014-01-10  2014-08-26           2014    1974-07-08   \n",
              "1          BRASILEIRO   2015-01-13  2019-01-18           2015    1971-07-12   \n",
              "2          BRASILEIRA   2004-02-01  2009-01-30           2004    1966-07-27   \n",
              "3          BRASILEIRA   2017-03-09  2021-06-23           2017    1967-10-01   \n",
              "4          BRASILEIRA   2011-02-14  2011-10-20           2011    1975-12-06   \n",
              "...               ...          ...         ...            ...           ...   \n",
              "66814             NaN   2022-07-14  2023-07-10           2022    1999-12-01   \n",
              "66815             NaN   2022-07-15  2023-06-13           2022    1995-10-11   \n",
              "66816             NaN   2022-07-20  2023-07-10           2022    1972-10-16   \n",
              "66817             NaN   2022-07-29  2022-07-29           2022    1981-01-16   \n",
              "66818             NaN   2022-11-24  2022-11-24           2022    2001-07-15   \n",
              "\n",
              "       ...       NM_CURSO TP_HABILITACAO SG_CENTRO  NM_CAMPUS MAX_ANOS  \\\n",
              "0      ...         Letras   LICENCIATURA     CCH      MARINGA        8   \n",
              "1      ...      Filosofia   LICENCIATURA     CCH      MARINGA        8   \n",
              "2      ...         Letras   LICENCIATURA     CCH      MARINGA        8   \n",
              "3      ...     Matemática          AMBOS     CCE      MARINGA        8   \n",
              "4      ...      Geografia          AMBOS     CCH      MARINGA        8   \n",
              "...    ...            ...            ...       ...        ...      ...   \n",
              "66814  ...         Letras   LICENCIATURA     CCH      MARINGA        8   \n",
              "66815  ...  Administração    BACHARELADO     CSA      MARINGA        8   \n",
              "66816  ...      Pedagogia   LICENCIATURA     CCH      MARINGA        8   \n",
              "66817  ...         Música    BACHARELADO     CCH      MARINGA        6   \n",
              "66818  ...  Administração    BACHARELADO     CSA      MARINGA        8   \n",
              "\n",
              "      BOOL_SEDE LOCAL_FERIAS LOCAL_NASC GERACAO_COMPLETA NUMERO_GERACAO  \n",
              "0          True          1.0        1.0                1           13.0  \n",
              "1          True          1.0        1.0                0            0.0  \n",
              "2          True          1.0        4.0                1            3.0  \n",
              "3          True          1.0        2.0                0            0.0  \n",
              "4          True          2.0        1.0                1           10.0  \n",
              "...         ...          ...        ...              ...            ...  \n",
              "66814      True          1.0        4.0                0            0.0  \n",
              "66815      True          2.0        2.0                0            0.0  \n",
              "66816      True          1.0        2.0                0            0.0  \n",
              "66817      True          2.0        2.0                0            0.0  \n",
              "66818      True          2.0        2.0                0            0.0  \n",
              "\n",
              "[66504 rows x 56 columns]"
            ]
          },
          "execution_count": 183,
          "metadata": {},
          "output_type": "execute_result"
        }
      ],
      "source": [
        "df_merge"
      ]
    },
    {
      "cell_type": "markdown",
      "metadata": {},
      "source": [
        "### Ajustes nos tipos das colunas"
      ]
    },
    {
      "cell_type": "code",
      "execution_count": 3,
      "metadata": {},
      "outputs": [
        {
          "name": "stderr",
          "output_type": "stream",
          "text": [
            "C:\\Users\\romulo.mincache\\AppData\\Local\\Temp\\ipykernel_26492\\761581769.py:1: DtypeWarning: Columns (5) have mixed types. Specify dtype option on import or set low_memory=False.\n",
            "  df_merge = pd.read_csv('arquivos\\dadosalunos-limpo.csv')\n"
          ]
        }
      ],
      "source": [
        "df_merge = pd.read_csv('arquivos\\dadosalunos-limpo.csv')"
      ]
    },
    {
      "cell_type": "code",
      "execution_count": 4,
      "metadata": {},
      "outputs": [
        {
          "name": "stdout",
          "output_type": "stream",
          "text": [
            "<class 'pandas.core.frame.DataFrame'>\n",
            "RangeIndex: 66504 entries, 0 to 66503\n",
            "Data columns (total 56 columns):\n",
            " #   Column                     Non-Null Count  Dtype  \n",
            "---  ------                     --------------  -----  \n",
            " 0   ANO_OCORRENCIA             66504 non-null  int64  \n",
            " 1   CD_ALUNO                   66504 non-null  int64  \n",
            " 2   CD_CURSO                   66504 non-null  int64  \n",
            " 3   CD_ORIGEM_ALUNO            66504 non-null  int64  \n",
            " 4   CD_TURNO                   66504 non-null  object \n",
            " 5   DE_NATURALIDADE            46761 non-null  object \n",
            " 6   DH_MATRICULA               66504 non-null  object \n",
            " 7   DH_SITUACAO                66504 non-null  object \n",
            " 8   DT_ANO_INGRES              66504 non-null  int64  \n",
            " 9   DT_NASC_ALUNO              66504 non-null  object \n",
            " 10  LT_ESTADO_CIVIL            66504 non-null  float64\n",
            " 11  LT_MODALIDADE              66504 non-null  object \n",
            " 12  LT_NACIONALIDADE           66247 non-null  object \n",
            " 13  LT_RACA                    66504 non-null  int64  \n",
            " 14  NM_CIDADE_AULA             66032 non-null  object \n",
            " 15  NM_CIDADE_EST2GRAU         55585 non-null  object \n",
            " 16  NM_CIDADE_FERIAS           66382 non-null  object \n",
            " 17  NM_CIDADE_NASC             56966 non-null  object \n",
            " 18  NM_PAIS_NASC               65777 non-null  object \n",
            " 19  NU_SEMESTRE2_VEST          63461 non-null  object \n",
            " 20  SG_SEXO_ALUNO              66504 non-null  object \n",
            " 21  SG_UF_AULA                 65778 non-null  object \n",
            " 22  SG_UF_EST2GRAU             55604 non-null  object \n",
            " 23  SG_UF_FERIAS               66092 non-null  object \n",
            " 24  SG_UF_NASC_ALUNO           66464 non-null  object \n",
            " 25  ST_ALUNO                   58005 non-null  object \n",
            " 26  TP_DEFIC_INEP              53913 non-null  object \n",
            " 27  TP_ESCOLA                  66504 non-null  object \n",
            " 28  TP_INGRES_CURSO            66504 non-null  int64  \n",
            " 29  TP_OPCAO_COTAS             64499 non-null  object \n",
            " 30  F_CD_ORIGEM_ALUNO          66504 non-null  int64  \n",
            " 31  F_DT_NASC_ALUNO            66504 non-null  int64  \n",
            " 32  F_NM_PAIS_NASC             66504 non-null  object \n",
            " 33  F_NU_SEMESTRE2_VEST        66504 non-null  object \n",
            " 34  F_SG_UF_FERIAS             66504 non-null  object \n",
            " 35  F_SG_UF_NASC_ALUNO         66504 non-null  object \n",
            " 36  BOOL_TRANCADO              66504 non-null  int64  \n",
            " 37  BOOL_ST_ALUNO              66504 non-null  float64\n",
            " 38  MULTI_ST_ALUNO             66504 non-null  object \n",
            " 39  BOOL_DEFIC_INEP            66504 non-null  bool   \n",
            " 40  F_TP_ESCOLA                66504 non-null  object \n",
            " 41  F_TP_OPCAO_COTAS           66504 non-null  object \n",
            " 42  BOOL_COTAS                 66504 non-null  int64  \n",
            " 43  IDADE_MATRICULA            66504 non-null  float64\n",
            " 44  ANO_NASCIMENTO             66504 non-null  int64  \n",
            " 45  MESES_ATE_ULTIMA_SITUACAO  66504 non-null  float64\n",
            " 46  NM_CURSO                   66504 non-null  object \n",
            " 47  TP_HABILITACAO             66504 non-null  object \n",
            " 48  SG_CENTRO                  66504 non-null  object \n",
            " 49  NM_CAMPUS                  66504 non-null  object \n",
            " 50  MAX_ANOS                   66504 non-null  int64  \n",
            " 51  BOOL_SEDE                  66504 non-null  bool   \n",
            " 52  LOCAL_FERIAS               66504 non-null  float64\n",
            " 53  LOCAL_NASC                 66504 non-null  float64\n",
            " 54  GERACAO_COMPLETA           66504 non-null  int64  \n",
            " 55  NUMERO_GERACAO             66504 non-null  float64\n",
            "dtypes: bool(2), float64(7), int64(14), object(33)\n",
            "memory usage: 27.5+ MB\n"
          ]
        }
      ],
      "source": [
        "df_merge.info()"
      ]
    },
    {
      "cell_type": "code",
      "execution_count": 15,
      "metadata": {},
      "outputs": [],
      "source": [
        "df_merge['SG_CENTRO'].replace(['CCH  ', 'CCE  ', 'CSA  ', 'CTC  ', 'CCS  ', 'CCA  ', 'CCB  '], ['CCH', 'CCE', 'CSA', 'CTC', 'CCS', 'CCA', 'CCB'], inplace=True)"
      ]
    },
    {
      "cell_type": "markdown",
      "metadata": {},
      "source": [
        "### Gerando arquivo"
      ]
    },
    {
      "cell_type": "code",
      "execution_count": 184,
      "metadata": {},
      "outputs": [],
      "source": [
        "df_merge.to_csv('arquivos/dadosalunos-limpo.csv', index=False)\n",
        "df_merge.to_excel('arquivos/dadosalunos-limpo.xlsx', index=False)"
      ]
    },
    {
      "cell_type": "code",
      "execution_count": null,
      "metadata": {},
      "outputs": [],
      "source": []
    }
  ],
  "metadata": {
    "colab": {
      "collapsed_sections": [
        "mNULgAM3Wa63"
      ],
      "provenance": []
    },
    "kernelspec": {
      "display_name": "Python 3",
      "language": "python",
      "name": "python3"
    },
    "language_info": {
      "codemirror_mode": {
        "name": "ipython",
        "version": 3
      },
      "file_extension": ".py",
      "mimetype": "text/x-python",
      "name": "python",
      "nbconvert_exporter": "python",
      "pygments_lexer": "ipython3",
      "version": "3.11.9"
    }
  },
  "nbformat": 4,
  "nbformat_minor": 0
}
