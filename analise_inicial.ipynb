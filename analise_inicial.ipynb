{
 "cells": [
  {
   "cell_type": "code",
   "execution_count": 2,
   "metadata": {},
   "outputs": [],
   "source": [
    "import pandas as pd\n",
    "import numpy as np"
   ]
  },
  {
   "cell_type": "code",
   "execution_count": 3,
   "metadata": {},
   "outputs": [],
   "source": [
    "pd.options.display.max_columns = 999"
   ]
  },
  {
   "cell_type": "code",
   "execution_count": 4,
   "metadata": {},
   "outputs": [],
   "source": [
    "df = pd.read_csv('arquivos/dadosalunos-21-08-2023.csv')"
   ]
  },
  {
   "cell_type": "markdown",
   "metadata": {},
   "source": [
    "# Informações Iniciais"
   ]
  },
  {
   "cell_type": "code",
   "execution_count": 5,
   "metadata": {},
   "outputs": [
    {
     "data": {
      "text/html": [
       "<div>\n",
       "<style scoped>\n",
       "    .dataframe tbody tr th:only-of-type {\n",
       "        vertical-align: middle;\n",
       "    }\n",
       "\n",
       "    .dataframe tbody tr th {\n",
       "        vertical-align: top;\n",
       "    }\n",
       "\n",
       "    .dataframe thead th {\n",
       "        text-align: right;\n",
       "    }\n",
       "</style>\n",
       "<table border=\"1\" class=\"dataframe\">\n",
       "  <thead>\n",
       "    <tr style=\"text-align: right;\">\n",
       "      <th></th>\n",
       "      <th>ANO_OCORRENCIA</th>\n",
       "      <th>CD_ALUNO</th>\n",
       "      <th>CD_CURSO</th>\n",
       "      <th>CD_ORIGEM_ALUNO</th>\n",
       "      <th>CD_TURNO</th>\n",
       "      <th>DE_NATURALIDADE</th>\n",
       "      <th>DH_MATRICULA</th>\n",
       "      <th>DH_SITUACAO</th>\n",
       "      <th>DT_ANO_INGRES</th>\n",
       "      <th>DT_NASC_ALUNO</th>\n",
       "      <th>LT_ESTADO_CIVIL</th>\n",
       "      <th>LT_MODALIDADE</th>\n",
       "      <th>LT_NACIONALIDADE</th>\n",
       "      <th>LT_RACA</th>\n",
       "      <th>NM_CIDADE_AULA</th>\n",
       "      <th>NM_CIDADE_EST2GRAU</th>\n",
       "      <th>NM_CIDADE_FERIAS</th>\n",
       "      <th>NM_CIDADE_NASC</th>\n",
       "      <th>NM_PAIS_NASC</th>\n",
       "      <th>NU_SEMESTRE2_VEST</th>\n",
       "      <th>SG_SEXO_ALUNO</th>\n",
       "      <th>SG_UF_AULA</th>\n",
       "      <th>SG_UF_EST2GRAU</th>\n",
       "      <th>SG_UF_FERIAS</th>\n",
       "      <th>SG_UF_NASC_ALUNO</th>\n",
       "      <th>ST_ALUNO</th>\n",
       "      <th>TP_DEFIC_INEP</th>\n",
       "      <th>TP_ESCOLA</th>\n",
       "      <th>TP_INGRES_CURSO</th>\n",
       "      <th>TP_OPCAO_COTAS</th>\n",
       "    </tr>\n",
       "  </thead>\n",
       "  <tbody>\n",
       "    <tr>\n",
       "      <th>0</th>\n",
       "      <td>2014</td>\n",
       "      <td>145457572</td>\n",
       "      <td>3</td>\n",
       "      <td>1</td>\n",
       "      <td>N</td>\n",
       "      <td>BRASILEIRO</td>\n",
       "      <td>2014-01-10</td>\n",
       "      <td>2014-08-26</td>\n",
       "      <td>2014</td>\n",
       "      <td>1974-07-08</td>\n",
       "      <td>1.0</td>\n",
       "      <td>P</td>\n",
       "      <td>B</td>\n",
       "      <td>4</td>\n",
       "      <td>MARINGA</td>\n",
       "      <td>MARINGA</td>\n",
       "      <td>MARINGA</td>\n",
       "      <td>MARINGA</td>\n",
       "      <td>BRASIL</td>\n",
       "      <td>I</td>\n",
       "      <td>M</td>\n",
       "      <td>PR</td>\n",
       "      <td>PR</td>\n",
       "      <td>PR</td>\n",
       "      <td>PR</td>\n",
       "      <td>2</td>\n",
       "      <td>NNNNNNNN</td>\n",
       "      <td>GI</td>\n",
       "      <td>1</td>\n",
       "      <td>N</td>\n",
       "    </tr>\n",
       "    <tr>\n",
       "      <th>1</th>\n",
       "      <td>2015</td>\n",
       "      <td>125569920</td>\n",
       "      <td>15</td>\n",
       "      <td>0</td>\n",
       "      <td>N</td>\n",
       "      <td>BRASILEIRO</td>\n",
       "      <td>2015-01-24</td>\n",
       "      <td>2016-03-24</td>\n",
       "      <td>2015</td>\n",
       "      <td>1971-02-08</td>\n",
       "      <td>2.0</td>\n",
       "      <td>P</td>\n",
       "      <td>B</td>\n",
       "      <td>2</td>\n",
       "      <td>MARINGA</td>\n",
       "      <td>NaN</td>\n",
       "      <td>NaN</td>\n",
       "      <td>MANDAGUARI</td>\n",
       "      <td>BRASIL</td>\n",
       "      <td>NaN</td>\n",
       "      <td>M</td>\n",
       "      <td>PR</td>\n",
       "      <td>NaN</td>\n",
       "      <td>NaN</td>\n",
       "      <td>PR</td>\n",
       "      <td>7</td>\n",
       "      <td>NNNNNNNN</td>\n",
       "      <td>NaN</td>\n",
       "      <td>6</td>\n",
       "      <td>NaN</td>\n",
       "    </tr>\n",
       "    <tr>\n",
       "      <th>2</th>\n",
       "      <td>2018</td>\n",
       "      <td>131671183</td>\n",
       "      <td>34</td>\n",
       "      <td>1</td>\n",
       "      <td>V</td>\n",
       "      <td>BRASILEIRO</td>\n",
       "      <td>2015-01-13</td>\n",
       "      <td>2019-01-18</td>\n",
       "      <td>2015</td>\n",
       "      <td>1971-07-12</td>\n",
       "      <td>1.0</td>\n",
       "      <td>P</td>\n",
       "      <td>B</td>\n",
       "      <td>5</td>\n",
       "      <td>MARINGA</td>\n",
       "      <td>MARINGA</td>\n",
       "      <td>MARINGA</td>\n",
       "      <td>MARINGA</td>\n",
       "      <td>BRASIL</td>\n",
       "      <td>V</td>\n",
       "      <td>M</td>\n",
       "      <td>PR</td>\n",
       "      <td>PR</td>\n",
       "      <td>PR</td>\n",
       "      <td>PR</td>\n",
       "      <td>7</td>\n",
       "      <td>NNNNNNNN</td>\n",
       "      <td>GI</td>\n",
       "      <td>1</td>\n",
       "      <td>N</td>\n",
       "    </tr>\n",
       "    <tr>\n",
       "      <th>3</th>\n",
       "      <td>2011</td>\n",
       "      <td>1236669952</td>\n",
       "      <td>6</td>\n",
       "      <td>4</td>\n",
       "      <td>N</td>\n",
       "      <td>BRASILEIRO</td>\n",
       "      <td>2010-02-01</td>\n",
       "      <td>2011-07-19</td>\n",
       "      <td>2010</td>\n",
       "      <td>1974-05-25</td>\n",
       "      <td>1.0</td>\n",
       "      <td>P</td>\n",
       "      <td>B</td>\n",
       "      <td>0</td>\n",
       "      <td>PIRAPOZINHO</td>\n",
       "      <td>NaN</td>\n",
       "      <td>NaN</td>\n",
       "      <td>PRESIDENTE PRUDENTE</td>\n",
       "      <td>BRASIL</td>\n",
       "      <td>NaN</td>\n",
       "      <td>M</td>\n",
       "      <td>SP</td>\n",
       "      <td>NaN</td>\n",
       "      <td>NaN</td>\n",
       "      <td>SP</td>\n",
       "      <td>8</td>\n",
       "      <td>NaN</td>\n",
       "      <td>E</td>\n",
       "      <td>6</td>\n",
       "      <td>N</td>\n",
       "    </tr>\n",
       "    <tr>\n",
       "      <th>4</th>\n",
       "      <td>2009</td>\n",
       "      <td>1748606897</td>\n",
       "      <td>3</td>\n",
       "      <td>5</td>\n",
       "      <td>N</td>\n",
       "      <td>BRASILEIRA</td>\n",
       "      <td>2004-02-01</td>\n",
       "      <td>2009-01-30</td>\n",
       "      <td>2004</td>\n",
       "      <td>1966-07-27</td>\n",
       "      <td>2.0</td>\n",
       "      <td>P</td>\n",
       "      <td>B</td>\n",
       "      <td>0</td>\n",
       "      <td>MARINGA</td>\n",
       "      <td>NaN</td>\n",
       "      <td>MARINGA</td>\n",
       "      <td>NaN</td>\n",
       "      <td>BRASIL</td>\n",
       "      <td>NaN</td>\n",
       "      <td>F</td>\n",
       "      <td>PR</td>\n",
       "      <td>NaN</td>\n",
       "      <td>PR</td>\n",
       "      <td>RS</td>\n",
       "      <td>9</td>\n",
       "      <td>NaN</td>\n",
       "      <td>GI</td>\n",
       "      <td>11</td>\n",
       "      <td>N</td>\n",
       "    </tr>\n",
       "  </tbody>\n",
       "</table>\n",
       "</div>"
      ],
      "text/plain": [
       "   ANO_OCORRENCIA    CD_ALUNO  CD_CURSO  CD_ORIGEM_ALUNO CD_TURNO  \\\n",
       "0            2014   145457572         3                1        N   \n",
       "1            2015   125569920        15                0        N   \n",
       "2            2018   131671183        34                1        V   \n",
       "3            2011  1236669952         6                4        N   \n",
       "4            2009  1748606897         3                5        N   \n",
       "\n",
       "  DE_NATURALIDADE DH_MATRICULA DH_SITUACAO  DT_ANO_INGRES DT_NASC_ALUNO  \\\n",
       "0      BRASILEIRO   2014-01-10  2014-08-26           2014    1974-07-08   \n",
       "1      BRASILEIRO   2015-01-24  2016-03-24           2015    1971-02-08   \n",
       "2      BRASILEIRO   2015-01-13  2019-01-18           2015    1971-07-12   \n",
       "3      BRASILEIRO   2010-02-01  2011-07-19           2010    1974-05-25   \n",
       "4      BRASILEIRA   2004-02-01  2009-01-30           2004    1966-07-27   \n",
       "\n",
       "   LT_ESTADO_CIVIL LT_MODALIDADE LT_NACIONALIDADE  LT_RACA NM_CIDADE_AULA  \\\n",
       "0              1.0             P                B        4        MARINGA   \n",
       "1              2.0             P                B        2        MARINGA   \n",
       "2              1.0             P                B        5        MARINGA   \n",
       "3              1.0             P                B        0    PIRAPOZINHO   \n",
       "4              2.0             P                B        0        MARINGA   \n",
       "\n",
       "  NM_CIDADE_EST2GRAU NM_CIDADE_FERIAS       NM_CIDADE_NASC NM_PAIS_NASC  \\\n",
       "0            MARINGA          MARINGA              MARINGA       BRASIL   \n",
       "1                NaN              NaN           MANDAGUARI       BRASIL   \n",
       "2            MARINGA          MARINGA              MARINGA       BRASIL   \n",
       "3                NaN              NaN  PRESIDENTE PRUDENTE       BRASIL   \n",
       "4                NaN          MARINGA                  NaN       BRASIL   \n",
       "\n",
       "  NU_SEMESTRE2_VEST SG_SEXO_ALUNO SG_UF_AULA SG_UF_EST2GRAU SG_UF_FERIAS  \\\n",
       "0                 I             M         PR             PR           PR   \n",
       "1               NaN             M         PR            NaN          NaN   \n",
       "2                 V             M         PR             PR           PR   \n",
       "3               NaN             M         SP            NaN          NaN   \n",
       "4               NaN             F         PR            NaN           PR   \n",
       "\n",
       "  SG_UF_NASC_ALUNO ST_ALUNO TP_DEFIC_INEP TP_ESCOLA  TP_INGRES_CURSO  \\\n",
       "0               PR        2      NNNNNNNN        GI                1   \n",
       "1               PR        7      NNNNNNNN       NaN                6   \n",
       "2               PR        7      NNNNNNNN        GI                1   \n",
       "3               SP        8           NaN         E                6   \n",
       "4               RS        9           NaN        GI               11   \n",
       "\n",
       "  TP_OPCAO_COTAS  \n",
       "0              N  \n",
       "1            NaN  \n",
       "2              N  \n",
       "3              N  \n",
       "4              N  "
      ]
     },
     "execution_count": 5,
     "metadata": {},
     "output_type": "execute_result"
    }
   ],
   "source": [
    "df.head()"
   ]
  },
  {
   "cell_type": "code",
   "execution_count": 6,
   "metadata": {},
   "outputs": [
    {
     "name": "stdout",
     "output_type": "stream",
     "text": [
      "<class 'pandas.core.frame.DataFrame'>\n",
      "RangeIndex: 71221 entries, 0 to 71220\n",
      "Data columns (total 30 columns):\n",
      " #   Column              Non-Null Count  Dtype  \n",
      "---  ------              --------------  -----  \n",
      " 0   ANO_OCORRENCIA      71221 non-null  int64  \n",
      " 1   CD_ALUNO            71221 non-null  int64  \n",
      " 2   CD_CURSO            71221 non-null  int64  \n",
      " 3   CD_ORIGEM_ALUNO     71221 non-null  int64  \n",
      " 4   CD_TURNO            71221 non-null  object \n",
      " 5   DE_NATURALIDADE     50710 non-null  object \n",
      " 6   DH_MATRICULA        71221 non-null  object \n",
      " 7   DH_SITUACAO         71221 non-null  object \n",
      " 8   DT_ANO_INGRES       71221 non-null  int64  \n",
      " 9   DT_NASC_ALUNO       71221 non-null  object \n",
      " 10  LT_ESTADO_CIVIL     70989 non-null  float64\n",
      " 11  LT_MODALIDADE       71221 non-null  object \n",
      " 12  LT_NACIONALIDADE    70924 non-null  object \n",
      " 13  LT_RACA             71221 non-null  int64  \n",
      " 14  NM_CIDADE_AULA      70245 non-null  object \n",
      " 15  NM_CIDADE_EST2GRAU  56560 non-null  object \n",
      " 16  NM_CIDADE_FERIAS    68232 non-null  object \n",
      " 17  NM_CIDADE_NASC      57957 non-null  object \n",
      " 18  NM_PAIS_NASC        69470 non-null  object \n",
      " 19  NU_SEMESTRE2_VEST   67080 non-null  object \n",
      " 20  SG_SEXO_ALUNO       71221 non-null  object \n",
      " 21  SG_UF_AULA          69843 non-null  object \n",
      " 22  SG_UF_EST2GRAU      56571 non-null  object \n",
      " 23  SG_UF_FERIAS        67778 non-null  object \n",
      " 24  SG_UF_NASC_ALUNO    70259 non-null  object \n",
      " 25  ST_ALUNO            62448 non-null  object \n",
      " 26  TP_DEFIC_INEP       55122 non-null  object \n",
      " 27  TP_ESCOLA           70067 non-null  object \n",
      " 28  TP_INGRES_CURSO     71221 non-null  int64  \n",
      " 29  TP_OPCAO_COTAS      68944 non-null  object \n",
      "dtypes: float64(1), int64(7), object(22)\n",
      "memory usage: 16.3+ MB\n"
     ]
    }
   ],
   "source": [
    "df.info()"
   ]
  },
  {
   "cell_type": "markdown",
   "metadata": {},
   "source": [
    "# Análise Colunas"
   ]
  },
  {
   "cell_type": "markdown",
   "metadata": {},
   "source": [
    "### ANO_OCORRENCIA"
   ]
  },
  {
   "cell_type": "markdown",
   "metadata": {},
   "source": [
    "Ano letivo. A ocorrência é em casos mais específicos, como formado, transferido e cancelado. Então não é o ano da última "
   ]
  },
  {
   "cell_type": "code",
   "execution_count": 7,
   "metadata": {},
   "outputs": [
    {
     "data": {
      "text/plain": [
       "23"
      ]
     },
     "execution_count": 7,
     "metadata": {},
     "output_type": "execute_result"
    }
   ],
   "source": [
    "df['ANO_OCORRENCIA'].nunique(dropna=False)"
   ]
  },
  {
   "cell_type": "code",
   "execution_count": 8,
   "metadata": {},
   "outputs": [
    {
     "data": {
      "text/plain": [
       "array([   0, 2002, 2003, 2004, 2005, 2006, 2007, 2008, 2009, 2010, 2011,\n",
       "       2012, 2013, 2014, 2015, 2016, 2017, 2018, 2019, 2020, 2021, 2022,\n",
       "       2023], dtype=int64)"
      ]
     },
     "execution_count": 8,
     "metadata": {},
     "output_type": "execute_result"
    }
   ],
   "source": [
    "np.sort(df['ANO_OCORRENCIA'].unique())"
   ]
  },
  {
   "cell_type": "code",
   "execution_count": 9,
   "metadata": {},
   "outputs": [
    {
     "data": {
      "text/plain": [
       "ANO_OCORRENCIA\n",
       "0       7774\n",
       "2002      71\n",
       "2003     427\n",
       "2004     732\n",
       "2005    1573\n",
       "2006    2837\n",
       "2007    2729\n",
       "2008    4149\n",
       "2009    4239\n",
       "2010    3781\n",
       "2011    3675\n",
       "2012    3570\n",
       "2013    3813\n",
       "2014    3599\n",
       "2015    3636\n",
       "2016    3178\n",
       "2017    2972\n",
       "2018    3133\n",
       "2019    3248\n",
       "2020    3279\n",
       "2021    3683\n",
       "2022    3666\n",
       "2023    1457\n",
       "Name: count, dtype: int64"
      ]
     },
     "execution_count": 9,
     "metadata": {},
     "output_type": "execute_result"
    }
   ],
   "source": [
    "df['ANO_OCORRENCIA'].value_counts(dropna=False).sort_index()"
   ]
  },
  {
   "cell_type": "markdown",
   "metadata": {},
   "source": [
    "### CD_ALUNO"
   ]
  },
  {
   "cell_type": "code",
   "execution_count": 10,
   "metadata": {},
   "outputs": [
    {
     "data": {
      "text/plain": [
       "71221"
      ]
     },
     "execution_count": 10,
     "metadata": {},
     "output_type": "execute_result"
    }
   ],
   "source": [
    "df['CD_ALUNO'].nunique()"
   ]
  },
  {
   "cell_type": "markdown",
   "metadata": {},
   "source": [
    "### CD_CURSO"
   ]
  },
  {
   "cell_type": "code",
   "execution_count": 11,
   "metadata": {},
   "outputs": [
    {
     "data": {
      "text/plain": [
       "45"
      ]
     },
     "execution_count": 11,
     "metadata": {},
     "output_type": "execute_result"
    }
   ],
   "source": [
    "df['CD_CURSO'].nunique(dropna=False)"
   ]
  },
  {
   "cell_type": "code",
   "execution_count": 12,
   "metadata": {},
   "outputs": [
    {
     "data": {
      "text/plain": [
       "array([ 1,  2,  3,  4,  5,  6,  7,  8,  9, 10, 11, 12, 13, 14, 15, 16, 17,\n",
       "       19, 21, 22, 23, 24, 25, 26, 27, 28, 30, 31, 33, 34, 35, 36, 37, 38,\n",
       "       39, 40, 42, 43, 44, 45, 46, 47, 48, 49, 50], dtype=int64)"
      ]
     },
     "execution_count": 12,
     "metadata": {},
     "output_type": "execute_result"
    }
   ],
   "source": [
    "np.sort(df['CD_CURSO'].unique())"
   ]
  },
  {
   "cell_type": "markdown",
   "metadata": {},
   "source": [
    "**Ausência dos cursos 18, 20, 29, 32 e 41**"
   ]
  },
  {
   "cell_type": "code",
   "execution_count": 13,
   "metadata": {},
   "outputs": [
    {
     "data": {
      "text/plain": [
       "CD_CURSO\n",
       "1     2814\n",
       "2     3842\n",
       "3     3518\n",
       "4     2319\n",
       "5     1901\n",
       "6     2035\n",
       "7     2050\n",
       "8     3706\n",
       "9     1961\n",
       "10    2157\n",
       "11    3104\n",
       "12    2694\n",
       "13    2940\n",
       "14    2086\n",
       "15    1429\n",
       "16    1801\n",
       "17    1799\n",
       "19    2136\n",
       "21    1969\n",
       "22     970\n",
       "23     869\n",
       "24     965\n",
       "25     997\n",
       "26    1047\n",
       "27     660\n",
       "28     393\n",
       "30    1035\n",
       "31     993\n",
       "33    1178\n",
       "34     859\n",
       "35    1026\n",
       "36     953\n",
       "37    2825\n",
       "38     952\n",
       "39     808\n",
       "40     909\n",
       "42     521\n",
       "43     853\n",
       "44     870\n",
       "45     688\n",
       "46     978\n",
       "47    1089\n",
       "48     971\n",
       "49     731\n",
       "50     820\n",
       "Name: count, dtype: int64"
      ]
     },
     "execution_count": 13,
     "metadata": {},
     "output_type": "execute_result"
    }
   ],
   "source": [
    "df['CD_CURSO'].value_counts(dropna=False).sort_index()"
   ]
  },
  {
   "cell_type": "markdown",
   "metadata": {},
   "source": [
    "Os cursos foram escolhidos pois já existiam em 2002, tendo 20 anos de curso.\n",
    "\n",
    "33 cursos da sede e 12 das extensões."
   ]
  },
  {
   "cell_type": "markdown",
   "metadata": {},
   "source": [
    "### CD_ORIGEM_ALUNO"
   ]
  },
  {
   "cell_type": "markdown",
   "metadata": {},
   "source": [
    "Mais interessante para a análise descritiva"
   ]
  },
  {
   "cell_type": "code",
   "execution_count": 14,
   "metadata": {},
   "outputs": [
    {
     "data": {
      "text/plain": [
       "8"
      ]
     },
     "execution_count": 14,
     "metadata": {},
     "output_type": "execute_result"
    }
   ],
   "source": [
    "df['CD_ORIGEM_ALUNO'].nunique(dropna=False)"
   ]
  },
  {
   "cell_type": "code",
   "execution_count": 15,
   "metadata": {},
   "outputs": [
    {
     "data": {
      "text/plain": [
       "array([ 0,  1,  2,  3,  4,  5,  6, 15], dtype=int64)"
      ]
     },
     "execution_count": 15,
     "metadata": {},
     "output_type": "execute_result"
    }
   ],
   "source": [
    "np.sort(df['CD_ORIGEM_ALUNO'].unique())"
   ]
  },
  {
   "cell_type": "code",
   "execution_count": 16,
   "metadata": {},
   "outputs": [
    {
     "data": {
      "text/plain": [
       "CD_ORIGEM_ALUNO\n",
       "0      7322\n",
       "1     27404\n",
       "2      6925\n",
       "3     17061\n",
       "4      9967\n",
       "5      2394\n",
       "6       147\n",
       "15        1\n",
       "Name: count, dtype: int64"
      ]
     },
     "execution_count": 16,
     "metadata": {},
     "output_type": "execute_result"
    }
   ],
   "source": [
    "df['CD_ORIGEM_ALUNO'].value_counts(dropna=False).sort_index()"
   ]
  },
  {
   "cell_type": "markdown",
   "metadata": {},
   "source": [
    "1        MARINGA             \n",
    "2        REGIAO DE MARINGA   \n",
    "3        OUTRAS REGIOES PR   \n",
    "4        ESTADO DE SP        \n",
    "5        OUTROS ESTADOS      \n",
    "6        OUTROS PAISES       \n",
    "\n",
    "> Este campo entrou em desuso em 2020 e não é mais utilizado. "
   ]
  },
  {
   "cell_type": "code",
   "execution_count": 17,
   "metadata": {},
   "outputs": [
    {
     "data": {
      "text/plain": [
       "9421"
      ]
     },
     "execution_count": 17,
     "metadata": {},
     "output_type": "execute_result"
    }
   ],
   "source": [
    "df[df['DT_ANO_INGRES'] >= 2020].shape[0]"
   ]
  },
  {
   "cell_type": "code",
   "execution_count": 18,
   "metadata": {},
   "outputs": [
    {
     "data": {
      "text/plain": [
       "DT_ANO_INGRES  CD_ORIGEM_ALUNO\n",
       "2020           1                  1423\n",
       "               3                   706\n",
       "               0                   631\n",
       "               2                   330\n",
       "               4                   212\n",
       "               5                    70\n",
       "               6                     3\n",
       "2021           0                  2287\n",
       "               1                   356\n",
       "               3                   219\n",
       "               2                    95\n",
       "               4                    35\n",
       "               5                    21\n",
       "               6                     2\n",
       "2022           0                  2704\n",
       "               1                   164\n",
       "               3                    75\n",
       "               2                    46\n",
       "               4                    29\n",
       "               5                    12\n",
       "               6                     1\n",
       "Name: count, dtype: int64"
      ]
     },
     "execution_count": 18,
     "metadata": {},
     "output_type": "execute_result"
    }
   ],
   "source": [
    "df[df['DT_ANO_INGRES'] >= 2020].groupby('DT_ANO_INGRES')['CD_ORIGEM_ALUNO'].value_counts()"
   ]
  },
  {
   "cell_type": "markdown",
   "metadata": {},
   "source": [
    "Aparentemente não entrou em desuso"
   ]
  },
  {
   "cell_type": "markdown",
   "metadata": {},
   "source": [
    "### CD_TURNO"
   ]
  },
  {
   "cell_type": "code",
   "execution_count": 19,
   "metadata": {},
   "outputs": [
    {
     "data": {
      "text/plain": [
       "6"
      ]
     },
     "execution_count": 19,
     "metadata": {},
     "output_type": "execute_result"
    }
   ],
   "source": [
    "df['CD_TURNO'].nunique(dropna=False)"
   ]
  },
  {
   "cell_type": "code",
   "execution_count": 20,
   "metadata": {},
   "outputs": [
    {
     "data": {
      "text/plain": [
       "array(['N', 'V', 'M', 'I', 'W', 'Y'], dtype=object)"
      ]
     },
     "execution_count": 20,
     "metadata": {},
     "output_type": "execute_result"
    }
   ],
   "source": [
    "df['CD_TURNO'].unique()"
   ]
  },
  {
   "cell_type": "code",
   "execution_count": 21,
   "metadata": {},
   "outputs": [
    {
     "data": {
      "text/plain": [
       "CD_TURNO\n",
       "I    28177\n",
       "M    10512\n",
       "N    30343\n",
       "V      843\n",
       "W      349\n",
       "Y      997\n",
       "Name: count, dtype: int64"
      ]
     },
     "execution_count": 21,
     "metadata": {},
     "output_type": "execute_result"
    }
   ],
   "source": [
    "df['CD_TURNO'].value_counts(dropna=False).sort_index()"
   ]
  },
  {
   "cell_type": "markdown",
   "metadata": {},
   "source": [
    "I        INTEGRAL                       \n",
    "M        MATUTINO            \n",
    "N        NOTURNO             \n",
    "V        VESPERTINO          \n",
    "W        VESPERTINO/NOTURNO  \n",
    "Y        MANHA/TARDE/NOITE "
   ]
  },
  {
   "cell_type": "markdown",
   "metadata": {},
   "source": [
    "Curso de história, com código 5, por exemplo, tem apenas 1 aluno integral. Isso é erro do DAA."
   ]
  },
  {
   "cell_type": "markdown",
   "metadata": {},
   "source": [
    "### DE_NATURALIDADE"
   ]
  },
  {
   "cell_type": "code",
   "execution_count": 22,
   "metadata": {},
   "outputs": [
    {
     "data": {
      "text/plain": [
       "417"
      ]
     },
     "execution_count": 22,
     "metadata": {},
     "output_type": "execute_result"
    }
   ],
   "source": [
    "df['DE_NATURALIDADE'].nunique(dropna=False)"
   ]
  },
  {
   "cell_type": "code",
   "execution_count": 23,
   "metadata": {},
   "outputs": [
    {
     "data": {
      "text/plain": [
       "DE_NATURALIDADE\n",
       "BRASILEIRA                 26236\n",
       "BRASILEIRO                 23030\n",
       "NaN                        20511\n",
       "MARINGA                      282\n",
       "MARINGA-PR                   126\n",
       "                           ...  \n",
       "SAO JOSE DOS PINHAIS-PR        1\n",
       "CAMBE\\/PR                      1\n",
       "COLIDER\\/MT                    1\n",
       "CRUZEIRO-SP                    1\n",
       "JOSE BONIFACIO                 1\n",
       "Name: count, Length: 417, dtype: int64"
      ]
     },
     "execution_count": 23,
     "metadata": {},
     "output_type": "execute_result"
    }
   ],
   "source": [
    "df['DE_NATURALIDADE'].value_counts(dropna=False)"
   ]
  },
  {
   "cell_type": "markdown",
   "metadata": {},
   "source": [
    "> Acho que deveria ser a cidade de nascimento. Acho que este também não é um bom campo, pois também está em desuso, a maioria dos alunos estão com esse campo nulo. O que se usa mais é DE_NAT_ESTRANG o qual é a cidade de nascimento quando a pessoa é estrangeira e o próprio usuário digita como quiser, pois o campo NM_CIDADE_NASC é populado por um selectbox conforme cadastro dos correios e não tem cidades fora do Brasil."
   ]
  },
  {
   "cell_type": "markdown",
   "metadata": {},
   "source": [
    "### DH_MATRICULA"
   ]
  },
  {
   "cell_type": "markdown",
   "metadata": {},
   "source": [
    "Ano calendário"
   ]
  },
  {
   "cell_type": "code",
   "execution_count": 24,
   "metadata": {},
   "outputs": [
    {
     "data": {
      "text/plain": [
       "651"
      ]
     },
     "execution_count": 24,
     "metadata": {},
     "output_type": "execute_result"
    }
   ],
   "source": [
    "df['DH_MATRICULA'].nunique(dropna=False)"
   ]
  },
  {
   "cell_type": "code",
   "execution_count": 25,
   "metadata": {},
   "outputs": [
    {
     "data": {
      "text/plain": [
       "DH_MATRICULA\n",
       "2004-02-01    3313\n",
       "2007-02-01    3212\n",
       "2005-02-01    3209\n",
       "2003-02-01    3141\n",
       "2002-02-01    3039\n",
       "              ... \n",
       "2017-04-24       1\n",
       "2014-03-20       1\n",
       "2012-02-10       1\n",
       "2013-03-05       1\n",
       "2012-04-16       1\n",
       "Name: count, Length: 651, dtype: int64"
      ]
     },
     "execution_count": 25,
     "metadata": {},
     "output_type": "execute_result"
    }
   ],
   "source": [
    "df['DH_MATRICULA'].value_counts(dropna=False)"
   ]
  },
  {
   "cell_type": "markdown",
   "metadata": {},
   "source": [
    "Não consta em `campos-dados-alunos-Alison.xlsx`, mas deve ser data da matrícula.\n",
    "\n",
    "Não é interessante."
   ]
  },
  {
   "cell_type": "markdown",
   "metadata": {},
   "source": [
    "### DH_SITUACAO"
   ]
  },
  {
   "cell_type": "markdown",
   "metadata": {},
   "source": [
    "Ano calendário"
   ]
  },
  {
   "cell_type": "code",
   "execution_count": 26,
   "metadata": {},
   "outputs": [
    {
     "data": {
      "text/plain": [
       "3588"
      ]
     },
     "execution_count": 26,
     "metadata": {},
     "output_type": "execute_result"
    }
   ],
   "source": [
    "df['DH_SITUACAO'].nunique(dropna=False)"
   ]
  },
  {
   "cell_type": "code",
   "execution_count": 27,
   "metadata": {},
   "outputs": [
    {
     "data": {
      "text/plain": [
       "DH_SITUACAO\n",
       "2002-02-01    2514\n",
       "2020-02-12    1607\n",
       "2003-02-01    1512\n",
       "2010-12-23    1357\n",
       "2022-06-09    1292\n",
       "              ... \n",
       "2012-08-15       1\n",
       "2014-10-08       1\n",
       "2014-08-28       1\n",
       "2012-08-01       1\n",
       "2022-07-09       1\n",
       "Name: count, Length: 3588, dtype: int64"
      ]
     },
     "execution_count": 27,
     "metadata": {},
     "output_type": "execute_result"
    }
   ],
   "source": [
    "df['DH_SITUACAO'].value_counts(dropna=False)"
   ]
  },
  {
   "cell_type": "markdown",
   "metadata": {},
   "source": [
    "Data da última situação do aluno\n",
    "\n",
    "A partir de 2007 estará mais confiável. Antes pode ter informação errada. Foi feita uma tratativa para pegar o DH_MATRICULA se o DH_SITUACAO estivesse vazio.\n",
    "\n",
    "\n",
    "Um caso: aluno entrou em 2014 e estava com a situação em branco, ou seja, matriculado. Quando um aluno tranca e volta, o DH_SITUACAO vai estar com a data da volta, e não da matrícula.\n",
    "\n",
    "Outro caso: aluno com data de matrícula 2009 e data de ingresso 2006, o errado nesse caso seria o DH_MATRICULA. Antigamente era tudo manual.\n"
   ]
  },
  {
   "cell_type": "markdown",
   "metadata": {},
   "source": [
    "\n",
    "Sempre que DH_SITUAÇÃO for diferente do DH_MATRICULA estará certo."
   ]
  },
  {
   "cell_type": "code",
   "execution_count": 28,
   "metadata": {},
   "outputs": [
    {
     "data": {
      "text/html": [
       "<div>\n",
       "<style scoped>\n",
       "    .dataframe tbody tr th:only-of-type {\n",
       "        vertical-align: middle;\n",
       "    }\n",
       "\n",
       "    .dataframe tbody tr th {\n",
       "        vertical-align: top;\n",
       "    }\n",
       "\n",
       "    .dataframe thead th {\n",
       "        text-align: right;\n",
       "    }\n",
       "</style>\n",
       "<table border=\"1\" class=\"dataframe\">\n",
       "  <thead>\n",
       "    <tr style=\"text-align: right;\">\n",
       "      <th></th>\n",
       "      <th>ANO_OCORRENCIA</th>\n",
       "      <th>CD_ALUNO</th>\n",
       "      <th>CD_CURSO</th>\n",
       "      <th>CD_ORIGEM_ALUNO</th>\n",
       "      <th>CD_TURNO</th>\n",
       "      <th>DE_NATURALIDADE</th>\n",
       "      <th>DH_MATRICULA</th>\n",
       "      <th>DH_SITUACAO</th>\n",
       "      <th>DT_ANO_INGRES</th>\n",
       "      <th>DT_NASC_ALUNO</th>\n",
       "      <th>LT_ESTADO_CIVIL</th>\n",
       "      <th>LT_MODALIDADE</th>\n",
       "      <th>LT_NACIONALIDADE</th>\n",
       "      <th>LT_RACA</th>\n",
       "      <th>NM_CIDADE_AULA</th>\n",
       "      <th>NM_CIDADE_EST2GRAU</th>\n",
       "      <th>NM_CIDADE_FERIAS</th>\n",
       "      <th>NM_CIDADE_NASC</th>\n",
       "      <th>NM_PAIS_NASC</th>\n",
       "      <th>NU_SEMESTRE2_VEST</th>\n",
       "      <th>SG_SEXO_ALUNO</th>\n",
       "      <th>SG_UF_AULA</th>\n",
       "      <th>SG_UF_EST2GRAU</th>\n",
       "      <th>SG_UF_FERIAS</th>\n",
       "      <th>SG_UF_NASC_ALUNO</th>\n",
       "      <th>ST_ALUNO</th>\n",
       "      <th>TP_DEFIC_INEP</th>\n",
       "      <th>TP_ESCOLA</th>\n",
       "      <th>TP_INGRES_CURSO</th>\n",
       "      <th>TP_OPCAO_COTAS</th>\n",
       "    </tr>\n",
       "  </thead>\n",
       "  <tbody>\n",
       "    <tr>\n",
       "      <th>10</th>\n",
       "      <td>0</td>\n",
       "      <td>1429259211</td>\n",
       "      <td>2</td>\n",
       "      <td>3</td>\n",
       "      <td>N</td>\n",
       "      <td>BRASILEIRO</td>\n",
       "      <td>2020-01-17</td>\n",
       "      <td>2020-01-17</td>\n",
       "      <td>2020</td>\n",
       "      <td>1973-08-11</td>\n",
       "      <td>4.0</td>\n",
       "      <td>P</td>\n",
       "      <td>B</td>\n",
       "      <td>2</td>\n",
       "      <td>MARINGA</td>\n",
       "      <td>CIANORTE</td>\n",
       "      <td>MARINGA</td>\n",
       "      <td>CIANORTE</td>\n",
       "      <td>BRASIL</td>\n",
       "      <td>I</td>\n",
       "      <td>M</td>\n",
       "      <td>PR</td>\n",
       "      <td>PR</td>\n",
       "      <td>PR</td>\n",
       "      <td>PR</td>\n",
       "      <td>NaN</td>\n",
       "      <td>NNNNNNNN</td>\n",
       "      <td>GI</td>\n",
       "      <td>1</td>\n",
       "      <td>N</td>\n",
       "    </tr>\n",
       "    <tr>\n",
       "      <th>14</th>\n",
       "      <td>2003</td>\n",
       "      <td>1285772432</td>\n",
       "      <td>23</td>\n",
       "      <td>1</td>\n",
       "      <td>N</td>\n",
       "      <td>BRASILEIRO</td>\n",
       "      <td>2002-02-01</td>\n",
       "      <td>2002-02-01</td>\n",
       "      <td>2002</td>\n",
       "      <td>1971-05-07</td>\n",
       "      <td>1.0</td>\n",
       "      <td>P</td>\n",
       "      <td>B</td>\n",
       "      <td>0</td>\n",
       "      <td>MARINGA</td>\n",
       "      <td>NaN</td>\n",
       "      <td>NaN</td>\n",
       "      <td>NaN</td>\n",
       "      <td>BRASIL</td>\n",
       "      <td>I</td>\n",
       "      <td>M</td>\n",
       "      <td>PR</td>\n",
       "      <td>NaN</td>\n",
       "      <td>NaN</td>\n",
       "      <td>PR</td>\n",
       "      <td>F</td>\n",
       "      <td>NaN</td>\n",
       "      <td>NaN</td>\n",
       "      <td>10</td>\n",
       "      <td>N</td>\n",
       "    </tr>\n",
       "    <tr>\n",
       "      <th>15</th>\n",
       "      <td>2004</td>\n",
       "      <td>1725435563</td>\n",
       "      <td>12</td>\n",
       "      <td>1</td>\n",
       "      <td>M</td>\n",
       "      <td>BRASILEIRO</td>\n",
       "      <td>2003-02-01</td>\n",
       "      <td>2003-02-01</td>\n",
       "      <td>2003</td>\n",
       "      <td>1971-05-07</td>\n",
       "      <td>1.0</td>\n",
       "      <td>P</td>\n",
       "      <td>B</td>\n",
       "      <td>0</td>\n",
       "      <td>MARINGA</td>\n",
       "      <td>NaN</td>\n",
       "      <td>NaN</td>\n",
       "      <td>NaN</td>\n",
       "      <td>BRASIL</td>\n",
       "      <td>I</td>\n",
       "      <td>M</td>\n",
       "      <td>PR</td>\n",
       "      <td>NaN</td>\n",
       "      <td>NaN</td>\n",
       "      <td>PR</td>\n",
       "      <td>8</td>\n",
       "      <td>NaN</td>\n",
       "      <td>NaN</td>\n",
       "      <td>10</td>\n",
       "      <td>N</td>\n",
       "    </tr>\n",
       "    <tr>\n",
       "      <th>31</th>\n",
       "      <td>2002</td>\n",
       "      <td>1538577190</td>\n",
       "      <td>13</td>\n",
       "      <td>1</td>\n",
       "      <td>N</td>\n",
       "      <td>BRASILEIRO</td>\n",
       "      <td>2002-02-01</td>\n",
       "      <td>2002-02-01</td>\n",
       "      <td>2002</td>\n",
       "      <td>1978-10-31</td>\n",
       "      <td>1.0</td>\n",
       "      <td>P</td>\n",
       "      <td>B</td>\n",
       "      <td>0</td>\n",
       "      <td>PAICANDU</td>\n",
       "      <td>NaN</td>\n",
       "      <td>NaN</td>\n",
       "      <td>NaN</td>\n",
       "      <td>BRASIL</td>\n",
       "      <td>V</td>\n",
       "      <td>M</td>\n",
       "      <td>PR</td>\n",
       "      <td>NaN</td>\n",
       "      <td>NaN</td>\n",
       "      <td>PR</td>\n",
       "      <td>7</td>\n",
       "      <td>NaN</td>\n",
       "      <td>E</td>\n",
       "      <td>10</td>\n",
       "      <td>N</td>\n",
       "    </tr>\n",
       "    <tr>\n",
       "      <th>32</th>\n",
       "      <td>2005</td>\n",
       "      <td>1374661052</td>\n",
       "      <td>12</td>\n",
       "      <td>2</td>\n",
       "      <td>N</td>\n",
       "      <td>BRASILEIRA</td>\n",
       "      <td>2002-02-01</td>\n",
       "      <td>2002-02-01</td>\n",
       "      <td>2002</td>\n",
       "      <td>1975-04-20</td>\n",
       "      <td>1.0</td>\n",
       "      <td>P</td>\n",
       "      <td>B</td>\n",
       "      <td>0</td>\n",
       "      <td>DOUTOR CAMARGO</td>\n",
       "      <td>NaN</td>\n",
       "      <td>NaN</td>\n",
       "      <td>NaN</td>\n",
       "      <td>BRASIL</td>\n",
       "      <td>V</td>\n",
       "      <td>F</td>\n",
       "      <td>PR</td>\n",
       "      <td>NaN</td>\n",
       "      <td>NaN</td>\n",
       "      <td>PR</td>\n",
       "      <td>7</td>\n",
       "      <td>NaN</td>\n",
       "      <td>E</td>\n",
       "      <td>10</td>\n",
       "      <td>N</td>\n",
       "    </tr>\n",
       "    <tr>\n",
       "      <th>...</th>\n",
       "      <td>...</td>\n",
       "      <td>...</td>\n",
       "      <td>...</td>\n",
       "      <td>...</td>\n",
       "      <td>...</td>\n",
       "      <td>...</td>\n",
       "      <td>...</td>\n",
       "      <td>...</td>\n",
       "      <td>...</td>\n",
       "      <td>...</td>\n",
       "      <td>...</td>\n",
       "      <td>...</td>\n",
       "      <td>...</td>\n",
       "      <td>...</td>\n",
       "      <td>...</td>\n",
       "      <td>...</td>\n",
       "      <td>...</td>\n",
       "      <td>...</td>\n",
       "      <td>...</td>\n",
       "      <td>...</td>\n",
       "      <td>...</td>\n",
       "      <td>...</td>\n",
       "      <td>...</td>\n",
       "      <td>...</td>\n",
       "      <td>...</td>\n",
       "      <td>...</td>\n",
       "      <td>...</td>\n",
       "      <td>...</td>\n",
       "      <td>...</td>\n",
       "      <td>...</td>\n",
       "    </tr>\n",
       "    <tr>\n",
       "      <th>71215</th>\n",
       "      <td>0</td>\n",
       "      <td>10264903272</td>\n",
       "      <td>12</td>\n",
       "      <td>0</td>\n",
       "      <td>M</td>\n",
       "      <td>NaN</td>\n",
       "      <td>2022-07-18</td>\n",
       "      <td>2022-07-18</td>\n",
       "      <td>2022</td>\n",
       "      <td>1998-08-31</td>\n",
       "      <td>NaN</td>\n",
       "      <td>P</td>\n",
       "      <td>E</td>\n",
       "      <td>0</td>\n",
       "      <td>NaN</td>\n",
       "      <td>MALABO</td>\n",
       "      <td>NaN</td>\n",
       "      <td>BIOKO NORTE</td>\n",
       "      <td>GUINE EQUATORIA</td>\n",
       "      <td>NaN</td>\n",
       "      <td>M</td>\n",
       "      <td>NaN</td>\n",
       "      <td>EX</td>\n",
       "      <td>NaN</td>\n",
       "      <td>NaN</td>\n",
       "      <td>NaN</td>\n",
       "      <td>NaN</td>\n",
       "      <td>EX</td>\n",
       "      <td>7</td>\n",
       "      <td>NaN</td>\n",
       "    </tr>\n",
       "    <tr>\n",
       "      <th>71217</th>\n",
       "      <td>0</td>\n",
       "      <td>14796067716</td>\n",
       "      <td>42</td>\n",
       "      <td>0</td>\n",
       "      <td>I</td>\n",
       "      <td>NaN</td>\n",
       "      <td>2022-07-29</td>\n",
       "      <td>2022-07-29</td>\n",
       "      <td>2022</td>\n",
       "      <td>1981-01-16</td>\n",
       "      <td>2.0</td>\n",
       "      <td>P</td>\n",
       "      <td>B</td>\n",
       "      <td>0</td>\n",
       "      <td>APUCARANA</td>\n",
       "      <td>FOZ DO IGUACU</td>\n",
       "      <td>APUCARANA</td>\n",
       "      <td>CURITIBA</td>\n",
       "      <td>BRASIL</td>\n",
       "      <td>NaN</td>\n",
       "      <td>F</td>\n",
       "      <td>NaN</td>\n",
       "      <td>PR</td>\n",
       "      <td>NaN</td>\n",
       "      <td>PR</td>\n",
       "      <td>NaN</td>\n",
       "      <td>NaN</td>\n",
       "      <td>GI</td>\n",
       "      <td>3</td>\n",
       "      <td>NaN</td>\n",
       "    </tr>\n",
       "    <tr>\n",
       "      <th>71218</th>\n",
       "      <td>0</td>\n",
       "      <td>16902075967</td>\n",
       "      <td>8</td>\n",
       "      <td>0</td>\n",
       "      <td>M</td>\n",
       "      <td>NaN</td>\n",
       "      <td>2022-11-24</td>\n",
       "      <td>2022-11-24</td>\n",
       "      <td>2022</td>\n",
       "      <td>2001-07-15</td>\n",
       "      <td>1.0</td>\n",
       "      <td>P</td>\n",
       "      <td>B</td>\n",
       "      <td>0</td>\n",
       "      <td>MARINGA</td>\n",
       "      <td>SANTA AMELIA</td>\n",
       "      <td>NaN</td>\n",
       "      <td>JACAREZINHO</td>\n",
       "      <td>NaN</td>\n",
       "      <td>NaN</td>\n",
       "      <td>M</td>\n",
       "      <td>PR</td>\n",
       "      <td>PR</td>\n",
       "      <td>NaN</td>\n",
       "      <td>PR</td>\n",
       "      <td>NaN</td>\n",
       "      <td>NaN</td>\n",
       "      <td>GI</td>\n",
       "      <td>56</td>\n",
       "      <td>NaN</td>\n",
       "    </tr>\n",
       "    <tr>\n",
       "      <th>71219</th>\n",
       "      <td>0</td>\n",
       "      <td>16711090796</td>\n",
       "      <td>30</td>\n",
       "      <td>0</td>\n",
       "      <td>I</td>\n",
       "      <td>NaN</td>\n",
       "      <td>2022-11-25</td>\n",
       "      <td>2022-11-25</td>\n",
       "      <td>2022</td>\n",
       "      <td>1999-12-13</td>\n",
       "      <td>2.0</td>\n",
       "      <td>P</td>\n",
       "      <td>B</td>\n",
       "      <td>3</td>\n",
       "      <td>NaN</td>\n",
       "      <td>TAMARANA</td>\n",
       "      <td>NaN</td>\n",
       "      <td>LONDRINA</td>\n",
       "      <td>NaN</td>\n",
       "      <td>NaN</td>\n",
       "      <td>F</td>\n",
       "      <td>NaN</td>\n",
       "      <td>PR</td>\n",
       "      <td>NaN</td>\n",
       "      <td>PR</td>\n",
       "      <td>NaN</td>\n",
       "      <td>NNNNNNNN</td>\n",
       "      <td>GI</td>\n",
       "      <td>56</td>\n",
       "      <td>NaN</td>\n",
       "    </tr>\n",
       "    <tr>\n",
       "      <th>71220</th>\n",
       "      <td>0</td>\n",
       "      <td>11135259520</td>\n",
       "      <td>19</td>\n",
       "      <td>0</td>\n",
       "      <td>I</td>\n",
       "      <td>NaN</td>\n",
       "      <td>2022-11-25</td>\n",
       "      <td>2022-11-25</td>\n",
       "      <td>2022</td>\n",
       "      <td>2000-03-04</td>\n",
       "      <td>1.0</td>\n",
       "      <td>P</td>\n",
       "      <td>B</td>\n",
       "      <td>3</td>\n",
       "      <td>NaN</td>\n",
       "      <td>TAMARANA</td>\n",
       "      <td>NaN</td>\n",
       "      <td>CANDIDO DE ABREU</td>\n",
       "      <td>NaN</td>\n",
       "      <td>NaN</td>\n",
       "      <td>M</td>\n",
       "      <td>NaN</td>\n",
       "      <td>PR</td>\n",
       "      <td>NaN</td>\n",
       "      <td>PR</td>\n",
       "      <td>NaN</td>\n",
       "      <td>NNNNNNNN</td>\n",
       "      <td>GI</td>\n",
       "      <td>56</td>\n",
       "      <td>NaN</td>\n",
       "    </tr>\n",
       "  </tbody>\n",
       "</table>\n",
       "<p>12601 rows × 30 columns</p>\n",
       "</div>"
      ],
      "text/plain": [
       "       ANO_OCORRENCIA     CD_ALUNO  CD_CURSO  CD_ORIGEM_ALUNO CD_TURNO  \\\n",
       "10                  0   1429259211         2                3        N   \n",
       "14               2003   1285772432        23                1        N   \n",
       "15               2004   1725435563        12                1        M   \n",
       "31               2002   1538577190        13                1        N   \n",
       "32               2005   1374661052        12                2        N   \n",
       "...               ...          ...       ...              ...      ...   \n",
       "71215               0  10264903272        12                0        M   \n",
       "71217               0  14796067716        42                0        I   \n",
       "71218               0  16902075967         8                0        M   \n",
       "71219               0  16711090796        30                0        I   \n",
       "71220               0  11135259520        19                0        I   \n",
       "\n",
       "      DE_NATURALIDADE DH_MATRICULA DH_SITUACAO  DT_ANO_INGRES DT_NASC_ALUNO  \\\n",
       "10         BRASILEIRO   2020-01-17  2020-01-17           2020    1973-08-11   \n",
       "14         BRASILEIRO   2002-02-01  2002-02-01           2002    1971-05-07   \n",
       "15         BRASILEIRO   2003-02-01  2003-02-01           2003    1971-05-07   \n",
       "31         BRASILEIRO   2002-02-01  2002-02-01           2002    1978-10-31   \n",
       "32         BRASILEIRA   2002-02-01  2002-02-01           2002    1975-04-20   \n",
       "...               ...          ...         ...            ...           ...   \n",
       "71215             NaN   2022-07-18  2022-07-18           2022    1998-08-31   \n",
       "71217             NaN   2022-07-29  2022-07-29           2022    1981-01-16   \n",
       "71218             NaN   2022-11-24  2022-11-24           2022    2001-07-15   \n",
       "71219             NaN   2022-11-25  2022-11-25           2022    1999-12-13   \n",
       "71220             NaN   2022-11-25  2022-11-25           2022    2000-03-04   \n",
       "\n",
       "       LT_ESTADO_CIVIL LT_MODALIDADE LT_NACIONALIDADE  LT_RACA  \\\n",
       "10                 4.0             P                B        2   \n",
       "14                 1.0             P                B        0   \n",
       "15                 1.0             P                B        0   \n",
       "31                 1.0             P                B        0   \n",
       "32                 1.0             P                B        0   \n",
       "...                ...           ...              ...      ...   \n",
       "71215              NaN             P                E        0   \n",
       "71217              2.0             P                B        0   \n",
       "71218              1.0             P                B        0   \n",
       "71219              2.0             P                B        3   \n",
       "71220              1.0             P                B        3   \n",
       "\n",
       "       NM_CIDADE_AULA NM_CIDADE_EST2GRAU NM_CIDADE_FERIAS    NM_CIDADE_NASC  \\\n",
       "10            MARINGA           CIANORTE          MARINGA          CIANORTE   \n",
       "14            MARINGA                NaN              NaN               NaN   \n",
       "15            MARINGA                NaN              NaN               NaN   \n",
       "31           PAICANDU                NaN              NaN               NaN   \n",
       "32     DOUTOR CAMARGO                NaN              NaN               NaN   \n",
       "...               ...                ...              ...               ...   \n",
       "71215             NaN             MALABO              NaN       BIOKO NORTE   \n",
       "71217       APUCARANA      FOZ DO IGUACU        APUCARANA          CURITIBA   \n",
       "71218         MARINGA       SANTA AMELIA              NaN       JACAREZINHO   \n",
       "71219             NaN           TAMARANA              NaN          LONDRINA   \n",
       "71220             NaN           TAMARANA              NaN  CANDIDO DE ABREU   \n",
       "\n",
       "          NM_PAIS_NASC NU_SEMESTRE2_VEST SG_SEXO_ALUNO SG_UF_AULA  \\\n",
       "10              BRASIL                 I             M         PR   \n",
       "14              BRASIL                 I             M         PR   \n",
       "15              BRASIL                 I             M         PR   \n",
       "31              BRASIL                 V             M         PR   \n",
       "32              BRASIL                 V             F         PR   \n",
       "...                ...               ...           ...        ...   \n",
       "71215  GUINE EQUATORIA               NaN             M        NaN   \n",
       "71217           BRASIL               NaN             F        NaN   \n",
       "71218              NaN               NaN             M         PR   \n",
       "71219              NaN               NaN             F        NaN   \n",
       "71220              NaN               NaN             M        NaN   \n",
       "\n",
       "      SG_UF_EST2GRAU SG_UF_FERIAS SG_UF_NASC_ALUNO ST_ALUNO TP_DEFIC_INEP  \\\n",
       "10                PR           PR               PR      NaN      NNNNNNNN   \n",
       "14               NaN          NaN               PR        F           NaN   \n",
       "15               NaN          NaN               PR        8           NaN   \n",
       "31               NaN          NaN               PR        7           NaN   \n",
       "32               NaN          NaN               PR        7           NaN   \n",
       "...              ...          ...              ...      ...           ...   \n",
       "71215             EX          NaN              NaN      NaN           NaN   \n",
       "71217             PR          NaN               PR      NaN           NaN   \n",
       "71218             PR          NaN               PR      NaN           NaN   \n",
       "71219             PR          NaN               PR      NaN      NNNNNNNN   \n",
       "71220             PR          NaN               PR      NaN      NNNNNNNN   \n",
       "\n",
       "      TP_ESCOLA  TP_INGRES_CURSO TP_OPCAO_COTAS  \n",
       "10           GI                1              N  \n",
       "14          NaN               10              N  \n",
       "15          NaN               10              N  \n",
       "31            E               10              N  \n",
       "32            E               10              N  \n",
       "...         ...              ...            ...  \n",
       "71215        EX                7            NaN  \n",
       "71217        GI                3            NaN  \n",
       "71218        GI               56            NaN  \n",
       "71219        GI               56            NaN  \n",
       "71220        GI               56            NaN  \n",
       "\n",
       "[12601 rows x 30 columns]"
      ]
     },
     "execution_count": 28,
     "metadata": {},
     "output_type": "execute_result"
    }
   ],
   "source": [
    "df[df['DH_SITUACAO'] == df['DH_MATRICULA']]"
   ]
  },
  {
   "cell_type": "markdown",
   "metadata": {},
   "source": [
    "### DT_ANO_INGRES"
   ]
  },
  {
   "cell_type": "markdown",
   "metadata": {},
   "source": [
    "Ano letivo"
   ]
  },
  {
   "cell_type": "code",
   "execution_count": 29,
   "metadata": {},
   "outputs": [
    {
     "data": {
      "text/plain": [
       "21"
      ]
     },
     "execution_count": 29,
     "metadata": {},
     "output_type": "execute_result"
    }
   ],
   "source": [
    "df['DT_ANO_INGRES'].nunique(dropna=False)"
   ]
  },
  {
   "cell_type": "code",
   "execution_count": 30,
   "metadata": {},
   "outputs": [
    {
     "data": {
      "text/plain": [
       "array([2002, 2003, 2004, 2005, 2006, 2007, 2008, 2009, 2010, 2011, 2012,\n",
       "       2013, 2014, 2015, 2016, 2017, 2018, 2019, 2020, 2021, 2022],\n",
       "      dtype=int64)"
      ]
     },
     "execution_count": 30,
     "metadata": {},
     "output_type": "execute_result"
    }
   ],
   "source": [
    "np.sort(df['DT_ANO_INGRES'].unique())"
   ]
  },
  {
   "cell_type": "code",
   "execution_count": 31,
   "metadata": {},
   "outputs": [
    {
     "data": {
      "text/plain": [
       "DT_ANO_INGRES\n",
       "2002    3220\n",
       "2003    3278\n",
       "2004    3326\n",
       "2005    3222\n",
       "2006    3307\n",
       "2007    3339\n",
       "2008    4307\n",
       "2009    4159\n",
       "2010    3656\n",
       "2011    3671\n",
       "2012    3448\n",
       "2013    3629\n",
       "2014    3431\n",
       "2015    3309\n",
       "2016    2977\n",
       "2017    3084\n",
       "2018    3207\n",
       "2019    3230\n",
       "2020    3375\n",
       "2021    3015\n",
       "2022    3031\n",
       "Name: count, dtype: int64"
      ]
     },
     "execution_count": 31,
     "metadata": {},
     "output_type": "execute_result"
    }
   ],
   "source": [
    "df['DT_ANO_INGRES'].value_counts(dropna=False).sort_index()"
   ]
  },
  {
   "cell_type": "markdown",
   "metadata": {},
   "source": [
    "### DT_NASC_ALUNO"
   ]
  },
  {
   "cell_type": "code",
   "execution_count": 32,
   "metadata": {},
   "outputs": [
    {
     "data": {
      "text/plain": [
       "11681"
      ]
     },
     "execution_count": 32,
     "metadata": {},
     "output_type": "execute_result"
    }
   ],
   "source": [
    "df['DT_NASC_ALUNO'].nunique(dropna=False)"
   ]
  },
  {
   "cell_type": "code",
   "execution_count": 33,
   "metadata": {},
   "outputs": [
    {
     "data": {
      "text/plain": [
       "DT_NASC_ALUNO\n",
       "0001-01-01    62\n",
       "1991-03-01    29\n",
       "1990-10-10    28\n",
       "1990-02-08    24\n",
       "1994-06-22    23\n",
       "              ..\n",
       "1965-01-31     1\n",
       "1969-03-31     1\n",
       "1972-01-06     1\n",
       "1979-12-18     1\n",
       "1969-01-25     1\n",
       "Name: count, Length: 11681, dtype: int64"
      ]
     },
     "execution_count": 33,
     "metadata": {},
     "output_type": "execute_result"
    }
   ],
   "source": [
    "df['DT_NASC_ALUNO'].value_counts(dropna=False)"
   ]
  },
  {
   "cell_type": "markdown",
   "metadata": {},
   "source": [
    "### LT_ESTADO_CIVIL"
   ]
  },
  {
   "cell_type": "code",
   "execution_count": 34,
   "metadata": {},
   "outputs": [
    {
     "data": {
      "text/plain": [
       "8"
      ]
     },
     "execution_count": 34,
     "metadata": {},
     "output_type": "execute_result"
    }
   ],
   "source": [
    "df['LT_ESTADO_CIVIL'].nunique(dropna=False)"
   ]
  },
  {
   "cell_type": "code",
   "execution_count": 35,
   "metadata": {},
   "outputs": [
    {
     "data": {
      "text/plain": [
       "array([ 1.,  2.,  4.,  3.,  0.,  6.,  5., nan])"
      ]
     },
     "execution_count": 35,
     "metadata": {},
     "output_type": "execute_result"
    }
   ],
   "source": [
    "df['LT_ESTADO_CIVIL'].unique()"
   ]
  },
  {
   "cell_type": "code",
   "execution_count": 36,
   "metadata": {},
   "outputs": [
    {
     "data": {
      "text/plain": [
       "LT_ESTADO_CIVIL\n",
       "0.0     1204\n",
       "1.0    64671\n",
       "2.0     3674\n",
       "3.0     1001\n",
       "4.0      278\n",
       "5.0       15\n",
       "6.0      146\n",
       "NaN      232\n",
       "Name: count, dtype: int64"
      ]
     },
     "execution_count": 36,
     "metadata": {},
     "output_type": "execute_result"
    }
   ],
   "source": [
    "df['LT_ESTADO_CIVIL'].value_counts(dropna=False).sort_index()"
   ]
  },
  {
   "cell_type": "markdown",
   "metadata": {},
   "source": [
    "0 ou em branco = NÃO INFORMADO\n",
    "\n",
    "1 = SOLTEIRO(A)\n",
    "\n",
    "2 = CASADO(A)\n",
    "\n",
    "3 = SEPARADO(A)\n",
    "\n",
    "4 = DIVORCIADO(A)\n",
    "\n",
    "5 = VIÚVO(A)\n",
    "\n",
    "6 = OUTROS"
   ]
  },
  {
   "cell_type": "markdown",
   "metadata": {},
   "source": [
    "### LT_MODALIDADE"
   ]
  },
  {
   "cell_type": "code",
   "execution_count": 37,
   "metadata": {},
   "outputs": [
    {
     "data": {
      "text/plain": [
       "1"
      ]
     },
     "execution_count": 37,
     "metadata": {},
     "output_type": "execute_result"
    }
   ],
   "source": [
    "df['LT_MODALIDADE'].nunique(dropna=False)"
   ]
  },
  {
   "cell_type": "code",
   "execution_count": 38,
   "metadata": {},
   "outputs": [
    {
     "data": {
      "text/plain": [
       "LT_MODALIDADE\n",
       "P    71221\n",
       "Name: count, dtype: int64"
      ]
     },
     "execution_count": 38,
     "metadata": {},
     "output_type": "execute_result"
    }
   ],
   "source": [
    "df['LT_MODALIDADE'].value_counts(dropna=False).sort_index()"
   ]
  },
  {
   "cell_type": "markdown",
   "metadata": {},
   "source": [
    "São todos alunos do presencial."
   ]
  },
  {
   "cell_type": "markdown",
   "metadata": {},
   "source": [
    "### LT_NACIONALIDADE"
   ]
  },
  {
   "cell_type": "code",
   "execution_count": 39,
   "metadata": {},
   "outputs": [
    {
     "data": {
      "text/plain": [
       "5"
      ]
     },
     "execution_count": 39,
     "metadata": {},
     "output_type": "execute_result"
    }
   ],
   "source": [
    "df['LT_NACIONALIDADE'].nunique(dropna=False)"
   ]
  },
  {
   "cell_type": "code",
   "execution_count": 40,
   "metadata": {},
   "outputs": [
    {
     "data": {
      "text/plain": [
       "array(['B', 'N', 'E', nan, 'R'], dtype=object)"
      ]
     },
     "execution_count": 40,
     "metadata": {},
     "output_type": "execute_result"
    }
   ],
   "source": [
    "df['LT_NACIONALIDADE'].unique()"
   ]
  },
  {
   "cell_type": "code",
   "execution_count": 41,
   "metadata": {},
   "outputs": [
    {
     "data": {
      "text/plain": [
       "LT_NACIONALIDADE\n",
       "B      70395\n",
       "NaN      297\n",
       "R        216\n",
       "N        179\n",
       "E        134\n",
       "Name: count, dtype: int64"
      ]
     },
     "execution_count": 41,
     "metadata": {},
     "output_type": "execute_result"
    }
   ],
   "source": [
    "df['LT_NACIONALIDADE'].value_counts(dropna=False)"
   ]
  },
  {
   "cell_type": "markdown",
   "metadata": {},
   "source": [
    "B= BRASILEIRA \n",
    "\n",
    "E= ESTRANGEIRA\n",
    "\n",
    "N= BRASILEIRO NATURALIZADO\n",
    "\n",
    "R= BRASILEIRO NASCIDO NO EXTERIOR\n",
    "\n",
    "Nulo ou em branco = NÃO INFORMADO"
   ]
  },
  {
   "cell_type": "markdown",
   "metadata": {},
   "source": [
    "### LT_RACA"
   ]
  },
  {
   "cell_type": "code",
   "execution_count": 42,
   "metadata": {},
   "outputs": [
    {
     "data": {
      "text/plain": [
       "6"
      ]
     },
     "execution_count": 42,
     "metadata": {},
     "output_type": "execute_result"
    }
   ],
   "source": [
    "df['LT_RACA'].nunique(dropna=False)"
   ]
  },
  {
   "cell_type": "code",
   "execution_count": 43,
   "metadata": {},
   "outputs": [
    {
     "data": {
      "text/plain": [
       "array([0, 1, 2, 3, 4, 5], dtype=int64)"
      ]
     },
     "execution_count": 43,
     "metadata": {},
     "output_type": "execute_result"
    }
   ],
   "source": [
    "np.sort(df['LT_RACA'].unique())"
   ]
  },
  {
   "cell_type": "code",
   "execution_count": 44,
   "metadata": {},
   "outputs": [
    {
     "data": {
      "text/plain": [
       "LT_RACA\n",
       "0    20818\n",
       "1     3171\n",
       "2    37476\n",
       "3      177\n",
       "4     1526\n",
       "5     8053\n",
       "Name: count, dtype: int64"
      ]
     },
     "execution_count": 44,
     "metadata": {},
     "output_type": "execute_result"
    }
   ],
   "source": [
    "df['LT_RACA'].value_counts(dropna=False).sort_index()"
   ]
  },
  {
   "cell_type": "markdown",
   "metadata": {},
   "source": [
    "0 = NÃO DECLARADA\n",
    "\n",
    "1 = AMARELO(A), DE ORIGEM ORIENTAL\n",
    "\n",
    "2 = BRANCO(A)\n",
    "\n",
    "3 = INDÍGENA OU DE ORIGEM INDÍGENA\n",
    "\n",
    "4 = NEGRO(A)\n",
    "\n",
    "5 = PARDO(A)/MUDALTO(A)\n",
    "\n",
    "Nulo ou em branco = NÃO INFORMADO"
   ]
  },
  {
   "cell_type": "markdown",
   "metadata": {},
   "source": [
    "### NM_CIDADE_AULA"
   ]
  },
  {
   "cell_type": "code",
   "execution_count": 45,
   "metadata": {},
   "outputs": [
    {
     "data": {
      "text/plain": [
       "1267"
      ]
     },
     "execution_count": 45,
     "metadata": {},
     "output_type": "execute_result"
    }
   ],
   "source": [
    "df['NM_CIDADE_AULA'].nunique(dropna=False)"
   ]
  },
  {
   "cell_type": "code",
   "execution_count": 46,
   "metadata": {},
   "outputs": [
    {
     "data": {
      "text/plain": [
       "NM_CIDADE_AULA\n",
       "MARINGA               40691\n",
       "CIANORTE               2706\n",
       "UMUARAMA               2104\n",
       "SARANDI                2028\n",
       "MARIALVA               1343\n",
       "                      ...  \n",
       "VILHENA                   1\n",
       "ITOBI                     1\n",
       "GUA\\U00CDRA               1\n",
       "S. JORGE DO PATROC        1\n",
       "REALEZA                   1\n",
       "Name: count, Length: 1267, dtype: int64"
      ]
     },
     "execution_count": 46,
     "metadata": {},
     "output_type": "execute_result"
    }
   ],
   "source": [
    "df['NM_CIDADE_AULA'].value_counts(dropna=False)"
   ]
  },
  {
   "cell_type": "markdown",
   "metadata": {},
   "source": [
    "> Nome da cidade de moradia durante o período de aulas\n",
    "\n",
    "Acho estranho que tenha tantas cidade aula assim sendo que todos os alunos são presenciais"
   ]
  },
  {
   "cell_type": "markdown",
   "metadata": {},
   "source": [
    "### NM_CIDADE_EST2GRAU"
   ]
  },
  {
   "cell_type": "code",
   "execution_count": 47,
   "metadata": {},
   "outputs": [
    {
     "data": {
      "text/plain": [
       "1698"
      ]
     },
     "execution_count": 47,
     "metadata": {},
     "output_type": "execute_result"
    }
   ],
   "source": [
    "df['NM_CIDADE_EST2GRAU'].nunique(dropna=False)"
   ]
  },
  {
   "cell_type": "code",
   "execution_count": 48,
   "metadata": {},
   "outputs": [
    {
     "data": {
      "text/plain": [
       "NM_CIDADE_EST2GRAU\n",
       "MARINGA                           22860\n",
       "NaN                               14661\n",
       "CIANORTE                           2121\n",
       "UMUARAMA                           1356\n",
       "SARANDI                            1231\n",
       "                                  ...  \n",
       "TOLEDO\\/CASCAVEL                      1\n",
       "IRATI E CURITIBA                      1\n",
       "COLEGIO DR.AIMONE SALERNO -TAQ        1\n",
       "ITAGUAJA PR                           1\n",
       "NOVA LARANJEIRAS                      1\n",
       "Name: count, Length: 1698, dtype: int64"
      ]
     },
     "execution_count": 48,
     "metadata": {},
     "output_type": "execute_result"
    }
   ],
   "source": [
    "df['NM_CIDADE_EST2GRAU'].value_counts(dropna=False)"
   ]
  },
  {
   "cell_type": "markdown",
   "metadata": {},
   "source": [
    "### NM_CIDADE_FERIAS"
   ]
  },
  {
   "cell_type": "code",
   "execution_count": 49,
   "metadata": {},
   "outputs": [
    {
     "data": {
      "text/plain": [
       "1759"
      ]
     },
     "execution_count": 49,
     "metadata": {},
     "output_type": "execute_result"
    }
   ],
   "source": [
    "df['NM_CIDADE_FERIAS'].nunique(dropna=False)"
   ]
  },
  {
   "cell_type": "code",
   "execution_count": 50,
   "metadata": {},
   "outputs": [
    {
     "data": {
      "text/plain": [
       "NM_CIDADE_FERIAS\n",
       "MARINGA                29407\n",
       "NaN                     2989\n",
       "CIANORTE                2411\n",
       "SARANDI                 1989\n",
       "UMUARAMA                1617\n",
       "                       ...  \n",
       "PRES. EPIT\\U00C1CIO        1\n",
       "SAT ISABEL DO IVAI         1\n",
       "OCAUCU                     1\n",
       "SAO J. DOS CAMPOS          1\n",
       "ARAGUAINA                  1\n",
       "Name: count, Length: 1759, dtype: int64"
      ]
     },
     "execution_count": 50,
     "metadata": {},
     "output_type": "execute_result"
    }
   ],
   "source": [
    "df['NM_CIDADE_FERIAS'].value_counts(dropna=False)"
   ]
  },
  {
   "cell_type": "markdown",
   "metadata": {},
   "source": [
    "### NM_CIDADE_NASC"
   ]
  },
  {
   "cell_type": "code",
   "execution_count": 51,
   "metadata": {},
   "outputs": [
    {
     "data": {
      "text/plain": [
       "1502"
      ]
     },
     "execution_count": 51,
     "metadata": {},
     "output_type": "execute_result"
    }
   ],
   "source": [
    "df['NM_CIDADE_NASC'].nunique(dropna=False)"
   ]
  },
  {
   "cell_type": "code",
   "execution_count": 52,
   "metadata": {},
   "outputs": [
    {
     "data": {
      "text/plain": [
       "NM_CIDADE_NASC\n",
       "MARINGA           17790\n",
       "NaN               13264\n",
       "CIANORTE           1789\n",
       "SAO PAULO          1703\n",
       "UMUARAMA           1455\n",
       "                  ...  \n",
       "LIDIANOPOLIS          1\n",
       "FARROUPILHA           1\n",
       "PRES. EPITACIO        1\n",
       "LIMA                  1\n",
       "BRAGANTINA            1\n",
       "Name: count, Length: 1502, dtype: int64"
      ]
     },
     "execution_count": 52,
     "metadata": {},
     "output_type": "execute_result"
    }
   ],
   "source": [
    "df['NM_CIDADE_NASC'].value_counts(dropna=False)"
   ]
  },
  {
   "cell_type": "markdown",
   "metadata": {},
   "source": [
    "### NM_PAIS_NASC"
   ]
  },
  {
   "cell_type": "code",
   "execution_count": 53,
   "metadata": {},
   "outputs": [
    {
     "data": {
      "text/plain": [
       "53"
      ]
     },
     "execution_count": 53,
     "metadata": {},
     "output_type": "execute_result"
    }
   ],
   "source": [
    "df['NM_PAIS_NASC'].nunique(dropna=False)"
   ]
  },
  {
   "cell_type": "code",
   "execution_count": 54,
   "metadata": {},
   "outputs": [
    {
     "data": {
      "text/plain": [
       "NM_PAIS_NASC\n",
       "BRASIL             68872\n",
       "NaN                 1751\n",
       "JAPAO                342\n",
       "ESTADOS UNIDOS        28\n",
       "PARAGUAI              25\n",
       "PORTUGAL              20\n",
       "GUINE-BISSAU          17\n",
       "CHINA                 15\n",
       "ESPANHA               12\n",
       "ARGENTINA             11\n",
       "BOLIVIA               11\n",
       "REPUBLICA DO HA       10\n",
       "ALEMANHA               9\n",
       "CHILE                  8\n",
       "AFEGANISTAO            8\n",
       "ITALIA                 7\n",
       "PERU                   7\n",
       "VENEZUELA              7\n",
       "ANGOLA                 6\n",
       "FRANCA                 6\n",
       "CABO VERDE             5\n",
       "COLOMBIA               4\n",
       "TAIWAN                 3\n",
       "CANADA                 2\n",
       "BR                     2\n",
       "INGLATERRA             2\n",
       "HAITI                  2\n",
       "S.TOME PRINCIPE        2\n",
       "GUINE EQUATORIA        2\n",
       "REP. DO HAITI          2\n",
       "GANA                   1\n",
       "GUINE BISSAU           1\n",
       "BRASILEIRO             1\n",
       "10\\/11\\/1999           1\n",
       "REPUBLICA ARABE        1\n",
       "COSTA DO MARFIM        1\n",
       "BRAZIL                 1\n",
       "27032001               1\n",
       "FOZ DO IGUACU          1\n",
       "MOCAMBIQUE             1\n",
       "SARANDI                1\n",
       "EUA                    1\n",
       "GUATEMALA              1\n",
       "REP.DEM.CONGO          1\n",
       "HONDURAS               1\n",
       "TCHECOSLOVAQUIA        1\n",
       "BUTAO                  1\n",
       "BENIN                  1\n",
       "URUGUAI                1\n",
       "JORDANIA               1\n",
       "REINO UNIDO            1\n",
       "AUSTRIA                1\n",
       "EQUADOR                1\n",
       "Name: count, dtype: int64"
      ]
     },
     "execution_count": 54,
     "metadata": {},
     "output_type": "execute_result"
    }
   ],
   "source": [
    "df['NM_PAIS_NASC'].value_counts(dropna=False)"
   ]
  },
  {
   "cell_type": "markdown",
   "metadata": {},
   "source": [
    "### NU_SEMESTRE2_VEST"
   ]
  },
  {
   "cell_type": "code",
   "execution_count": 55,
   "metadata": {},
   "outputs": [
    {
     "data": {
      "text/plain": [
       "9"
      ]
     },
     "execution_count": 55,
     "metadata": {},
     "output_type": "execute_result"
    }
   ],
   "source": [
    "df['NU_SEMESTRE2_VEST'].nunique(dropna=False)"
   ]
  },
  {
   "cell_type": "code",
   "execution_count": 56,
   "metadata": {},
   "outputs": [
    {
     "data": {
      "text/plain": [
       "array(['I', nan, 'V', '2', 'S', 'A', 'E', 'G', 'R'], dtype=object)"
      ]
     },
     "execution_count": 56,
     "metadata": {},
     "output_type": "execute_result"
    }
   ],
   "source": [
    "df['NU_SEMESTRE2_VEST'].unique()"
   ]
  },
  {
   "cell_type": "code",
   "execution_count": 57,
   "metadata": {},
   "outputs": [
    {
     "data": {
      "text/plain": [
       "NU_SEMESTRE2_VEST\n",
       "2          7\n",
       "A       5781\n",
       "E       1128\n",
       "G         22\n",
       "I      27573\n",
       "R        360\n",
       "S        373\n",
       "V      31836\n",
       "NaN     4141\n",
       "Name: count, dtype: int64"
      ]
     },
     "execution_count": 57,
     "metadata": {},
     "output_type": "execute_result"
    }
   ],
   "source": [
    "df['NU_SEMESTRE2_VEST'].value_counts(dropna=False).sort_index()"
   ]
  },
  {
   "cell_type": "markdown",
   "metadata": {},
   "source": [
    "É o processo seletivo que o candidato fez para se tornar aluno, e atualmente usamos esses valores:\n",
    "\n",
    "I = Vestibular de Inverno\n",
    "\n",
    "V = Vestibular de Verão\n",
    "\n",
    "A = PAS\n",
    "\n",
    "D = Vestibular EAD\n",
    "\n",
    "R = Vagas Remanescentes para Candidatos do Vestibular\n",
    "\n",
    "E = Vagas Remanescentes para quem fez ENEM\n",
    "\n",
    "G = Vagas Remanescentes para Refugiados ou Imigrantes em Situação de Vulnerabilidade \n",
    "\n",
    "S = SiSU"
   ]
  },
  {
   "cell_type": "markdown",
   "metadata": {},
   "source": [
    "### SG_SEXO_ALUNO"
   ]
  },
  {
   "cell_type": "code",
   "execution_count": 58,
   "metadata": {},
   "outputs": [
    {
     "data": {
      "text/plain": [
       "2"
      ]
     },
     "execution_count": 58,
     "metadata": {},
     "output_type": "execute_result"
    }
   ],
   "source": [
    "df['SG_SEXO_ALUNO'].nunique(dropna=False)"
   ]
  },
  {
   "cell_type": "code",
   "execution_count": 59,
   "metadata": {},
   "outputs": [
    {
     "data": {
      "text/plain": [
       "SG_SEXO_ALUNO\n",
       "F    37487\n",
       "M    33734\n",
       "Name: count, dtype: int64"
      ]
     },
     "execution_count": 59,
     "metadata": {},
     "output_type": "execute_result"
    }
   ],
   "source": [
    "df['SG_SEXO_ALUNO'].value_counts(dropna=False)"
   ]
  },
  {
   "cell_type": "markdown",
   "metadata": {},
   "source": [
    "### SG_UF_AULA"
   ]
  },
  {
   "cell_type": "code",
   "execution_count": 60,
   "metadata": {},
   "outputs": [
    {
     "data": {
      "text/plain": [
       "31"
      ]
     },
     "execution_count": 60,
     "metadata": {},
     "output_type": "execute_result"
    }
   ],
   "source": [
    "df['SG_UF_AULA'].nunique(dropna=False)"
   ]
  },
  {
   "cell_type": "code",
   "execution_count": 61,
   "metadata": {},
   "outputs": [
    {
     "data": {
      "text/plain": [
       "array(['PR', 'SP', nan, 'SC', 'GO', 'PA', 'MT', '--', 'S', 'RS', 'AC',\n",
       "       'MS', 'RJ', 'MG', 'DF', 'P', 'SO', 'RO', 'TO', 'BA', 'RR', 'RN',\n",
       "       'AL', 'PE', 'ES', 'AM', 'CE', 'MA', 'PB', 'PI', 'AP'], dtype=object)"
      ]
     },
     "execution_count": 61,
     "metadata": {},
     "output_type": "execute_result"
    }
   ],
   "source": [
    "df['SG_UF_AULA'].unique()"
   ]
  },
  {
   "cell_type": "code",
   "execution_count": 62,
   "metadata": {},
   "outputs": [
    {
     "data": {
      "text/plain": [
       "SG_UF_AULA\n",
       "PR     64121\n",
       "SP      4965\n",
       "NaN     1378\n",
       "MS       312\n",
       "MG        93\n",
       "MT        90\n",
       "SC        85\n",
       "AC        37\n",
       "GO        25\n",
       "RS        18\n",
       "RJ        17\n",
       "RO        16\n",
       "BA        13\n",
       "DF        12\n",
       "--         6\n",
       "TO         5\n",
       "PA         4\n",
       "MA         4\n",
       "S          3\n",
       "ES         3\n",
       "CE         2\n",
       "RR         2\n",
       "RN         2\n",
       "PI         1\n",
       "PB         1\n",
       "P          1\n",
       "AM         1\n",
       "PE         1\n",
       "AL         1\n",
       "SO         1\n",
       "AP         1\n",
       "Name: count, dtype: int64"
      ]
     },
     "execution_count": 62,
     "metadata": {},
     "output_type": "execute_result"
    }
   ],
   "source": [
    "df['SG_UF_AULA'].value_counts(dropna=False)"
   ]
  },
  {
   "cell_type": "markdown",
   "metadata": {},
   "source": [
    "Estado de moradia durante o período de aulas"
   ]
  },
  {
   "cell_type": "markdown",
   "metadata": {},
   "source": [
    "Não faz sentido ser o estado de moradia no período de aulas"
   ]
  },
  {
   "cell_type": "markdown",
   "metadata": {},
   "source": [
    "### SG_UF_EST2GRAU"
   ]
  },
  {
   "cell_type": "code",
   "execution_count": 63,
   "metadata": {},
   "outputs": [
    {
     "data": {
      "text/plain": [
       "33"
      ]
     },
     "execution_count": 63,
     "metadata": {},
     "output_type": "execute_result"
    }
   ],
   "source": [
    "df['SG_UF_EST2GRAU'].nunique(dropna=False)"
   ]
  },
  {
   "cell_type": "code",
   "execution_count": 64,
   "metadata": {},
   "outputs": [
    {
     "data": {
      "text/plain": [
       "array(['PR', nan, 'SP', 'MS', 'RJ', 'MT', 'SC', 'AC', 'RO', 'ES', 'AP',\n",
       "       'BA', 'MG', 'PI', 'RS', 'GO', 'PA', 'MA', 'PE', 'TO', 'DF', 'CE',\n",
       "       'SE', 'PB', 'AM', 'AL', 'RN', 'EX', 'RR', 'US', '3', '0', 'CH'],\n",
       "      dtype=object)"
      ]
     },
     "execution_count": 64,
     "metadata": {},
     "output_type": "execute_result"
    }
   ],
   "source": [
    "df['SG_UF_EST2GRAU'].unique()"
   ]
  },
  {
   "cell_type": "code",
   "execution_count": 65,
   "metadata": {},
   "outputs": [
    {
     "data": {
      "text/plain": [
       "SG_UF_EST2GRAU\n",
       "PR     47135\n",
       "NaN    14650\n",
       "SP      7543\n",
       "MS       564\n",
       "MT       293\n",
       "SC       185\n",
       "MG       180\n",
       "RO       100\n",
       "RJ        85\n",
       "GO        77\n",
       "RS        69\n",
       "BA        50\n",
       "PA        49\n",
       "TO        31\n",
       "DF        27\n",
       "CE        27\n",
       "EX        25\n",
       "ES        17\n",
       "MA        14\n",
       "AM        14\n",
       "PE        13\n",
       "AP        12\n",
       "AL        11\n",
       "PB        10\n",
       "AC         9\n",
       "RR         7\n",
       "PI         7\n",
       "SE         7\n",
       "RN         4\n",
       "0          3\n",
       "US         1\n",
       "3          1\n",
       "CH         1\n",
       "Name: count, dtype: int64"
      ]
     },
     "execution_count": 65,
     "metadata": {},
     "output_type": "execute_result"
    }
   ],
   "source": [
    "df['SG_UF_EST2GRAU'].value_counts(dropna=False)"
   ]
  },
  {
   "cell_type": "markdown",
   "metadata": {},
   "source": [
    "Estado do estabelecimento de ensino em que fez o 2º grau (ensino médio). Se for exterior será EX."
   ]
  },
  {
   "cell_type": "markdown",
   "metadata": {},
   "source": [
    "### SG_UF_FERIAS"
   ]
  },
  {
   "cell_type": "code",
   "execution_count": 66,
   "metadata": {},
   "outputs": [
    {
     "data": {
      "text/plain": [
       "32"
      ]
     },
     "execution_count": 66,
     "metadata": {},
     "output_type": "execute_result"
    }
   ],
   "source": [
    "df['SG_UF_FERIAS'].nunique(dropna=False)"
   ]
  },
  {
   "cell_type": "code",
   "execution_count": 67,
   "metadata": {},
   "outputs": [
    {
     "data": {
      "text/plain": [
       "array(['PR', nan, 'SP', 'MG', 'SC', 'MT', 'GO', 'AC', 'MS', 'RS', 'RO',\n",
       "       '--', 'S', 'PA', 'P', 'BA', 'PB', 'RJ', 'ES', 'TO', 'DF', 'RN',\n",
       "       'CE', 'SE', 'MA', 'PE', 'RR', 'R', 'AL', 'PI', 'AM', 'AP'],\n",
       "      dtype=object)"
      ]
     },
     "execution_count": 67,
     "metadata": {},
     "output_type": "execute_result"
    }
   ],
   "source": [
    "df['SG_UF_FERIAS'].unique()"
   ]
  },
  {
   "cell_type": "code",
   "execution_count": 68,
   "metadata": {},
   "outputs": [
    {
     "data": {
      "text/plain": [
       "SG_UF_FERIAS\n",
       "PR     56591\n",
       "SP      9339\n",
       "NaN     3443\n",
       "MS       669\n",
       "MT       295\n",
       "MG       238\n",
       "SC       170\n",
       "GO        89\n",
       "RO        88\n",
       "AC        63\n",
       "RS        46\n",
       "RJ        42\n",
       "BA        40\n",
       "DF        21\n",
       "PA        13\n",
       "TO        12\n",
       "ES        11\n",
       "CE         7\n",
       "MA         6\n",
       "--         6\n",
       "P          5\n",
       "RN         5\n",
       "PI         4\n",
       "PB         4\n",
       "PE         3\n",
       "AM         3\n",
       "RR         2\n",
       "S          2\n",
       "SE         1\n",
       "R          1\n",
       "AL         1\n",
       "AP         1\n",
       "Name: count, dtype: int64"
      ]
     },
     "execution_count": 68,
     "metadata": {},
     "output_type": "execute_result"
    }
   ],
   "source": [
    "df['SG_UF_FERIAS'].value_counts(dropna=False)"
   ]
  },
  {
   "cell_type": "markdown",
   "metadata": {},
   "source": [
    "Estado de moradia durante o período de férias"
   ]
  },
  {
   "cell_type": "markdown",
   "metadata": {},
   "source": [
    "### SG_UF_NASC_ALUNO"
   ]
  },
  {
   "cell_type": "code",
   "execution_count": 69,
   "metadata": {},
   "outputs": [
    {
     "data": {
      "text/plain": [
       "32"
      ]
     },
     "execution_count": 69,
     "metadata": {},
     "output_type": "execute_result"
    }
   ],
   "source": [
    "df['SG_UF_NASC_ALUNO'].nunique(dropna=False)"
   ]
  },
  {
   "cell_type": "code",
   "execution_count": 70,
   "metadata": {},
   "outputs": [
    {
     "data": {
      "text/plain": [
       "array(['PR', 'SP', 'RS', 'PB', 'MS', 'RJ', 'SC', 'MG', nan, 'MT', 'GO',\n",
       "       'RO', 'DF', 'PA', 'PE', 'MA', 'BA', 'AL', 'AM', 'PI', 'ES', 'AC',\n",
       "       '5', 'CE', 'SE', 'AP', 'RN', '1', 'WP', 'TO', 'PY', 'RR'],\n",
       "      dtype=object)"
      ]
     },
     "execution_count": 70,
     "metadata": {},
     "output_type": "execute_result"
    }
   ],
   "source": [
    "df['SG_UF_NASC_ALUNO'].unique()"
   ]
  },
  {
   "cell_type": "code",
   "execution_count": 71,
   "metadata": {},
   "outputs": [
    {
     "data": {
      "text/plain": [
       "SG_UF_NASC_ALUNO\n",
       "PR     51503\n",
       "SP     13942\n",
       "MS      1071\n",
       "NaN      962\n",
       "MT       656\n",
       "MG       634\n",
       "SC       453\n",
       "RO       365\n",
       "RS       332\n",
       "RJ       324\n",
       "GO       187\n",
       "BA       138\n",
       "PA       126\n",
       "DF        88\n",
       "PE        74\n",
       "CE        65\n",
       "AM        49\n",
       "PB        40\n",
       "ES        37\n",
       "MA        31\n",
       "AL        25\n",
       "RN        25\n",
       "TO        23\n",
       "AP        17\n",
       "PI        15\n",
       "AC        15\n",
       "SE        14\n",
       "RR         6\n",
       "WP         1\n",
       "1          1\n",
       "PY         1\n",
       "5          1\n",
       "Name: count, dtype: int64"
      ]
     },
     "execution_count": 71,
     "metadata": {},
     "output_type": "execute_result"
    }
   ],
   "source": [
    "df['SG_UF_NASC_ALUNO'].value_counts(dropna=False)"
   ]
  },
  {
   "cell_type": "markdown",
   "metadata": {},
   "source": [
    "Estado de nascimento"
   ]
  },
  {
   "cell_type": "markdown",
   "metadata": {},
   "source": [
    "### ST_ALUNO"
   ]
  },
  {
   "cell_type": "code",
   "execution_count": 72,
   "metadata": {},
   "outputs": [
    {
     "data": {
      "text/plain": [
       "18"
      ]
     },
     "execution_count": 72,
     "metadata": {},
     "output_type": "execute_result"
    }
   ],
   "source": [
    "df['ST_ALUNO'].nunique(dropna=False)"
   ]
  },
  {
   "cell_type": "code",
   "execution_count": 73,
   "metadata": {},
   "outputs": [
    {
     "data": {
      "text/plain": [
       "array(['2', '7', '8', '9', nan, 'J', 'F', '0', 'K', '1', 'P', 'O', '6',\n",
       "       'I', '4', 'B', 'H', 'M'], dtype=object)"
      ]
     },
     "execution_count": 73,
     "metadata": {},
     "output_type": "execute_result"
    }
   ],
   "source": [
    "df['ST_ALUNO'].unique()"
   ]
  },
  {
   "cell_type": "code",
   "execution_count": 74,
   "metadata": {},
   "outputs": [
    {
     "data": {
      "text/plain": [
       "ST_ALUNO\n",
       "0       1873\n",
       "1        111\n",
       "2      10158\n",
       "4          1\n",
       "6        526\n",
       "7      34016\n",
       "8      13040\n",
       "9       1244\n",
       "B         52\n",
       "F         28\n",
       "H          7\n",
       "I         48\n",
       "J        447\n",
       "K        568\n",
       "M         17\n",
       "O          2\n",
       "P        310\n",
       "NaN     8773\n",
       "Name: count, dtype: int64"
      ]
     },
     "execution_count": 74,
     "metadata": {},
     "output_type": "execute_result"
    }
   ],
   "source": [
    "df['ST_ALUNO'].value_counts(dropna=False).sort_index()"
   ]
  },
  {
   "cell_type": "markdown",
   "metadata": {},
   "source": [
    "NaN - Matriculado(a) \n",
    "\n",
    "0 - **EVASÃO** - Matrícula Cancelada pela UEM \n",
    "\n",
    "1 - Trancado(a) \n",
    "\n",
    "2 - **EVASÃO** - Matrícula Cancelada (Pelo aluno)\n",
    "\n",
    "4 - **EVASÃO** - Transferido de Curso (Outro campus)\n",
    "\n",
    "6 - **EVASÃO** - Transferido de IES\n",
    "\n",
    "7 - Formado(a)\n",
    "\n",
    "8 - **EVASÃO** - Cancelado por Abandono\n",
    "\n",
    "9 - Jubilado(a) \n",
    "\n",
    "B - Transferido de Campus\n",
    "\n",
    "F - Permuta Campus (Mesmo curso)\n",
    "\n",
    "H - **EVASÃO** - Permuta Campus (Outro curso)\n",
    "\n",
    "I - Falecido(a) \n",
    "\n",
    "J - **EVASÃO** - Matrícula Cancelada (Reprovação por falta por dois anos consecutivos)\n",
    "\n",
    "K - **EVASÃO** - Matrícula Cancelada (Reprovação por nota duas vezes consecutivas – Regimento antigo)\n",
    "\n",
    "M - Em Mobilidade Estudantil\n",
    "\n",
    "O - **EVASÃO** - ND - Situação lançada em meados de 2001 para alunos com ocorrência de “Transferência interna de curso”. Pode incluir outras situações\n",
    "\n",
    "P - **EVASÃO** - Transferido de Curso (Mesmo campus)\n",
    "\n"
   ]
  },
  {
   "cell_type": "markdown",
   "metadata": {},
   "source": [
    "separar formados, evasão e matriculados\n",
    "\n",
    "filtrar falecidos\n",
    "\n",
    "agrupar por cancelamento, transferencia, matriculado, formado, jubilado"
   ]
  },
  {
   "cell_type": "code",
   "execution_count": 75,
   "metadata": {},
   "outputs": [
    {
     "data": {
      "text/plain": [
       "26932"
      ]
     },
     "execution_count": 75,
     "metadata": {},
     "output_type": "execute_result"
    }
   ],
   "source": [
    "evasao = ['0', '2', '4', '6', '8', 'P', 'O', 'K', 'J', 'H']\n",
    "df[df['ST_ALUNO'].isin(evasao) == True].shape[0]"
   ]
  },
  {
   "cell_type": "markdown",
   "metadata": {},
   "source": [
    "### TP_DEFIC_INEP"
   ]
  },
  {
   "cell_type": "code",
   "execution_count": 76,
   "metadata": {},
   "outputs": [
    {
     "data": {
      "text/plain": [
       "32"
      ]
     },
     "execution_count": 76,
     "metadata": {},
     "output_type": "execute_result"
    }
   ],
   "source": [
    "df['TP_DEFIC_INEP'].nunique(dropna=False)"
   ]
  },
  {
   "cell_type": "code",
   "execution_count": 77,
   "metadata": {},
   "outputs": [
    {
     "data": {
      "text/plain": [
       "array(['NNNNNNNN', nan, 'NNNSNNNN', 'NNNNNNNNNNNNN', 'SNNNNNNN',\n",
       "       'SNSSNNNN', 'NNSNNNNN', 'SNSNNNNN', 'SNNNNNNNNNNNN', 'NNSSNNNN',\n",
       "       'NNNNNSNN', 'NNNNNNNNSSNNN', 'SNNSNNNN', 'NNNNNNNNSNNNN',\n",
       "       'SSNNNNNN', 'NSNNNNNN', 'NNSNNNSN', 'SNNNSNNN', 'NNNSNNNNNNNNN',\n",
       "       'NNNNNNSN', 'NNSNNNNNNNNNN', 'NNNNSNNN', 'NNSNNNSNNNNNN',\n",
       "       'SSNNNNNNNNNNN', 'NNNNNNNNSNNSN', 'NNNNSNNNNNNNN', 'NNNNNNNNNNNSN',\n",
       "       'NNNNNNNNNSNNN', 'SNNNNNNNNNNSN', 'NNNNNNNNSSNSN', 'NSNNNNNNNNNNN',\n",
       "       'SNNNSSNN'], dtype=object)"
      ]
     },
     "execution_count": 77,
     "metadata": {},
     "output_type": "execute_result"
    }
   ],
   "source": [
    "df['TP_DEFIC_INEP'].unique()"
   ]
  },
  {
   "cell_type": "code",
   "execution_count": 89,
   "metadata": {},
   "outputs": [
    {
     "data": {
      "text/plain": [
       "TP_DEFIC_INEP\n",
       "NNNNNNNN         49921\n",
       "NaN              16099\n",
       "NNNNNNNNNNNNN     4027\n",
       "SNNNNNNN           873\n",
       "NNNSNNNN            77\n",
       "NNSNNNNN            63\n",
       "SNNNNNNNNNNNN       55\n",
       "NNNNNNNNNNNSN       13\n",
       "NNNSNNNNNNNNN       13\n",
       "NNNNSNNN            12\n",
       "SNSNNNNN             9\n",
       "SNNSNNNN             7\n",
       "NNNNNNNNNSNNN        7\n",
       "NNSNNNNNNNNNN        6\n",
       "NNNNNNNNSNNNN        6\n",
       "NSNNNNNN             6\n",
       "NNNNSNNNNNNNN        4\n",
       "NNNNNNNNSSNNN        3\n",
       "SSNNNNNN             3\n",
       "NNSNNNSNNNNNN        2\n",
       "NNSNNNSN             2\n",
       "SNNNSNNN             2\n",
       "NNSSNNNN             2\n",
       "NNNNNNSN             1\n",
       "SSNNNNNNNNNNN        1\n",
       "NNNNNNNNSNNSN        1\n",
       "NNNNNSNN             1\n",
       "SNSSNNNN             1\n",
       "SNNNNNNNNNNSN        1\n",
       "NNNNNNNNSSNSN        1\n",
       "NSNNNNNNNNNNN        1\n",
       "SNNNSSNN             1\n",
       "Name: count, dtype: int64"
      ]
     },
     "execution_count": 89,
     "metadata": {},
     "output_type": "execute_result"
    }
   ],
   "source": [
    "df['TP_DEFIC_INEP'].value_counts(dropna=False)"
   ]
  },
  {
   "cell_type": "markdown",
   "metadata": {},
   "source": [
    "\"Deficiência do aluno conforme cadastro do INEP, e tem o seguinte formato:\n",
    "NNNNNNNNNNNNN\n",
    "sendo cada letra podendo ser S (sim) ou N (não), com cada posição significando:\n",
    "\n",
    "1 Baixa Visão\n",
    "\n",
    "2 Cegueira\n",
    "\n",
    "3 Deficiência Auditiva\n",
    "\n",
    "4 Deficiência Física\n",
    "\n",
    "5 Deficiência Intelectual\n",
    "\n",
    "6 Deficiência Multipla\n",
    "\n",
    "7 Surdez\n",
    "\n",
    "8 Surdocegueira\n",
    "\n",
    "9 Autismo\n",
    "\n",
    "10 Sindrome de Asperger\n",
    "\n",
    "11 Sindrome de Rett\n",
    "\n",
    "12 Altas Hbilidades/Superdotação\n",
    "\n",
    "13 Trasntorno desintegrativo de Infrancia\n",
    "\n",
    "Esse padrão de 13 posições começou a ser utilizado em 2020 em diante, e antes era utilizado apenas 8 posições, com os mesmos significados.\n",
    "\n",
    "---\n",
    "\n",
    "Esse campo começou a ser utilizado mais ou menos em 2010, e antes era utilizado o campo TP_DEFICIENCIA, o qual pode \n",
    "ter esses valores:\n",
    "\n",
    "A  Auditiva\n",
    "\n",
    "F  Física\n",
    "\n",
    "M  Múltipla\n",
    "\n",
    "N  Nenhuma\n",
    "\n",
    "O  Outras\n",
    "\n",
    "PC Paralisia Cerebral\n",
    "\n",
    "VP  Visão Parcial\n",
    "\n",
    "VT  Visão Total\n",
    "\n",
    "Este campo TP_DEFICIENCIA mantêm-se atualizado mesmo após a criação do TP_DEFIC_INEP. Quando um aluno ou a DAA preenche o campo TP_DEFIC_INEP o sistema faz uma dedução de qual campo preencher em TP_DEFICIENCIA.\""
   ]
  },
  {
   "cell_type": "markdown",
   "metadata": {},
   "source": [
    "### TP_ESCOLA"
   ]
  },
  {
   "cell_type": "code",
   "execution_count": 78,
   "metadata": {},
   "outputs": [
    {
     "data": {
      "text/plain": [
       "10"
      ]
     },
     "execution_count": 78,
     "metadata": {},
     "output_type": "execute_result"
    }
   ],
   "source": [
    "df['TP_ESCOLA'].nunique(dropna=False)"
   ]
  },
  {
   "cell_type": "code",
   "execution_count": 79,
   "metadata": {},
   "outputs": [
    {
     "data": {
      "text/plain": [
       "array(['GI', nan, 'E', 'SG', 'P', 'GP', 'SP', 'F', 'M', 'EX'],\n",
       "      dtype=object)"
      ]
     },
     "execution_count": 79,
     "metadata": {},
     "output_type": "execute_result"
    }
   ],
   "source": [
    "df['TP_ESCOLA'].unique()"
   ]
  },
  {
   "cell_type": "code",
   "execution_count": 80,
   "metadata": {},
   "outputs": [
    {
     "data": {
      "text/plain": [
       "TP_ESCOLA\n",
       "GI     33592\n",
       "P      27342\n",
       "E       4467\n",
       "GP      3392\n",
       "NaN     1154\n",
       "SG       776\n",
       "SP       266\n",
       "F        107\n",
       "EX        91\n",
       "M         34\n",
       "Name: count, dtype: int64"
      ]
     },
     "execution_count": 80,
     "metadata": {},
     "output_type": "execute_result"
    }
   ],
   "source": [
    "df['TP_ESCOLA'].value_counts(dropna=False)"
   ]
  },
  {
   "cell_type": "markdown",
   "metadata": {},
   "source": [
    "O tipo do estabelecimento de ensino em que fez o 2º grau (ensino médio), podendo ter os valores:\n",
    "\n",
    "EX = Exterior\n",
    "\n",
    "GI = Escola Pública Integralmente\n",
    "\n",
    "GP = Escola Pública Parcialmente\n",
    "\n",
    "P = Escola Privada Integralmente\n",
    "\n",
    "SG = Supletivo Público\n",
    "\n",
    "SP = Supletivo Particular\n",
    "\n",
    "---\n",
    "\n",
    "Há também os valore abaixo, os quais não são mais utilizados:\n",
    "\n",
    "M = MUNICIPAL\n",
    "\n",
    "E = ESTADUAL\n",
    "\n",
    "F = FEDERAL\n",
    "\n",
    "PE = EXAME DE PROFICIÊNCIA ENEM"
   ]
  },
  {
   "cell_type": "markdown",
   "metadata": {},
   "source": [
    "### TP_INGRES_CURSO"
   ]
  },
  {
   "cell_type": "code",
   "execution_count": 81,
   "metadata": {},
   "outputs": [
    {
     "data": {
      "text/plain": [
       "55"
      ]
     },
     "execution_count": 81,
     "metadata": {},
     "output_type": "execute_result"
    }
   ],
   "source": [
    "df['TP_INGRES_CURSO'].nunique(dropna=False)"
   ]
  },
  {
   "cell_type": "code",
   "execution_count": 82,
   "metadata": {},
   "outputs": [
    {
     "data": {
      "text/plain": [
       "array([ 1,  2,  3,  4,  5,  6,  7,  8, 10, 11, 12, 14, 15, 16, 17, 18, 19,\n",
       "       21, 22, 24, 25, 26, 27, 28, 29, 30, 31, 32, 33, 34, 35, 36, 37, 38,\n",
       "       39, 40, 41, 42, 43, 44, 45, 46, 47, 48, 50, 53, 56, 57, 58, 59, 60,\n",
       "       61, 62, 63, 98], dtype=int64)"
      ]
     },
     "execution_count": 82,
     "metadata": {},
     "output_type": "execute_result"
    }
   ],
   "source": [
    "np.sort(df['TP_INGRES_CURSO'].unique())"
   ]
  },
  {
   "cell_type": "markdown",
   "metadata": {},
   "source": [
    "Muitos valores, verificar documento"
   ]
  },
  {
   "cell_type": "code",
   "execution_count": 83,
   "metadata": {},
   "outputs": [
    {
     "data": {
      "text/plain": [
       "NU_SEMESTRE2_VEST\n",
       "I      8\n",
       "V      5\n",
       "NaN    3\n",
       "Name: count, dtype: int64"
      ]
     },
     "execution_count": 83,
     "metadata": {},
     "output_type": "execute_result"
    }
   ],
   "source": [
    "df[df['TP_INGRES_CURSO'] == 11]['NU_SEMESTRE2_VEST'].value_counts(dropna=False)"
   ]
  },
  {
   "cell_type": "markdown",
   "metadata": {},
   "source": [
    "4141 nulos\n",
    "\n",
    "6 - portador de diploma (1243 nulos)\n",
    "\n",
    "32 - nova habilitacao (1113 nulos)"
   ]
  },
  {
   "cell_type": "markdown",
   "metadata": {},
   "source": [
    "### TP_OPCAO_COTAS"
   ]
  },
  {
   "cell_type": "code",
   "execution_count": 84,
   "metadata": {},
   "outputs": [
    {
     "data": {
      "text/plain": [
       "6"
      ]
     },
     "execution_count": 84,
     "metadata": {},
     "output_type": "execute_result"
    }
   ],
   "source": [
    "df['TP_OPCAO_COTAS'].nunique(dropna=False)"
   ]
  },
  {
   "cell_type": "code",
   "execution_count": 85,
   "metadata": {},
   "outputs": [
    {
     "data": {
      "text/plain": [
       "array(['N', nan, 'S', 'G', 'F', 'O'], dtype=object)"
      ]
     },
     "execution_count": 85,
     "metadata": {},
     "output_type": "execute_result"
    }
   ],
   "source": [
    "df['TP_OPCAO_COTAS'].unique()"
   ]
  },
  {
   "cell_type": "code",
   "execution_count": 86,
   "metadata": {},
   "outputs": [
    {
     "data": {
      "text/plain": [
       "TP_OPCAO_COTAS\n",
       "N      62808\n",
       "S       5862\n",
       "NaN     2277\n",
       "O        127\n",
       "G        126\n",
       "F         21\n",
       "Name: count, dtype: int64"
      ]
     },
     "execution_count": 86,
     "metadata": {},
     "output_type": "execute_result"
    }
   ],
   "source": [
    "df['TP_OPCAO_COTAS'].value_counts(dropna=False)"
   ]
  },
  {
   "cell_type": "markdown",
   "metadata": {},
   "source": [
    "\"Qual cota o aluno utilizou para entrar no curso. \n",
    "Não é necessariamente a cota que ele concorreu vaga no vestibular, pois há alguns casos que o aluno optou por alguma cota, porém por atingir nota ou por opção própria ele acaba entrando pela Universal.\n",
    "Pode ter os seguintes valores:\n",
    "\n",
    "N – Universal (sem cota)\n",
    "\n",
    "S – Cotas Sociais\n",
    "\n",
    "O – Cotas Sociais para Negros\n",
    "\n",
    "G – Cotas para Negros\n",
    "\n",
    "F – Cotas para PcD\n",
    "\n",
    "\n",
    "D – Cotas para Docentes de Escola Pública\n",
    "\n",
    "Em branco ou nulo: nenhuma cota ou não informado\""
   ]
  },
  {
   "cell_type": "markdown",
   "metadata": {},
   "source": [
    "### Colunas"
   ]
  },
  {
   "cell_type": "code",
   "execution_count": 87,
   "metadata": {},
   "outputs": [
    {
     "data": {
      "text/plain": [
       "Index(['ANO_OCORRENCIA', 'CD_ALUNO', 'CD_CURSO', 'CD_ORIGEM_ALUNO', 'CD_TURNO',\n",
       "       'DE_NATURALIDADE', 'DH_MATRICULA', 'DH_SITUACAO', 'DT_ANO_INGRES',\n",
       "       'DT_NASC_ALUNO', 'LT_ESTADO_CIVIL', 'LT_MODALIDADE', 'LT_NACIONALIDADE',\n",
       "       'LT_RACA', 'NM_CIDADE_AULA', 'NM_CIDADE_EST2GRAU', 'NM_CIDADE_FERIAS',\n",
       "       'NM_CIDADE_NASC', 'NM_PAIS_NASC', 'NU_SEMESTRE2_VEST', 'SG_SEXO_ALUNO',\n",
       "       'SG_UF_AULA', 'SG_UF_EST2GRAU', 'SG_UF_FERIAS', 'SG_UF_NASC_ALUNO',\n",
       "       'ST_ALUNO', 'TP_DEFIC_INEP', 'TP_ESCOLA', 'TP_INGRES_CURSO',\n",
       "       'TP_OPCAO_COTAS'],\n",
       "      dtype='object')"
      ]
     },
     "execution_count": 87,
     "metadata": {},
     "output_type": "execute_result"
    }
   ],
   "source": [
    "df.columns"
   ]
  }
 ],
 "metadata": {
  "kernelspec": {
   "display_name": "Python 3",
   "language": "python",
   "name": "python3"
  },
  "language_info": {
   "codemirror_mode": {
    "name": "ipython",
    "version": 3
   },
   "file_extension": ".py",
   "mimetype": "text/x-python",
   "name": "python",
   "nbconvert_exporter": "python",
   "pygments_lexer": "ipython3",
   "version": "3.11.5"
  }
 },
 "nbformat": 4,
 "nbformat_minor": 2
}
