{
 "cells": [
  {
   "cell_type": "code",
   "execution_count": 1,
   "metadata": {},
   "outputs": [],
   "source": [
    "import pandas as pd\n",
    "import numpy as np\n",
    "from datetime import datetime"
   ]
  },
  {
   "cell_type": "code",
   "execution_count": 159,
   "metadata": {},
   "outputs": [],
   "source": [
    "pd.options.display.max_columns = 999"
   ]
  },
  {
   "cell_type": "code",
   "execution_count": 3,
   "metadata": {},
   "outputs": [],
   "source": [
    "df_final = pd.read_csv('arquivos/dadosalunos-21-08-2023.csv')"
   ]
  },
  {
   "cell_type": "code",
   "execution_count": 4,
   "metadata": {},
   "outputs": [],
   "source": [
    "df_cursos = pd.read_csv('arquivos/cursos.csv')"
   ]
  },
  {
   "cell_type": "code",
   "execution_count": 5,
   "metadata": {},
   "outputs": [],
   "source": [
    "df_estados = pd.read_csv('arquivos/estados.csv', usecols=['codigo_uf', 'uf'])\n",
    "df_municipios = pd.read_csv('arquivos/municipios.csv', usecols=['nome', 'codigo_uf'])\n",
    "\n",
    "df_municipios['nome'] = df_municipios['nome'].str.upper().str.normalize('NFKD').str.encode('ascii', errors='ignore').str.decode('utf-8')\n",
    "\n",
    "df_estados_municipios = df_municipios.merge(df_estados, on='codigo_uf', how='left')"
   ]
  },
  {
   "cell_type": "code",
   "execution_count": 6,
   "metadata": {},
   "outputs": [],
   "source": [
    "colunas_loc_nasc_aluno = ['CD_ORIGEM_ALUNO', 'LT_NACIONALIDADE', 'NM_PAIS_NASC', 'SG_UF_NASC_ALUNO', 'NM_CIDADE_NASC', 'SG_UF_FERIAS', 'NM_CIDADE_FERIAS']"
   ]
  },
  {
   "cell_type": "code",
   "execution_count": 7,
   "metadata": {},
   "outputs": [],
   "source": [
    "colunas_a_remover = []"
   ]
  },
  {
   "cell_type": "code",
   "execution_count": 8,
   "metadata": {},
   "outputs": [
    {
     "data": {
      "text/html": [
       "<div>\n",
       "<style scoped>\n",
       "    .dataframe tbody tr th:only-of-type {\n",
       "        vertical-align: middle;\n",
       "    }\n",
       "\n",
       "    .dataframe tbody tr th {\n",
       "        vertical-align: top;\n",
       "    }\n",
       "\n",
       "    .dataframe thead th {\n",
       "        text-align: right;\n",
       "    }\n",
       "</style>\n",
       "<table border=\"1\" class=\"dataframe\">\n",
       "  <thead>\n",
       "    <tr style=\"text-align: right;\">\n",
       "      <th></th>\n",
       "      <th>ANO_OCORRENCIA</th>\n",
       "      <th>CD_ALUNO</th>\n",
       "      <th>CD_CURSO</th>\n",
       "      <th>CD_ORIGEM_ALUNO</th>\n",
       "      <th>CD_TURNO</th>\n",
       "      <th>DE_NATURALIDADE</th>\n",
       "      <th>DH_MATRICULA</th>\n",
       "      <th>DH_SITUACAO</th>\n",
       "      <th>DT_ANO_INGRES</th>\n",
       "      <th>DT_NASC_ALUNO</th>\n",
       "      <th>LT_ESTADO_CIVIL</th>\n",
       "      <th>LT_MODALIDADE</th>\n",
       "      <th>LT_NACIONALIDADE</th>\n",
       "      <th>LT_RACA</th>\n",
       "      <th>NM_CIDADE_AULA</th>\n",
       "      <th>NM_CIDADE_EST2GRAU</th>\n",
       "      <th>NM_CIDADE_FERIAS</th>\n",
       "      <th>NM_CIDADE_NASC</th>\n",
       "      <th>NM_PAIS_NASC</th>\n",
       "      <th>NU_SEMESTRE2_VEST</th>\n",
       "      <th>SG_SEXO_ALUNO</th>\n",
       "      <th>SG_UF_AULA</th>\n",
       "      <th>SG_UF_EST2GRAU</th>\n",
       "      <th>SG_UF_FERIAS</th>\n",
       "      <th>SG_UF_NASC_ALUNO</th>\n",
       "      <th>ST_ALUNO</th>\n",
       "      <th>TP_DEFIC_INEP</th>\n",
       "      <th>TP_ESCOLA</th>\n",
       "      <th>TP_INGRES_CURSO</th>\n",
       "      <th>TP_OPCAO_COTAS</th>\n",
       "    </tr>\n",
       "  </thead>\n",
       "  <tbody>\n",
       "    <tr>\n",
       "      <th>66372</th>\n",
       "      <td>2021</td>\n",
       "      <td>10129599724</td>\n",
       "      <td>26</td>\n",
       "      <td>0</td>\n",
       "      <td>I</td>\n",
       "      <td>NaN</td>\n",
       "      <td>2021-06-16</td>\n",
       "      <td>2022-04-25</td>\n",
       "      <td>2021</td>\n",
       "      <td>2003-06-16</td>\n",
       "      <td>1.0</td>\n",
       "      <td>P</td>\n",
       "      <td>B</td>\n",
       "      <td>2</td>\n",
       "      <td>MARINGA</td>\n",
       "      <td>MARINGA</td>\n",
       "      <td>MARINGA</td>\n",
       "      <td>MARINGA</td>\n",
       "      <td>BRASIL</td>\n",
       "      <td>A</td>\n",
       "      <td>M</td>\n",
       "      <td>PR</td>\n",
       "      <td>PR</td>\n",
       "      <td>PR</td>\n",
       "      <td>PR</td>\n",
       "      <td>NaN</td>\n",
       "      <td>NNNNNNNN</td>\n",
       "      <td>P</td>\n",
       "      <td>1</td>\n",
       "      <td>N</td>\n",
       "    </tr>\n",
       "  </tbody>\n",
       "</table>\n",
       "</div>"
      ],
      "text/plain": [
       "       ANO_OCORRENCIA     CD_ALUNO  CD_CURSO  CD_ORIGEM_ALUNO CD_TURNO  \\\n",
       "66372            2021  10129599724        26                0        I   \n",
       "\n",
       "      DE_NATURALIDADE DH_MATRICULA DH_SITUACAO  DT_ANO_INGRES DT_NASC_ALUNO  \\\n",
       "66372             NaN   2021-06-16  2022-04-25           2021    2003-06-16   \n",
       "\n",
       "       LT_ESTADO_CIVIL LT_MODALIDADE LT_NACIONALIDADE  LT_RACA NM_CIDADE_AULA  \\\n",
       "66372              1.0             P                B        2        MARINGA   \n",
       "\n",
       "      NM_CIDADE_EST2GRAU NM_CIDADE_FERIAS NM_CIDADE_NASC NM_PAIS_NASC  \\\n",
       "66372            MARINGA          MARINGA        MARINGA       BRASIL   \n",
       "\n",
       "      NU_SEMESTRE2_VEST SG_SEXO_ALUNO SG_UF_AULA SG_UF_EST2GRAU SG_UF_FERIAS  \\\n",
       "66372                 A             M         PR             PR           PR   \n",
       "\n",
       "      SG_UF_NASC_ALUNO ST_ALUNO TP_DEFIC_INEP TP_ESCOLA  TP_INGRES_CURSO  \\\n",
       "66372               PR      NaN      NNNNNNNN         P                1   \n",
       "\n",
       "      TP_OPCAO_COTAS  \n",
       "66372              N  "
      ]
     },
     "execution_count": 8,
     "metadata": {},
     "output_type": "execute_result"
    }
   ],
   "source": [
    "df_final[(df_final['DT_NASC_ALUNO'] == '2003-06-16') & (df_final['CD_CURSO'] == 26)]"
   ]
  },
  {
   "cell_type": "code",
   "execution_count": 9,
   "metadata": {},
   "outputs": [
    {
     "data": {
      "text/html": [
       "<div>\n",
       "<style scoped>\n",
       "    .dataframe tbody tr th:only-of-type {\n",
       "        vertical-align: middle;\n",
       "    }\n",
       "\n",
       "    .dataframe tbody tr th {\n",
       "        vertical-align: top;\n",
       "    }\n",
       "\n",
       "    .dataframe thead th {\n",
       "        text-align: right;\n",
       "    }\n",
       "</style>\n",
       "<table border=\"1\" class=\"dataframe\">\n",
       "  <thead>\n",
       "    <tr style=\"text-align: right;\">\n",
       "      <th></th>\n",
       "      <th>ANO_OCORRENCIA</th>\n",
       "      <th>CD_ALUNO</th>\n",
       "      <th>CD_CURSO</th>\n",
       "      <th>CD_ORIGEM_ALUNO</th>\n",
       "      <th>CD_TURNO</th>\n",
       "      <th>DE_NATURALIDADE</th>\n",
       "      <th>DH_MATRICULA</th>\n",
       "      <th>DH_SITUACAO</th>\n",
       "      <th>DT_ANO_INGRES</th>\n",
       "      <th>DT_NASC_ALUNO</th>\n",
       "      <th>LT_ESTADO_CIVIL</th>\n",
       "      <th>LT_MODALIDADE</th>\n",
       "      <th>LT_NACIONALIDADE</th>\n",
       "      <th>LT_RACA</th>\n",
       "      <th>NM_CIDADE_AULA</th>\n",
       "      <th>NM_CIDADE_EST2GRAU</th>\n",
       "      <th>NM_CIDADE_FERIAS</th>\n",
       "      <th>NM_CIDADE_NASC</th>\n",
       "      <th>NM_PAIS_NASC</th>\n",
       "      <th>NU_SEMESTRE2_VEST</th>\n",
       "      <th>SG_SEXO_ALUNO</th>\n",
       "      <th>SG_UF_AULA</th>\n",
       "      <th>SG_UF_EST2GRAU</th>\n",
       "      <th>SG_UF_FERIAS</th>\n",
       "      <th>SG_UF_NASC_ALUNO</th>\n",
       "      <th>ST_ALUNO</th>\n",
       "      <th>TP_DEFIC_INEP</th>\n",
       "      <th>TP_ESCOLA</th>\n",
       "      <th>TP_INGRES_CURSO</th>\n",
       "      <th>TP_OPCAO_COTAS</th>\n",
       "    </tr>\n",
       "  </thead>\n",
       "  <tbody>\n",
       "    <tr>\n",
       "      <th>70071</th>\n",
       "      <td>0</td>\n",
       "      <td>13159171903</td>\n",
       "      <td>26</td>\n",
       "      <td>0</td>\n",
       "      <td>I</td>\n",
       "      <td>NaN</td>\n",
       "      <td>2022-05-16</td>\n",
       "      <td>2022-05-16</td>\n",
       "      <td>2022</td>\n",
       "      <td>2004-04-12</td>\n",
       "      <td>1.0</td>\n",
       "      <td>P</td>\n",
       "      <td>B</td>\n",
       "      <td>1</td>\n",
       "      <td>MARINGA</td>\n",
       "      <td>MARINGA</td>\n",
       "      <td>MARINGA</td>\n",
       "      <td>MARINGA</td>\n",
       "      <td>BRASIL</td>\n",
       "      <td>A</td>\n",
       "      <td>F</td>\n",
       "      <td>PR</td>\n",
       "      <td>PR</td>\n",
       "      <td>PR</td>\n",
       "      <td>PR</td>\n",
       "      <td>NaN</td>\n",
       "      <td>NNNNNNNNNNNNN</td>\n",
       "      <td>P</td>\n",
       "      <td>14</td>\n",
       "      <td>N</td>\n",
       "    </tr>\n",
       "  </tbody>\n",
       "</table>\n",
       "</div>"
      ],
      "text/plain": [
       "       ANO_OCORRENCIA     CD_ALUNO  CD_CURSO  CD_ORIGEM_ALUNO CD_TURNO  \\\n",
       "70071               0  13159171903        26                0        I   \n",
       "\n",
       "      DE_NATURALIDADE DH_MATRICULA DH_SITUACAO  DT_ANO_INGRES DT_NASC_ALUNO  \\\n",
       "70071             NaN   2022-05-16  2022-05-16           2022    2004-04-12   \n",
       "\n",
       "       LT_ESTADO_CIVIL LT_MODALIDADE LT_NACIONALIDADE  LT_RACA NM_CIDADE_AULA  \\\n",
       "70071              1.0             P                B        1        MARINGA   \n",
       "\n",
       "      NM_CIDADE_EST2GRAU NM_CIDADE_FERIAS NM_CIDADE_NASC NM_PAIS_NASC  \\\n",
       "70071            MARINGA          MARINGA        MARINGA       BRASIL   \n",
       "\n",
       "      NU_SEMESTRE2_VEST SG_SEXO_ALUNO SG_UF_AULA SG_UF_EST2GRAU SG_UF_FERIAS  \\\n",
       "70071                 A             F         PR             PR           PR   \n",
       "\n",
       "      SG_UF_NASC_ALUNO ST_ALUNO  TP_DEFIC_INEP TP_ESCOLA  TP_INGRES_CURSO  \\\n",
       "70071               PR      NaN  NNNNNNNNNNNNN         P               14   \n",
       "\n",
       "      TP_OPCAO_COTAS  \n",
       "70071              N  "
      ]
     },
     "execution_count": 9,
     "metadata": {},
     "output_type": "execute_result"
    }
   ],
   "source": [
    "df_final[(df_final['DT_NASC_ALUNO'] == '2004-04-12') & (df_final['CD_CURSO'] == 26)]"
   ]
  },
  {
   "cell_type": "markdown",
   "metadata": {},
   "source": [
    "### ANO_OCORRENCIA"
   ]
  },
  {
   "cell_type": "markdown",
   "metadata": {},
   "source": [
    "Não mexi e não iremos utilizar, uma vez que não há o campo da Ocorrência"
   ]
  },
  {
   "cell_type": "code",
   "execution_count": 10,
   "metadata": {},
   "outputs": [],
   "source": [
    "colunas_a_remover.append('ANO_OCORRENCIA')"
   ]
  },
  {
   "cell_type": "markdown",
   "metadata": {},
   "source": [
    "### CD_ALUNO"
   ]
  },
  {
   "cell_type": "markdown",
   "metadata": {},
   "source": [
    "ID do aluno. Mantém como está"
   ]
  },
  {
   "cell_type": "markdown",
   "metadata": {},
   "source": [
    "### CD_CURSO"
   ]
  },
  {
   "cell_type": "markdown",
   "metadata": {},
   "source": [
    "Mantém como está."
   ]
  },
  {
   "cell_type": "markdown",
   "metadata": {},
   "source": [
    "### CD_ORIGEM_ALUNO"
   ]
  },
  {
   "cell_type": "code",
   "execution_count": 11,
   "metadata": {},
   "outputs": [
    {
     "data": {
      "text/plain": [
       "CD_ORIGEM_ALUNO\n",
       "0      7322\n",
       "1     27404\n",
       "2      6925\n",
       "3     17061\n",
       "4      9967\n",
       "5      2394\n",
       "6       147\n",
       "15        1\n",
       "Name: count, dtype: int64"
      ]
     },
     "execution_count": 11,
     "metadata": {},
     "output_type": "execute_result"
    }
   ],
   "source": [
    "df_final['CD_ORIGEM_ALUNO'].value_counts(dropna=False).sort_index()"
   ]
  },
  {
   "cell_type": "markdown",
   "metadata": {},
   "source": [
    "Os valores 0 são nulos, verificando outras colunas referentes ao local de nascimento do aluno"
   ]
  },
  {
   "cell_type": "code",
   "execution_count": 12,
   "metadata": {},
   "outputs": [],
   "source": [
    "def verifica_origem_aluno(row):\n",
    "    if row['NM_CIDADE_NASC'] == 'MARINGA':\n",
    "        return 1\n",
    "    elif row['SG_UF_NASC_ALUNO'] == 'SP':\n",
    "        return 4\n",
    "    elif row['SG_UF_NASC_ALUNO'] != 'SP' and row['SG_UF_NASC_ALUNO'] != 'PR':\n",
    "        return 5\n",
    "    elif row['NM_PAIS_NASC'] != 'BRASIL':\n",
    "        return 6\n",
    "    else:\n",
    "        return 0"
   ]
  },
  {
   "cell_type": "code",
   "execution_count": 13,
   "metadata": {},
   "outputs": [],
   "source": [
    "df_final['F_CD_ORIGEM_ALUNO'] = df_final.apply(verifica_origem_aluno, axis=1)"
   ]
  },
  {
   "cell_type": "code",
   "execution_count": 14,
   "metadata": {},
   "outputs": [
    {
     "data": {
      "text/html": [
       "<div>\n",
       "<style scoped>\n",
       "    .dataframe tbody tr th:only-of-type {\n",
       "        vertical-align: middle;\n",
       "    }\n",
       "\n",
       "    .dataframe tbody tr th {\n",
       "        vertical-align: top;\n",
       "    }\n",
       "\n",
       "    .dataframe thead th {\n",
       "        text-align: right;\n",
       "    }\n",
       "</style>\n",
       "<table border=\"1\" class=\"dataframe\">\n",
       "  <thead>\n",
       "    <tr style=\"text-align: right;\">\n",
       "      <th></th>\n",
       "      <th>CD_ORIGEM_ALUNO</th>\n",
       "      <th>LT_NACIONALIDADE</th>\n",
       "      <th>NM_PAIS_NASC</th>\n",
       "      <th>SG_UF_NASC_ALUNO</th>\n",
       "      <th>NM_CIDADE_NASC</th>\n",
       "      <th>SG_UF_FERIAS</th>\n",
       "      <th>NM_CIDADE_FERIAS</th>\n",
       "      <th>F_CD_ORIGEM_ALUNO</th>\n",
       "    </tr>\n",
       "  </thead>\n",
       "  <tbody>\n",
       "    <tr>\n",
       "      <th>1</th>\n",
       "      <td>0</td>\n",
       "      <td>B</td>\n",
       "      <td>BRASIL</td>\n",
       "      <td>PR</td>\n",
       "      <td>MANDAGUARI</td>\n",
       "      <td>NaN</td>\n",
       "      <td>NaN</td>\n",
       "      <td>0</td>\n",
       "    </tr>\n",
       "    <tr>\n",
       "      <th>51</th>\n",
       "      <td>0</td>\n",
       "      <td>B</td>\n",
       "      <td>BRASIL</td>\n",
       "      <td>PR</td>\n",
       "      <td>MARINGA</td>\n",
       "      <td>PR</td>\n",
       "      <td>MARINGA</td>\n",
       "      <td>1</td>\n",
       "    </tr>\n",
       "    <tr>\n",
       "      <th>809</th>\n",
       "      <td>0</td>\n",
       "      <td>B</td>\n",
       "      <td>BRASIL</td>\n",
       "      <td>PR</td>\n",
       "      <td>LONDRINA</td>\n",
       "      <td>PR</td>\n",
       "      <td>MARIALVA</td>\n",
       "      <td>0</td>\n",
       "    </tr>\n",
       "    <tr>\n",
       "      <th>1489</th>\n",
       "      <td>0</td>\n",
       "      <td>B</td>\n",
       "      <td>BRASIL</td>\n",
       "      <td>PR</td>\n",
       "      <td>MARINGA</td>\n",
       "      <td>--</td>\n",
       "      <td>NAO INFORMADO</td>\n",
       "      <td>1</td>\n",
       "    </tr>\n",
       "    <tr>\n",
       "      <th>1490</th>\n",
       "      <td>0</td>\n",
       "      <td>B</td>\n",
       "      <td>BRASIL</td>\n",
       "      <td>PR</td>\n",
       "      <td>MARINGA</td>\n",
       "      <td>--</td>\n",
       "      <td>NAO INFORMADO</td>\n",
       "      <td>1</td>\n",
       "    </tr>\n",
       "    <tr>\n",
       "      <th>...</th>\n",
       "      <td>...</td>\n",
       "      <td>...</td>\n",
       "      <td>...</td>\n",
       "      <td>...</td>\n",
       "      <td>...</td>\n",
       "      <td>...</td>\n",
       "      <td>...</td>\n",
       "      <td>...</td>\n",
       "    </tr>\n",
       "    <tr>\n",
       "      <th>71216</th>\n",
       "      <td>0</td>\n",
       "      <td>B</td>\n",
       "      <td>BRASIL</td>\n",
       "      <td>PR</td>\n",
       "      <td>BRAGANTINA</td>\n",
       "      <td>NaN</td>\n",
       "      <td>MARINGA</td>\n",
       "      <td>0</td>\n",
       "    </tr>\n",
       "    <tr>\n",
       "      <th>71217</th>\n",
       "      <td>0</td>\n",
       "      <td>B</td>\n",
       "      <td>BRASIL</td>\n",
       "      <td>PR</td>\n",
       "      <td>CURITIBA</td>\n",
       "      <td>NaN</td>\n",
       "      <td>APUCARANA</td>\n",
       "      <td>0</td>\n",
       "    </tr>\n",
       "    <tr>\n",
       "      <th>71218</th>\n",
       "      <td>0</td>\n",
       "      <td>B</td>\n",
       "      <td>NaN</td>\n",
       "      <td>PR</td>\n",
       "      <td>JACAREZINHO</td>\n",
       "      <td>NaN</td>\n",
       "      <td>NaN</td>\n",
       "      <td>6</td>\n",
       "    </tr>\n",
       "    <tr>\n",
       "      <th>71219</th>\n",
       "      <td>0</td>\n",
       "      <td>B</td>\n",
       "      <td>NaN</td>\n",
       "      <td>PR</td>\n",
       "      <td>LONDRINA</td>\n",
       "      <td>NaN</td>\n",
       "      <td>NaN</td>\n",
       "      <td>6</td>\n",
       "    </tr>\n",
       "    <tr>\n",
       "      <th>71220</th>\n",
       "      <td>0</td>\n",
       "      <td>B</td>\n",
       "      <td>NaN</td>\n",
       "      <td>PR</td>\n",
       "      <td>CANDIDO DE ABREU</td>\n",
       "      <td>NaN</td>\n",
       "      <td>NaN</td>\n",
       "      <td>6</td>\n",
       "    </tr>\n",
       "  </tbody>\n",
       "</table>\n",
       "<p>7322 rows × 8 columns</p>\n",
       "</div>"
      ],
      "text/plain": [
       "       CD_ORIGEM_ALUNO LT_NACIONALIDADE NM_PAIS_NASC SG_UF_NASC_ALUNO  \\\n",
       "1                    0                B       BRASIL               PR   \n",
       "51                   0                B       BRASIL               PR   \n",
       "809                  0                B       BRASIL               PR   \n",
       "1489                 0                B       BRASIL               PR   \n",
       "1490                 0                B       BRASIL               PR   \n",
       "...                ...              ...          ...              ...   \n",
       "71216                0                B       BRASIL               PR   \n",
       "71217                0                B       BRASIL               PR   \n",
       "71218                0                B          NaN               PR   \n",
       "71219                0                B          NaN               PR   \n",
       "71220                0                B          NaN               PR   \n",
       "\n",
       "         NM_CIDADE_NASC SG_UF_FERIAS NM_CIDADE_FERIAS  F_CD_ORIGEM_ALUNO  \n",
       "1            MANDAGUARI          NaN              NaN                  0  \n",
       "51              MARINGA           PR          MARINGA                  1  \n",
       "809            LONDRINA           PR         MARIALVA                  0  \n",
       "1489            MARINGA           --    NAO INFORMADO                  1  \n",
       "1490            MARINGA           --    NAO INFORMADO                  1  \n",
       "...                 ...          ...              ...                ...  \n",
       "71216        BRAGANTINA          NaN          MARINGA                  0  \n",
       "71217          CURITIBA          NaN        APUCARANA                  0  \n",
       "71218       JACAREZINHO          NaN              NaN                  6  \n",
       "71219          LONDRINA          NaN              NaN                  6  \n",
       "71220  CANDIDO DE ABREU          NaN              NaN                  6  \n",
       "\n",
       "[7322 rows x 8 columns]"
      ]
     },
     "execution_count": 14,
     "metadata": {},
     "output_type": "execute_result"
    }
   ],
   "source": [
    "df_final[df_final['CD_ORIGEM_ALUNO'] == 0][colunas_loc_nasc_aluno + ['F_CD_ORIGEM_ALUNO']]"
   ]
  },
  {
   "cell_type": "markdown",
   "metadata": {},
   "source": [
    "Comecei a tratar, mas acho melhor voltar depois de tratar 'CD_ORIGEM_ALUNO', 'LT_NACIONALIDADE', 'NM_CIDADE_NASC', 'NM_PAIS_NASC', 'SG_UF_NASC_ALUNO'"
   ]
  },
  {
   "cell_type": "code",
   "execution_count": 15,
   "metadata": {},
   "outputs": [],
   "source": [
    "colunas_a_remover.append('CD_ORIGEM_ALUNO')"
   ]
  },
  {
   "cell_type": "markdown",
   "metadata": {},
   "source": [
    "### CD_TURNO"
   ]
  },
  {
   "cell_type": "markdown",
   "metadata": {},
   "source": [
    "Mantém como está."
   ]
  },
  {
   "cell_type": "markdown",
   "metadata": {},
   "source": [
    "### DE_NATURALIDADE"
   ]
  },
  {
   "cell_type": "markdown",
   "metadata": {},
   "source": [
    "Comentário do Alison:\n",
    "\n",
    "> Acho que deveria ser a cidade de nascimento. Acho que este também não é um bom campo, pois também está em desuso, a maioria dos alunos estão com esse campo nulo. O que se usa mais é DE_NAT_ESTRANG o qual é a cidade de nascimento quando a pessoa é estrangeira e o próprio usuário digita como quiser, pois o campo NM_CIDADE_NASC é populado por um selectbox conforme cadastro dos correios e não tem cidades fora do Brasil.\n",
    "\n",
    "Melhor desconsiderar esse campo."
   ]
  },
  {
   "cell_type": "code",
   "execution_count": 16,
   "metadata": {},
   "outputs": [],
   "source": [
    "colunas_a_remover.append('DE_NATURALIDADE')"
   ]
  },
  {
   "cell_type": "markdown",
   "metadata": {},
   "source": [
    "### DH_MATRICULA"
   ]
  },
  {
   "cell_type": "markdown",
   "metadata": {},
   "source": [
    "Mantém como está. Ano calendário"
   ]
  },
  {
   "cell_type": "markdown",
   "metadata": {},
   "source": [
    "### DH_SITUACAO"
   ]
  },
  {
   "cell_type": "markdown",
   "metadata": {},
   "source": [
    "Mantém como está. Ano calendário"
   ]
  },
  {
   "cell_type": "markdown",
   "metadata": {},
   "source": [
    "Data da última situação do aluno\n",
    "\n",
    "A partir de 2007 estará mais confiável. Antes pode ter informação errada. Foi feita uma tratativa para pegar o DH_MATRICULA se o DH_SITUACAO estivesse vazio.\n",
    "\n",
    "\n",
    "Um caso: aluno entrou em 2014 e estava com a situação em branco, ou seja, matriculado. Quando um aluno tranca e volta, o DH_SITUACAO vai estar com a data da volta, e não da matrícula.\n",
    "\n",
    "Outro caso: aluno com data de matrícula 2009 e data de ingresso 2006, o errado nesse caso seria o DH_MATRICULA. Antigamente era tudo manual.\n"
   ]
  },
  {
   "cell_type": "markdown",
   "metadata": {},
   "source": [
    "### DT_ANO_INGRES"
   ]
  },
  {
   "cell_type": "markdown",
   "metadata": {},
   "source": [
    "Mantém como está. Ano letivo"
   ]
  },
  {
   "cell_type": "markdown",
   "metadata": {},
   "source": [
    "### DT_NASC_ALUNO"
   ]
  },
  {
   "cell_type": "markdown",
   "metadata": {},
   "source": [
    "Vou manter apenas o ano (calendário)"
   ]
  },
  {
   "cell_type": "code",
   "execution_count": 17,
   "metadata": {},
   "outputs": [
    {
     "data": {
      "text/plain": [
       "DT_NASC_ALUNO\n",
       "0001-01-01    62\n",
       "1991-03-01    29\n",
       "1990-10-10    28\n",
       "1990-02-08    24\n",
       "1994-06-22    23\n",
       "              ..\n",
       "1965-01-31     1\n",
       "1969-03-31     1\n",
       "1972-01-06     1\n",
       "1979-12-18     1\n",
       "1969-01-25     1\n",
       "Name: count, Length: 11681, dtype: int64"
      ]
     },
     "execution_count": 17,
     "metadata": {},
     "output_type": "execute_result"
    }
   ],
   "source": [
    "df_final['DT_NASC_ALUNO'].value_counts(dropna=False)"
   ]
  },
  {
   "cell_type": "code",
   "execution_count": 18,
   "metadata": {},
   "outputs": [],
   "source": [
    "df_final['F_DT_NASC_ALUNO'] = df_final['DT_NASC_ALUNO'].apply(lambda x: x.split('-')[0])"
   ]
  },
  {
   "cell_type": "code",
   "execution_count": 19,
   "metadata": {},
   "outputs": [
    {
     "data": {
      "text/html": [
       "<div>\n",
       "<style scoped>\n",
       "    .dataframe tbody tr th:only-of-type {\n",
       "        vertical-align: middle;\n",
       "    }\n",
       "\n",
       "    .dataframe tbody tr th {\n",
       "        vertical-align: top;\n",
       "    }\n",
       "\n",
       "    .dataframe thead th {\n",
       "        text-align: right;\n",
       "    }\n",
       "</style>\n",
       "<table border=\"1\" class=\"dataframe\">\n",
       "  <thead>\n",
       "    <tr style=\"text-align: right;\">\n",
       "      <th></th>\n",
       "      <th>DT_NASC_ALUNO</th>\n",
       "      <th>F_DT_NASC_ALUNO</th>\n",
       "    </tr>\n",
       "  </thead>\n",
       "  <tbody>\n",
       "    <tr>\n",
       "      <th>0</th>\n",
       "      <td>1974-07-08</td>\n",
       "      <td>1974</td>\n",
       "    </tr>\n",
       "    <tr>\n",
       "      <th>1</th>\n",
       "      <td>1971-02-08</td>\n",
       "      <td>1971</td>\n",
       "    </tr>\n",
       "    <tr>\n",
       "      <th>2</th>\n",
       "      <td>1971-07-12</td>\n",
       "      <td>1971</td>\n",
       "    </tr>\n",
       "    <tr>\n",
       "      <th>3</th>\n",
       "      <td>1974-05-25</td>\n",
       "      <td>1974</td>\n",
       "    </tr>\n",
       "    <tr>\n",
       "      <th>4</th>\n",
       "      <td>1966-07-27</td>\n",
       "      <td>1966</td>\n",
       "    </tr>\n",
       "    <tr>\n",
       "      <th>...</th>\n",
       "      <td>...</td>\n",
       "      <td>...</td>\n",
       "    </tr>\n",
       "    <tr>\n",
       "      <th>71216</th>\n",
       "      <td>1972-10-16</td>\n",
       "      <td>1972</td>\n",
       "    </tr>\n",
       "    <tr>\n",
       "      <th>71217</th>\n",
       "      <td>1981-01-16</td>\n",
       "      <td>1981</td>\n",
       "    </tr>\n",
       "    <tr>\n",
       "      <th>71218</th>\n",
       "      <td>2001-07-15</td>\n",
       "      <td>2001</td>\n",
       "    </tr>\n",
       "    <tr>\n",
       "      <th>71219</th>\n",
       "      <td>1999-12-13</td>\n",
       "      <td>1999</td>\n",
       "    </tr>\n",
       "    <tr>\n",
       "      <th>71220</th>\n",
       "      <td>2000-03-04</td>\n",
       "      <td>2000</td>\n",
       "    </tr>\n",
       "  </tbody>\n",
       "</table>\n",
       "<p>71221 rows × 2 columns</p>\n",
       "</div>"
      ],
      "text/plain": [
       "      DT_NASC_ALUNO F_DT_NASC_ALUNO\n",
       "0        1974-07-08            1974\n",
       "1        1971-02-08            1971\n",
       "2        1971-07-12            1971\n",
       "3        1974-05-25            1974\n",
       "4        1966-07-27            1966\n",
       "...             ...             ...\n",
       "71216    1972-10-16            1972\n",
       "71217    1981-01-16            1981\n",
       "71218    2001-07-15            2001\n",
       "71219    1999-12-13            1999\n",
       "71220    2000-03-04            2000\n",
       "\n",
       "[71221 rows x 2 columns]"
      ]
     },
     "execution_count": 19,
     "metadata": {},
     "output_type": "execute_result"
    }
   ],
   "source": [
    "df_final[['DT_NASC_ALUNO', 'F_DT_NASC_ALUNO']]"
   ]
  },
  {
   "cell_type": "code",
   "execution_count": 20,
   "metadata": {},
   "outputs": [],
   "source": [
    "colunas_a_remover.append('DT_NASC_ALUNO')"
   ]
  },
  {
   "cell_type": "markdown",
   "metadata": {},
   "source": [
    "### LT_ESTADO_CIVIL"
   ]
  },
  {
   "cell_type": "markdown",
   "metadata": {},
   "source": [
    "0 ou em branco = NÃO INFORMADO\n",
    "\n",
    "1 = SOLTEIRO(A)\n",
    "\n",
    "2 = CASADO(A)\n",
    "\n",
    "3 = SEPARADO(A)\n",
    "\n",
    "4 = DIVORCIADO(A)\n",
    "\n",
    "5 = VIÚVO(A)\n",
    "\n",
    "6 = OUTROS"
   ]
  },
  {
   "cell_type": "code",
   "execution_count": 21,
   "metadata": {},
   "outputs": [
    {
     "data": {
      "text/plain": [
       "LT_ESTADO_CIVIL\n",
       "0.0     1204\n",
       "1.0    64671\n",
       "2.0     3674\n",
       "3.0     1001\n",
       "4.0      278\n",
       "5.0       15\n",
       "6.0      146\n",
       "NaN      232\n",
       "Name: count, dtype: int64"
      ]
     },
     "execution_count": 21,
     "metadata": {},
     "output_type": "execute_result"
    }
   ],
   "source": [
    "df_final['LT_ESTADO_CIVIL'].value_counts(dropna=False).sort_index()"
   ]
  },
  {
   "cell_type": "code",
   "execution_count": 22,
   "metadata": {},
   "outputs": [],
   "source": [
    "df_final['LT_ESTADO_CIVIL'].fillna(0.0, inplace=True)"
   ]
  },
  {
   "cell_type": "markdown",
   "metadata": {},
   "source": [
    "### LT_MODALIDADE"
   ]
  },
  {
   "cell_type": "markdown",
   "metadata": {},
   "source": [
    "Como só tem um valor, desconsiderar coluna."
   ]
  },
  {
   "cell_type": "code",
   "execution_count": 23,
   "metadata": {},
   "outputs": [],
   "source": [
    "colunas_a_remover.append('LT_MODALIDADE')"
   ]
  },
  {
   "cell_type": "markdown",
   "metadata": {},
   "source": [
    "### LT_NACIONALIDADE"
   ]
  },
  {
   "cell_type": "markdown",
   "metadata": {},
   "source": [
    "Mantém como está? Vamos usar?"
   ]
  },
  {
   "cell_type": "code",
   "execution_count": 24,
   "metadata": {},
   "outputs": [
    {
     "data": {
      "text/plain": [
       "LT_NACIONALIDADE\n",
       "B      70395\n",
       "NaN      297\n",
       "R        216\n",
       "N        179\n",
       "E        134\n",
       "Name: count, dtype: int64"
      ]
     },
     "execution_count": 24,
     "metadata": {},
     "output_type": "execute_result"
    }
   ],
   "source": [
    "df_final['LT_NACIONALIDADE'].value_counts(dropna=False)"
   ]
  },
  {
   "cell_type": "markdown",
   "metadata": {},
   "source": [
    "B= BRASILEIRA \n",
    "\n",
    "E= ESTRANGEIRA\n",
    "\n",
    "N= BRASILEIRO NATURALIZADO\n",
    "\n",
    "R= BRASILEIRO NASCIDO NO EXTERIOR\n",
    "\n",
    "Nulo ou em branco = NÃO INFORMADO"
   ]
  },
  {
   "cell_type": "markdown",
   "metadata": {},
   "source": [
    "### LT_RACA"
   ]
  },
  {
   "cell_type": "markdown",
   "metadata": {},
   "source": [
    "Mantém como está"
   ]
  },
  {
   "cell_type": "code",
   "execution_count": 25,
   "metadata": {},
   "outputs": [
    {
     "data": {
      "text/plain": [
       "LT_RACA\n",
       "0    20818\n",
       "1     3171\n",
       "2    37476\n",
       "3      177\n",
       "4     1526\n",
       "5     8053\n",
       "Name: count, dtype: int64"
      ]
     },
     "execution_count": 25,
     "metadata": {},
     "output_type": "execute_result"
    }
   ],
   "source": [
    "df_final['LT_RACA'].value_counts(dropna=False).sort_index()"
   ]
  },
  {
   "cell_type": "markdown",
   "metadata": {},
   "source": [
    "0 = NÃO DECLARADA\n",
    "\n",
    "1 = AMARELO(A), DE ORIGEM ORIENTAL\n",
    "\n",
    "2 = BRANCO(A)\n",
    "\n",
    "3 = INDÍGENA OU DE ORIGEM INDÍGENA\n",
    "\n",
    "4 = NEGRO(A)\n",
    "\n",
    "5 = PARDO(A)/MUDALTO(A)\n",
    "\n",
    "Nulo ou em branco = NÃO INFORMADO"
   ]
  },
  {
   "cell_type": "markdown",
   "metadata": {},
   "source": [
    "### NM_CIDADE_AULA"
   ]
  },
  {
   "cell_type": "markdown",
   "metadata": {},
   "source": [
    "Desconsiderar. Muitas cidades, deveria ser só as cidades das regiões de cada campus."
   ]
  },
  {
   "cell_type": "code",
   "execution_count": 26,
   "metadata": {},
   "outputs": [
    {
     "data": {
      "text/plain": [
       "DT_ANO_INGRES\n",
       "2002     90\n",
       "2003    157\n",
       "2004    237\n",
       "2005    351\n",
       "2006    418\n",
       "2007    464\n",
       "2008    460\n",
       "2009    578\n",
       "2010    481\n",
       "2011    470\n",
       "2012    414\n",
       "2013    438\n",
       "2014    431\n",
       "2015    404\n",
       "2016    371\n",
       "2017    371\n",
       "2018    368\n",
       "2019    395\n",
       "2020    438\n",
       "2021    447\n",
       "2022    445\n",
       "Name: NM_CIDADE_NASC, dtype: int64"
      ]
     },
     "execution_count": 26,
     "metadata": {},
     "output_type": "execute_result"
    }
   ],
   "source": [
    "df_final.groupby('DT_ANO_INGRES')['NM_CIDADE_NASC'].nunique()"
   ]
  },
  {
   "cell_type": "code",
   "execution_count": 27,
   "metadata": {},
   "outputs": [],
   "source": [
    "colunas_a_remover.append('NM_CIDADE_AULA')"
   ]
  },
  {
   "cell_type": "markdown",
   "metadata": {},
   "source": [
    "### NM_CIDADE_EST2GRAU, NM_CIDADE_FERIAS"
   ]
  },
  {
   "cell_type": "markdown",
   "metadata": {},
   "source": [
    "Vamos usar?\n",
    "\n",
    "Verificar se tem influência com a evasão antes de decidir\n",
    "\n",
    "Separar campus sede dos outros"
   ]
  },
  {
   "cell_type": "markdown",
   "metadata": {},
   "source": [
    "### NM_CIDADE_NASC"
   ]
  },
  {
   "cell_type": "markdown",
   "metadata": {},
   "source": [
    "Vamos usar? Muitos nulos, como proceder?"
   ]
  },
  {
   "cell_type": "code",
   "execution_count": 28,
   "metadata": {},
   "outputs": [
    {
     "data": {
      "text/plain": [
       "NM_CIDADE_NASC\n",
       "MARINGA           17790\n",
       "NaN               13264\n",
       "CIANORTE           1789\n",
       "SAO PAULO          1703\n",
       "UMUARAMA           1455\n",
       "                  ...  \n",
       "LIDIANOPOLIS          1\n",
       "FARROUPILHA           1\n",
       "PRES. EPITACIO        1\n",
       "LIMA                  1\n",
       "BRAGANTINA            1\n",
       "Name: count, Length: 1502, dtype: int64"
      ]
     },
     "execution_count": 28,
     "metadata": {},
     "output_type": "execute_result"
    }
   ],
   "source": [
    "df_final['NM_CIDADE_NASC'].value_counts(dropna=False)"
   ]
  },
  {
   "cell_type": "code",
   "execution_count": 29,
   "metadata": {},
   "outputs": [
    {
     "data": {
      "text/plain": [
       "NM_CIDADE_NASC\n",
       "NaN               1274\n",
       "MARINGA            198\n",
       "LONDRINA            26\n",
       "CIANORTE            25\n",
       "SAO PAULO           24\n",
       "                  ... \n",
       "JACAREI              1\n",
       "GUATAMBU             1\n",
       "URANIA               1\n",
       "JOAQUIM TAVORA       1\n",
       "JACAREZINHO          1\n",
       "Name: count, Length: 401, dtype: int64"
      ]
     },
     "execution_count": 29,
     "metadata": {},
     "output_type": "execute_result"
    }
   ],
   "source": [
    "df_final[df_final['NM_PAIS_NASC'] != 'BRASIL']['NM_CIDADE_NASC'].value_counts(dropna=False)"
   ]
  },
  {
   "cell_type": "markdown",
   "metadata": {},
   "source": [
    "### NM_PAIS_NASC"
   ]
  },
  {
   "cell_type": "code",
   "execution_count": 30,
   "metadata": {},
   "outputs": [
    {
     "data": {
      "text/plain": [
       "NM_PAIS_NASC\n",
       "BRASIL             68872\n",
       "NaN                 1751\n",
       "JAPAO                342\n",
       "ESTADOS UNIDOS        28\n",
       "PARAGUAI              25\n",
       "PORTUGAL              20\n",
       "GUINE-BISSAU          17\n",
       "CHINA                 15\n",
       "ESPANHA               12\n",
       "ARGENTINA             11\n",
       "BOLIVIA               11\n",
       "REPUBLICA DO HA       10\n",
       "ALEMANHA               9\n",
       "CHILE                  8\n",
       "AFEGANISTAO            8\n",
       "ITALIA                 7\n",
       "PERU                   7\n",
       "VENEZUELA              7\n",
       "ANGOLA                 6\n",
       "FRANCA                 6\n",
       "CABO VERDE             5\n",
       "COLOMBIA               4\n",
       "TAIWAN                 3\n",
       "CANADA                 2\n",
       "BR                     2\n",
       "INGLATERRA             2\n",
       "HAITI                  2\n",
       "S.TOME PRINCIPE        2\n",
       "GUINE EQUATORIA        2\n",
       "REP. DO HAITI          2\n",
       "GANA                   1\n",
       "GUINE BISSAU           1\n",
       "BRASILEIRO             1\n",
       "10\\/11\\/1999           1\n",
       "REPUBLICA ARABE        1\n",
       "COSTA DO MARFIM        1\n",
       "BRAZIL                 1\n",
       "27032001               1\n",
       "FOZ DO IGUACU          1\n",
       "MOCAMBIQUE             1\n",
       "SARANDI                1\n",
       "EUA                    1\n",
       "GUATEMALA              1\n",
       "REP.DEM.CONGO          1\n",
       "HONDURAS               1\n",
       "TCHECOSLOVAQUIA        1\n",
       "BUTAO                  1\n",
       "BENIN                  1\n",
       "URUGUAI                1\n",
       "JORDANIA               1\n",
       "REINO UNIDO            1\n",
       "AUSTRIA                1\n",
       "EQUADOR                1\n",
       "Name: count, dtype: int64"
      ]
     },
     "execution_count": 30,
     "metadata": {},
     "output_type": "execute_result"
    }
   ],
   "source": [
    "df_final['NM_PAIS_NASC'].value_counts(dropna=False)"
   ]
  },
  {
   "cell_type": "code",
   "execution_count": 31,
   "metadata": {},
   "outputs": [
    {
     "data": {
      "text/plain": [
       "LT_NACIONALIDADE\n",
       "B      1731\n",
       "NaN      13\n",
       "E         6\n",
       "N         1\n",
       "Name: count, dtype: int64"
      ]
     },
     "execution_count": 31,
     "metadata": {},
     "output_type": "execute_result"
    }
   ],
   "source": [
    "NM_PAIS_NASC_nan = df_final[df_final['NM_PAIS_NASC'].isna()][colunas_loc_nasc_aluno]\n",
    "NM_PAIS_NASC_nan['LT_NACIONALIDADE'].value_counts(dropna=False)"
   ]
  },
  {
   "cell_type": "markdown",
   "metadata": {},
   "source": [
    "Preenchendo essa coluna com base na coluna LT_NACIONALIDADE"
   ]
  },
  {
   "cell_type": "code",
   "execution_count": 32,
   "metadata": {},
   "outputs": [],
   "source": [
    "df_final['F_NM_PAIS_NASC'] = df_final.apply(lambda x: 'BRASIL' if x['LT_NACIONALIDADE'] == 'B' else x['NM_PAIS_NASC'], axis=1)"
   ]
  },
  {
   "cell_type": "code",
   "execution_count": 33,
   "metadata": {},
   "outputs": [
    {
     "data": {
      "text/plain": [
       "F_NM_PAIS_NASC\n",
       "BRASIL             70717\n",
       "JAPAO                262\n",
       "ESTADOS UNIDOS        26\n",
       "PARAGUAI              22\n",
       "NaN                   20\n",
       "GUINE-BISSAU          17\n",
       "CHINA                 15\n",
       "PORTUGAL              15\n",
       "BOLIVIA               11\n",
       "REPUBLICA DO HA       10\n",
       "ARGENTINA              9\n",
       "ESPANHA                9\n",
       "ALEMANHA               9\n",
       "VENEZUELA              7\n",
       "CHILE                  7\n",
       "PERU                   7\n",
       "FRANCA                 6\n",
       "ANGOLA                 6\n",
       "ITALIA                 6\n",
       "CABO VERDE             5\n",
       "COLOMBIA               4\n",
       "TAIWAN                 3\n",
       "INGLATERRA             2\n",
       "HAITI                  2\n",
       "GUINE EQUATORIA        2\n",
       "REP. DO HAITI          2\n",
       "CANADA                 2\n",
       "S.TOME PRINCIPE        2\n",
       "MOCAMBIQUE             1\n",
       "GANA                   1\n",
       "AUSTRIA                1\n",
       "REINO UNIDO            1\n",
       "COSTA DO MARFIM        1\n",
       "REPUBLICA ARABE        1\n",
       "GUINE BISSAU           1\n",
       "JORDANIA               1\n",
       "BENIN                  1\n",
       "EUA                    1\n",
       "GUATEMALA              1\n",
       "REP.DEM.CONGO          1\n",
       "HONDURAS               1\n",
       "URUGUAI                1\n",
       "TCHECOSLOVAQUIA        1\n",
       "EQUADOR                1\n",
       "Name: count, dtype: int64"
      ]
     },
     "execution_count": 33,
     "metadata": {},
     "output_type": "execute_result"
    }
   ],
   "source": [
    "df_final['F_NM_PAIS_NASC'].value_counts(dropna=False)"
   ]
  },
  {
   "cell_type": "code",
   "execution_count": 34,
   "metadata": {},
   "outputs": [
    {
     "data": {
      "text/html": [
       "<div>\n",
       "<style scoped>\n",
       "    .dataframe tbody tr th:only-of-type {\n",
       "        vertical-align: middle;\n",
       "    }\n",
       "\n",
       "    .dataframe tbody tr th {\n",
       "        vertical-align: top;\n",
       "    }\n",
       "\n",
       "    .dataframe thead th {\n",
       "        text-align: right;\n",
       "    }\n",
       "</style>\n",
       "<table border=\"1\" class=\"dataframe\">\n",
       "  <thead>\n",
       "    <tr style=\"text-align: right;\">\n",
       "      <th></th>\n",
       "      <th>CD_ORIGEM_ALUNO</th>\n",
       "      <th>LT_NACIONALIDADE</th>\n",
       "      <th>NM_PAIS_NASC</th>\n",
       "      <th>SG_UF_NASC_ALUNO</th>\n",
       "      <th>NM_CIDADE_NASC</th>\n",
       "      <th>SG_UF_FERIAS</th>\n",
       "      <th>NM_CIDADE_FERIAS</th>\n",
       "      <th>F_NM_PAIS_NASC</th>\n",
       "    </tr>\n",
       "  </thead>\n",
       "  <tbody>\n",
       "    <tr>\n",
       "      <th>128</th>\n",
       "      <td>6</td>\n",
       "      <td>E</td>\n",
       "      <td>NaN</td>\n",
       "      <td>NaN</td>\n",
       "      <td>BISSAU</td>\n",
       "      <td>PR</td>\n",
       "      <td>MARINGA</td>\n",
       "      <td>NaN</td>\n",
       "    </tr>\n",
       "    <tr>\n",
       "      <th>129</th>\n",
       "      <td>6</td>\n",
       "      <td>E</td>\n",
       "      <td>NaN</td>\n",
       "      <td>NaN</td>\n",
       "      <td>BISSAU</td>\n",
       "      <td>PR</td>\n",
       "      <td>MARINGA</td>\n",
       "      <td>NaN</td>\n",
       "    </tr>\n",
       "    <tr>\n",
       "      <th>17112</th>\n",
       "      <td>6</td>\n",
       "      <td>E</td>\n",
       "      <td>NaN</td>\n",
       "      <td>NaN</td>\n",
       "      <td>GUINE-BISSAU</td>\n",
       "      <td>PR</td>\n",
       "      <td>MARINGA</td>\n",
       "      <td>NaN</td>\n",
       "    </tr>\n",
       "    <tr>\n",
       "      <th>17115</th>\n",
       "      <td>6</td>\n",
       "      <td>E</td>\n",
       "      <td>NaN</td>\n",
       "      <td>NaN</td>\n",
       "      <td>NaN</td>\n",
       "      <td>PR</td>\n",
       "      <td>MARINGA</td>\n",
       "      <td>NaN</td>\n",
       "    </tr>\n",
       "    <tr>\n",
       "      <th>17116</th>\n",
       "      <td>6</td>\n",
       "      <td>E</td>\n",
       "      <td>NaN</td>\n",
       "      <td>NaN</td>\n",
       "      <td>GUINE-BISSAU</td>\n",
       "      <td>PR</td>\n",
       "      <td>MARINGA</td>\n",
       "      <td>NaN</td>\n",
       "    </tr>\n",
       "    <tr>\n",
       "      <th>32721</th>\n",
       "      <td>0</td>\n",
       "      <td>N</td>\n",
       "      <td>NaN</td>\n",
       "      <td>SP</td>\n",
       "      <td>SAO PAULO</td>\n",
       "      <td>SP</td>\n",
       "      <td>BAURU</td>\n",
       "      <td>NaN</td>\n",
       "    </tr>\n",
       "    <tr>\n",
       "      <th>51119</th>\n",
       "      <td>0</td>\n",
       "      <td>NaN</td>\n",
       "      <td>NaN</td>\n",
       "      <td>SP</td>\n",
       "      <td>NaN</td>\n",
       "      <td>SP</td>\n",
       "      <td>ADAMANTINA</td>\n",
       "      <td>NaN</td>\n",
       "    </tr>\n",
       "    <tr>\n",
       "      <th>51849</th>\n",
       "      <td>0</td>\n",
       "      <td>NaN</td>\n",
       "      <td>NaN</td>\n",
       "      <td>PR</td>\n",
       "      <td>NaN</td>\n",
       "      <td>PR</td>\n",
       "      <td>DOURADINA</td>\n",
       "      <td>NaN</td>\n",
       "    </tr>\n",
       "    <tr>\n",
       "      <th>52625</th>\n",
       "      <td>0</td>\n",
       "      <td>NaN</td>\n",
       "      <td>NaN</td>\n",
       "      <td>PR</td>\n",
       "      <td>NaN</td>\n",
       "      <td>PR</td>\n",
       "      <td>MARINGA</td>\n",
       "      <td>NaN</td>\n",
       "    </tr>\n",
       "    <tr>\n",
       "      <th>54252</th>\n",
       "      <td>0</td>\n",
       "      <td>NaN</td>\n",
       "      <td>NaN</td>\n",
       "      <td>PR</td>\n",
       "      <td>NaN</td>\n",
       "      <td>PR</td>\n",
       "      <td>APUCARANA</td>\n",
       "      <td>NaN</td>\n",
       "    </tr>\n",
       "    <tr>\n",
       "      <th>56077</th>\n",
       "      <td>0</td>\n",
       "      <td>NaN</td>\n",
       "      <td>NaN</td>\n",
       "      <td>MT</td>\n",
       "      <td>NaN</td>\n",
       "      <td>MT</td>\n",
       "      <td>CUIABA</td>\n",
       "      <td>NaN</td>\n",
       "    </tr>\n",
       "    <tr>\n",
       "      <th>60258</th>\n",
       "      <td>0</td>\n",
       "      <td>NaN</td>\n",
       "      <td>NaN</td>\n",
       "      <td>PR</td>\n",
       "      <td>NaN</td>\n",
       "      <td>PR</td>\n",
       "      <td>TERRA BOA</td>\n",
       "      <td>NaN</td>\n",
       "    </tr>\n",
       "    <tr>\n",
       "      <th>60767</th>\n",
       "      <td>0</td>\n",
       "      <td>NaN</td>\n",
       "      <td>NaN</td>\n",
       "      <td>SP</td>\n",
       "      <td>NaN</td>\n",
       "      <td>SP</td>\n",
       "      <td>MARILIA</td>\n",
       "      <td>NaN</td>\n",
       "    </tr>\n",
       "    <tr>\n",
       "      <th>61184</th>\n",
       "      <td>0</td>\n",
       "      <td>NaN</td>\n",
       "      <td>NaN</td>\n",
       "      <td>PR</td>\n",
       "      <td>NaN</td>\n",
       "      <td>PR</td>\n",
       "      <td>ROLANDIA</td>\n",
       "      <td>NaN</td>\n",
       "    </tr>\n",
       "    <tr>\n",
       "      <th>61504</th>\n",
       "      <td>0</td>\n",
       "      <td>NaN</td>\n",
       "      <td>NaN</td>\n",
       "      <td>PR</td>\n",
       "      <td>NaN</td>\n",
       "      <td>PR</td>\n",
       "      <td>APUCARANA</td>\n",
       "      <td>NaN</td>\n",
       "    </tr>\n",
       "    <tr>\n",
       "      <th>62047</th>\n",
       "      <td>0</td>\n",
       "      <td>NaN</td>\n",
       "      <td>NaN</td>\n",
       "      <td>PR</td>\n",
       "      <td>NaN</td>\n",
       "      <td>PR</td>\n",
       "      <td>COLORADO</td>\n",
       "      <td>NaN</td>\n",
       "    </tr>\n",
       "    <tr>\n",
       "      <th>62285</th>\n",
       "      <td>0</td>\n",
       "      <td>NaN</td>\n",
       "      <td>NaN</td>\n",
       "      <td>PR</td>\n",
       "      <td>NaN</td>\n",
       "      <td>PR</td>\n",
       "      <td>LONDRINA</td>\n",
       "      <td>NaN</td>\n",
       "    </tr>\n",
       "    <tr>\n",
       "      <th>62417</th>\n",
       "      <td>0</td>\n",
       "      <td>NaN</td>\n",
       "      <td>NaN</td>\n",
       "      <td>PR</td>\n",
       "      <td>NaN</td>\n",
       "      <td>PR</td>\n",
       "      <td>CRUZEIRO DO OESTE</td>\n",
       "      <td>NaN</td>\n",
       "    </tr>\n",
       "    <tr>\n",
       "      <th>62493</th>\n",
       "      <td>0</td>\n",
       "      <td>NaN</td>\n",
       "      <td>NaN</td>\n",
       "      <td>PR</td>\n",
       "      <td>NaN</td>\n",
       "      <td>NaN</td>\n",
       "      <td>MARINGA</td>\n",
       "      <td>NaN</td>\n",
       "    </tr>\n",
       "    <tr>\n",
       "      <th>62690</th>\n",
       "      <td>1</td>\n",
       "      <td>E</td>\n",
       "      <td>NaN</td>\n",
       "      <td>NaN</td>\n",
       "      <td>NaN</td>\n",
       "      <td>NaN</td>\n",
       "      <td>NaN</td>\n",
       "      <td>NaN</td>\n",
       "    </tr>\n",
       "  </tbody>\n",
       "</table>\n",
       "</div>"
      ],
      "text/plain": [
       "       CD_ORIGEM_ALUNO LT_NACIONALIDADE NM_PAIS_NASC SG_UF_NASC_ALUNO  \\\n",
       "128                  6                E          NaN              NaN   \n",
       "129                  6                E          NaN              NaN   \n",
       "17112                6                E          NaN              NaN   \n",
       "17115                6                E          NaN              NaN   \n",
       "17116                6                E          NaN              NaN   \n",
       "32721                0                N          NaN               SP   \n",
       "51119                0              NaN          NaN               SP   \n",
       "51849                0              NaN          NaN               PR   \n",
       "52625                0              NaN          NaN               PR   \n",
       "54252                0              NaN          NaN               PR   \n",
       "56077                0              NaN          NaN               MT   \n",
       "60258                0              NaN          NaN               PR   \n",
       "60767                0              NaN          NaN               SP   \n",
       "61184                0              NaN          NaN               PR   \n",
       "61504                0              NaN          NaN               PR   \n",
       "62047                0              NaN          NaN               PR   \n",
       "62285                0              NaN          NaN               PR   \n",
       "62417                0              NaN          NaN               PR   \n",
       "62493                0              NaN          NaN               PR   \n",
       "62690                1                E          NaN              NaN   \n",
       "\n",
       "      NM_CIDADE_NASC SG_UF_FERIAS   NM_CIDADE_FERIAS F_NM_PAIS_NASC  \n",
       "128           BISSAU           PR            MARINGA            NaN  \n",
       "129           BISSAU           PR            MARINGA            NaN  \n",
       "17112   GUINE-BISSAU           PR            MARINGA            NaN  \n",
       "17115            NaN           PR            MARINGA            NaN  \n",
       "17116   GUINE-BISSAU           PR            MARINGA            NaN  \n",
       "32721      SAO PAULO           SP              BAURU            NaN  \n",
       "51119            NaN           SP         ADAMANTINA            NaN  \n",
       "51849            NaN           PR          DOURADINA            NaN  \n",
       "52625            NaN           PR            MARINGA            NaN  \n",
       "54252            NaN           PR          APUCARANA            NaN  \n",
       "56077            NaN           MT             CUIABA            NaN  \n",
       "60258            NaN           PR          TERRA BOA            NaN  \n",
       "60767            NaN           SP            MARILIA            NaN  \n",
       "61184            NaN           PR           ROLANDIA            NaN  \n",
       "61504            NaN           PR          APUCARANA            NaN  \n",
       "62047            NaN           PR           COLORADO            NaN  \n",
       "62285            NaN           PR           LONDRINA            NaN  \n",
       "62417            NaN           PR  CRUZEIRO DO OESTE            NaN  \n",
       "62493            NaN          NaN            MARINGA            NaN  \n",
       "62690            NaN          NaN                NaN            NaN  "
      ]
     },
     "execution_count": 34,
     "metadata": {},
     "output_type": "execute_result"
    }
   ],
   "source": [
    "df_final[df_final['F_NM_PAIS_NASC'].isna()][colunas_loc_nasc_aluno + ['F_NM_PAIS_NASC']]"
   ]
  },
  {
   "cell_type": "markdown",
   "metadata": {},
   "source": [
    "Ainda restam alguns nulos que podemos preencher com a coluna SG_UF_NASC_ALUNO"
   ]
  },
  {
   "cell_type": "code",
   "execution_count": 35,
   "metadata": {},
   "outputs": [],
   "source": [
    "df_final['F_NM_PAIS_NASC'] = df_final.apply(lambda x: 'BRASIL' if (not pd.isna(x['SG_UF_NASC_ALUNO'])) and pd.isna(x['F_NM_PAIS_NASC'])  else x['F_NM_PAIS_NASC'], axis=1)"
   ]
  },
  {
   "cell_type": "code",
   "execution_count": 36,
   "metadata": {},
   "outputs": [
    {
     "data": {
      "text/html": [
       "<div>\n",
       "<style scoped>\n",
       "    .dataframe tbody tr th:only-of-type {\n",
       "        vertical-align: middle;\n",
       "    }\n",
       "\n",
       "    .dataframe tbody tr th {\n",
       "        vertical-align: top;\n",
       "    }\n",
       "\n",
       "    .dataframe thead th {\n",
       "        text-align: right;\n",
       "    }\n",
       "</style>\n",
       "<table border=\"1\" class=\"dataframe\">\n",
       "  <thead>\n",
       "    <tr style=\"text-align: right;\">\n",
       "      <th></th>\n",
       "      <th>CD_ORIGEM_ALUNO</th>\n",
       "      <th>LT_NACIONALIDADE</th>\n",
       "      <th>NM_PAIS_NASC</th>\n",
       "      <th>SG_UF_NASC_ALUNO</th>\n",
       "      <th>NM_CIDADE_NASC</th>\n",
       "      <th>SG_UF_FERIAS</th>\n",
       "      <th>NM_CIDADE_FERIAS</th>\n",
       "      <th>F_NM_PAIS_NASC</th>\n",
       "    </tr>\n",
       "  </thead>\n",
       "  <tbody>\n",
       "    <tr>\n",
       "      <th>128</th>\n",
       "      <td>6</td>\n",
       "      <td>E</td>\n",
       "      <td>NaN</td>\n",
       "      <td>NaN</td>\n",
       "      <td>BISSAU</td>\n",
       "      <td>PR</td>\n",
       "      <td>MARINGA</td>\n",
       "      <td>NaN</td>\n",
       "    </tr>\n",
       "    <tr>\n",
       "      <th>129</th>\n",
       "      <td>6</td>\n",
       "      <td>E</td>\n",
       "      <td>NaN</td>\n",
       "      <td>NaN</td>\n",
       "      <td>BISSAU</td>\n",
       "      <td>PR</td>\n",
       "      <td>MARINGA</td>\n",
       "      <td>NaN</td>\n",
       "    </tr>\n",
       "    <tr>\n",
       "      <th>17112</th>\n",
       "      <td>6</td>\n",
       "      <td>E</td>\n",
       "      <td>NaN</td>\n",
       "      <td>NaN</td>\n",
       "      <td>GUINE-BISSAU</td>\n",
       "      <td>PR</td>\n",
       "      <td>MARINGA</td>\n",
       "      <td>NaN</td>\n",
       "    </tr>\n",
       "    <tr>\n",
       "      <th>17115</th>\n",
       "      <td>6</td>\n",
       "      <td>E</td>\n",
       "      <td>NaN</td>\n",
       "      <td>NaN</td>\n",
       "      <td>NaN</td>\n",
       "      <td>PR</td>\n",
       "      <td>MARINGA</td>\n",
       "      <td>NaN</td>\n",
       "    </tr>\n",
       "    <tr>\n",
       "      <th>17116</th>\n",
       "      <td>6</td>\n",
       "      <td>E</td>\n",
       "      <td>NaN</td>\n",
       "      <td>NaN</td>\n",
       "      <td>GUINE-BISSAU</td>\n",
       "      <td>PR</td>\n",
       "      <td>MARINGA</td>\n",
       "      <td>NaN</td>\n",
       "    </tr>\n",
       "    <tr>\n",
       "      <th>62690</th>\n",
       "      <td>1</td>\n",
       "      <td>E</td>\n",
       "      <td>NaN</td>\n",
       "      <td>NaN</td>\n",
       "      <td>NaN</td>\n",
       "      <td>NaN</td>\n",
       "      <td>NaN</td>\n",
       "      <td>NaN</td>\n",
       "    </tr>\n",
       "  </tbody>\n",
       "</table>\n",
       "</div>"
      ],
      "text/plain": [
       "       CD_ORIGEM_ALUNO LT_NACIONALIDADE NM_PAIS_NASC SG_UF_NASC_ALUNO  \\\n",
       "128                  6                E          NaN              NaN   \n",
       "129                  6                E          NaN              NaN   \n",
       "17112                6                E          NaN              NaN   \n",
       "17115                6                E          NaN              NaN   \n",
       "17116                6                E          NaN              NaN   \n",
       "62690                1                E          NaN              NaN   \n",
       "\n",
       "      NM_CIDADE_NASC SG_UF_FERIAS NM_CIDADE_FERIAS F_NM_PAIS_NASC  \n",
       "128           BISSAU           PR          MARINGA            NaN  \n",
       "129           BISSAU           PR          MARINGA            NaN  \n",
       "17112   GUINE-BISSAU           PR          MARINGA            NaN  \n",
       "17115            NaN           PR          MARINGA            NaN  \n",
       "17116   GUINE-BISSAU           PR          MARINGA            NaN  \n",
       "62690            NaN          NaN              NaN            NaN  "
      ]
     },
     "execution_count": 36,
     "metadata": {},
     "output_type": "execute_result"
    }
   ],
   "source": [
    "df_final[df_final['F_NM_PAIS_NASC'].isna()][colunas_loc_nasc_aluno + ['F_NM_PAIS_NASC']]"
   ]
  },
  {
   "cell_type": "markdown",
   "metadata": {},
   "source": [
    "Existem ainda NaN cuja NM_CIDADE_NASC está BISSAU ou GUINE-BISSAU ainda podemos substituir. Bissau é a capital de Guiné-Bissau, então vou substituir todos esses por GUINE-BISSAU."
   ]
  },
  {
   "cell_type": "code",
   "execution_count": 37,
   "metadata": {},
   "outputs": [],
   "source": [
    "df_final['F_NM_PAIS_NASC'] = df_final.apply(lambda x: 'GUINE-BISSAU' if (not pd.isna(x['NM_CIDADE_NASC'])) and pd.isna(x['F_NM_PAIS_NASC'])  else x['F_NM_PAIS_NASC'], axis=1)"
   ]
  },
  {
   "cell_type": "code",
   "execution_count": 38,
   "metadata": {},
   "outputs": [
    {
     "data": {
      "text/html": [
       "<div>\n",
       "<style scoped>\n",
       "    .dataframe tbody tr th:only-of-type {\n",
       "        vertical-align: middle;\n",
       "    }\n",
       "\n",
       "    .dataframe tbody tr th {\n",
       "        vertical-align: top;\n",
       "    }\n",
       "\n",
       "    .dataframe thead th {\n",
       "        text-align: right;\n",
       "    }\n",
       "</style>\n",
       "<table border=\"1\" class=\"dataframe\">\n",
       "  <thead>\n",
       "    <tr style=\"text-align: right;\">\n",
       "      <th></th>\n",
       "      <th>CD_ORIGEM_ALUNO</th>\n",
       "      <th>LT_NACIONALIDADE</th>\n",
       "      <th>NM_PAIS_NASC</th>\n",
       "      <th>SG_UF_NASC_ALUNO</th>\n",
       "      <th>NM_CIDADE_NASC</th>\n",
       "      <th>SG_UF_FERIAS</th>\n",
       "      <th>NM_CIDADE_FERIAS</th>\n",
       "      <th>F_NM_PAIS_NASC</th>\n",
       "    </tr>\n",
       "  </thead>\n",
       "  <tbody>\n",
       "    <tr>\n",
       "      <th>17115</th>\n",
       "      <td>6</td>\n",
       "      <td>E</td>\n",
       "      <td>NaN</td>\n",
       "      <td>NaN</td>\n",
       "      <td>NaN</td>\n",
       "      <td>PR</td>\n",
       "      <td>MARINGA</td>\n",
       "      <td>NaN</td>\n",
       "    </tr>\n",
       "    <tr>\n",
       "      <th>62690</th>\n",
       "      <td>1</td>\n",
       "      <td>E</td>\n",
       "      <td>NaN</td>\n",
       "      <td>NaN</td>\n",
       "      <td>NaN</td>\n",
       "      <td>NaN</td>\n",
       "      <td>NaN</td>\n",
       "      <td>NaN</td>\n",
       "    </tr>\n",
       "  </tbody>\n",
       "</table>\n",
       "</div>"
      ],
      "text/plain": [
       "       CD_ORIGEM_ALUNO LT_NACIONALIDADE NM_PAIS_NASC SG_UF_NASC_ALUNO  \\\n",
       "17115                6                E          NaN              NaN   \n",
       "62690                1                E          NaN              NaN   \n",
       "\n",
       "      NM_CIDADE_NASC SG_UF_FERIAS NM_CIDADE_FERIAS F_NM_PAIS_NASC  \n",
       "17115            NaN           PR          MARINGA            NaN  \n",
       "62690            NaN          NaN              NaN            NaN  "
      ]
     },
     "execution_count": 38,
     "metadata": {},
     "output_type": "execute_result"
    }
   ],
   "source": [
    "df_final[df_final['F_NM_PAIS_NASC'].isna()][colunas_loc_nasc_aluno + ['F_NM_PAIS_NASC']]"
   ]
  },
  {
   "cell_type": "markdown",
   "metadata": {},
   "source": [
    "Esses dois NaN que sobraram não tem muito o que fazer..."
   ]
  },
  {
   "cell_type": "code",
   "execution_count": 39,
   "metadata": {},
   "outputs": [],
   "source": [
    "colunas_a_remover.append('NM_PAIS_NASC')\n",
    "colunas_loc_nasc_aluno.remove('NM_PAIS_NASC')\n",
    "colunas_loc_nasc_aluno.append('F_NM_PAIS_NASC')"
   ]
  },
  {
   "cell_type": "markdown",
   "metadata": {},
   "source": [
    "### NU_SEMESTRE2_VEST"
   ]
  },
  {
   "cell_type": "markdown",
   "metadata": {},
   "source": [
    "Ver em conjunto com TP_INGRES_CURSO. Talvez usaremos apenas esse campo, que já é basicamente o TP_INGRES_CURSO agrupado."
   ]
  },
  {
   "cell_type": "markdown",
   "metadata": {},
   "source": [
    "É o processo seletivo que o candidato fez para se tornar aluno, e atualmente usamos esses valores:\n",
    "\n",
    "I = Vestibular de Inverno\n",
    "\n",
    "V = Vestibular de Verão\n",
    "\n",
    "A = PAS\n",
    "\n",
    "D = Vestibular EAD\n",
    "\n",
    "R = Vagas Remanescentes para Candidatos do Vestibular\n",
    "\n",
    "E = Vagas Remanescentes para quem fez ENEM\n",
    "\n",
    "G = Vagas Remanescentes para Refugiados ou Imigrantes em Situação de Vulnerabilidade \n",
    "\n",
    "S = SiSU"
   ]
  },
  {
   "cell_type": "code",
   "execution_count": 40,
   "metadata": {},
   "outputs": [
    {
     "data": {
      "text/plain": [
       "NU_SEMESTRE2_VEST\n",
       "V      31836\n",
       "I      27573\n",
       "A       5781\n",
       "NaN     4141\n",
       "E       1128\n",
       "S        373\n",
       "R        360\n",
       "G         22\n",
       "2          7\n",
       "Name: count, dtype: int64"
      ]
     },
     "execution_count": 40,
     "metadata": {},
     "output_type": "execute_result"
    }
   ],
   "source": [
    "df_final['NU_SEMESTRE2_VEST'].value_counts(dropna=False)"
   ]
  },
  {
   "cell_type": "code",
   "execution_count": 41,
   "metadata": {},
   "outputs": [
    {
     "data": {
      "text/html": [
       "<div>\n",
       "<style scoped>\n",
       "    .dataframe tbody tr th:only-of-type {\n",
       "        vertical-align: middle;\n",
       "    }\n",
       "\n",
       "    .dataframe tbody tr th {\n",
       "        vertical-align: top;\n",
       "    }\n",
       "\n",
       "    .dataframe thead th {\n",
       "        text-align: right;\n",
       "    }\n",
       "</style>\n",
       "<table border=\"1\" class=\"dataframe\">\n",
       "  <thead>\n",
       "    <tr style=\"text-align: right;\">\n",
       "      <th></th>\n",
       "      <th>NU_SEMESTRE2_VEST</th>\n",
       "      <th>TP_INGRES_CURSO</th>\n",
       "      <th>ST_ALUNO</th>\n",
       "    </tr>\n",
       "  </thead>\n",
       "  <tbody>\n",
       "    <tr>\n",
       "      <th>0</th>\n",
       "      <td>I</td>\n",
       "      <td>1</td>\n",
       "      <td>2</td>\n",
       "    </tr>\n",
       "    <tr>\n",
       "      <th>1</th>\n",
       "      <td>NaN</td>\n",
       "      <td>6</td>\n",
       "      <td>7</td>\n",
       "    </tr>\n",
       "    <tr>\n",
       "      <th>2</th>\n",
       "      <td>V</td>\n",
       "      <td>1</td>\n",
       "      <td>7</td>\n",
       "    </tr>\n",
       "    <tr>\n",
       "      <th>3</th>\n",
       "      <td>NaN</td>\n",
       "      <td>6</td>\n",
       "      <td>8</td>\n",
       "    </tr>\n",
       "    <tr>\n",
       "      <th>4</th>\n",
       "      <td>NaN</td>\n",
       "      <td>11</td>\n",
       "      <td>9</td>\n",
       "    </tr>\n",
       "    <tr>\n",
       "      <th>5</th>\n",
       "      <td>I</td>\n",
       "      <td>14</td>\n",
       "      <td>7</td>\n",
       "    </tr>\n",
       "    <tr>\n",
       "      <th>6</th>\n",
       "      <td>NaN</td>\n",
       "      <td>6</td>\n",
       "      <td>2</td>\n",
       "    </tr>\n",
       "    <tr>\n",
       "      <th>7</th>\n",
       "      <td>NaN</td>\n",
       "      <td>6</td>\n",
       "      <td>2</td>\n",
       "    </tr>\n",
       "    <tr>\n",
       "      <th>8</th>\n",
       "      <td>V</td>\n",
       "      <td>1</td>\n",
       "      <td>2</td>\n",
       "    </tr>\n",
       "    <tr>\n",
       "      <th>9</th>\n",
       "      <td>I</td>\n",
       "      <td>1</td>\n",
       "      <td>8</td>\n",
       "    </tr>\n",
       "    <tr>\n",
       "      <th>10</th>\n",
       "      <td>I</td>\n",
       "      <td>1</td>\n",
       "      <td>NaN</td>\n",
       "    </tr>\n",
       "    <tr>\n",
       "      <th>11</th>\n",
       "      <td>I</td>\n",
       "      <td>1</td>\n",
       "      <td>J</td>\n",
       "    </tr>\n",
       "    <tr>\n",
       "      <th>12</th>\n",
       "      <td>I</td>\n",
       "      <td>1</td>\n",
       "      <td>8</td>\n",
       "    </tr>\n",
       "    <tr>\n",
       "      <th>13</th>\n",
       "      <td>V</td>\n",
       "      <td>1</td>\n",
       "      <td>8</td>\n",
       "    </tr>\n",
       "    <tr>\n",
       "      <th>14</th>\n",
       "      <td>I</td>\n",
       "      <td>10</td>\n",
       "      <td>F</td>\n",
       "    </tr>\n",
       "    <tr>\n",
       "      <th>15</th>\n",
       "      <td>I</td>\n",
       "      <td>10</td>\n",
       "      <td>8</td>\n",
       "    </tr>\n",
       "    <tr>\n",
       "      <th>16</th>\n",
       "      <td>V</td>\n",
       "      <td>1</td>\n",
       "      <td>8</td>\n",
       "    </tr>\n",
       "    <tr>\n",
       "      <th>17</th>\n",
       "      <td>NaN</td>\n",
       "      <td>6</td>\n",
       "      <td>7</td>\n",
       "    </tr>\n",
       "    <tr>\n",
       "      <th>18</th>\n",
       "      <td>NaN</td>\n",
       "      <td>6</td>\n",
       "      <td>J</td>\n",
       "    </tr>\n",
       "    <tr>\n",
       "      <th>19</th>\n",
       "      <td>V</td>\n",
       "      <td>14</td>\n",
       "      <td>NaN</td>\n",
       "    </tr>\n",
       "  </tbody>\n",
       "</table>\n",
       "</div>"
      ],
      "text/plain": [
       "   NU_SEMESTRE2_VEST  TP_INGRES_CURSO ST_ALUNO\n",
       "0                  I                1        2\n",
       "1                NaN                6        7\n",
       "2                  V                1        7\n",
       "3                NaN                6        8\n",
       "4                NaN               11        9\n",
       "5                  I               14        7\n",
       "6                NaN                6        2\n",
       "7                NaN                6        2\n",
       "8                  V                1        2\n",
       "9                  I                1        8\n",
       "10                 I                1      NaN\n",
       "11                 I                1        J\n",
       "12                 I                1        8\n",
       "13                 V                1        8\n",
       "14                 I               10        F\n",
       "15                 I               10        8\n",
       "16                 V                1        8\n",
       "17               NaN                6        7\n",
       "18               NaN                6        J\n",
       "19                 V               14      NaN"
      ]
     },
     "execution_count": 41,
     "metadata": {},
     "output_type": "execute_result"
    }
   ],
   "source": [
    "df_final[['NU_SEMESTRE2_VEST', 'TP_INGRES_CURSO', 'ST_ALUNO']].head(20)"
   ]
  },
  {
   "cell_type": "markdown",
   "metadata": {},
   "source": [
    "TP_INGRES_CURSO encontrados quando NU_SEMESTRE2_VEST é nulo."
   ]
  },
  {
   "cell_type": "code",
   "execution_count": 42,
   "metadata": {},
   "outputs": [
    {
     "data": {
      "text/plain": [
       "TP_INGRES_CURSO\n",
       "6     1243\n",
       "32    1113\n",
       "3      996\n",
       "5      384\n",
       "8      105\n",
       "22      97\n",
       "7       50\n",
       "4       49\n",
       "53      32\n",
       "26      24\n",
       "10      22\n",
       "56       9\n",
       "12       4\n",
       "1        4\n",
       "11       3\n",
       "19       2\n",
       "24       1\n",
       "16       1\n",
       "29       1\n",
       "27       1\n",
       "Name: count, dtype: int64"
      ]
     },
     "execution_count": 42,
     "metadata": {},
     "output_type": "execute_result"
    }
   ],
   "source": [
    "df_final[df_final['NU_SEMESTRE2_VEST'].isna()]['TP_INGRES_CURSO'].value_counts(dropna=False)"
   ]
  },
  {
   "cell_type": "markdown",
   "metadata": {},
   "source": [
    "5 - PORTADOR DE DIPLOMA PARA OUTRO CURSO\n",
    "6 - PORTADOR DE DIPLOMA PARA NOVA HABILITACAO\n",
    "32 - NOVA HABILITAÇÃO - CONTINUIDADE\n",
    "\n",
    "7 - CONVENIO CULTURAL\n",
    "\n",
    "3 - TRANSFERENCIA EXTERNA\n",
    "4 - TRANSFERENCIA EX-OFFICIO\n",
    "8 - TRANSFERENCIA INTERNA DE CURSO\n",
    "10 - TRANSFERENCIA DE CAMPUS PARA MESMO CURSO\n",
    "11 - TRANSFERENCIA DE CAMPUS PARA OUTRO CURSO\n",
    "26 - PERMUTA DE CAMPUS\n",
    "53 - TRANSFERENCIA INTERNA INDIGENA\n",
    "56 - TRANSFERENCIA EXTERNA INDIGENA\n",
    "\n",
    "1 - VESTIBULAR\n",
    "12 - PROCESSO SELETIVO\n",
    "16 - VESTIBULAR - 2 CHAMADA EXTRAORDINARIA\n",
    "19 - VESTIBULAR - 5 CHAMADA EXTRAORDINARIA\n",
    "22 - CONCURSO VESTIBULAR - INDIGENA\n",
    "24 - VESTIBULAR - 6 CHAMADA EXTRAORDINARIA\n",
    "29 - VESTIBULAR - 3 CHAMADA\n",
    "\n",
    "27 - MATRICULA SUB-JUDICE"
   ]
  },
  {
   "cell_type": "code",
   "execution_count": 43,
   "metadata": {},
   "outputs": [],
   "source": [
    "portador_diploma = [5, 6, 32]\n",
    "convenio_cultural = [7]\n",
    "transferencia = [3, 4, 8, 10, 11, 26, 53, 56]\n",
    "vestibular = [1, 12, 16, 19, 22, 24, 29]\n",
    "subjudice = [27]"
   ]
  },
  {
   "cell_type": "markdown",
   "metadata": {},
   "source": [
    "Verificando o que tem na coluna NU_SEMESTRE2_VEST para cada valor de TP_INGRES_CURSO que foi econtrado com nulo em NU_SEMESTRE2_VEST"
   ]
  },
  {
   "cell_type": "code",
   "execution_count": 44,
   "metadata": {},
   "outputs": [
    {
     "data": {
      "text/html": [
       "<div>\n",
       "<style scoped>\n",
       "    .dataframe tbody tr th:only-of-type {\n",
       "        vertical-align: middle;\n",
       "    }\n",
       "\n",
       "    .dataframe tbody tr th {\n",
       "        vertical-align: top;\n",
       "    }\n",
       "\n",
       "    .dataframe thead th {\n",
       "        text-align: right;\n",
       "    }\n",
       "</style>\n",
       "<table border=\"1\" class=\"dataframe\">\n",
       "  <thead>\n",
       "    <tr style=\"text-align: right;\">\n",
       "      <th></th>\n",
       "      <th>ANO_OCORRENCIA</th>\n",
       "      <th>CD_ALUNO</th>\n",
       "      <th>CD_CURSO</th>\n",
       "      <th>CD_ORIGEM_ALUNO</th>\n",
       "      <th>CD_TURNO</th>\n",
       "      <th>DE_NATURALIDADE</th>\n",
       "      <th>DH_MATRICULA</th>\n",
       "      <th>DH_SITUACAO</th>\n",
       "      <th>DT_ANO_INGRES</th>\n",
       "      <th>DT_NASC_ALUNO</th>\n",
       "      <th>LT_ESTADO_CIVIL</th>\n",
       "      <th>LT_MODALIDADE</th>\n",
       "      <th>LT_NACIONALIDADE</th>\n",
       "      <th>LT_RACA</th>\n",
       "      <th>NM_CIDADE_AULA</th>\n",
       "      <th>NM_CIDADE_EST2GRAU</th>\n",
       "      <th>NM_CIDADE_FERIAS</th>\n",
       "      <th>NM_CIDADE_NASC</th>\n",
       "      <th>NM_PAIS_NASC</th>\n",
       "      <th>NU_SEMESTRE2_VEST</th>\n",
       "      <th>SG_SEXO_ALUNO</th>\n",
       "      <th>SG_UF_AULA</th>\n",
       "      <th>SG_UF_EST2GRAU</th>\n",
       "      <th>SG_UF_FERIAS</th>\n",
       "      <th>SG_UF_NASC_ALUNO</th>\n",
       "      <th>ST_ALUNO</th>\n",
       "      <th>TP_DEFIC_INEP</th>\n",
       "      <th>TP_ESCOLA</th>\n",
       "      <th>TP_INGRES_CURSO</th>\n",
       "      <th>TP_OPCAO_COTAS</th>\n",
       "      <th>F_CD_ORIGEM_ALUNO</th>\n",
       "      <th>F_DT_NASC_ALUNO</th>\n",
       "      <th>F_NM_PAIS_NASC</th>\n",
       "    </tr>\n",
       "  </thead>\n",
       "  <tbody>\n",
       "    <tr>\n",
       "      <th>12297</th>\n",
       "      <td>2011</td>\n",
       "      <td>1746001157</td>\n",
       "      <td>12</td>\n",
       "      <td>1</td>\n",
       "      <td>M</td>\n",
       "      <td>BRASILEIRO</td>\n",
       "      <td>2007-02-01</td>\n",
       "      <td>2011-07-19</td>\n",
       "      <td>2007</td>\n",
       "      <td>1983-08-28</td>\n",
       "      <td>1.0</td>\n",
       "      <td>P</td>\n",
       "      <td>B</td>\n",
       "      <td>0</td>\n",
       "      <td>MARINGA</td>\n",
       "      <td>MARINGA</td>\n",
       "      <td>MARINGA</td>\n",
       "      <td>MARINGA</td>\n",
       "      <td>BRASIL</td>\n",
       "      <td>NaN</td>\n",
       "      <td>M</td>\n",
       "      <td>PR</td>\n",
       "      <td>PR</td>\n",
       "      <td>PR</td>\n",
       "      <td>PR</td>\n",
       "      <td>8</td>\n",
       "      <td>SNNNNNNN</td>\n",
       "      <td>GI</td>\n",
       "      <td>12</td>\n",
       "      <td>N</td>\n",
       "      <td>1</td>\n",
       "      <td>1983</td>\n",
       "      <td>BRASIL</td>\n",
       "    </tr>\n",
       "    <tr>\n",
       "      <th>15734</th>\n",
       "      <td>2009</td>\n",
       "      <td>1002268555</td>\n",
       "      <td>13</td>\n",
       "      <td>4</td>\n",
       "      <td>M</td>\n",
       "      <td>BRASILEIRA</td>\n",
       "      <td>2007-02-01</td>\n",
       "      <td>2018-09-25</td>\n",
       "      <td>2007</td>\n",
       "      <td>1987-04-18</td>\n",
       "      <td>1.0</td>\n",
       "      <td>P</td>\n",
       "      <td>B</td>\n",
       "      <td>0</td>\n",
       "      <td>RIBEIRO DOS INDIOS</td>\n",
       "      <td>NaN</td>\n",
       "      <td>RIBEIRO DOS INDIOS</td>\n",
       "      <td>LINS</td>\n",
       "      <td>BRASIL</td>\n",
       "      <td>NaN</td>\n",
       "      <td>F</td>\n",
       "      <td>SP</td>\n",
       "      <td>NaN</td>\n",
       "      <td>SP</td>\n",
       "      <td>SP</td>\n",
       "      <td>6</td>\n",
       "      <td>NaN</td>\n",
       "      <td>P</td>\n",
       "      <td>12</td>\n",
       "      <td>N</td>\n",
       "      <td>4</td>\n",
       "      <td>1987</td>\n",
       "      <td>BRASIL</td>\n",
       "    </tr>\n",
       "    <tr>\n",
       "      <th>15737</th>\n",
       "      <td>2009</td>\n",
       "      <td>1153058270</td>\n",
       "      <td>13</td>\n",
       "      <td>3</td>\n",
       "      <td>M</td>\n",
       "      <td>BRASILEIRA</td>\n",
       "      <td>2007-02-01</td>\n",
       "      <td>2009-07-21</td>\n",
       "      <td>2007</td>\n",
       "      <td>1972-10-06</td>\n",
       "      <td>2.0</td>\n",
       "      <td>P</td>\n",
       "      <td>B</td>\n",
       "      <td>0</td>\n",
       "      <td>CIANORTE</td>\n",
       "      <td>NaN</td>\n",
       "      <td>CIANORTE</td>\n",
       "      <td>NaN</td>\n",
       "      <td>BRASIL</td>\n",
       "      <td>NaN</td>\n",
       "      <td>F</td>\n",
       "      <td>AC</td>\n",
       "      <td>NaN</td>\n",
       "      <td>PR</td>\n",
       "      <td>PR</td>\n",
       "      <td>8</td>\n",
       "      <td>NaN</td>\n",
       "      <td>GI</td>\n",
       "      <td>12</td>\n",
       "      <td>N</td>\n",
       "      <td>0</td>\n",
       "      <td>1972</td>\n",
       "      <td>BRASIL</td>\n",
       "    </tr>\n",
       "    <tr>\n",
       "      <th>15745</th>\n",
       "      <td>2011</td>\n",
       "      <td>1555422179</td>\n",
       "      <td>12</td>\n",
       "      <td>3</td>\n",
       "      <td>M</td>\n",
       "      <td>BRASILEIRA</td>\n",
       "      <td>2007-02-01</td>\n",
       "      <td>2011-12-23</td>\n",
       "      <td>2007</td>\n",
       "      <td>1988-07-25</td>\n",
       "      <td>1.0</td>\n",
       "      <td>P</td>\n",
       "      <td>B</td>\n",
       "      <td>2</td>\n",
       "      <td>CRUZEIRO DO OESTE</td>\n",
       "      <td>UMUARAMA</td>\n",
       "      <td>CRUZEIRO DO OESTE</td>\n",
       "      <td>CRUZEIRO DO OESTE</td>\n",
       "      <td>BRASIL</td>\n",
       "      <td>NaN</td>\n",
       "      <td>F</td>\n",
       "      <td>PR</td>\n",
       "      <td>PR</td>\n",
       "      <td>PR</td>\n",
       "      <td>PR</td>\n",
       "      <td>7</td>\n",
       "      <td>NNNNNNNN</td>\n",
       "      <td>P</td>\n",
       "      <td>12</td>\n",
       "      <td>N</td>\n",
       "      <td>0</td>\n",
       "      <td>1988</td>\n",
       "      <td>BRASIL</td>\n",
       "    </tr>\n",
       "  </tbody>\n",
       "</table>\n",
       "</div>"
      ],
      "text/plain": [
       "       ANO_OCORRENCIA    CD_ALUNO  CD_CURSO  CD_ORIGEM_ALUNO CD_TURNO  \\\n",
       "12297            2011  1746001157        12                1        M   \n",
       "15734            2009  1002268555        13                4        M   \n",
       "15737            2009  1153058270        13                3        M   \n",
       "15745            2011  1555422179        12                3        M   \n",
       "\n",
       "      DE_NATURALIDADE DH_MATRICULA DH_SITUACAO  DT_ANO_INGRES DT_NASC_ALUNO  \\\n",
       "12297      BRASILEIRO   2007-02-01  2011-07-19           2007    1983-08-28   \n",
       "15734      BRASILEIRA   2007-02-01  2018-09-25           2007    1987-04-18   \n",
       "15737      BRASILEIRA   2007-02-01  2009-07-21           2007    1972-10-06   \n",
       "15745      BRASILEIRA   2007-02-01  2011-12-23           2007    1988-07-25   \n",
       "\n",
       "       LT_ESTADO_CIVIL LT_MODALIDADE LT_NACIONALIDADE  LT_RACA  \\\n",
       "12297              1.0             P                B        0   \n",
       "15734              1.0             P                B        0   \n",
       "15737              2.0             P                B        0   \n",
       "15745              1.0             P                B        2   \n",
       "\n",
       "           NM_CIDADE_AULA NM_CIDADE_EST2GRAU    NM_CIDADE_FERIAS  \\\n",
       "12297             MARINGA            MARINGA             MARINGA   \n",
       "15734  RIBEIRO DOS INDIOS                NaN  RIBEIRO DOS INDIOS   \n",
       "15737            CIANORTE                NaN            CIANORTE   \n",
       "15745   CRUZEIRO DO OESTE           UMUARAMA   CRUZEIRO DO OESTE   \n",
       "\n",
       "          NM_CIDADE_NASC NM_PAIS_NASC NU_SEMESTRE2_VEST SG_SEXO_ALUNO  \\\n",
       "12297            MARINGA       BRASIL               NaN             M   \n",
       "15734               LINS       BRASIL               NaN             F   \n",
       "15737                NaN       BRASIL               NaN             F   \n",
       "15745  CRUZEIRO DO OESTE       BRASIL               NaN             F   \n",
       "\n",
       "      SG_UF_AULA SG_UF_EST2GRAU SG_UF_FERIAS SG_UF_NASC_ALUNO ST_ALUNO  \\\n",
       "12297         PR             PR           PR               PR        8   \n",
       "15734         SP            NaN           SP               SP        6   \n",
       "15737         AC            NaN           PR               PR        8   \n",
       "15745         PR             PR           PR               PR        7   \n",
       "\n",
       "      TP_DEFIC_INEP TP_ESCOLA  TP_INGRES_CURSO TP_OPCAO_COTAS  \\\n",
       "12297      SNNNNNNN        GI               12              N   \n",
       "15734           NaN         P               12              N   \n",
       "15737           NaN        GI               12              N   \n",
       "15745      NNNNNNNN         P               12              N   \n",
       "\n",
       "       F_CD_ORIGEM_ALUNO F_DT_NASC_ALUNO F_NM_PAIS_NASC  \n",
       "12297                  1            1983         BRASIL  \n",
       "15734                  4            1987         BRASIL  \n",
       "15737                  0            1972         BRASIL  \n",
       "15745                  0            1988         BRASIL  "
      ]
     },
     "execution_count": 44,
     "metadata": {},
     "output_type": "execute_result"
    }
   ],
   "source": [
    "df_final[(df_final['NU_SEMESTRE2_VEST'].isna()) & (df_final['TP_INGRES_CURSO'] == 12)]"
   ]
  },
  {
   "cell_type": "code",
   "execution_count": 45,
   "metadata": {},
   "outputs": [
    {
     "data": {
      "text/plain": [
       "NU_SEMESTRE2_VEST\n",
       "NaN    2740\n",
       "V       106\n",
       "Name: count, dtype: int64"
      ]
     },
     "execution_count": 45,
     "metadata": {},
     "output_type": "execute_result"
    }
   ],
   "source": [
    "df_final[df_final['TP_INGRES_CURSO'].isin(portador_diploma)]['NU_SEMESTRE2_VEST'].value_counts(dropna=False)"
   ]
  },
  {
   "cell_type": "code",
   "execution_count": 46,
   "metadata": {},
   "outputs": [
    {
     "data": {
      "text/plain": [
       "NU_SEMESTRE2_VEST\n",
       "NaN    50\n",
       "Name: count, dtype: int64"
      ]
     },
     "execution_count": 46,
     "metadata": {},
     "output_type": "execute_result"
    }
   ],
   "source": [
    "df_final[df_final['TP_INGRES_CURSO'].isin(convenio_cultural)]['NU_SEMESTRE2_VEST'].value_counts(dropna=False)"
   ]
  },
  {
   "cell_type": "code",
   "execution_count": 47,
   "metadata": {},
   "outputs": [
    {
     "data": {
      "text/plain": [
       "NU_SEMESTRE2_VEST\n",
       "NaN    1240\n",
       "I       102\n",
       "V       101\n",
       "A         3\n",
       "Name: count, dtype: int64"
      ]
     },
     "execution_count": 47,
     "metadata": {},
     "output_type": "execute_result"
    }
   ],
   "source": [
    "df_final[df_final['TP_INGRES_CURSO'].isin(transferencia)]['NU_SEMESTRE2_VEST'].value_counts(dropna=False)"
   ]
  },
  {
   "cell_type": "code",
   "execution_count": 48,
   "metadata": {},
   "outputs": [
    {
     "data": {
      "text/plain": [
       "NU_SEMESTRE2_VEST\n",
       "V      25725\n",
       "I      21177\n",
       "A       4143\n",
       "NaN      110\n",
       "2          3\n",
       "Name: count, dtype: int64"
      ]
     },
     "execution_count": 48,
     "metadata": {},
     "output_type": "execute_result"
    }
   ],
   "source": [
    "df_final[df_final['TP_INGRES_CURSO'].isin(vestibular)]['NU_SEMESTRE2_VEST'].value_counts(dropna=False)"
   ]
  },
  {
   "cell_type": "code",
   "execution_count": 49,
   "metadata": {},
   "outputs": [
    {
     "data": {
      "text/plain": [
       "NU_SEMESTRE2_VEST\n",
       "I      2\n",
       "V      1\n",
       "NaN    1\n",
       "Name: count, dtype: int64"
      ]
     },
     "execution_count": 49,
     "metadata": {},
     "output_type": "execute_result"
    }
   ],
   "source": [
    "df_final[df_final['TP_INGRES_CURSO'].isin(subjudice)]['NU_SEMESTRE2_VEST'].value_counts(dropna=False)"
   ]
  },
  {
   "cell_type": "code",
   "execution_count": 50,
   "metadata": {},
   "outputs": [],
   "source": [
    "dict_balanceamento = {'V': 57, 'I': 46, 'A':10}"
   ]
  },
  {
   "cell_type": "code",
   "execution_count": 51,
   "metadata": {},
   "outputs": [],
   "source": [
    "def set_nu_semestre2_vest(linha, dict_balanceamento=dict_balanceamento):\n",
    "    if linha['NU_SEMESTRE2_VEST'] == '2':\n",
    "        return 'V'\n",
    "    elif linha['TP_INGRES_CURSO'] in transferencia:\n",
    "        return 'T'\n",
    "    elif linha['TP_INGRES_CURSO'] in portador_diploma:\n",
    "        return 'P'\n",
    "    elif not pd.isna(linha['NU_SEMESTRE2_VEST']):\n",
    "        return linha['NU_SEMESTRE2_VEST']\n",
    "    elif linha['TP_INGRES_CURSO'] in vestibular:\n",
    "        if dict_balanceamento['V'] > 0:\n",
    "            dict_balanceamento['V'] -= 1\n",
    "            return 'V'\n",
    "        elif dict_balanceamento['I'] > 0:\n",
    "            dict_balanceamento['I'] -= 1\n",
    "            return 'I'\n",
    "        elif dict_balanceamento['A'] > 0:\n",
    "            dict_balanceamento['A'] -= 1\n",
    "            return 'A'\n",
    "    elif linha['TP_INGRES_CURSO'] in convenio_cultural:\n",
    "        return 'C'\n",
    "    elif linha['TP_INGRES_CURSO'] in subjudice:\n",
    "        return 'V'\n"
   ]
  },
  {
   "cell_type": "code",
   "execution_count": 52,
   "metadata": {},
   "outputs": [],
   "source": [
    "df_final['F_NU_SEMESTRE2_VEST'] = df_final.apply(set_nu_semestre2_vest, axis=1)"
   ]
  },
  {
   "cell_type": "code",
   "execution_count": 53,
   "metadata": {},
   "outputs": [
    {
     "data": {
      "text/plain": [
       "F_NU_SEMESTRE2_VEST\n",
       "V    31694\n",
       "I    27517\n",
       "A     5785\n",
       "P     2846\n",
       "T     1446\n",
       "E     1128\n",
       "S      373\n",
       "R      360\n",
       "C       50\n",
       "G       22\n",
       "Name: count, dtype: int64"
      ]
     },
     "execution_count": 53,
     "metadata": {},
     "output_type": "execute_result"
    }
   ],
   "source": [
    "df_final['F_NU_SEMESTRE2_VEST'].value_counts(dropna=False)"
   ]
  },
  {
   "cell_type": "code",
   "execution_count": 54,
   "metadata": {},
   "outputs": [],
   "source": [
    "colunas_a_remover.append('NU_SEMESTRE2_VEST')"
   ]
  },
  {
   "cell_type": "markdown",
   "metadata": {},
   "source": [
    "Criadas 3 categorias novas: 'C' para convenio cultural, 'T' para transferência e 'P' para portador de diploma.\n",
    "Para as outras, foram atribuídos proporcionalmente aos valores da coluna NU_SEMESTRE2_VEST"
   ]
  },
  {
   "cell_type": "markdown",
   "metadata": {},
   "source": [
    "### SG_SEXO_ALUNO"
   ]
  },
  {
   "cell_type": "markdown",
   "metadata": {},
   "source": [
    "Mantém como está"
   ]
  },
  {
   "cell_type": "markdown",
   "metadata": {},
   "source": [
    "### SG_UF_AULA, SG_UF_EST2GRAU"
   ]
  },
  {
   "cell_type": "markdown",
   "metadata": {},
   "source": [
    "Vamos usar?"
   ]
  },
  {
   "cell_type": "markdown",
   "metadata": {},
   "source": [
    "### SG_UF_FERIAS"
   ]
  },
  {
   "cell_type": "code",
   "execution_count": 55,
   "metadata": {},
   "outputs": [
    {
     "data": {
      "text/plain": [
       "SG_UF_FERIAS\n",
       "PR     56591\n",
       "SP      9339\n",
       "NaN     3443\n",
       "MS       669\n",
       "MT       295\n",
       "MG       238\n",
       "SC       170\n",
       "GO        89\n",
       "RO        88\n",
       "AC        63\n",
       "RS        46\n",
       "RJ        42\n",
       "BA        40\n",
       "DF        21\n",
       "PA        13\n",
       "TO        12\n",
       "ES        11\n",
       "CE         7\n",
       "MA         6\n",
       "--         6\n",
       "P          5\n",
       "RN         5\n",
       "PI         4\n",
       "PB         4\n",
       "PE         3\n",
       "AM         3\n",
       "RR         2\n",
       "S          2\n",
       "SE         1\n",
       "R          1\n",
       "AL         1\n",
       "AP         1\n",
       "Name: count, dtype: int64"
      ]
     },
     "execution_count": 55,
     "metadata": {},
     "output_type": "execute_result"
    }
   ],
   "source": [
    "df_final['SG_UF_FERIAS'].value_counts(dropna=False)"
   ]
  },
  {
   "cell_type": "code",
   "execution_count": 56,
   "metadata": {},
   "outputs": [
    {
     "data": {
      "text/plain": [
       "(array(['PR', nan, 'SP', 'MG', 'SC', 'MT', 'GO', 'AC', 'MS', 'RS', 'RO',\n",
       "        '--', 'S', 'PA', 'P', 'BA', 'PB', 'RJ', 'ES', 'TO', 'DF', 'RN',\n",
       "        'CE', 'SE', 'MA', 'PE', 'RR', 'R', 'AL', 'PI', 'AM', 'AP'],\n",
       "       dtype=object),\n",
       " 32)"
      ]
     },
     "execution_count": 56,
     "metadata": {},
     "output_type": "execute_result"
    }
   ],
   "source": [
    "df_final['SG_UF_FERIAS'].unique(), df_final['SG_UF_FERIAS'].nunique(dropna=False)"
   ]
  },
  {
   "cell_type": "code",
   "execution_count": 57,
   "metadata": {},
   "outputs": [
    {
     "data": {
      "text/plain": [
       "SG_UF_FERIAS\n",
       "--    6\n",
       "P     5\n",
       "S     2\n",
       "R     1\n",
       "Name: count, dtype: int64"
      ]
     },
     "execution_count": 57,
     "metadata": {},
     "output_type": "execute_result"
    }
   ],
   "source": [
    "estados_a_remover_uf_ferias = ['--', 'S', 'P', 'R']\n",
    "\n",
    "df_final[df_final['SG_UF_FERIAS'].isin(estados_a_remover_uf_ferias)]['SG_UF_FERIAS'].value_counts(dropna=False)"
   ]
  },
  {
   "cell_type": "code",
   "execution_count": 58,
   "metadata": {},
   "outputs": [
    {
     "data": {
      "text/plain": [
       "NM_CIDADE_FERIAS\n",
       "NAO INFORMADO        6\n",
       "S\\U001AO PAULO       1\n",
       "CAMPO MOUR\\U001AO    1\n",
       "JACAREZINHO          1\n",
       "GUARACI              1\n",
       "MARINGA              1\n",
       "AQUIDABAN            1\n",
       "HOLAMBRA             1\n",
       "PALMAS               1\n",
       "Name: count, dtype: int64"
      ]
     },
     "execution_count": 58,
     "metadata": {},
     "output_type": "execute_result"
    }
   ],
   "source": [
    "df_final[df_final['SG_UF_FERIAS'].isin(estados_a_remover_uf_ferias)]['NM_CIDADE_FERIAS'].value_counts(dropna=False)"
   ]
  },
  {
   "cell_type": "code",
   "execution_count": 59,
   "metadata": {},
   "outputs": [
    {
     "data": {
      "text/html": [
       "<div>\n",
       "<style scoped>\n",
       "    .dataframe tbody tr th:only-of-type {\n",
       "        vertical-align: middle;\n",
       "    }\n",
       "\n",
       "    .dataframe tbody tr th {\n",
       "        vertical-align: top;\n",
       "    }\n",
       "\n",
       "    .dataframe thead th {\n",
       "        text-align: right;\n",
       "    }\n",
       "</style>\n",
       "<table border=\"1\" class=\"dataframe\">\n",
       "  <thead>\n",
       "    <tr style=\"text-align: right;\">\n",
       "      <th></th>\n",
       "      <th>CD_ORIGEM_ALUNO</th>\n",
       "      <th>LT_NACIONALIDADE</th>\n",
       "      <th>SG_UF_NASC_ALUNO</th>\n",
       "      <th>NM_CIDADE_NASC</th>\n",
       "      <th>SG_UF_FERIAS</th>\n",
       "      <th>NM_CIDADE_FERIAS</th>\n",
       "      <th>F_NM_PAIS_NASC</th>\n",
       "      <th>NM_CIDADE_FERIAS</th>\n",
       "      <th>SG_UF_FERIAS</th>\n",
       "    </tr>\n",
       "  </thead>\n",
       "  <tbody>\n",
       "    <tr>\n",
       "      <th>1489</th>\n",
       "      <td>0</td>\n",
       "      <td>B</td>\n",
       "      <td>PR</td>\n",
       "      <td>MARINGA</td>\n",
       "      <td>--</td>\n",
       "      <td>NAO INFORMADO</td>\n",
       "      <td>BRASIL</td>\n",
       "      <td>NAO INFORMADO</td>\n",
       "      <td>--</td>\n",
       "    </tr>\n",
       "    <tr>\n",
       "      <th>1490</th>\n",
       "      <td>0</td>\n",
       "      <td>B</td>\n",
       "      <td>PR</td>\n",
       "      <td>MARINGA</td>\n",
       "      <td>--</td>\n",
       "      <td>NAO INFORMADO</td>\n",
       "      <td>BRASIL</td>\n",
       "      <td>NAO INFORMADO</td>\n",
       "      <td>--</td>\n",
       "    </tr>\n",
       "    <tr>\n",
       "      <th>1491</th>\n",
       "      <td>0</td>\n",
       "      <td>B</td>\n",
       "      <td>PR</td>\n",
       "      <td>MARINGA</td>\n",
       "      <td>--</td>\n",
       "      <td>NAO INFORMADO</td>\n",
       "      <td>BRASIL</td>\n",
       "      <td>NAO INFORMADO</td>\n",
       "      <td>--</td>\n",
       "    </tr>\n",
       "    <tr>\n",
       "      <th>1857</th>\n",
       "      <td>4</td>\n",
       "      <td>B</td>\n",
       "      <td>SP</td>\n",
       "      <td>NaN</td>\n",
       "      <td>S</td>\n",
       "      <td>S\\U001AO PAULO</td>\n",
       "      <td>BRASIL</td>\n",
       "      <td>S\\U001AO PAULO</td>\n",
       "      <td>S</td>\n",
       "    </tr>\n",
       "    <tr>\n",
       "      <th>2003</th>\n",
       "      <td>3</td>\n",
       "      <td>B</td>\n",
       "      <td>PR</td>\n",
       "      <td>NaN</td>\n",
       "      <td>P</td>\n",
       "      <td>CAMPO MOUR\\U001AO</td>\n",
       "      <td>BRASIL</td>\n",
       "      <td>CAMPO MOUR\\U001AO</td>\n",
       "      <td>P</td>\n",
       "    </tr>\n",
       "    <tr>\n",
       "      <th>2189</th>\n",
       "      <td>3</td>\n",
       "      <td>B</td>\n",
       "      <td>PR</td>\n",
       "      <td>NaN</td>\n",
       "      <td>P</td>\n",
       "      <td>JACAREZINHO</td>\n",
       "      <td>BRASIL</td>\n",
       "      <td>JACAREZINHO</td>\n",
       "      <td>P</td>\n",
       "    </tr>\n",
       "    <tr>\n",
       "      <th>8566</th>\n",
       "      <td>3</td>\n",
       "      <td>B</td>\n",
       "      <td>PR</td>\n",
       "      <td>NaN</td>\n",
       "      <td>P</td>\n",
       "      <td>GUARACI</td>\n",
       "      <td>BRASIL</td>\n",
       "      <td>GUARACI</td>\n",
       "      <td>P</td>\n",
       "    </tr>\n",
       "    <tr>\n",
       "      <th>9086</th>\n",
       "      <td>1</td>\n",
       "      <td>B</td>\n",
       "      <td>PR</td>\n",
       "      <td>NaN</td>\n",
       "      <td>P</td>\n",
       "      <td>MARINGA</td>\n",
       "      <td>BRASIL</td>\n",
       "      <td>MARINGA</td>\n",
       "      <td>P</td>\n",
       "    </tr>\n",
       "    <tr>\n",
       "      <th>11382</th>\n",
       "      <td>1</td>\n",
       "      <td>B</td>\n",
       "      <td>PR</td>\n",
       "      <td>NaN</td>\n",
       "      <td>P</td>\n",
       "      <td>AQUIDABAN</td>\n",
       "      <td>BRASIL</td>\n",
       "      <td>AQUIDABAN</td>\n",
       "      <td>P</td>\n",
       "    </tr>\n",
       "    <tr>\n",
       "      <th>16689</th>\n",
       "      <td>4</td>\n",
       "      <td>B</td>\n",
       "      <td>SP</td>\n",
       "      <td>NaN</td>\n",
       "      <td>S</td>\n",
       "      <td>HOLAMBRA</td>\n",
       "      <td>BRASIL</td>\n",
       "      <td>HOLAMBRA</td>\n",
       "      <td>S</td>\n",
       "    </tr>\n",
       "    <tr>\n",
       "      <th>18665</th>\n",
       "      <td>0</td>\n",
       "      <td>B</td>\n",
       "      <td>SP</td>\n",
       "      <td>BAURU</td>\n",
       "      <td>--</td>\n",
       "      <td>NAO INFORMADO</td>\n",
       "      <td>BRASIL</td>\n",
       "      <td>NAO INFORMADO</td>\n",
       "      <td>--</td>\n",
       "    </tr>\n",
       "    <tr>\n",
       "      <th>22683</th>\n",
       "      <td>0</td>\n",
       "      <td>B</td>\n",
       "      <td>PR</td>\n",
       "      <td>GOIOERE</td>\n",
       "      <td>--</td>\n",
       "      <td>NAO INFORMADO</td>\n",
       "      <td>BRASIL</td>\n",
       "      <td>NAO INFORMADO</td>\n",
       "      <td>--</td>\n",
       "    </tr>\n",
       "    <tr>\n",
       "      <th>23879</th>\n",
       "      <td>3</td>\n",
       "      <td>B</td>\n",
       "      <td>PR</td>\n",
       "      <td>PALMAS</td>\n",
       "      <td>R</td>\n",
       "      <td>PALMAS</td>\n",
       "      <td>BRASIL</td>\n",
       "      <td>PALMAS</td>\n",
       "      <td>R</td>\n",
       "    </tr>\n",
       "    <tr>\n",
       "      <th>69828</th>\n",
       "      <td>0</td>\n",
       "      <td>B</td>\n",
       "      <td>CE</td>\n",
       "      <td>FORTALEZA</td>\n",
       "      <td>--</td>\n",
       "      <td>NAO INFORMADO</td>\n",
       "      <td>BRASIL</td>\n",
       "      <td>NAO INFORMADO</td>\n",
       "      <td>--</td>\n",
       "    </tr>\n",
       "  </tbody>\n",
       "</table>\n",
       "</div>"
      ],
      "text/plain": [
       "       CD_ORIGEM_ALUNO LT_NACIONALIDADE SG_UF_NASC_ALUNO NM_CIDADE_NASC  \\\n",
       "1489                 0                B               PR        MARINGA   \n",
       "1490                 0                B               PR        MARINGA   \n",
       "1491                 0                B               PR        MARINGA   \n",
       "1857                 4                B               SP            NaN   \n",
       "2003                 3                B               PR            NaN   \n",
       "2189                 3                B               PR            NaN   \n",
       "8566                 3                B               PR            NaN   \n",
       "9086                 1                B               PR            NaN   \n",
       "11382                1                B               PR            NaN   \n",
       "16689                4                B               SP            NaN   \n",
       "18665                0                B               SP          BAURU   \n",
       "22683                0                B               PR        GOIOERE   \n",
       "23879                3                B               PR         PALMAS   \n",
       "69828                0                B               CE      FORTALEZA   \n",
       "\n",
       "      SG_UF_FERIAS   NM_CIDADE_FERIAS F_NM_PAIS_NASC   NM_CIDADE_FERIAS  \\\n",
       "1489            --      NAO INFORMADO         BRASIL      NAO INFORMADO   \n",
       "1490            --      NAO INFORMADO         BRASIL      NAO INFORMADO   \n",
       "1491            --      NAO INFORMADO         BRASIL      NAO INFORMADO   \n",
       "1857             S     S\\U001AO PAULO         BRASIL     S\\U001AO PAULO   \n",
       "2003             P  CAMPO MOUR\\U001AO         BRASIL  CAMPO MOUR\\U001AO   \n",
       "2189             P        JACAREZINHO         BRASIL        JACAREZINHO   \n",
       "8566             P            GUARACI         BRASIL            GUARACI   \n",
       "9086             P            MARINGA         BRASIL            MARINGA   \n",
       "11382            P          AQUIDABAN         BRASIL          AQUIDABAN   \n",
       "16689            S           HOLAMBRA         BRASIL           HOLAMBRA   \n",
       "18665           --      NAO INFORMADO         BRASIL      NAO INFORMADO   \n",
       "22683           --      NAO INFORMADO         BRASIL      NAO INFORMADO   \n",
       "23879            R             PALMAS         BRASIL             PALMAS   \n",
       "69828           --      NAO INFORMADO         BRASIL      NAO INFORMADO   \n",
       "\n",
       "      SG_UF_FERIAS  \n",
       "1489            --  \n",
       "1490            --  \n",
       "1491            --  \n",
       "1857             S  \n",
       "2003             P  \n",
       "2189             P  \n",
       "8566             P  \n",
       "9086             P  \n",
       "11382            P  \n",
       "16689            S  \n",
       "18665           --  \n",
       "22683           --  \n",
       "23879            R  \n",
       "69828           --  "
      ]
     },
     "execution_count": 59,
     "metadata": {},
     "output_type": "execute_result"
    }
   ],
   "source": [
    "df_final[df_final['SG_UF_FERIAS'].isin(estados_a_remover_uf_ferias)][colunas_loc_nasc_aluno + ['NM_CIDADE_FERIAS', 'SG_UF_FERIAS']]"
   ]
  },
  {
   "cell_type": "code",
   "execution_count": 60,
   "metadata": {},
   "outputs": [],
   "source": [
    "def set_SG_UF_FERIAS_ALUNO_1(linha):\n",
    "    if linha['NM_CIDADE_NASC'] in ['MARINGA', 'CAMPO MOURAO', 'JACAREZINHO', 'PALMAS', 'AQUIDABAN', 'GUARACI']:\n",
    "        return 'PR'\n",
    "    elif linha['NM_CIDADE_NASC'] in ['SAO PAULO', 'HOLAMBRA', 'SAO PAULO']:\n",
    "        return 'SP'\n",
    "    elif not pd.isna(linha['SG_UF_FERIAS']):\n",
    "        return linha['SG_UF_FERIAS']\n",
    "    else:\n",
    "        return np.nan"
   ]
  },
  {
   "cell_type": "code",
   "execution_count": 61,
   "metadata": {},
   "outputs": [],
   "source": [
    "df_final['F_SG_UF_FERIAS'] = df_final.apply(set_SG_UF_FERIAS_ALUNO_1, axis=1)"
   ]
  },
  {
   "cell_type": "code",
   "execution_count": 62,
   "metadata": {},
   "outputs": [],
   "source": [
    "df_final['F_SG_UF_FERIAS'] = df_final['F_SG_UF_FERIAS'].replace({'P':'PR', 'R':'PR', 'S':'SP'})"
   ]
  },
  {
   "cell_type": "code",
   "execution_count": 63,
   "metadata": {},
   "outputs": [
    {
     "data": {
      "text/plain": [
       "3272"
      ]
     },
     "execution_count": 63,
     "metadata": {},
     "output_type": "execute_result"
    }
   ],
   "source": [
    "df_final[df_final['F_SG_UF_FERIAS'].isna()].shape[0]"
   ]
  },
  {
   "cell_type": "markdown",
   "metadata": {},
   "source": [
    "Preenchidos os estados com uma letra só, colocando a sigla completa"
   ]
  },
  {
   "cell_type": "code",
   "execution_count": 64,
   "metadata": {},
   "outputs": [
    {
     "data": {
      "text/html": [
       "<div>\n",
       "<style scoped>\n",
       "    .dataframe tbody tr th:only-of-type {\n",
       "        vertical-align: middle;\n",
       "    }\n",
       "\n",
       "    .dataframe tbody tr th {\n",
       "        vertical-align: top;\n",
       "    }\n",
       "\n",
       "    .dataframe thead th {\n",
       "        text-align: right;\n",
       "    }\n",
       "</style>\n",
       "<table border=\"1\" class=\"dataframe\">\n",
       "  <thead>\n",
       "    <tr style=\"text-align: right;\">\n",
       "      <th></th>\n",
       "      <th>CD_ORIGEM_ALUNO</th>\n",
       "      <th>LT_NACIONALIDADE</th>\n",
       "      <th>SG_UF_NASC_ALUNO</th>\n",
       "      <th>NM_CIDADE_NASC</th>\n",
       "      <th>SG_UF_FERIAS</th>\n",
       "      <th>NM_CIDADE_FERIAS</th>\n",
       "      <th>F_NM_PAIS_NASC</th>\n",
       "      <th>NM_CIDADE_FERIAS</th>\n",
       "      <th>SG_UF_FERIAS</th>\n",
       "      <th>F_SG_UF_FERIAS</th>\n",
       "    </tr>\n",
       "  </thead>\n",
       "  <tbody>\n",
       "    <tr>\n",
       "      <th>1489</th>\n",
       "      <td>0</td>\n",
       "      <td>B</td>\n",
       "      <td>PR</td>\n",
       "      <td>MARINGA</td>\n",
       "      <td>--</td>\n",
       "      <td>NAO INFORMADO</td>\n",
       "      <td>BRASIL</td>\n",
       "      <td>NAO INFORMADO</td>\n",
       "      <td>--</td>\n",
       "      <td>PR</td>\n",
       "    </tr>\n",
       "    <tr>\n",
       "      <th>1490</th>\n",
       "      <td>0</td>\n",
       "      <td>B</td>\n",
       "      <td>PR</td>\n",
       "      <td>MARINGA</td>\n",
       "      <td>--</td>\n",
       "      <td>NAO INFORMADO</td>\n",
       "      <td>BRASIL</td>\n",
       "      <td>NAO INFORMADO</td>\n",
       "      <td>--</td>\n",
       "      <td>PR</td>\n",
       "    </tr>\n",
       "    <tr>\n",
       "      <th>1491</th>\n",
       "      <td>0</td>\n",
       "      <td>B</td>\n",
       "      <td>PR</td>\n",
       "      <td>MARINGA</td>\n",
       "      <td>--</td>\n",
       "      <td>NAO INFORMADO</td>\n",
       "      <td>BRASIL</td>\n",
       "      <td>NAO INFORMADO</td>\n",
       "      <td>--</td>\n",
       "      <td>PR</td>\n",
       "    </tr>\n",
       "    <tr>\n",
       "      <th>18665</th>\n",
       "      <td>0</td>\n",
       "      <td>B</td>\n",
       "      <td>SP</td>\n",
       "      <td>BAURU</td>\n",
       "      <td>--</td>\n",
       "      <td>NAO INFORMADO</td>\n",
       "      <td>BRASIL</td>\n",
       "      <td>NAO INFORMADO</td>\n",
       "      <td>--</td>\n",
       "      <td>--</td>\n",
       "    </tr>\n",
       "    <tr>\n",
       "      <th>22683</th>\n",
       "      <td>0</td>\n",
       "      <td>B</td>\n",
       "      <td>PR</td>\n",
       "      <td>GOIOERE</td>\n",
       "      <td>--</td>\n",
       "      <td>NAO INFORMADO</td>\n",
       "      <td>BRASIL</td>\n",
       "      <td>NAO INFORMADO</td>\n",
       "      <td>--</td>\n",
       "      <td>--</td>\n",
       "    </tr>\n",
       "    <tr>\n",
       "      <th>69828</th>\n",
       "      <td>0</td>\n",
       "      <td>B</td>\n",
       "      <td>CE</td>\n",
       "      <td>FORTALEZA</td>\n",
       "      <td>--</td>\n",
       "      <td>NAO INFORMADO</td>\n",
       "      <td>BRASIL</td>\n",
       "      <td>NAO INFORMADO</td>\n",
       "      <td>--</td>\n",
       "      <td>--</td>\n",
       "    </tr>\n",
       "  </tbody>\n",
       "</table>\n",
       "</div>"
      ],
      "text/plain": [
       "       CD_ORIGEM_ALUNO LT_NACIONALIDADE SG_UF_NASC_ALUNO NM_CIDADE_NASC  \\\n",
       "1489                 0                B               PR        MARINGA   \n",
       "1490                 0                B               PR        MARINGA   \n",
       "1491                 0                B               PR        MARINGA   \n",
       "18665                0                B               SP          BAURU   \n",
       "22683                0                B               PR        GOIOERE   \n",
       "69828                0                B               CE      FORTALEZA   \n",
       "\n",
       "      SG_UF_FERIAS NM_CIDADE_FERIAS F_NM_PAIS_NASC NM_CIDADE_FERIAS  \\\n",
       "1489            --    NAO INFORMADO         BRASIL    NAO INFORMADO   \n",
       "1490            --    NAO INFORMADO         BRASIL    NAO INFORMADO   \n",
       "1491            --    NAO INFORMADO         BRASIL    NAO INFORMADO   \n",
       "18665           --    NAO INFORMADO         BRASIL    NAO INFORMADO   \n",
       "22683           --    NAO INFORMADO         BRASIL    NAO INFORMADO   \n",
       "69828           --    NAO INFORMADO         BRASIL    NAO INFORMADO   \n",
       "\n",
       "      SG_UF_FERIAS F_SG_UF_FERIAS  \n",
       "1489            --             PR  \n",
       "1490            --             PR  \n",
       "1491            --             PR  \n",
       "18665           --             --  \n",
       "22683           --             --  \n",
       "69828           --             --  "
      ]
     },
     "execution_count": 64,
     "metadata": {},
     "output_type": "execute_result"
    }
   ],
   "source": [
    "df_final[df_final['NM_CIDADE_FERIAS'] == 'NAO INFORMADO'][colunas_loc_nasc_aluno + ['NM_CIDADE_FERIAS', 'SG_UF_FERIAS', 'F_SG_UF_FERIAS']]"
   ]
  },
  {
   "cell_type": "code",
   "execution_count": 65,
   "metadata": {},
   "outputs": [
    {
     "data": {
      "text/html": [
       "<div>\n",
       "<style scoped>\n",
       "    .dataframe tbody tr th:only-of-type {\n",
       "        vertical-align: middle;\n",
       "    }\n",
       "\n",
       "    .dataframe tbody tr th {\n",
       "        vertical-align: top;\n",
       "    }\n",
       "\n",
       "    .dataframe thead th {\n",
       "        text-align: right;\n",
       "    }\n",
       "</style>\n",
       "<table border=\"1\" class=\"dataframe\">\n",
       "  <thead>\n",
       "    <tr style=\"text-align: right;\">\n",
       "      <th></th>\n",
       "      <th>CD_ORIGEM_ALUNO</th>\n",
       "      <th>LT_NACIONALIDADE</th>\n",
       "      <th>SG_UF_NASC_ALUNO</th>\n",
       "      <th>NM_CIDADE_NASC</th>\n",
       "      <th>SG_UF_FERIAS</th>\n",
       "      <th>NM_CIDADE_FERIAS</th>\n",
       "      <th>F_NM_PAIS_NASC</th>\n",
       "      <th>SG_UF_FERIAS</th>\n",
       "      <th>F_SG_UF_FERIAS</th>\n",
       "    </tr>\n",
       "  </thead>\n",
       "  <tbody>\n",
       "    <tr>\n",
       "      <th>106</th>\n",
       "      <td>1</td>\n",
       "      <td>B</td>\n",
       "      <td>SP</td>\n",
       "      <td>GUARULHOS</td>\n",
       "      <td>NaN</td>\n",
       "      <td>MARINGA</td>\n",
       "      <td>BRASIL</td>\n",
       "      <td>NaN</td>\n",
       "      <td>NaN</td>\n",
       "    </tr>\n",
       "    <tr>\n",
       "      <th>332</th>\n",
       "      <td>4</td>\n",
       "      <td>B</td>\n",
       "      <td>SP</td>\n",
       "      <td>NaN</td>\n",
       "      <td>NaN</td>\n",
       "      <td>VOTUPORANGA</td>\n",
       "      <td>BRASIL</td>\n",
       "      <td>NaN</td>\n",
       "      <td>NaN</td>\n",
       "    </tr>\n",
       "    <tr>\n",
       "      <th>706</th>\n",
       "      <td>1</td>\n",
       "      <td>B</td>\n",
       "      <td>PR</td>\n",
       "      <td>NaN</td>\n",
       "      <td>NaN</td>\n",
       "      <td>MARINGA</td>\n",
       "      <td>BRASIL</td>\n",
       "      <td>NaN</td>\n",
       "      <td>NaN</td>\n",
       "    </tr>\n",
       "    <tr>\n",
       "      <th>934</th>\n",
       "      <td>2</td>\n",
       "      <td>B</td>\n",
       "      <td>PR</td>\n",
       "      <td>NaN</td>\n",
       "      <td>NaN</td>\n",
       "      <td>SANTA FE</td>\n",
       "      <td>BRASIL</td>\n",
       "      <td>NaN</td>\n",
       "      <td>NaN</td>\n",
       "    </tr>\n",
       "    <tr>\n",
       "      <th>1182</th>\n",
       "      <td>3</td>\n",
       "      <td>B</td>\n",
       "      <td>PR</td>\n",
       "      <td>NaN</td>\n",
       "      <td>NaN</td>\n",
       "      <td>PARANACITY</td>\n",
       "      <td>BRASIL</td>\n",
       "      <td>NaN</td>\n",
       "      <td>NaN</td>\n",
       "    </tr>\n",
       "    <tr>\n",
       "      <th>...</th>\n",
       "      <td>...</td>\n",
       "      <td>...</td>\n",
       "      <td>...</td>\n",
       "      <td>...</td>\n",
       "      <td>...</td>\n",
       "      <td>...</td>\n",
       "      <td>...</td>\n",
       "      <td>...</td>\n",
       "      <td>...</td>\n",
       "    </tr>\n",
       "    <tr>\n",
       "      <th>71203</th>\n",
       "      <td>0</td>\n",
       "      <td>B</td>\n",
       "      <td>RN</td>\n",
       "      <td>MACAU</td>\n",
       "      <td>NaN</td>\n",
       "      <td>MARINGA</td>\n",
       "      <td>BRASIL</td>\n",
       "      <td>NaN</td>\n",
       "      <td>NaN</td>\n",
       "    </tr>\n",
       "    <tr>\n",
       "      <th>71205</th>\n",
       "      <td>0</td>\n",
       "      <td>B</td>\n",
       "      <td>PR</td>\n",
       "      <td>LONDRINA</td>\n",
       "      <td>NaN</td>\n",
       "      <td>LONDRINA</td>\n",
       "      <td>BRASIL</td>\n",
       "      <td>NaN</td>\n",
       "      <td>NaN</td>\n",
       "    </tr>\n",
       "    <tr>\n",
       "      <th>71208</th>\n",
       "      <td>0</td>\n",
       "      <td>B</td>\n",
       "      <td>RO</td>\n",
       "      <td>PORTO VELHO</td>\n",
       "      <td>NaN</td>\n",
       "      <td>MARINGA</td>\n",
       "      <td>BRASIL</td>\n",
       "      <td>NaN</td>\n",
       "      <td>NaN</td>\n",
       "    </tr>\n",
       "    <tr>\n",
       "      <th>71216</th>\n",
       "      <td>0</td>\n",
       "      <td>B</td>\n",
       "      <td>PR</td>\n",
       "      <td>BRAGANTINA</td>\n",
       "      <td>NaN</td>\n",
       "      <td>MARINGA</td>\n",
       "      <td>BRASIL</td>\n",
       "      <td>NaN</td>\n",
       "      <td>NaN</td>\n",
       "    </tr>\n",
       "    <tr>\n",
       "      <th>71217</th>\n",
       "      <td>0</td>\n",
       "      <td>B</td>\n",
       "      <td>PR</td>\n",
       "      <td>CURITIBA</td>\n",
       "      <td>NaN</td>\n",
       "      <td>APUCARANA</td>\n",
       "      <td>BRASIL</td>\n",
       "      <td>NaN</td>\n",
       "      <td>NaN</td>\n",
       "    </tr>\n",
       "  </tbody>\n",
       "</table>\n",
       "<p>414 rows × 9 columns</p>\n",
       "</div>"
      ],
      "text/plain": [
       "       CD_ORIGEM_ALUNO LT_NACIONALIDADE SG_UF_NASC_ALUNO NM_CIDADE_NASC  \\\n",
       "106                  1                B               SP      GUARULHOS   \n",
       "332                  4                B               SP            NaN   \n",
       "706                  1                B               PR            NaN   \n",
       "934                  2                B               PR            NaN   \n",
       "1182                 3                B               PR            NaN   \n",
       "...                ...              ...              ...            ...   \n",
       "71203                0                B               RN          MACAU   \n",
       "71205                0                B               PR       LONDRINA   \n",
       "71208                0                B               RO    PORTO VELHO   \n",
       "71216                0                B               PR     BRAGANTINA   \n",
       "71217                0                B               PR       CURITIBA   \n",
       "\n",
       "      SG_UF_FERIAS NM_CIDADE_FERIAS F_NM_PAIS_NASC SG_UF_FERIAS F_SG_UF_FERIAS  \n",
       "106            NaN          MARINGA         BRASIL          NaN            NaN  \n",
       "332            NaN      VOTUPORANGA         BRASIL          NaN            NaN  \n",
       "706            NaN          MARINGA         BRASIL          NaN            NaN  \n",
       "934            NaN         SANTA FE         BRASIL          NaN            NaN  \n",
       "1182           NaN       PARANACITY         BRASIL          NaN            NaN  \n",
       "...            ...              ...            ...          ...            ...  \n",
       "71203          NaN          MARINGA         BRASIL          NaN            NaN  \n",
       "71205          NaN         LONDRINA         BRASIL          NaN            NaN  \n",
       "71208          NaN          MARINGA         BRASIL          NaN            NaN  \n",
       "71216          NaN          MARINGA         BRASIL          NaN            NaN  \n",
       "71217          NaN        APUCARANA         BRASIL          NaN            NaN  \n",
       "\n",
       "[414 rows x 9 columns]"
      ]
     },
     "execution_count": 65,
     "metadata": {},
     "output_type": "execute_result"
    }
   ],
   "source": [
    "sg_ferias_nulo_cidade = df_final[(pd.isna(df_final['F_SG_UF_FERIAS'])) & (~pd.isna(df_final['NM_CIDADE_FERIAS']))][colunas_loc_nasc_aluno + [ 'SG_UF_FERIAS', 'F_SG_UF_FERIAS']]\n",
    "sg_ferias_nulo_cidade"
   ]
  },
  {
   "cell_type": "code",
   "execution_count": 66,
   "metadata": {},
   "outputs": [
    {
     "data": {
      "text/plain": [
       "NM_CIDADE_FERIAS\n",
       "MARINGA              118\n",
       "UMUARAMA              20\n",
       "SARANDI                9\n",
       "MANDAGUARI             8\n",
       "APUCARANA              7\n",
       "                    ... \n",
       "FARTURA                1\n",
       "QUARTO CENTENARIO      1\n",
       "HERCULANDIA            1\n",
       "SERTAOZINHO            1\n",
       "BOM SUCESSO            1\n",
       "Name: count, Length: 192, dtype: int64"
      ]
     },
     "execution_count": 66,
     "metadata": {},
     "output_type": "execute_result"
    }
   ],
   "source": [
    "sg_ferias_nulo_cidade['NM_CIDADE_FERIAS'].value_counts(dropna=False)"
   ]
  },
  {
   "cell_type": "code",
   "execution_count": 67,
   "metadata": {},
   "outputs": [],
   "source": [
    "def set_SG_UF_FERIAS_2(linha, df_estados_municipios=df_estados_municipios):\n",
    "    if pd.isna(linha['F_SG_UF_FERIAS']):\n",
    "        try:\n",
    "            return df_estados_municipios[df_estados_municipios['nome'] == linha['NM_CIDADE_FERIAS']]['uf'].values[0]\n",
    "\n",
    "        except:\n",
    "            return linha['F_SG_UF_FERIAS']\n",
    "    else: \n",
    "        return linha['F_SG_UF_FERIAS']"
   ]
  },
  {
   "cell_type": "code",
   "execution_count": 68,
   "metadata": {},
   "outputs": [],
   "source": [
    "df_final['F_SG_UF_FERIAS'] = df_final.apply(set_SG_UF_FERIAS_2, axis=1)"
   ]
  },
  {
   "cell_type": "code",
   "execution_count": 69,
   "metadata": {},
   "outputs": [
    {
     "data": {
      "text/plain": [
       "2909"
      ]
     },
     "execution_count": 69,
     "metadata": {},
     "output_type": "execute_result"
    }
   ],
   "source": [
    "df_final[df_final['F_SG_UF_FERIAS'].isna()].shape[0]"
   ]
  },
  {
   "cell_type": "markdown",
   "metadata": {},
   "source": [
    "Após usar datasets de estados e cidades brasileiras, ainda ficamos com 2909 nulos."
   ]
  },
  {
   "cell_type": "code",
   "execution_count": 70,
   "metadata": {},
   "outputs": [],
   "source": [
    "colunas_a_remover.append('SG_UF_FERIAS')\n",
    "colunas_loc_nasc_aluno.remove('SG_UF_FERIAS')\n",
    "colunas_loc_nasc_aluno.append('F_SG_UF_FERIAS')"
   ]
  },
  {
   "cell_type": "markdown",
   "metadata": {},
   "source": [
    "### SG_UF_NASC_ALUNO"
   ]
  },
  {
   "cell_type": "code",
   "execution_count": 71,
   "metadata": {},
   "outputs": [
    {
     "data": {
      "text/plain": [
       "SG_UF_NASC_ALUNO\n",
       "PR     51503\n",
       "SP     13942\n",
       "MS      1071\n",
       "NaN      962\n",
       "MT       656\n",
       "MG       634\n",
       "SC       453\n",
       "RO       365\n",
       "RS       332\n",
       "RJ       324\n",
       "GO       187\n",
       "BA       138\n",
       "PA       126\n",
       "DF        88\n",
       "PE        74\n",
       "CE        65\n",
       "AM        49\n",
       "PB        40\n",
       "ES        37\n",
       "MA        31\n",
       "AL        25\n",
       "RN        25\n",
       "TO        23\n",
       "AP        17\n",
       "PI        15\n",
       "AC        15\n",
       "SE        14\n",
       "RR         6\n",
       "WP         1\n",
       "1          1\n",
       "PY         1\n",
       "5          1\n",
       "Name: count, dtype: int64"
      ]
     },
     "execution_count": 71,
     "metadata": {},
     "output_type": "execute_result"
    }
   ],
   "source": [
    "df_final['SG_UF_NASC_ALUNO'].value_counts(dropna=False)"
   ]
  },
  {
   "cell_type": "code",
   "execution_count": 72,
   "metadata": {},
   "outputs": [
    {
     "data": {
      "text/plain": [
       "(array(['PR', 'SP', 'RS', 'PB', 'MS', 'RJ', 'SC', 'MG', nan, 'MT', 'GO',\n",
       "        'RO', 'DF', 'PA', 'PE', 'MA', 'BA', 'AL', 'AM', 'PI', 'ES', 'AC',\n",
       "        '5', 'CE', 'SE', 'AP', 'RN', '1', 'WP', 'TO', 'PY', 'RR'],\n",
       "       dtype=object),\n",
       " 32)"
      ]
     },
     "execution_count": 72,
     "metadata": {},
     "output_type": "execute_result"
    }
   ],
   "source": [
    "df_final['SG_UF_NASC_ALUNO'].unique(), len(df_final['SG_UF_NASC_ALUNO'].unique())"
   ]
  },
  {
   "cell_type": "markdown",
   "metadata": {},
   "source": [
    "Temos alguns valores que não são siglas de estados, logo devem ser tratados"
   ]
  },
  {
   "cell_type": "code",
   "execution_count": 73,
   "metadata": {},
   "outputs": [
    {
     "data": {
      "text/html": [
       "<div>\n",
       "<style scoped>\n",
       "    .dataframe tbody tr th:only-of-type {\n",
       "        vertical-align: middle;\n",
       "    }\n",
       "\n",
       "    .dataframe tbody tr th {\n",
       "        vertical-align: top;\n",
       "    }\n",
       "\n",
       "    .dataframe thead th {\n",
       "        text-align: right;\n",
       "    }\n",
       "</style>\n",
       "<table border=\"1\" class=\"dataframe\">\n",
       "  <thead>\n",
       "    <tr style=\"text-align: right;\">\n",
       "      <th></th>\n",
       "      <th>CD_ORIGEM_ALUNO</th>\n",
       "      <th>LT_NACIONALIDADE</th>\n",
       "      <th>SG_UF_NASC_ALUNO</th>\n",
       "      <th>NM_CIDADE_NASC</th>\n",
       "      <th>NM_CIDADE_FERIAS</th>\n",
       "      <th>F_NM_PAIS_NASC</th>\n",
       "      <th>F_SG_UF_FERIAS</th>\n",
       "    </tr>\n",
       "  </thead>\n",
       "  <tbody>\n",
       "    <tr>\n",
       "      <th>4074</th>\n",
       "      <td>5</td>\n",
       "      <td>B</td>\n",
       "      <td>5</td>\n",
       "      <td>NaN</td>\n",
       "      <td>COLIDER</td>\n",
       "      <td>BRASIL</td>\n",
       "      <td>MT</td>\n",
       "    </tr>\n",
       "  </tbody>\n",
       "</table>\n",
       "</div>"
      ],
      "text/plain": [
       "      CD_ORIGEM_ALUNO LT_NACIONALIDADE SG_UF_NASC_ALUNO NM_CIDADE_NASC  \\\n",
       "4074                5                B                5            NaN   \n",
       "\n",
       "     NM_CIDADE_FERIAS F_NM_PAIS_NASC F_SG_UF_FERIAS  \n",
       "4074          COLIDER         BRASIL             MT  "
      ]
     },
     "execution_count": 73,
     "metadata": {},
     "output_type": "execute_result"
    }
   ],
   "source": [
    "estados_a_remover = ['5', '1', 'WP', 'PY', np.nan]\n",
    "\n",
    "df_estados_a_remover = df_final[df_final['SG_UF_NASC_ALUNO'].isin(estados_a_remover)][colunas_loc_nasc_aluno]\n",
    "\n",
    "df_estados_a_remover[df_estados_a_remover['SG_UF_NASC_ALUNO'] == '5']\t"
   ]
  },
  {
   "cell_type": "code",
   "execution_count": 74,
   "metadata": {},
   "outputs": [
    {
     "data": {
      "text/html": [
       "<div>\n",
       "<style scoped>\n",
       "    .dataframe tbody tr th:only-of-type {\n",
       "        vertical-align: middle;\n",
       "    }\n",
       "\n",
       "    .dataframe tbody tr th {\n",
       "        vertical-align: top;\n",
       "    }\n",
       "\n",
       "    .dataframe thead th {\n",
       "        text-align: right;\n",
       "    }\n",
       "</style>\n",
       "<table border=\"1\" class=\"dataframe\">\n",
       "  <thead>\n",
       "    <tr style=\"text-align: right;\">\n",
       "      <th></th>\n",
       "      <th>CD_ORIGEM_ALUNO</th>\n",
       "      <th>LT_NACIONALIDADE</th>\n",
       "      <th>SG_UF_NASC_ALUNO</th>\n",
       "      <th>NM_CIDADE_NASC</th>\n",
       "      <th>NM_CIDADE_FERIAS</th>\n",
       "      <th>F_NM_PAIS_NASC</th>\n",
       "      <th>F_SG_UF_FERIAS</th>\n",
       "    </tr>\n",
       "  </thead>\n",
       "  <tbody>\n",
       "    <tr>\n",
       "      <th>133</th>\n",
       "      <td>6</td>\n",
       "      <td>B</td>\n",
       "      <td>NaN</td>\n",
       "      <td>NaN</td>\n",
       "      <td>MARINGA</td>\n",
       "      <td>BRASIL</td>\n",
       "      <td>PR</td>\n",
       "    </tr>\n",
       "    <tr>\n",
       "      <th>1014</th>\n",
       "      <td>5</td>\n",
       "      <td>B</td>\n",
       "      <td>NaN</td>\n",
       "      <td>NaN</td>\n",
       "      <td>MARINGA</td>\n",
       "      <td>BRASIL</td>\n",
       "      <td>PR</td>\n",
       "    </tr>\n",
       "    <tr>\n",
       "      <th>2596</th>\n",
       "      <td>3</td>\n",
       "      <td>B</td>\n",
       "      <td>NaN</td>\n",
       "      <td>NaN</td>\n",
       "      <td>PRADO FERREIRA</td>\n",
       "      <td>BRASIL</td>\n",
       "      <td>PR</td>\n",
       "    </tr>\n",
       "    <tr>\n",
       "      <th>3242</th>\n",
       "      <td>3</td>\n",
       "      <td>B</td>\n",
       "      <td>NaN</td>\n",
       "      <td>NaN</td>\n",
       "      <td>NaN</td>\n",
       "      <td>BRASIL</td>\n",
       "      <td>NaN</td>\n",
       "    </tr>\n",
       "    <tr>\n",
       "      <th>3328</th>\n",
       "      <td>0</td>\n",
       "      <td>B</td>\n",
       "      <td>NaN</td>\n",
       "      <td>NaN</td>\n",
       "      <td>NaN</td>\n",
       "      <td>BRASIL</td>\n",
       "      <td>NaN</td>\n",
       "    </tr>\n",
       "    <tr>\n",
       "      <th>...</th>\n",
       "      <td>...</td>\n",
       "      <td>...</td>\n",
       "      <td>...</td>\n",
       "      <td>...</td>\n",
       "      <td>...</td>\n",
       "      <td>...</td>\n",
       "      <td>...</td>\n",
       "    </tr>\n",
       "    <tr>\n",
       "      <th>71081</th>\n",
       "      <td>0</td>\n",
       "      <td>B</td>\n",
       "      <td>NaN</td>\n",
       "      <td>NaN</td>\n",
       "      <td>MARINGA</td>\n",
       "      <td>BRASIL</td>\n",
       "      <td>PR</td>\n",
       "    </tr>\n",
       "    <tr>\n",
       "      <th>71082</th>\n",
       "      <td>0</td>\n",
       "      <td>B</td>\n",
       "      <td>NaN</td>\n",
       "      <td>NaN</td>\n",
       "      <td>MARINGA</td>\n",
       "      <td>BRASIL</td>\n",
       "      <td>PR</td>\n",
       "    </tr>\n",
       "    <tr>\n",
       "      <th>71092</th>\n",
       "      <td>0</td>\n",
       "      <td>B</td>\n",
       "      <td>NaN</td>\n",
       "      <td>NaN</td>\n",
       "      <td>MARINGA</td>\n",
       "      <td>BRASIL</td>\n",
       "      <td>PR</td>\n",
       "    </tr>\n",
       "    <tr>\n",
       "      <th>71094</th>\n",
       "      <td>0</td>\n",
       "      <td>B</td>\n",
       "      <td>NaN</td>\n",
       "      <td>NaN</td>\n",
       "      <td>NOVA ESPERANCA</td>\n",
       "      <td>BRASIL</td>\n",
       "      <td>PR</td>\n",
       "    </tr>\n",
       "    <tr>\n",
       "      <th>71174</th>\n",
       "      <td>0</td>\n",
       "      <td>B</td>\n",
       "      <td>NaN</td>\n",
       "      <td>NaN</td>\n",
       "      <td>UMUARAMA</td>\n",
       "      <td>BRASIL</td>\n",
       "      <td>PR</td>\n",
       "    </tr>\n",
       "  </tbody>\n",
       "</table>\n",
       "<p>532 rows × 7 columns</p>\n",
       "</div>"
      ],
      "text/plain": [
       "       CD_ORIGEM_ALUNO LT_NACIONALIDADE SG_UF_NASC_ALUNO NM_CIDADE_NASC  \\\n",
       "133                  6                B              NaN            NaN   \n",
       "1014                 5                B              NaN            NaN   \n",
       "2596                 3                B              NaN            NaN   \n",
       "3242                 3                B              NaN            NaN   \n",
       "3328                 0                B              NaN            NaN   \n",
       "...                ...              ...              ...            ...   \n",
       "71081                0                B              NaN            NaN   \n",
       "71082                0                B              NaN            NaN   \n",
       "71092                0                B              NaN            NaN   \n",
       "71094                0                B              NaN            NaN   \n",
       "71174                0                B              NaN            NaN   \n",
       "\n",
       "      NM_CIDADE_FERIAS F_NM_PAIS_NASC F_SG_UF_FERIAS  \n",
       "133            MARINGA         BRASIL             PR  \n",
       "1014           MARINGA         BRASIL             PR  \n",
       "2596    PRADO FERREIRA         BRASIL             PR  \n",
       "3242               NaN         BRASIL            NaN  \n",
       "3328               NaN         BRASIL            NaN  \n",
       "...                ...            ...            ...  \n",
       "71081          MARINGA         BRASIL             PR  \n",
       "71082          MARINGA         BRASIL             PR  \n",
       "71092          MARINGA         BRASIL             PR  \n",
       "71094   NOVA ESPERANCA         BRASIL             PR  \n",
       "71174         UMUARAMA         BRASIL             PR  \n",
       "\n",
       "[532 rows x 7 columns]"
      ]
     },
     "execution_count": 74,
     "metadata": {},
     "output_type": "execute_result"
    }
   ],
   "source": [
    "df_estados_a_remover[df_estados_a_remover['F_NM_PAIS_NASC'] == 'BRASIL']"
   ]
  },
  {
   "cell_type": "code",
   "execution_count": 75,
   "metadata": {},
   "outputs": [
    {
     "data": {
      "text/plain": [
       "SG_UF_NASC_ALUNO\n",
       "NaN    528\n",
       "5        1\n",
       "1        1\n",
       "WP       1\n",
       "PY       1\n",
       "Name: count, dtype: int64"
      ]
     },
     "execution_count": 75,
     "metadata": {},
     "output_type": "execute_result"
    }
   ],
   "source": [
    "df_estados_a_remover[df_estados_a_remover['F_NM_PAIS_NASC'] == 'BRASIL']['SG_UF_NASC_ALUNO'].value_counts(dropna=False)"
   ]
  },
  {
   "cell_type": "markdown",
   "metadata": {},
   "source": [
    "531 alunos nascidos no Brasil tem o campo SG_UF_NASC_ALUNO nulo ou com valores inválidos. Todos os valores inválidos não nulos estão com os brasileiros."
   ]
  },
  {
   "cell_type": "code",
   "execution_count": 76,
   "metadata": {},
   "outputs": [
    {
     "data": {
      "text/plain": [
       "NM_CIDADE_NASC\n",
       "NaN                    503\n",
       "MARINGA                  7\n",
       "ASSIS CHATEAUBRIAND      2\n",
       "SAO PAULO                2\n",
       "ALMADA                   2\n",
       "IBARAKI                  1\n",
       "ISESAKI                  1\n",
       "YUKI-SHI                 1\n",
       "SUZUKA                   1\n",
       "SANTIAGO                 1\n",
       "FUJIYOSHIDA              1\n",
       "HARUE                    1\n",
       "ALTO PARANA              1\n",
       "CIANORTE                 1\n",
       "FOZ DO IGUACU            1\n",
       "BILAC                    1\n",
       "GUAIRA                   1\n",
       "TOLEDO                   1\n",
       "CUIABA                   1\n",
       "NANCY - FRANCA           1\n",
       "OBU-SHI                  1\n",
       "Name: count, dtype: int64"
      ]
     },
     "execution_count": 76,
     "metadata": {},
     "output_type": "execute_result"
    }
   ],
   "source": [
    "df_estados_a_remover[df_estados_a_remover['F_NM_PAIS_NASC'] == 'BRASIL']['NM_CIDADE_NASC'].value_counts(dropna=False)"
   ]
  },
  {
   "cell_type": "code",
   "execution_count": 77,
   "metadata": {},
   "outputs": [],
   "source": [
    "def set_SG_UF_NASC_ALUNO_1(linha):\n",
    "    if linha['NM_CIDADE_NASC'] in ['MARINGA', 'TOLEDO', 'ASSIS CHATEAUBRIAND', 'ALTO PARANA', 'CIANORTE', 'FOZ DO IGUACU', 'GUAIRA', ]:\n",
    "        return 'PR'\n",
    "    elif linha['NM_CIDADE_NASC'] in ['SAO PAULO', 'BILAC']:\n",
    "        return 'SP'\n",
    "    elif linha['NM_CIDADE_NASC'] in ['CUIABA']:\n",
    "        return 'MT'\n",
    "    elif not pd.isna(linha['SG_UF_NASC_ALUNO']):\n",
    "        return linha['SG_UF_NASC_ALUNO']\n",
    "    else:\n",
    "        return np.nan"
   ]
  },
  {
   "cell_type": "code",
   "execution_count": 78,
   "metadata": {},
   "outputs": [],
   "source": [
    "df_final['F_SG_UF_NASC_ALUNO'] = df_final.apply(set_SG_UF_NASC_ALUNO_1, axis=1)"
   ]
  },
  {
   "cell_type": "code",
   "execution_count": 79,
   "metadata": {},
   "outputs": [
    {
     "data": {
      "text/plain": [
       "F_SG_UF_NASC_ALUNO\n",
       "PR     51547\n",
       "SP     13934\n",
       "MS      1069\n",
       "NaN      935\n",
       "MT       658\n",
       "MG       632\n",
       "SC       453\n",
       "RO       362\n",
       "RS       331\n",
       "RJ       324\n",
       "GO       187\n",
       "BA       138\n",
       "PA       126\n",
       "DF        87\n",
       "PE        74\n",
       "CE        65\n",
       "AM        47\n",
       "PB        40\n",
       "ES        37\n",
       "MA        31\n",
       "AL        25\n",
       "RN        25\n",
       "TO        23\n",
       "AP        17\n",
       "PI        15\n",
       "AC        15\n",
       "SE        14\n",
       "RR         6\n",
       "WP         1\n",
       "1          1\n",
       "PY         1\n",
       "5          1\n",
       "Name: count, dtype: int64"
      ]
     },
     "execution_count": 79,
     "metadata": {},
     "output_type": "execute_result"
    }
   ],
   "source": [
    "df_final['F_SG_UF_NASC_ALUNO'].value_counts(dropna=False)"
   ]
  },
  {
   "cell_type": "code",
   "execution_count": 80,
   "metadata": {},
   "outputs": [],
   "source": [
    "def set_SG_UF_NASC_ALUNO_2(linha, df_estados_municipios=df_estados_municipios, estados_a_remover=estados_a_remover):\n",
    "    if pd.isna(linha['F_SG_UF_NASC_ALUNO']):\n",
    "        try:\n",
    "            return df_estados_municipios[df_estados_municipios['nome'] == linha['NM_CIDADE_NASC']]['uf'].values[0]\n",
    "\n",
    "        except:\n",
    "            return linha['F_SG_UF_NASC_ALUNO']\n",
    "    else: \n",
    "        return linha['F_SG_UF_NASC_ALUNO']"
   ]
  },
  {
   "cell_type": "code",
   "execution_count": 81,
   "metadata": {},
   "outputs": [],
   "source": [
    "df_final['F_SG_UF_NASC_ALUNO'] = df_final.apply(set_SG_UF_NASC_ALUNO_2, axis=1)"
   ]
  },
  {
   "cell_type": "code",
   "execution_count": 82,
   "metadata": {},
   "outputs": [
    {
     "data": {
      "text/plain": [
       "921"
      ]
     },
     "execution_count": 82,
     "metadata": {},
     "output_type": "execute_result"
    }
   ],
   "source": [
    "df_final[df_final['F_SG_UF_NASC_ALUNO'].isna()].shape[0]"
   ]
  },
  {
   "cell_type": "code",
   "execution_count": 83,
   "metadata": {},
   "outputs": [],
   "source": [
    "colunas_a_remover.append('SG_UF_NASC_ALUNO')\n",
    "colunas_loc_nasc_aluno.remove('SG_UF_NASC_ALUNO')\n",
    "colunas_loc_nasc_aluno.append('F_SG_UF_NASC_ALUNO')"
   ]
  },
  {
   "cell_type": "markdown",
   "metadata": {},
   "source": [
    "Essas colunas de localização ainda posso refinar mais..."
   ]
  },
  {
   "cell_type": "markdown",
   "metadata": {},
   "source": [
    "### ST_ALUNO"
   ]
  },
  {
   "cell_type": "markdown",
   "metadata": {},
   "source": [
    "NaN - **NÃO EVASÃO / MATRICULADO** - Matriculado(a) \n",
    "\n",
    "0 - **EVASÃO / CANCELAMENTO** - Matrícula Cancelada pela UEM \n",
    "\n",
    "1 - **NÃO EVASÃO / MATRICULADO** Trancado(a) \n",
    "\n",
    "2 - **EVASÃO / CANCELAMENTO** - Matrícula Cancelada (Pelo aluno)\n",
    "\n",
    "4 - **EVASÃO / TRANSFERÊNCIA** - Transferido de Curso (Outro campus)\n",
    "\n",
    "6 - **EVASÃO / TRANSFERÊNCIA** - Transferido de IES\n",
    "\n",
    "7 - **NÃO EVASÃO / FORMADO** - Formado(a)\n",
    "\n",
    "8 - **EVASÃO / CANCELAMENTO** - Cancelado por Abandono\n",
    "\n",
    "9 - **NÃO EVASÃO / JUBILADO** - Jubilado(a) \n",
    "\n",
    "B - **NÃO EVASÃO / MATRICULADO** - Transferido de Campus\n",
    "\n",
    "F - **NÃO EVASÃO / MATRICULADO** - Permuta Campus (Mesmo curso)\n",
    "\n",
    "H - **EVASÃO / TRANSFERÊNCIA** - Permuta Campus (Outro curso)\n",
    "\n",
    "I - **NÃO EVASÃO / FALECIDO** - Falecido(a) \n",
    "\n",
    "J - **EVASÃO / CANCELAMENTO** - Matrícula Cancelada (Reprovação por falta por dois anos consecutivos)\n",
    "\n",
    "K - **EVASÃO / CANCELAMENTO** - Matrícula Cancelada (Reprovação por nota duas vezes consecutivas – Regimento antigo)\n",
    "\n",
    "M - **NÃO EVASÃO / MATRICULADO** - Em Mobilidade Estudantil\n",
    "\n",
    "O - **EVASÃO / TRANSFERÊNCIA** - ND - Situação lançada em meados de 2001 para alunos com ocorrência de “Transferência interna de curso”. Pode incluir outras situações\n",
    "\n",
    "P - **EVASÃO / TRANSFERÊNCIA** - Transferido de Curso (Mesmo campus)\n",
    "\n"
   ]
  },
  {
   "cell_type": "code",
   "execution_count": 84,
   "metadata": {},
   "outputs": [],
   "source": [
    "st_evasao = ['0', '2', '4', '6', '8', 'P', 'O', 'K', 'J', 'H']\n",
    "st_nao_evasao = [np.nan, '1', '9', 'B', 'F', 'M', '7']\n",
    "\n",
    "st_cancelamento = ['0', '2', '8', 'J', 'K']\n",
    "st_transferencia = ['4', '6', 'H', 'O', 'P']\n",
    "st_matriculado = [np.nan, '1', 'B', 'F' , 'M']\n",
    "st_formado = ['7']\n",
    "st_jubilado = ['9']\n",
    "st_falecido = ['I']"
   ]
  },
  {
   "cell_type": "code",
   "execution_count": 85,
   "metadata": {},
   "outputs": [
    {
     "data": {
      "text/plain": [
       "26932"
      ]
     },
     "execution_count": 85,
     "metadata": {},
     "output_type": "execute_result"
    }
   ],
   "source": [
    "df_final[df_final['ST_ALUNO'].isin(st_evasao) == True].shape[0]"
   ]
  },
  {
   "cell_type": "code",
   "execution_count": 86,
   "metadata": {},
   "outputs": [],
   "source": [
    "def set_BOOL_TRANCADO(linha):\n",
    "    if linha['ST_ALUNO'] == '1':\n",
    "        return 1\n",
    "    return 0"
   ]
  },
  {
   "cell_type": "code",
   "execution_count": 87,
   "metadata": {},
   "outputs": [],
   "source": [
    "df_final['BOOL_TRANCADO'] = df_final.apply(set_BOOL_TRANCADO, axis=1)"
   ]
  },
  {
   "cell_type": "code",
   "execution_count": 88,
   "metadata": {},
   "outputs": [],
   "source": [
    "def set_BOOL_ST_ALUNO(linha:pd.Series) -> int:\n",
    "    if linha['ST_ALUNO'] in st_evasao:\n",
    "        return 1\n",
    "    elif linha['ST_ALUNO'] in st_nao_evasao:\n",
    "        return 0"
   ]
  },
  {
   "cell_type": "code",
   "execution_count": 89,
   "metadata": {},
   "outputs": [],
   "source": [
    "df_final['BOOL_ST_ALUNO'] = df_final.apply(set_BOOL_ST_ALUNO, axis=1)"
   ]
  },
  {
   "cell_type": "code",
   "execution_count": 90,
   "metadata": {},
   "outputs": [],
   "source": [
    "def set_MULTI_ST_ALUNO(linha:pd.Series) -> str:\n",
    "    if linha['ST_ALUNO'] in st_formado:\n",
    "        return 'FORMADO'\n",
    "    elif linha['ST_ALUNO'] in st_cancelamento:\n",
    "        return 'CANCELAMENTO'\n",
    "    elif linha['ST_ALUNO'] in st_matriculado:\n",
    "        return 'MATRICULADO'\n",
    "    elif linha['ST_ALUNO'] in st_jubilado:\n",
    "        return 'JUBILADO'\n",
    "    elif linha['ST_ALUNO'] in st_transferencia:\n",
    "        return 'TRANSFERENCIA'\n",
    "    elif linha['ST_ALUNO'] in st_falecido:\n",
    "        return 'FALECIDO'\n",
    "    "
   ]
  },
  {
   "cell_type": "code",
   "execution_count": 91,
   "metadata": {},
   "outputs": [],
   "source": [
    "df_final['MULTI_ST_ALUNO'] = df_final.apply(set_MULTI_ST_ALUNO, axis=1)"
   ]
  },
  {
   "cell_type": "code",
   "execution_count": 92,
   "metadata": {},
   "outputs": [
    {
     "data": {
      "text/plain": [
       "BOOL_ST_ALUNO\n",
       "0.0    44241\n",
       "1.0    26932\n",
       "NaN       48\n",
       "Name: count, dtype: int64"
      ]
     },
     "execution_count": 92,
     "metadata": {},
     "output_type": "execute_result"
    }
   ],
   "source": [
    "df_final['BOOL_ST_ALUNO'].value_counts(dropna=False)"
   ]
  },
  {
   "cell_type": "markdown",
   "metadata": {},
   "source": [
    "Esses NaN são os falecidos."
   ]
  },
  {
   "cell_type": "code",
   "execution_count": 93,
   "metadata": {},
   "outputs": [
    {
     "data": {
      "text/plain": [
       "BOOL_ST_ALUNO\n",
       "0.0    62.159808\n",
       "1.0    37.840192\n",
       "Name: proportion, dtype: float64"
      ]
     },
     "execution_count": 93,
     "metadata": {},
     "output_type": "execute_result"
    }
   ],
   "source": [
    "df_final['BOOL_ST_ALUNO'].value_counts(normalize=True) * 100"
   ]
  },
  {
   "cell_type": "code",
   "execution_count": 94,
   "metadata": {},
   "outputs": [
    {
     "name": "stdout",
     "output_type": "stream",
     "text": [
      "Percentual de evadidos: 37.81%\n",
      "Percentual de não evadidos: 62.12%\n"
     ]
    }
   ],
   "source": [
    "pct_evadidos = df_final[df_final['BOOL_ST_ALUNO'] == 1].shape[0] / df_final.shape[0] * 100\n",
    "pct_nao_evadidos = df_final[df_final['BOOL_ST_ALUNO'] == 0].shape[0] / df_final.shape[0] * 100\n",
    "\n",
    "print(f'Percentual de evadidos: {pct_evadidos:.2f}%')\n",
    "print(f'Percentual de não evadidos: {pct_nao_evadidos:.2f}%')"
   ]
  },
  {
   "cell_type": "code",
   "execution_count": 95,
   "metadata": {},
   "outputs": [
    {
     "data": {
      "text/plain": [
       "MULTI_ST_ALUNO\n",
       "FORMADO          34016\n",
       "CANCELAMENTO     26086\n",
       "MATRICULADO       8981\n",
       "JUBILADO          1244\n",
       "TRANSFERENCIA      846\n",
       "FALECIDO            48\n",
       "Name: count, dtype: int64"
      ]
     },
     "execution_count": 95,
     "metadata": {},
     "output_type": "execute_result"
    }
   ],
   "source": [
    "df_final['MULTI_ST_ALUNO'].value_counts(dropna=False)"
   ]
  },
  {
   "cell_type": "code",
   "execution_count": 96,
   "metadata": {},
   "outputs": [
    {
     "data": {
      "text/plain": [
       "MULTI_ST_ALUNO\n",
       "FORMADO          47.761194\n",
       "CANCELAMENTO     36.626838\n",
       "MATRICULADO      12.610045\n",
       "JUBILADO          1.746676\n",
       "TRANSFERENCIA     1.187852\n",
       "FALECIDO          0.067396\n",
       "Name: proportion, dtype: float64"
      ]
     },
     "execution_count": 96,
     "metadata": {},
     "output_type": "execute_result"
    }
   ],
   "source": [
    "df_final['MULTI_ST_ALUNO'].value_counts(normalize=True) * 100"
   ]
  },
  {
   "cell_type": "code",
   "execution_count": 97,
   "metadata": {},
   "outputs": [
    {
     "name": "stdout",
     "output_type": "stream",
     "text": [
      "Percentual de FORMADOS: 47.76%\n",
      "Percentual de CANCELADOS: 36.63%\n",
      "Percentual de MATRICULADOS: 12.61%\n",
      "Percentual de JUBILADOS: 1.75%\n",
      "Percentual de TRANSFERIDOS: 1.19%\n",
      "Percentual de FALECIDOS: 0.07%\n"
     ]
    }
   ],
   "source": [
    "pct_formados = df_final[df_final['MULTI_ST_ALUNO'] == 'FORMADO'].shape[0] / df_final.shape[0] * 100\n",
    "pct_cancelados = df_final[df_final['MULTI_ST_ALUNO'] == 'CANCELAMENTO'].shape[0] / df_final.shape[0] * 100\n",
    "pct_matriculados = df_final[df_final['MULTI_ST_ALUNO'] == 'MATRICULADO'].shape[0] / df_final.shape[0] * 100\n",
    "pct_jubilados = df_final[df_final['MULTI_ST_ALUNO'] == 'JUBILADO'].shape[0] / df_final.shape[0] * 100\n",
    "pct_transferidos = df_final[df_final['MULTI_ST_ALUNO'] == 'TRANSFERENCIA'].shape[0] / df_final.shape[0] * 100\n",
    "pct_falecidos = df_final[df_final['MULTI_ST_ALUNO'] == 'FALECIDO'].shape[0] / df_final.shape[0] * 100\n",
    "\n",
    "print(f'Percentual de FORMADOS: {pct_formados:.2f}%')\n",
    "print(f'Percentual de CANCELADOS: {pct_cancelados:.2f}%')\n",
    "print(f'Percentual de MATRICULADOS: {pct_matriculados:.2f}%')\n",
    "print(f'Percentual de JUBILADOS: {pct_jubilados:.2f}%')\n",
    "print(f'Percentual de TRANSFERIDOS: {pct_transferidos:.2f}%')\n",
    "print(f'Percentual de FALECIDOS: {pct_falecidos:.2f}%')"
   ]
  },
  {
   "cell_type": "markdown",
   "metadata": {},
   "source": [
    "Série temporal - evadidos no decorrer do tempo"
   ]
  },
  {
   "cell_type": "markdown",
   "metadata": {},
   "source": [
    "### TP_DEFIC_INEP"
   ]
  },
  {
   "cell_type": "code",
   "execution_count": 98,
   "metadata": {},
   "outputs": [
    {
     "data": {
      "text/plain": [
       "array(['NNNNNNNN', nan, 'NNNSNNNN', 'NNNNNNNNNNNNN', 'SNNNNNNN',\n",
       "       'SNSSNNNN', 'NNSNNNNN', 'SNSNNNNN', 'SNNNNNNNNNNNN', 'NNSSNNNN',\n",
       "       'NNNNNSNN', 'NNNNNNNNSSNNN', 'SNNSNNNN', 'NNNNNNNNSNNNN',\n",
       "       'SSNNNNNN', 'NSNNNNNN', 'NNSNNNSN', 'SNNNSNNN', 'NNNSNNNNNNNNN',\n",
       "       'NNNNNNSN', 'NNSNNNNNNNNNN', 'NNNNSNNN', 'NNSNNNSNNNNNN',\n",
       "       'SSNNNNNNNNNNN', 'NNNNNNNNSNNSN', 'NNNNSNNNNNNNN', 'NNNNNNNNNNNSN',\n",
       "       'NNNNNNNNNSNNN', 'SNNNNNNNNNNSN', 'NNNNNNNNSSNSN', 'NSNNNNNNNNNNN',\n",
       "       'SNNNSSNN'], dtype=object)"
      ]
     },
     "execution_count": 98,
     "metadata": {},
     "output_type": "execute_result"
    }
   ],
   "source": [
    "df_final['TP_DEFIC_INEP'].unique()"
   ]
  },
  {
   "cell_type": "code",
   "execution_count": 99,
   "metadata": {},
   "outputs": [
    {
     "data": {
      "text/plain": [
       "TP_DEFIC_INEP\n",
       "NNNNNNNN         49921\n",
       "NaN              16099\n",
       "NNNNNNNNNNNNN     4027\n",
       "SNNNNNNN           873\n",
       "NNNSNNNN            77\n",
       "NNSNNNNN            63\n",
       "SNNNNNNNNNNNN       55\n",
       "NNNNNNNNNNNSN       13\n",
       "NNNSNNNNNNNNN       13\n",
       "NNNNSNNN            12\n",
       "SNSNNNNN             9\n",
       "SNNSNNNN             7\n",
       "NNNNNNNNNSNNN        7\n",
       "NNSNNNNNNNNNN        6\n",
       "NNNNNNNNSNNNN        6\n",
       "NSNNNNNN             6\n",
       "NNNNSNNNNNNNN        4\n",
       "NNNNNNNNSSNNN        3\n",
       "SSNNNNNN             3\n",
       "NNSNNNSNNNNNN        2\n",
       "NNSNNNSN             2\n",
       "SNNNSNNN             2\n",
       "NNSSNNNN             2\n",
       "NNNNNNSN             1\n",
       "SSNNNNNNNNNNN        1\n",
       "NNNNNNNNSNNSN        1\n",
       "NNNNNSNN             1\n",
       "SNSSNNNN             1\n",
       "SNNNNNNNNNNSN        1\n",
       "NNNNNNNNSSNSN        1\n",
       "NSNNNNNNNNNNN        1\n",
       "SNNNSSNN             1\n",
       "Name: count, dtype: int64"
      ]
     },
     "execution_count": 99,
     "metadata": {},
     "output_type": "execute_result"
    }
   ],
   "source": [
    "df_final['TP_DEFIC_INEP'].value_counts(dropna=False)"
   ]
  },
  {
   "cell_type": "markdown",
   "metadata": {},
   "source": [
    "Como a maioria não tem deficiência, criar coluna boolrana para tem/não tem"
   ]
  },
  {
   "cell_type": "code",
   "execution_count": 100,
   "metadata": {},
   "outputs": [
    {
     "data": {
      "text/plain": [
       "TP_DEFIC_INEP\n",
       "False    70047\n",
       "True      1174\n",
       "Name: count, dtype: int64"
      ]
     },
     "execution_count": 100,
     "metadata": {},
     "output_type": "execute_result"
    }
   ],
   "source": [
    "df_final['TP_DEFIC_INEP'].fillna('NNNNNNNN').replace({r'[.*S+.*]' : True,\n",
    "                                                      'NNNNNNNN' : False,\n",
    "                                                      'NNNNNNNNNNNNN' : False}, regex=True).value_counts(dropna=False)"
   ]
  },
  {
   "cell_type": "markdown",
   "metadata": {},
   "source": [
    "Validado acima"
   ]
  },
  {
   "cell_type": "code",
   "execution_count": 101,
   "metadata": {},
   "outputs": [],
   "source": [
    "df_final['BOOL_DEFIC_INEP'] = df_final['TP_DEFIC_INEP'].fillna('NNNNNNNN').replace({r'[.*S+.*]' : True,\n",
    "                                                      'NNNNNNNN' : False,\n",
    "                                                      'NNNNNNNNNNNNN' : False}, regex=True)"
   ]
  },
  {
   "cell_type": "code",
   "execution_count": 102,
   "metadata": {},
   "outputs": [
    {
     "data": {
      "text/plain": [
       "BOOL_DEFIC_INEP\n",
       "False    70047\n",
       "True      1174\n",
       "Name: count, dtype: int64"
      ]
     },
     "execution_count": 102,
     "metadata": {},
     "output_type": "execute_result"
    }
   ],
   "source": [
    "df_final['BOOL_DEFIC_INEP'].value_counts(dropna=False) "
   ]
  },
  {
   "cell_type": "markdown",
   "metadata": {},
   "source": [
    "### TP_ESCOLA"
   ]
  },
  {
   "cell_type": "code",
   "execution_count": 103,
   "metadata": {},
   "outputs": [
    {
     "data": {
      "text/plain": [
       "TP_ESCOLA\n",
       "GI     33592\n",
       "P      27342\n",
       "E       4467\n",
       "GP      3392\n",
       "NaN     1154\n",
       "SG       776\n",
       "SP       266\n",
       "F        107\n",
       "EX        91\n",
       "M         34\n",
       "Name: count, dtype: int64"
      ]
     },
     "execution_count": 103,
     "metadata": {},
     "output_type": "execute_result"
    }
   ],
   "source": [
    "df_final['TP_ESCOLA'].value_counts(dropna=False)"
   ]
  },
  {
   "cell_type": "markdown",
   "metadata": {},
   "source": [
    "Os tipos F, E e M não são mais utilizados. Vou agregar todos em uma única categoria 'G'. Quanto aos nulos, não há o que fazer."
   ]
  },
  {
   "cell_type": "code",
   "execution_count": 104,
   "metadata": {},
   "outputs": [],
   "source": [
    "df_final['F_TP_ESCOLA'] = df_final['TP_ESCOLA'].replace({'E' : 'G', 'M' : 'G', 'F' : 'G'})"
   ]
  },
  {
   "cell_type": "code",
   "execution_count": 105,
   "metadata": {},
   "outputs": [
    {
     "data": {
      "text/plain": [
       "F_TP_ESCOLA\n",
       "GI     33592\n",
       "P      27342\n",
       "G       4608\n",
       "GP      3392\n",
       "NaN     1154\n",
       "SG       776\n",
       "SP       266\n",
       "EX        91\n",
       "Name: count, dtype: int64"
      ]
     },
     "execution_count": 105,
     "metadata": {},
     "output_type": "execute_result"
    }
   ],
   "source": [
    "df_final['F_TP_ESCOLA'].value_counts(dropna=False)"
   ]
  },
  {
   "cell_type": "code",
   "execution_count": 106,
   "metadata": {},
   "outputs": [],
   "source": [
    "colunas_a_remover.append('TP_ESCOLA')\t"
   ]
  },
  {
   "cell_type": "markdown",
   "metadata": {},
   "source": [
    "### TP_INGRES_CURSO"
   ]
  },
  {
   "cell_type": "code",
   "execution_count": 107,
   "metadata": {},
   "outputs": [],
   "source": [
    "colunas_a_remover.append('TP_INGRES_CURSO')"
   ]
  },
  {
   "cell_type": "markdown",
   "metadata": {},
   "source": [
    "Provavelmente não será utilizada da forma como está, muitos valores.\n",
    "\n",
    "Agrupá-los de alguma forma. A coluna NU_SEMESTRE2_VEST já é essa agrupada.\n",
    "\n",
    "Valores e grupos de TP_INGRESS_CURSO quando NU_SEMESTRE2_VEST."
   ]
  },
  {
   "cell_type": "markdown",
   "metadata": {},
   "source": [
    "5 - PORTADOR DE DIPLOMA PARA OUTRO CURSO\n",
    "6 - PORTADOR DE DIPLOMA PARA NOVA HABILITACAO\n",
    "32 - NOVA HABILITAÇÃO - CONTINUIDADE\n",
    "\n",
    "7 - CONVENIO CULTURAL\n",
    "\n",
    "3 - TRANSFERENCIA EXTERNA\n",
    "4 - TRANSFERENCIA EX-OFFICIO\n",
    "8 - TRANSFERENCIA INTERNA DE CURSO\n",
    "10 - TRANSFERENCIA DE CAMPUS PARA MESMO CURSO\n",
    "11 - TRANSFERENCIA DE CAMPUS PARA OUTRO CURSO\n",
    "26 - PERMUTA DE CAMPUS\n",
    "53 - TRANSFERENCIA INTERNA INDIGENA\n",
    "56 - TRANSFERENCIA EXTERNA INDIGENA\n",
    "\n",
    "1 - VESTIBULAR\n",
    "12 - PROCESSO SELETIVO\n",
    "16 - VESTIBULAR - 2 CHAMADA EXTRAORDINARIA\n",
    "19 - VESTIBULAR - 5 CHAMADA EXTRAORDINARIA\n",
    "22 - CONCURSO VESTIBULAR - INDIGENA\n",
    "24 - VESTIBULAR - 6 CHAMADA EXTRAORDINARIA\n",
    "29 - VESTIBULAR - 3 CHAMADA\n",
    "\n",
    "27 - MATRICULA SUB-JUDICE"
   ]
  },
  {
   "cell_type": "markdown",
   "metadata": {},
   "source": [
    "### TP_OPCAO_COTAS"
   ]
  },
  {
   "cell_type": "code",
   "execution_count": 108,
   "metadata": {},
   "outputs": [
    {
     "data": {
      "text/plain": [
       "TP_OPCAO_COTAS\n",
       "N      62808\n",
       "S       5862\n",
       "NaN     2277\n",
       "O        127\n",
       "G        126\n",
       "F         21\n",
       "Name: count, dtype: int64"
      ]
     },
     "execution_count": 108,
     "metadata": {},
     "output_type": "execute_result"
    }
   ],
   "source": [
    "df_final['TP_OPCAO_COTAS'].value_counts(dropna=False)"
   ]
  },
  {
   "cell_type": "markdown",
   "metadata": {},
   "source": [
    "Os nulos aqui são não informado. Vou considerar sem cotas, universal"
   ]
  },
  {
   "cell_type": "code",
   "execution_count": 109,
   "metadata": {},
   "outputs": [],
   "source": [
    "df_final['F_TP_OPCAO_COTAS'] = df_final['TP_OPCAO_COTAS'].fillna('N')"
   ]
  },
  {
   "cell_type": "code",
   "execution_count": 110,
   "metadata": {},
   "outputs": [],
   "source": [
    "colunas_a_remover.append('TP_OPCAO_COTAS')"
   ]
  },
  {
   "cell_type": "markdown",
   "metadata": {},
   "source": [
    "Criando uma coluna booleana de cotas"
   ]
  },
  {
   "cell_type": "code",
   "execution_count": 111,
   "metadata": {},
   "outputs": [],
   "source": [
    "df_final['BOOL_COTAS'] = df_final['F_TP_OPCAO_COTAS'].apply(lambda x: 0 if x == 'N' else 1)"
   ]
  },
  {
   "cell_type": "code",
   "execution_count": 112,
   "metadata": {},
   "outputs": [
    {
     "data": {
      "text/plain": [
       "BOOL_COTAS\n",
       "0    65085\n",
       "1     6136\n",
       "Name: count, dtype: int64"
      ]
     },
     "execution_count": 112,
     "metadata": {},
     "output_type": "execute_result"
    }
   ],
   "source": [
    "df_final['BOOL_COTAS'].value_counts(dropna=False)"
   ]
  },
  {
   "cell_type": "markdown",
   "metadata": {},
   "source": [
    "# Colunas"
   ]
  },
  {
   "cell_type": "code",
   "execution_count": 113,
   "metadata": {},
   "outputs": [
    {
     "data": {
      "text/plain": [
       "Index(['ANO_OCORRENCIA', 'CD_ALUNO', 'CD_CURSO', 'CD_ORIGEM_ALUNO', 'CD_TURNO',\n",
       "       'DE_NATURALIDADE', 'DH_MATRICULA', 'DH_SITUACAO', 'DT_ANO_INGRES',\n",
       "       'DT_NASC_ALUNO', 'LT_ESTADO_CIVIL', 'LT_MODALIDADE', 'LT_NACIONALIDADE',\n",
       "       'LT_RACA', 'NM_CIDADE_AULA', 'NM_CIDADE_EST2GRAU', 'NM_CIDADE_FERIAS',\n",
       "       'NM_CIDADE_NASC', 'NM_PAIS_NASC', 'NU_SEMESTRE2_VEST', 'SG_SEXO_ALUNO',\n",
       "       'SG_UF_AULA', 'SG_UF_EST2GRAU', 'SG_UF_FERIAS', 'SG_UF_NASC_ALUNO',\n",
       "       'ST_ALUNO', 'TP_DEFIC_INEP', 'TP_ESCOLA', 'TP_INGRES_CURSO',\n",
       "       'TP_OPCAO_COTAS', 'F_CD_ORIGEM_ALUNO', 'F_DT_NASC_ALUNO',\n",
       "       'F_NM_PAIS_NASC', 'F_NU_SEMESTRE2_VEST', 'F_SG_UF_FERIAS',\n",
       "       'F_SG_UF_NASC_ALUNO', 'BOOL_TRANCADO', 'BOOL_ST_ALUNO',\n",
       "       'MULTI_ST_ALUNO', 'BOOL_DEFIC_INEP', 'F_TP_ESCOLA', 'F_TP_OPCAO_COTAS',\n",
       "       'BOOL_COTAS'],\n",
       "      dtype='object')"
      ]
     },
     "execution_count": 113,
     "metadata": {},
     "output_type": "execute_result"
    }
   ],
   "source": [
    "df_final.columns"
   ]
  },
  {
   "cell_type": "markdown",
   "metadata": {},
   "source": [
    "Idade no ingresso\n",
    "\n",
    "Morar ou não na cidade do campus\n",
    "\n",
    "Ser de outros estado\n",
    "\n"
   ]
  },
  {
   "cell_type": "markdown",
   "metadata": {},
   "source": [
    "# MEDIDAS"
   ]
  },
  {
   "cell_type": "markdown",
   "metadata": {},
   "source": [
    "### Idade na matrícula"
   ]
  },
  {
   "cell_type": "code",
   "execution_count": 114,
   "metadata": {},
   "outputs": [],
   "source": [
    "from datetime import datetime, timedelta"
   ]
  },
  {
   "cell_type": "code",
   "execution_count": 115,
   "metadata": {},
   "outputs": [
    {
     "data": {
      "text/html": [
       "<div>\n",
       "<style scoped>\n",
       "    .dataframe tbody tr th:only-of-type {\n",
       "        vertical-align: middle;\n",
       "    }\n",
       "\n",
       "    .dataframe tbody tr th {\n",
       "        vertical-align: top;\n",
       "    }\n",
       "\n",
       "    .dataframe thead th {\n",
       "        text-align: right;\n",
       "    }\n",
       "</style>\n",
       "<table border=\"1\" class=\"dataframe\">\n",
       "  <thead>\n",
       "    <tr style=\"text-align: right;\">\n",
       "      <th></th>\n",
       "      <th>ANO_OCORRENCIA</th>\n",
       "      <th>CD_ALUNO</th>\n",
       "      <th>CD_CURSO</th>\n",
       "      <th>CD_ORIGEM_ALUNO</th>\n",
       "      <th>CD_TURNO</th>\n",
       "      <th>DE_NATURALIDADE</th>\n",
       "      <th>DH_MATRICULA</th>\n",
       "      <th>DH_SITUACAO</th>\n",
       "      <th>DT_ANO_INGRES</th>\n",
       "      <th>DT_NASC_ALUNO</th>\n",
       "      <th>LT_ESTADO_CIVIL</th>\n",
       "      <th>LT_MODALIDADE</th>\n",
       "      <th>LT_NACIONALIDADE</th>\n",
       "      <th>LT_RACA</th>\n",
       "      <th>NM_CIDADE_AULA</th>\n",
       "      <th>NM_CIDADE_EST2GRAU</th>\n",
       "      <th>NM_CIDADE_FERIAS</th>\n",
       "      <th>NM_CIDADE_NASC</th>\n",
       "      <th>NM_PAIS_NASC</th>\n",
       "      <th>NU_SEMESTRE2_VEST</th>\n",
       "      <th>SG_SEXO_ALUNO</th>\n",
       "      <th>SG_UF_AULA</th>\n",
       "      <th>SG_UF_EST2GRAU</th>\n",
       "      <th>SG_UF_FERIAS</th>\n",
       "      <th>SG_UF_NASC_ALUNO</th>\n",
       "      <th>ST_ALUNO</th>\n",
       "      <th>TP_DEFIC_INEP</th>\n",
       "      <th>TP_ESCOLA</th>\n",
       "      <th>TP_INGRES_CURSO</th>\n",
       "      <th>TP_OPCAO_COTAS</th>\n",
       "      <th>F_CD_ORIGEM_ALUNO</th>\n",
       "      <th>F_DT_NASC_ALUNO</th>\n",
       "      <th>F_NM_PAIS_NASC</th>\n",
       "      <th>F_NU_SEMESTRE2_VEST</th>\n",
       "      <th>F_SG_UF_FERIAS</th>\n",
       "      <th>F_SG_UF_NASC_ALUNO</th>\n",
       "      <th>BOOL_TRANCADO</th>\n",
       "      <th>BOOL_ST_ALUNO</th>\n",
       "      <th>MULTI_ST_ALUNO</th>\n",
       "      <th>BOOL_DEFIC_INEP</th>\n",
       "      <th>F_TP_ESCOLA</th>\n",
       "      <th>F_TP_OPCAO_COTAS</th>\n",
       "      <th>BOOL_COTAS</th>\n",
       "    </tr>\n",
       "  </thead>\n",
       "  <tbody>\n",
       "  </tbody>\n",
       "</table>\n",
       "</div>"
      ],
      "text/plain": [
       "Empty DataFrame\n",
       "Columns: [ANO_OCORRENCIA, CD_ALUNO, CD_CURSO, CD_ORIGEM_ALUNO, CD_TURNO, DE_NATURALIDADE, DH_MATRICULA, DH_SITUACAO, DT_ANO_INGRES, DT_NASC_ALUNO, LT_ESTADO_CIVIL, LT_MODALIDADE, LT_NACIONALIDADE, LT_RACA, NM_CIDADE_AULA, NM_CIDADE_EST2GRAU, NM_CIDADE_FERIAS, NM_CIDADE_NASC, NM_PAIS_NASC, NU_SEMESTRE2_VEST, SG_SEXO_ALUNO, SG_UF_AULA, SG_UF_EST2GRAU, SG_UF_FERIAS, SG_UF_NASC_ALUNO, ST_ALUNO, TP_DEFIC_INEP, TP_ESCOLA, TP_INGRES_CURSO, TP_OPCAO_COTAS, F_CD_ORIGEM_ALUNO, F_DT_NASC_ALUNO, F_NM_PAIS_NASC, F_NU_SEMESTRE2_VEST, F_SG_UF_FERIAS, F_SG_UF_NASC_ALUNO, BOOL_TRANCADO, BOOL_ST_ALUNO, MULTI_ST_ALUNO, BOOL_DEFIC_INEP, F_TP_ESCOLA, F_TP_OPCAO_COTAS, BOOL_COTAS]\n",
       "Index: []"
      ]
     },
     "execution_count": 115,
     "metadata": {},
     "output_type": "execute_result"
    }
   ],
   "source": [
    "df_final[df_final['DH_MATRICULA'].isna()]"
   ]
  },
  {
   "cell_type": "code",
   "execution_count": 116,
   "metadata": {},
   "outputs": [
    {
     "data": {
      "text/html": [
       "<div>\n",
       "<style scoped>\n",
       "    .dataframe tbody tr th:only-of-type {\n",
       "        vertical-align: middle;\n",
       "    }\n",
       "\n",
       "    .dataframe tbody tr th {\n",
       "        vertical-align: top;\n",
       "    }\n",
       "\n",
       "    .dataframe thead th {\n",
       "        text-align: right;\n",
       "    }\n",
       "</style>\n",
       "<table border=\"1\" class=\"dataframe\">\n",
       "  <thead>\n",
       "    <tr style=\"text-align: right;\">\n",
       "      <th></th>\n",
       "      <th>ANO_OCORRENCIA</th>\n",
       "      <th>CD_ALUNO</th>\n",
       "      <th>CD_CURSO</th>\n",
       "      <th>CD_ORIGEM_ALUNO</th>\n",
       "      <th>CD_TURNO</th>\n",
       "      <th>DE_NATURALIDADE</th>\n",
       "      <th>DH_MATRICULA</th>\n",
       "      <th>DH_SITUACAO</th>\n",
       "      <th>DT_ANO_INGRES</th>\n",
       "      <th>DT_NASC_ALUNO</th>\n",
       "      <th>LT_ESTADO_CIVIL</th>\n",
       "      <th>LT_MODALIDADE</th>\n",
       "      <th>LT_NACIONALIDADE</th>\n",
       "      <th>LT_RACA</th>\n",
       "      <th>NM_CIDADE_AULA</th>\n",
       "      <th>NM_CIDADE_EST2GRAU</th>\n",
       "      <th>NM_CIDADE_FERIAS</th>\n",
       "      <th>NM_CIDADE_NASC</th>\n",
       "      <th>NM_PAIS_NASC</th>\n",
       "      <th>NU_SEMESTRE2_VEST</th>\n",
       "      <th>SG_SEXO_ALUNO</th>\n",
       "      <th>SG_UF_AULA</th>\n",
       "      <th>SG_UF_EST2GRAU</th>\n",
       "      <th>SG_UF_FERIAS</th>\n",
       "      <th>SG_UF_NASC_ALUNO</th>\n",
       "      <th>ST_ALUNO</th>\n",
       "      <th>TP_DEFIC_INEP</th>\n",
       "      <th>TP_ESCOLA</th>\n",
       "      <th>TP_INGRES_CURSO</th>\n",
       "      <th>TP_OPCAO_COTAS</th>\n",
       "      <th>F_CD_ORIGEM_ALUNO</th>\n",
       "      <th>F_DT_NASC_ALUNO</th>\n",
       "      <th>F_NM_PAIS_NASC</th>\n",
       "      <th>F_NU_SEMESTRE2_VEST</th>\n",
       "      <th>F_SG_UF_FERIAS</th>\n",
       "      <th>F_SG_UF_NASC_ALUNO</th>\n",
       "      <th>BOOL_TRANCADO</th>\n",
       "      <th>BOOL_ST_ALUNO</th>\n",
       "      <th>MULTI_ST_ALUNO</th>\n",
       "      <th>BOOL_DEFIC_INEP</th>\n",
       "      <th>F_TP_ESCOLA</th>\n",
       "      <th>F_TP_OPCAO_COTAS</th>\n",
       "      <th>BOOL_COTAS</th>\n",
       "    </tr>\n",
       "  </thead>\n",
       "  <tbody>\n",
       "  </tbody>\n",
       "</table>\n",
       "</div>"
      ],
      "text/plain": [
       "Empty DataFrame\n",
       "Columns: [ANO_OCORRENCIA, CD_ALUNO, CD_CURSO, CD_ORIGEM_ALUNO, CD_TURNO, DE_NATURALIDADE, DH_MATRICULA, DH_SITUACAO, DT_ANO_INGRES, DT_NASC_ALUNO, LT_ESTADO_CIVIL, LT_MODALIDADE, LT_NACIONALIDADE, LT_RACA, NM_CIDADE_AULA, NM_CIDADE_EST2GRAU, NM_CIDADE_FERIAS, NM_CIDADE_NASC, NM_PAIS_NASC, NU_SEMESTRE2_VEST, SG_SEXO_ALUNO, SG_UF_AULA, SG_UF_EST2GRAU, SG_UF_FERIAS, SG_UF_NASC_ALUNO, ST_ALUNO, TP_DEFIC_INEP, TP_ESCOLA, TP_INGRES_CURSO, TP_OPCAO_COTAS, F_CD_ORIGEM_ALUNO, F_DT_NASC_ALUNO, F_NM_PAIS_NASC, F_NU_SEMESTRE2_VEST, F_SG_UF_FERIAS, F_SG_UF_NASC_ALUNO, BOOL_TRANCADO, BOOL_ST_ALUNO, MULTI_ST_ALUNO, BOOL_DEFIC_INEP, F_TP_ESCOLA, F_TP_OPCAO_COTAS, BOOL_COTAS]\n",
       "Index: []"
      ]
     },
     "execution_count": 116,
     "metadata": {},
     "output_type": "execute_result"
    }
   ],
   "source": [
    "df_final[df_final['DT_NASC_ALUNO'].isna()]"
   ]
  },
  {
   "cell_type": "code",
   "execution_count": 117,
   "metadata": {},
   "outputs": [
    {
     "data": {
      "text/plain": [
       "0        1974-07-08\n",
       "1        1971-02-08\n",
       "2        1971-07-12\n",
       "3        1974-05-25\n",
       "4        1966-07-27\n",
       "            ...    \n",
       "71216    1972-10-16\n",
       "71217    1981-01-16\n",
       "71218    2001-07-15\n",
       "71219    1999-12-13\n",
       "71220    2000-03-04\n",
       "Name: DT_NASC_ALUNO, Length: 71221, dtype: object"
      ]
     },
     "execution_count": 117,
     "metadata": {},
     "output_type": "execute_result"
    }
   ],
   "source": [
    "df_final['DT_NASC_ALUNO']"
   ]
  },
  {
   "cell_type": "code",
   "execution_count": 118,
   "metadata": {},
   "outputs": [],
   "source": [
    "diff = pd.to_datetime(df_final['DH_MATRICULA'], errors='coerce') - pd.to_datetime(df_final['DT_NASC_ALUNO'], errors='coerce')\n",
    "\n",
    "def a(linha):\n",
    "    if pd.isna(linha):\n",
    "        return np.nan\n",
    "\n",
    "    return np.floor(linha.days / 365)\n",
    "\n",
    "df_final['IDADE_MATRICULA'] = diff.apply(a)"
   ]
  },
  {
   "cell_type": "code",
   "execution_count": 119,
   "metadata": {},
   "outputs": [
    {
     "data": {
      "text/plain": [
       "55"
      ]
     },
     "execution_count": 119,
     "metadata": {},
     "output_type": "execute_result"
    }
   ],
   "source": [
    "df_final['IDADE_MATRICULA'].nunique()"
   ]
  },
  {
   "cell_type": "code",
   "execution_count": 120,
   "metadata": {},
   "outputs": [
    {
     "data": {
      "text/plain": [
       "IDADE_MATRICULA\n",
       " 17.0     20202\n",
       " 18.0     17580\n",
       " 19.0      9668\n",
       " 20.0      5449\n",
       " 21.0      3514\n",
       " 22.0      2694\n",
       " 23.0      2024\n",
       " 24.0      1573\n",
       " 25.0      1157\n",
       " 26.0       976\n",
       " 16.0       968\n",
       " 27.0       841\n",
       " 28.0       648\n",
       " 29.0       539\n",
       " 30.0       418\n",
       " 31.0       354\n",
       " 32.0       290\n",
       " 33.0       265\n",
       " 34.0       219\n",
       " 35.0       214\n",
       " 36.0       195\n",
       " 37.0       174\n",
       " 38.0       146\n",
       " 39.0       128\n",
       " 40.0       110\n",
       " 41.0       107\n",
       " 43.0        87\n",
       " 42.0        85\n",
       " 44.0        67\n",
       " NaN         64\n",
       " 45.0        63\n",
       " 47.0        60\n",
       " 46.0        51\n",
       " 49.0        42\n",
       " 48.0        42\n",
       " 50.0        38\n",
       " 51.0        33\n",
       " 52.0        25\n",
       " 53.0        22\n",
       " 55.0        17\n",
       " 57.0        14\n",
       " 54.0        13\n",
       " 56.0        12\n",
       " 58.0         8\n",
       " 59.0         4\n",
       " 60.0         4\n",
       " 61.0         4\n",
       " 63.0         3\n",
       " 15.0         2\n",
       " 62.0         2\n",
       " 14.0         1\n",
       " 105.0        1\n",
       " 66.0         1\n",
       " 65.0         1\n",
       " 0.0          1\n",
       "-1.0          1\n",
       "Name: count, dtype: int64"
      ]
     },
     "execution_count": 120,
     "metadata": {},
     "output_type": "execute_result"
    }
   ],
   "source": [
    "df_final['IDADE_MATRICULA'].value_counts(dropna=False)"
   ]
  },
  {
   "cell_type": "code",
   "execution_count": 121,
   "metadata": {},
   "outputs": [
    {
     "data": {
      "text/html": [
       "<div>\n",
       "<style scoped>\n",
       "    .dataframe tbody tr th:only-of-type {\n",
       "        vertical-align: middle;\n",
       "    }\n",
       "\n",
       "    .dataframe tbody tr th {\n",
       "        vertical-align: top;\n",
       "    }\n",
       "\n",
       "    .dataframe thead th {\n",
       "        text-align: right;\n",
       "    }\n",
       "</style>\n",
       "<table border=\"1\" class=\"dataframe\">\n",
       "  <thead>\n",
       "    <tr style=\"text-align: right;\">\n",
       "      <th></th>\n",
       "      <th>DT_NASC_ALUNO</th>\n",
       "      <th>DH_MATRICULA</th>\n",
       "      <th>IDADE_MATRICULA</th>\n",
       "    </tr>\n",
       "  </thead>\n",
       "  <tbody>\n",
       "    <tr>\n",
       "      <th>921</th>\n",
       "      <td>1988-01-12</td>\n",
       "      <td>2002-02-01</td>\n",
       "      <td>14.0</td>\n",
       "    </tr>\n",
       "    <tr>\n",
       "      <th>13313</th>\n",
       "      <td>1900-01-01</td>\n",
       "      <td>2005-02-01</td>\n",
       "      <td>105.0</td>\n",
       "    </tr>\n",
       "    <tr>\n",
       "      <th>26308</th>\n",
       "      <td>1992-08-17</td>\n",
       "      <td>2008-08-04</td>\n",
       "      <td>15.0</td>\n",
       "    </tr>\n",
       "    <tr>\n",
       "      <th>35574</th>\n",
       "      <td>1995-01-21</td>\n",
       "      <td>2011-01-16</td>\n",
       "      <td>15.0</td>\n",
       "    </tr>\n",
       "    <tr>\n",
       "      <th>69749</th>\n",
       "      <td>2021-09-30</td>\n",
       "      <td>2022-04-26</td>\n",
       "      <td>0.0</td>\n",
       "    </tr>\n",
       "    <tr>\n",
       "      <th>70952</th>\n",
       "      <td>2022-09-22</td>\n",
       "      <td>2022-08-01</td>\n",
       "      <td>-1.0</td>\n",
       "    </tr>\n",
       "  </tbody>\n",
       "</table>\n",
       "</div>"
      ],
      "text/plain": [
       "      DT_NASC_ALUNO DH_MATRICULA  IDADE_MATRICULA\n",
       "921      1988-01-12   2002-02-01             14.0\n",
       "13313    1900-01-01   2005-02-01            105.0\n",
       "26308    1992-08-17   2008-08-04             15.0\n",
       "35574    1995-01-21   2011-01-16             15.0\n",
       "69749    2021-09-30   2022-04-26              0.0\n",
       "70952    2022-09-22   2022-08-01             -1.0"
      ]
     },
     "execution_count": 121,
     "metadata": {},
     "output_type": "execute_result"
    }
   ],
   "source": [
    "df_final[(df_final['IDADE_MATRICULA'] < 16) | (df_final['IDADE_MATRICULA'] > 70)][['DT_NASC_ALUNO', 'DH_MATRICULA', 'IDADE_MATRICULA']]"
   ]
  },
  {
   "cell_type": "code",
   "execution_count": 122,
   "metadata": {},
   "outputs": [
    {
     "data": {
      "text/html": [
       "<div>\n",
       "<style scoped>\n",
       "    .dataframe tbody tr th:only-of-type {\n",
       "        vertical-align: middle;\n",
       "    }\n",
       "\n",
       "    .dataframe tbody tr th {\n",
       "        vertical-align: top;\n",
       "    }\n",
       "\n",
       "    .dataframe thead th {\n",
       "        text-align: right;\n",
       "    }\n",
       "</style>\n",
       "<table border=\"1\" class=\"dataframe\">\n",
       "  <thead>\n",
       "    <tr style=\"text-align: right;\">\n",
       "      <th></th>\n",
       "      <th>DT_NASC_ALUNO</th>\n",
       "      <th>DH_MATRICULA</th>\n",
       "      <th>IDADE_MATRICULA</th>\n",
       "    </tr>\n",
       "  </thead>\n",
       "  <tbody>\n",
       "    <tr>\n",
       "      <th>3328</th>\n",
       "      <td>0001-01-01</td>\n",
       "      <td>2002-02-01</td>\n",
       "      <td>NaN</td>\n",
       "    </tr>\n",
       "    <tr>\n",
       "      <th>3337</th>\n",
       "      <td>0001-01-01</td>\n",
       "      <td>2002-02-01</td>\n",
       "      <td>NaN</td>\n",
       "    </tr>\n",
       "    <tr>\n",
       "      <th>3338</th>\n",
       "      <td>0001-01-01</td>\n",
       "      <td>2003-02-01</td>\n",
       "      <td>NaN</td>\n",
       "    </tr>\n",
       "    <tr>\n",
       "      <th>3340</th>\n",
       "      <td>0001-01-01</td>\n",
       "      <td>2002-02-01</td>\n",
       "      <td>NaN</td>\n",
       "    </tr>\n",
       "    <tr>\n",
       "      <th>3355</th>\n",
       "      <td>0001-01-01</td>\n",
       "      <td>2002-02-01</td>\n",
       "      <td>NaN</td>\n",
       "    </tr>\n",
       "    <tr>\n",
       "      <th>...</th>\n",
       "      <td>...</td>\n",
       "      <td>...</td>\n",
       "      <td>...</td>\n",
       "    </tr>\n",
       "    <tr>\n",
       "      <th>68223</th>\n",
       "      <td>1192-02-10</td>\n",
       "      <td>2021-08-25</td>\n",
       "      <td>NaN</td>\n",
       "    </tr>\n",
       "    <tr>\n",
       "      <th>68440</th>\n",
       "      <td>0001-01-01</td>\n",
       "      <td>2021-07-23</td>\n",
       "      <td>NaN</td>\n",
       "    </tr>\n",
       "    <tr>\n",
       "      <th>68501</th>\n",
       "      <td>0001-01-01</td>\n",
       "      <td>2021-09-20</td>\n",
       "      <td>NaN</td>\n",
       "    </tr>\n",
       "    <tr>\n",
       "      <th>68502</th>\n",
       "      <td>0001-01-01</td>\n",
       "      <td>2021-09-21</td>\n",
       "      <td>NaN</td>\n",
       "    </tr>\n",
       "    <tr>\n",
       "      <th>70492</th>\n",
       "      <td>0200-05-08</td>\n",
       "      <td>2022-08-11</td>\n",
       "      <td>NaN</td>\n",
       "    </tr>\n",
       "  </tbody>\n",
       "</table>\n",
       "<p>64 rows × 3 columns</p>\n",
       "</div>"
      ],
      "text/plain": [
       "      DT_NASC_ALUNO DH_MATRICULA  IDADE_MATRICULA\n",
       "3328     0001-01-01   2002-02-01              NaN\n",
       "3337     0001-01-01   2002-02-01              NaN\n",
       "3338     0001-01-01   2003-02-01              NaN\n",
       "3340     0001-01-01   2002-02-01              NaN\n",
       "3355     0001-01-01   2002-02-01              NaN\n",
       "...             ...          ...              ...\n",
       "68223    1192-02-10   2021-08-25              NaN\n",
       "68440    0001-01-01   2021-07-23              NaN\n",
       "68501    0001-01-01   2021-09-20              NaN\n",
       "68502    0001-01-01   2021-09-21              NaN\n",
       "70492    0200-05-08   2022-08-11              NaN\n",
       "\n",
       "[64 rows x 3 columns]"
      ]
     },
     "execution_count": 122,
     "metadata": {},
     "output_type": "execute_result"
    }
   ],
   "source": [
    "df_final[pd.isna(df_final['IDADE_MATRICULA'])][['DT_NASC_ALUNO', 'DH_MATRICULA', 'IDADE_MATRICULA']]"
   ]
  },
  {
   "cell_type": "markdown",
   "metadata": {},
   "source": [
    "Definir faixa etária"
   ]
  },
  {
   "cell_type": "markdown",
   "metadata": {},
   "source": [
    "### Ano de nascimento"
   ]
  },
  {
   "cell_type": "code",
   "execution_count": 123,
   "metadata": {},
   "outputs": [],
   "source": [
    "df_final['ANO_NASCIMENTO'] = df_final['DT_NASC_ALUNO'].apply(lambda x: datetime.strptime(x, '%Y-%m-%d').year)"
   ]
  },
  {
   "cell_type": "code",
   "execution_count": 124,
   "metadata": {},
   "outputs": [
    {
     "data": {
      "text/plain": [
       "70"
      ]
     },
     "execution_count": 124,
     "metadata": {},
     "output_type": "execute_result"
    }
   ],
   "source": [
    "df_final['ANO_NASCIMENTO'].nunique(dropna=False)"
   ]
  },
  {
   "cell_type": "code",
   "execution_count": 125,
   "metadata": {},
   "outputs": [
    {
     "data": {
      "text/plain": [
       "ANO_NASCIMENTO\n",
       "1990    3946\n",
       "1991    3599\n",
       "1989    3545\n",
       "1988    3493\n",
       "1992    3178\n",
       "        ... \n",
       "1900       1\n",
       "1943       1\n",
       "1942       1\n",
       "1944       1\n",
       "2022       1\n",
       "Name: count, Length: 70, dtype: int64"
      ]
     },
     "execution_count": 125,
     "metadata": {},
     "output_type": "execute_result"
    }
   ],
   "source": [
    "df_final['ANO_NASCIMENTO'].value_counts(dropna=False)"
   ]
  },
  {
   "cell_type": "code",
   "execution_count": 126,
   "metadata": {},
   "outputs": [
    {
     "data": {
      "text/html": [
       "<div>\n",
       "<style scoped>\n",
       "    .dataframe tbody tr th:only-of-type {\n",
       "        vertical-align: middle;\n",
       "    }\n",
       "\n",
       "    .dataframe tbody tr th {\n",
       "        vertical-align: top;\n",
       "    }\n",
       "\n",
       "    .dataframe thead th {\n",
       "        text-align: right;\n",
       "    }\n",
       "</style>\n",
       "<table border=\"1\" class=\"dataframe\">\n",
       "  <thead>\n",
       "    <tr style=\"text-align: right;\">\n",
       "      <th></th>\n",
       "      <th>DT_NASC_ALUNO</th>\n",
       "      <th>DH_MATRICULA</th>\n",
       "      <th>ANO_NASCIMENTO</th>\n",
       "    </tr>\n",
       "  </thead>\n",
       "  <tbody>\n",
       "  </tbody>\n",
       "</table>\n",
       "</div>"
      ],
      "text/plain": [
       "Empty DataFrame\n",
       "Columns: [DT_NASC_ALUNO, DH_MATRICULA, ANO_NASCIMENTO]\n",
       "Index: []"
      ]
     },
     "execution_count": 126,
     "metadata": {},
     "output_type": "execute_result"
    }
   ],
   "source": [
    "df_final[pd.isna(df_final['ANO_NASCIMENTO'])][['DT_NASC_ALUNO', 'DH_MATRICULA', 'ANO_NASCIMENTO']]"
   ]
  },
  {
   "cell_type": "markdown",
   "metadata": {},
   "source": [
    "### Curso é ou não no campus sede"
   ]
  },
  {
   "cell_type": "code",
   "execution_count": 127,
   "metadata": {},
   "outputs": [],
   "source": [
    "df_cursos['BOOL_SEDE'] = df_cursos.apply(lambda x: True if x['NM_CAMPUS'] == 'MARINGA' else False, axis=1)"
   ]
  },
  {
   "cell_type": "markdown",
   "metadata": {},
   "source": [
    "### Tempo cursado até última situação (em meses)"
   ]
  },
  {
   "cell_type": "code",
   "execution_count": 128,
   "metadata": {},
   "outputs": [
    {
     "data": {
      "text/plain": [
       "0        228 days\n",
       "1        425 days\n",
       "2       1466 days\n",
       "3        533 days\n",
       "4       1825 days\n",
       "           ...   \n",
       "71216    355 days\n",
       "71217      0 days\n",
       "71218      0 days\n",
       "71219      0 days\n",
       "71220      0 days\n",
       "Length: 71221, dtype: timedelta64[ns]"
      ]
     },
     "execution_count": 128,
     "metadata": {},
     "output_type": "execute_result"
    }
   ],
   "source": [
    "diff = pd.to_datetime(df_final['DH_SITUACAO'], errors='coerce') - pd.to_datetime(df_final['DH_MATRICULA'], errors='coerce')\n",
    "diff "
   ]
  },
  {
   "cell_type": "code",
   "execution_count": 129,
   "metadata": {},
   "outputs": [],
   "source": [
    "def to_meses(linha):\n",
    "    if pd.isna(linha):\n",
    "        return np.nan\n",
    "\n",
    "    return linha.days / 30"
   ]
  },
  {
   "cell_type": "code",
   "execution_count": 130,
   "metadata": {},
   "outputs": [],
   "source": [
    "df_final['MESES_ATE_ULTIMA_SITUACAO'] = diff.apply(to_meses)"
   ]
  },
  {
   "cell_type": "code",
   "execution_count": 131,
   "metadata": {},
   "outputs": [
    {
     "data": {
      "text/plain": [
       "MESES_ATE_ULTIMA_SITUACAO\n",
       "0.000000      12601\n",
       "0.133333        740\n",
       "59.533333       645\n",
       "60.466667       619\n",
       "47.366667       541\n",
       "              ...  \n",
       "127.266667        1\n",
       "112.766667        1\n",
       "103.733333        1\n",
       "98.233333         1\n",
       "8.800000          1\n",
       "Name: count, Length: 3375, dtype: int64"
      ]
     },
     "execution_count": 131,
     "metadata": {},
     "output_type": "execute_result"
    }
   ],
   "source": [
    "df_final['MESES_ATE_ULTIMA_SITUACAO'].value_counts(dropna=False)"
   ]
  },
  {
   "cell_type": "markdown",
   "metadata": {},
   "source": [
    "### CD_ORIGEM_ALUNO"
   ]
  },
  {
   "cell_type": "code",
   "execution_count": 132,
   "metadata": {},
   "outputs": [
    {
     "data": {
      "text/html": [
       "<div>\n",
       "<style scoped>\n",
       "    .dataframe tbody tr th:only-of-type {\n",
       "        vertical-align: middle;\n",
       "    }\n",
       "\n",
       "    .dataframe tbody tr th {\n",
       "        vertical-align: top;\n",
       "    }\n",
       "\n",
       "    .dataframe thead th {\n",
       "        text-align: right;\n",
       "    }\n",
       "</style>\n",
       "<table border=\"1\" class=\"dataframe\">\n",
       "  <thead>\n",
       "    <tr style=\"text-align: right;\">\n",
       "      <th></th>\n",
       "      <th>NM_CIDADE_NASC</th>\n",
       "      <th>NM_CIDADE_FERIAS</th>\n",
       "      <th>NM_CIDADE_AULA</th>\n",
       "      <th>NM_CIDADE_EST2GRAU</th>\n",
       "    </tr>\n",
       "  </thead>\n",
       "  <tbody>\n",
       "    <tr>\n",
       "      <th>0</th>\n",
       "      <td>MARINGA</td>\n",
       "      <td>MARINGA</td>\n",
       "      <td>MARINGA</td>\n",
       "      <td>MARINGA</td>\n",
       "    </tr>\n",
       "    <tr>\n",
       "      <th>2</th>\n",
       "      <td>MARINGA</td>\n",
       "      <td>MARINGA</td>\n",
       "      <td>MARINGA</td>\n",
       "      <td>MARINGA</td>\n",
       "    </tr>\n",
       "    <tr>\n",
       "      <th>6</th>\n",
       "      <td>MARINGA</td>\n",
       "      <td>ITAMBE</td>\n",
       "      <td>MARINGA</td>\n",
       "      <td>NaN</td>\n",
       "    </tr>\n",
       "    <tr>\n",
       "      <th>11</th>\n",
       "      <td>MARINGA</td>\n",
       "      <td>MARINGA</td>\n",
       "      <td>MARINGA</td>\n",
       "      <td>MARINGA</td>\n",
       "    </tr>\n",
       "    <tr>\n",
       "      <th>12</th>\n",
       "      <td>MARINGA</td>\n",
       "      <td>MARINGA</td>\n",
       "      <td>MARINGA</td>\n",
       "      <td>MARINGA</td>\n",
       "    </tr>\n",
       "    <tr>\n",
       "      <th>...</th>\n",
       "      <td>...</td>\n",
       "      <td>...</td>\n",
       "      <td>...</td>\n",
       "      <td>...</td>\n",
       "    </tr>\n",
       "    <tr>\n",
       "      <th>71111</th>\n",
       "      <td>MARINGA</td>\n",
       "      <td>MARINGA</td>\n",
       "      <td>MARINGA</td>\n",
       "      <td>SARANDI</td>\n",
       "    </tr>\n",
       "    <tr>\n",
       "      <th>71115</th>\n",
       "      <td>UBATUBA</td>\n",
       "      <td>CIANORTE</td>\n",
       "      <td>CIANORTE</td>\n",
       "      <td>UBATUBA</td>\n",
       "    </tr>\n",
       "    <tr>\n",
       "      <th>71139</th>\n",
       "      <td>UMUARAMA</td>\n",
       "      <td>UMUARAMA</td>\n",
       "      <td>UMUARAMA</td>\n",
       "      <td>UMUARAMA</td>\n",
       "    </tr>\n",
       "    <tr>\n",
       "      <th>71170</th>\n",
       "      <td>UMUARAMA</td>\n",
       "      <td>UMUARAMA</td>\n",
       "      <td>UMUARAMA</td>\n",
       "      <td>ALTO PIQUIRI</td>\n",
       "    </tr>\n",
       "    <tr>\n",
       "      <th>71179</th>\n",
       "      <td>MARINGA</td>\n",
       "      <td>MARINGA</td>\n",
       "      <td>MARINGA</td>\n",
       "      <td>MARINGA</td>\n",
       "    </tr>\n",
       "  </tbody>\n",
       "</table>\n",
       "<p>27404 rows × 4 columns</p>\n",
       "</div>"
      ],
      "text/plain": [
       "      NM_CIDADE_NASC NM_CIDADE_FERIAS NM_CIDADE_AULA NM_CIDADE_EST2GRAU\n",
       "0            MARINGA          MARINGA        MARINGA            MARINGA\n",
       "2            MARINGA          MARINGA        MARINGA            MARINGA\n",
       "6            MARINGA           ITAMBE        MARINGA                NaN\n",
       "11           MARINGA          MARINGA        MARINGA            MARINGA\n",
       "12           MARINGA          MARINGA        MARINGA            MARINGA\n",
       "...              ...              ...            ...                ...\n",
       "71111        MARINGA          MARINGA        MARINGA            SARANDI\n",
       "71115        UBATUBA         CIANORTE       CIANORTE            UBATUBA\n",
       "71139       UMUARAMA         UMUARAMA       UMUARAMA           UMUARAMA\n",
       "71170       UMUARAMA         UMUARAMA       UMUARAMA       ALTO PIQUIRI\n",
       "71179        MARINGA          MARINGA        MARINGA            MARINGA\n",
       "\n",
       "[27404 rows x 4 columns]"
      ]
     },
     "execution_count": 132,
     "metadata": {},
     "output_type": "execute_result"
    }
   ],
   "source": [
    "cidades_origem_maringa = df_final[df_final['CD_ORIGEM_ALUNO'] == 1][['NM_CIDADE_NASC', 'NM_CIDADE_FERIAS', 'NM_CIDADE_AULA', 'NM_CIDADE_EST2GRAU']]\n",
    "cidades_origem_maringa"
   ]
  },
  {
   "cell_type": "markdown",
   "metadata": {},
   "source": [
    "A ideia era pegar esse campo (CD_ORIGEM_ALUNO) e verificar quais são as cidades que ele considera na região de Maringá para criar este campo para NM_CIDADE_NASC e NM_CIDADE_FERIAS. Porém, ao filtrarmos esse campo para Maringá, vemos entradas que em nenhum dos campos de cidade consta Maringá...\n",
    "\n",
    "O que ele considera como ORIGEM? Queria responder isso também\n",
    "\n",
    "Ideias\n",
    "* Passa as férias na cidade de seu campus? (Usar NM_CIDADE_FERIAS, já que NM_CIDADE_AULA não é útil)\n",
    "* Aluno nasceu no PR, SP, Outros Estados ou Exterior (SG_UF_NASC_ALUNO)\n",
    "* Da para fazer um igual ao de cima para SG_UF_FERIAS"
   ]
  },
  {
   "cell_type": "markdown",
   "metadata": {},
   "source": [
    "### LOCAL_FERIAS e LOCAL_NASCIMENTO"
   ]
  },
  {
   "cell_type": "markdown",
   "metadata": {},
   "source": [
    "Merge com o df dos cursos para ver o campus"
   ]
  },
  {
   "cell_type": "code",
   "execution_count": 133,
   "metadata": {},
   "outputs": [
    {
     "data": {
      "text/html": [
       "<div>\n",
       "<style scoped>\n",
       "    .dataframe tbody tr th:only-of-type {\n",
       "        vertical-align: middle;\n",
       "    }\n",
       "\n",
       "    .dataframe tbody tr th {\n",
       "        vertical-align: top;\n",
       "    }\n",
       "\n",
       "    .dataframe thead th {\n",
       "        text-align: right;\n",
       "    }\n",
       "</style>\n",
       "<table border=\"1\" class=\"dataframe\">\n",
       "  <thead>\n",
       "    <tr style=\"text-align: right;\">\n",
       "      <th></th>\n",
       "      <th>ANO_OCORRENCIA</th>\n",
       "      <th>CD_ALUNO</th>\n",
       "      <th>CD_CURSO</th>\n",
       "      <th>CD_ORIGEM_ALUNO</th>\n",
       "      <th>CD_TURNO</th>\n",
       "      <th>DE_NATURALIDADE</th>\n",
       "      <th>DH_MATRICULA</th>\n",
       "      <th>DH_SITUACAO</th>\n",
       "      <th>DT_ANO_INGRES</th>\n",
       "      <th>DT_NASC_ALUNO</th>\n",
       "      <th>LT_ESTADO_CIVIL</th>\n",
       "      <th>LT_MODALIDADE</th>\n",
       "      <th>LT_NACIONALIDADE</th>\n",
       "      <th>LT_RACA</th>\n",
       "      <th>NM_CIDADE_AULA</th>\n",
       "      <th>NM_CIDADE_EST2GRAU</th>\n",
       "      <th>NM_CIDADE_FERIAS</th>\n",
       "      <th>NM_CIDADE_NASC</th>\n",
       "      <th>NM_PAIS_NASC</th>\n",
       "      <th>NU_SEMESTRE2_VEST</th>\n",
       "      <th>SG_SEXO_ALUNO</th>\n",
       "      <th>SG_UF_AULA</th>\n",
       "      <th>SG_UF_EST2GRAU</th>\n",
       "      <th>SG_UF_FERIAS</th>\n",
       "      <th>SG_UF_NASC_ALUNO</th>\n",
       "      <th>ST_ALUNO</th>\n",
       "      <th>TP_DEFIC_INEP</th>\n",
       "      <th>TP_ESCOLA</th>\n",
       "      <th>TP_INGRES_CURSO</th>\n",
       "      <th>TP_OPCAO_COTAS</th>\n",
       "      <th>F_CD_ORIGEM_ALUNO</th>\n",
       "      <th>F_DT_NASC_ALUNO</th>\n",
       "      <th>F_NM_PAIS_NASC</th>\n",
       "      <th>F_NU_SEMESTRE2_VEST</th>\n",
       "      <th>F_SG_UF_FERIAS</th>\n",
       "      <th>F_SG_UF_NASC_ALUNO</th>\n",
       "      <th>BOOL_TRANCADO</th>\n",
       "      <th>BOOL_ST_ALUNO</th>\n",
       "      <th>MULTI_ST_ALUNO</th>\n",
       "      <th>BOOL_DEFIC_INEP</th>\n",
       "      <th>F_TP_ESCOLA</th>\n",
       "      <th>F_TP_OPCAO_COTAS</th>\n",
       "      <th>BOOL_COTAS</th>\n",
       "      <th>IDADE_MATRICULA</th>\n",
       "      <th>ANO_NASCIMENTO</th>\n",
       "      <th>MESES_ATE_ULTIMA_SITUACAO</th>\n",
       "      <th>NM_CURSO</th>\n",
       "      <th>TP_HABILITACAO</th>\n",
       "      <th>SG_CENTRO</th>\n",
       "      <th>NM_CAMPUS</th>\n",
       "      <th>MAX_ANOS</th>\n",
       "      <th>BOOL_SEDE</th>\n",
       "    </tr>\n",
       "  </thead>\n",
       "  <tbody>\n",
       "    <tr>\n",
       "      <th>0</th>\n",
       "      <td>2014</td>\n",
       "      <td>145457572</td>\n",
       "      <td>3</td>\n",
       "      <td>1</td>\n",
       "      <td>N</td>\n",
       "      <td>BRASILEIRO</td>\n",
       "      <td>2014-01-10</td>\n",
       "      <td>2014-08-26</td>\n",
       "      <td>2014</td>\n",
       "      <td>1974-07-08</td>\n",
       "      <td>1.0</td>\n",
       "      <td>P</td>\n",
       "      <td>B</td>\n",
       "      <td>4</td>\n",
       "      <td>MARINGA</td>\n",
       "      <td>MARINGA</td>\n",
       "      <td>MARINGA</td>\n",
       "      <td>MARINGA</td>\n",
       "      <td>BRASIL</td>\n",
       "      <td>I</td>\n",
       "      <td>M</td>\n",
       "      <td>PR</td>\n",
       "      <td>PR</td>\n",
       "      <td>PR</td>\n",
       "      <td>PR</td>\n",
       "      <td>2</td>\n",
       "      <td>NNNNNNNN</td>\n",
       "      <td>GI</td>\n",
       "      <td>1</td>\n",
       "      <td>N</td>\n",
       "      <td>1</td>\n",
       "      <td>1974</td>\n",
       "      <td>BRASIL</td>\n",
       "      <td>I</td>\n",
       "      <td>PR</td>\n",
       "      <td>PR</td>\n",
       "      <td>0</td>\n",
       "      <td>1.0</td>\n",
       "      <td>CANCELAMENTO</td>\n",
       "      <td>False</td>\n",
       "      <td>GI</td>\n",
       "      <td>N</td>\n",
       "      <td>0</td>\n",
       "      <td>39.0</td>\n",
       "      <td>1974</td>\n",
       "      <td>7.600000</td>\n",
       "      <td>Letras</td>\n",
       "      <td>LICENCIATURA</td>\n",
       "      <td>CCH</td>\n",
       "      <td>MARINGA</td>\n",
       "      <td>8</td>\n",
       "      <td>True</td>\n",
       "    </tr>\n",
       "    <tr>\n",
       "      <th>1</th>\n",
       "      <td>2015</td>\n",
       "      <td>125569920</td>\n",
       "      <td>15</td>\n",
       "      <td>0</td>\n",
       "      <td>N</td>\n",
       "      <td>BRASILEIRO</td>\n",
       "      <td>2015-01-24</td>\n",
       "      <td>2016-03-24</td>\n",
       "      <td>2015</td>\n",
       "      <td>1971-02-08</td>\n",
       "      <td>2.0</td>\n",
       "      <td>P</td>\n",
       "      <td>B</td>\n",
       "      <td>2</td>\n",
       "      <td>MARINGA</td>\n",
       "      <td>NaN</td>\n",
       "      <td>NaN</td>\n",
       "      <td>MANDAGUARI</td>\n",
       "      <td>BRASIL</td>\n",
       "      <td>NaN</td>\n",
       "      <td>M</td>\n",
       "      <td>PR</td>\n",
       "      <td>NaN</td>\n",
       "      <td>NaN</td>\n",
       "      <td>PR</td>\n",
       "      <td>7</td>\n",
       "      <td>NNNNNNNN</td>\n",
       "      <td>NaN</td>\n",
       "      <td>6</td>\n",
       "      <td>NaN</td>\n",
       "      <td>0</td>\n",
       "      <td>1971</td>\n",
       "      <td>BRASIL</td>\n",
       "      <td>P</td>\n",
       "      <td>NaN</td>\n",
       "      <td>PR</td>\n",
       "      <td>0</td>\n",
       "      <td>0.0</td>\n",
       "      <td>FORMADO</td>\n",
       "      <td>False</td>\n",
       "      <td>NaN</td>\n",
       "      <td>N</td>\n",
       "      <td>0</td>\n",
       "      <td>43.0</td>\n",
       "      <td>1971</td>\n",
       "      <td>14.166667</td>\n",
       "      <td>Física</td>\n",
       "      <td>AMBOS</td>\n",
       "      <td>CCE</td>\n",
       "      <td>MARINGA</td>\n",
       "      <td>7</td>\n",
       "      <td>True</td>\n",
       "    </tr>\n",
       "    <tr>\n",
       "      <th>2</th>\n",
       "      <td>2018</td>\n",
       "      <td>131671183</td>\n",
       "      <td>34</td>\n",
       "      <td>1</td>\n",
       "      <td>V</td>\n",
       "      <td>BRASILEIRO</td>\n",
       "      <td>2015-01-13</td>\n",
       "      <td>2019-01-18</td>\n",
       "      <td>2015</td>\n",
       "      <td>1971-07-12</td>\n",
       "      <td>1.0</td>\n",
       "      <td>P</td>\n",
       "      <td>B</td>\n",
       "      <td>5</td>\n",
       "      <td>MARINGA</td>\n",
       "      <td>MARINGA</td>\n",
       "      <td>MARINGA</td>\n",
       "      <td>MARINGA</td>\n",
       "      <td>BRASIL</td>\n",
       "      <td>V</td>\n",
       "      <td>M</td>\n",
       "      <td>PR</td>\n",
       "      <td>PR</td>\n",
       "      <td>PR</td>\n",
       "      <td>PR</td>\n",
       "      <td>7</td>\n",
       "      <td>NNNNNNNN</td>\n",
       "      <td>GI</td>\n",
       "      <td>1</td>\n",
       "      <td>N</td>\n",
       "      <td>1</td>\n",
       "      <td>1971</td>\n",
       "      <td>BRASIL</td>\n",
       "      <td>V</td>\n",
       "      <td>PR</td>\n",
       "      <td>PR</td>\n",
       "      <td>0</td>\n",
       "      <td>0.0</td>\n",
       "      <td>FORMADO</td>\n",
       "      <td>False</td>\n",
       "      <td>GI</td>\n",
       "      <td>N</td>\n",
       "      <td>0</td>\n",
       "      <td>43.0</td>\n",
       "      <td>1971</td>\n",
       "      <td>48.866667</td>\n",
       "      <td>Filosofia</td>\n",
       "      <td>LICENCIATURA</td>\n",
       "      <td>CCH</td>\n",
       "      <td>MARINGA</td>\n",
       "      <td>8</td>\n",
       "      <td>True</td>\n",
       "    </tr>\n",
       "    <tr>\n",
       "      <th>3</th>\n",
       "      <td>2011</td>\n",
       "      <td>1236669952</td>\n",
       "      <td>6</td>\n",
       "      <td>4</td>\n",
       "      <td>N</td>\n",
       "      <td>BRASILEIRO</td>\n",
       "      <td>2010-02-01</td>\n",
       "      <td>2011-07-19</td>\n",
       "      <td>2010</td>\n",
       "      <td>1974-05-25</td>\n",
       "      <td>1.0</td>\n",
       "      <td>P</td>\n",
       "      <td>B</td>\n",
       "      <td>0</td>\n",
       "      <td>PIRAPOZINHO</td>\n",
       "      <td>NaN</td>\n",
       "      <td>NaN</td>\n",
       "      <td>PRESIDENTE PRUDENTE</td>\n",
       "      <td>BRASIL</td>\n",
       "      <td>NaN</td>\n",
       "      <td>M</td>\n",
       "      <td>SP</td>\n",
       "      <td>NaN</td>\n",
       "      <td>NaN</td>\n",
       "      <td>SP</td>\n",
       "      <td>8</td>\n",
       "      <td>NaN</td>\n",
       "      <td>E</td>\n",
       "      <td>6</td>\n",
       "      <td>N</td>\n",
       "      <td>4</td>\n",
       "      <td>1974</td>\n",
       "      <td>BRASIL</td>\n",
       "      <td>P</td>\n",
       "      <td>NaN</td>\n",
       "      <td>SP</td>\n",
       "      <td>0</td>\n",
       "      <td>1.0</td>\n",
       "      <td>CANCELAMENTO</td>\n",
       "      <td>False</td>\n",
       "      <td>G</td>\n",
       "      <td>N</td>\n",
       "      <td>0</td>\n",
       "      <td>35.0</td>\n",
       "      <td>1974</td>\n",
       "      <td>17.766667</td>\n",
       "      <td>Química</td>\n",
       "      <td>AMBOS</td>\n",
       "      <td>CCE</td>\n",
       "      <td>MARINGA</td>\n",
       "      <td>8</td>\n",
       "      <td>True</td>\n",
       "    </tr>\n",
       "    <tr>\n",
       "      <th>4</th>\n",
       "      <td>2009</td>\n",
       "      <td>1748606897</td>\n",
       "      <td>3</td>\n",
       "      <td>5</td>\n",
       "      <td>N</td>\n",
       "      <td>BRASILEIRA</td>\n",
       "      <td>2004-02-01</td>\n",
       "      <td>2009-01-30</td>\n",
       "      <td>2004</td>\n",
       "      <td>1966-07-27</td>\n",
       "      <td>2.0</td>\n",
       "      <td>P</td>\n",
       "      <td>B</td>\n",
       "      <td>0</td>\n",
       "      <td>MARINGA</td>\n",
       "      <td>NaN</td>\n",
       "      <td>MARINGA</td>\n",
       "      <td>NaN</td>\n",
       "      <td>BRASIL</td>\n",
       "      <td>NaN</td>\n",
       "      <td>F</td>\n",
       "      <td>PR</td>\n",
       "      <td>NaN</td>\n",
       "      <td>PR</td>\n",
       "      <td>RS</td>\n",
       "      <td>9</td>\n",
       "      <td>NaN</td>\n",
       "      <td>GI</td>\n",
       "      <td>11</td>\n",
       "      <td>N</td>\n",
       "      <td>5</td>\n",
       "      <td>1966</td>\n",
       "      <td>BRASIL</td>\n",
       "      <td>T</td>\n",
       "      <td>PR</td>\n",
       "      <td>RS</td>\n",
       "      <td>0</td>\n",
       "      <td>0.0</td>\n",
       "      <td>JUBILADO</td>\n",
       "      <td>False</td>\n",
       "      <td>GI</td>\n",
       "      <td>N</td>\n",
       "      <td>0</td>\n",
       "      <td>37.0</td>\n",
       "      <td>1966</td>\n",
       "      <td>60.833333</td>\n",
       "      <td>Letras</td>\n",
       "      <td>LICENCIATURA</td>\n",
       "      <td>CCH</td>\n",
       "      <td>MARINGA</td>\n",
       "      <td>8</td>\n",
       "      <td>True</td>\n",
       "    </tr>\n",
       "  </tbody>\n",
       "</table>\n",
       "</div>"
      ],
      "text/plain": [
       "   ANO_OCORRENCIA    CD_ALUNO  CD_CURSO  CD_ORIGEM_ALUNO CD_TURNO  \\\n",
       "0            2014   145457572         3                1        N   \n",
       "1            2015   125569920        15                0        N   \n",
       "2            2018   131671183        34                1        V   \n",
       "3            2011  1236669952         6                4        N   \n",
       "4            2009  1748606897         3                5        N   \n",
       "\n",
       "  DE_NATURALIDADE DH_MATRICULA DH_SITUACAO  DT_ANO_INGRES DT_NASC_ALUNO  \\\n",
       "0      BRASILEIRO   2014-01-10  2014-08-26           2014    1974-07-08   \n",
       "1      BRASILEIRO   2015-01-24  2016-03-24           2015    1971-02-08   \n",
       "2      BRASILEIRO   2015-01-13  2019-01-18           2015    1971-07-12   \n",
       "3      BRASILEIRO   2010-02-01  2011-07-19           2010    1974-05-25   \n",
       "4      BRASILEIRA   2004-02-01  2009-01-30           2004    1966-07-27   \n",
       "\n",
       "   LT_ESTADO_CIVIL LT_MODALIDADE LT_NACIONALIDADE  LT_RACA NM_CIDADE_AULA  \\\n",
       "0              1.0             P                B        4        MARINGA   \n",
       "1              2.0             P                B        2        MARINGA   \n",
       "2              1.0             P                B        5        MARINGA   \n",
       "3              1.0             P                B        0    PIRAPOZINHO   \n",
       "4              2.0             P                B        0        MARINGA   \n",
       "\n",
       "  NM_CIDADE_EST2GRAU NM_CIDADE_FERIAS       NM_CIDADE_NASC NM_PAIS_NASC  \\\n",
       "0            MARINGA          MARINGA              MARINGA       BRASIL   \n",
       "1                NaN              NaN           MANDAGUARI       BRASIL   \n",
       "2            MARINGA          MARINGA              MARINGA       BRASIL   \n",
       "3                NaN              NaN  PRESIDENTE PRUDENTE       BRASIL   \n",
       "4                NaN          MARINGA                  NaN       BRASIL   \n",
       "\n",
       "  NU_SEMESTRE2_VEST SG_SEXO_ALUNO SG_UF_AULA SG_UF_EST2GRAU SG_UF_FERIAS  \\\n",
       "0                 I             M         PR             PR           PR   \n",
       "1               NaN             M         PR            NaN          NaN   \n",
       "2                 V             M         PR             PR           PR   \n",
       "3               NaN             M         SP            NaN          NaN   \n",
       "4               NaN             F         PR            NaN           PR   \n",
       "\n",
       "  SG_UF_NASC_ALUNO ST_ALUNO TP_DEFIC_INEP TP_ESCOLA  TP_INGRES_CURSO  \\\n",
       "0               PR        2      NNNNNNNN        GI                1   \n",
       "1               PR        7      NNNNNNNN       NaN                6   \n",
       "2               PR        7      NNNNNNNN        GI                1   \n",
       "3               SP        8           NaN         E                6   \n",
       "4               RS        9           NaN        GI               11   \n",
       "\n",
       "  TP_OPCAO_COTAS  F_CD_ORIGEM_ALUNO F_DT_NASC_ALUNO F_NM_PAIS_NASC  \\\n",
       "0              N                  1            1974         BRASIL   \n",
       "1            NaN                  0            1971         BRASIL   \n",
       "2              N                  1            1971         BRASIL   \n",
       "3              N                  4            1974         BRASIL   \n",
       "4              N                  5            1966         BRASIL   \n",
       "\n",
       "  F_NU_SEMESTRE2_VEST F_SG_UF_FERIAS F_SG_UF_NASC_ALUNO  BOOL_TRANCADO  \\\n",
       "0                   I             PR                 PR              0   \n",
       "1                   P            NaN                 PR              0   \n",
       "2                   V             PR                 PR              0   \n",
       "3                   P            NaN                 SP              0   \n",
       "4                   T             PR                 RS              0   \n",
       "\n",
       "   BOOL_ST_ALUNO MULTI_ST_ALUNO  BOOL_DEFIC_INEP F_TP_ESCOLA F_TP_OPCAO_COTAS  \\\n",
       "0            1.0   CANCELAMENTO            False          GI                N   \n",
       "1            0.0        FORMADO            False         NaN                N   \n",
       "2            0.0        FORMADO            False          GI                N   \n",
       "3            1.0   CANCELAMENTO            False           G                N   \n",
       "4            0.0       JUBILADO            False          GI                N   \n",
       "\n",
       "   BOOL_COTAS  IDADE_MATRICULA  ANO_NASCIMENTO  MESES_ATE_ULTIMA_SITUACAO  \\\n",
       "0           0             39.0            1974                   7.600000   \n",
       "1           0             43.0            1971                  14.166667   \n",
       "2           0             43.0            1971                  48.866667   \n",
       "3           0             35.0            1974                  17.766667   \n",
       "4           0             37.0            1966                  60.833333   \n",
       "\n",
       "    NM_CURSO TP_HABILITACAO SG_CENTRO NM_CAMPUS  MAX_ANOS  BOOL_SEDE  \n",
       "0     Letras   LICENCIATURA     CCH     MARINGA         8       True  \n",
       "1     Física          AMBOS     CCE     MARINGA         7       True  \n",
       "2  Filosofia   LICENCIATURA     CCH     MARINGA         8       True  \n",
       "3    Química          AMBOS     CCE     MARINGA         8       True  \n",
       "4     Letras   LICENCIATURA     CCH     MARINGA         8       True  "
      ]
     },
     "execution_count": 133,
     "metadata": {},
     "output_type": "execute_result"
    }
   ],
   "source": [
    "df_merge = df_final.merge(df_cursos, on='CD_CURSO', how='left')\n",
    "df_merge.head()"
   ]
  },
  {
   "cell_type": "code",
   "execution_count": 134,
   "metadata": {},
   "outputs": [
    {
     "data": {
      "text/plain": [
       "(2909, 2989)"
      ]
     },
     "execution_count": 134,
     "metadata": {},
     "output_type": "execute_result"
    }
   ],
   "source": [
    "df_merge[df_merge['F_SG_UF_FERIAS'].isna()].shape[0], df_merge[df_merge['NM_CIDADE_FERIAS'].isna()].shape[0]"
   ]
  },
  {
   "cell_type": "code",
   "execution_count": 135,
   "metadata": {},
   "outputs": [
    {
     "data": {
      "text/plain": [
       "(921, 13264)"
      ]
     },
     "execution_count": 135,
     "metadata": {},
     "output_type": "execute_result"
    }
   ],
   "source": [
    "df_merge[df_merge['F_SG_UF_NASC_ALUNO'].isna()].shape[0], df_merge[df_merge['NM_CIDADE_NASC'].isna()].shape[0]"
   ]
  },
  {
   "cell_type": "code",
   "execution_count": 136,
   "metadata": {},
   "outputs": [
    {
     "data": {
      "text/plain": [
       "F_NM_PAIS_NASC\n",
       "BRASIL             2880\n",
       "GUINE-BISSAU          8\n",
       "PARAGUAI              5\n",
       "S.TOME PRINCIPE       2\n",
       "BOLIVIA               2\n",
       "GUINE EQUATORIA       2\n",
       "ALEMANHA              1\n",
       "CHINA                 1\n",
       "ANGOLA                1\n",
       "BENIN                 1\n",
       "PERU                  1\n",
       "HONDURAS              1\n",
       "REP.DEM.CONGO         1\n",
       "GUATEMALA             1\n",
       "NaN                   1\n",
       "EQUADOR               1\n",
       "Name: count, dtype: int64"
      ]
     },
     "execution_count": 136,
     "metadata": {},
     "output_type": "execute_result"
    }
   ],
   "source": [
    "df_merge[df_merge['F_SG_UF_FERIAS'].isna()]['F_NM_PAIS_NASC'].value_counts(dropna=False)"
   ]
  },
  {
   "cell_type": "code",
   "execution_count": 137,
   "metadata": {},
   "outputs": [
    {
     "data": {
      "text/plain": [
       "F_NM_PAIS_NASC\n",
       "BRASIL             509\n",
       "JAPAO              211\n",
       "ESTADOS UNIDOS      24\n",
       "GUINE-BISSAU        21\n",
       "PARAGUAI            20\n",
       "PORTUGAL            14\n",
       "CHINA               13\n",
       "BOLIVIA             11\n",
       "REPUBLICA DO HA     10\n",
       "ALEMANHA             9\n",
       "ESPANHA              8\n",
       "VENEZUELA            7\n",
       "PERU                 6\n",
       "CHILE                6\n",
       "CABO VERDE           5\n",
       "ITALIA               5\n",
       "ANGOLA               4\n",
       "ARGENTINA            4\n",
       "COLOMBIA             4\n",
       "FRANCA               4\n",
       "REP. DO HAITI        2\n",
       "NaN                  2\n",
       "TAIWAN               2\n",
       "S.TOME PRINCIPE      2\n",
       "GUINE EQUATORIA      2\n",
       "EUA                  1\n",
       "COSTA DO MARFIM      1\n",
       "INGLATERRA           1\n",
       "GUINE BISSAU         1\n",
       "GANA                 1\n",
       "HAITI                1\n",
       "JORDANIA             1\n",
       "GUATEMALA            1\n",
       "REP.DEM.CONGO        1\n",
       "HONDURAS             1\n",
       "TCHECOSLOVAQUIA      1\n",
       "CANADA               1\n",
       "BENIN                1\n",
       "REINO UNIDO          1\n",
       "AUSTRIA              1\n",
       "EQUADOR              1\n",
       "Name: count, dtype: int64"
      ]
     },
     "execution_count": 137,
     "metadata": {},
     "output_type": "execute_result"
    }
   ],
   "source": [
    "df_merge[df_merge['F_SG_UF_NASC_ALUNO'].isna()]['F_NM_PAIS_NASC'].value_counts(dropna=False)"
   ]
  },
  {
   "cell_type": "markdown",
   "metadata": {},
   "source": [
    "1 - passa férias / nasceu na cidade do campus\n",
    "\n",
    "2 - outras cidades do Paraná\n",
    "\n",
    "3 - estado de São Paulo\n",
    "\n",
    "4 - outros estados\n",
    "\n",
    "Esse 5 não se aplica para férias, 29 casos apenas, o que é irrelevante\n",
    "\n",
    "5 - exterior"
   ]
  },
  {
   "cell_type": "code",
   "execution_count": 138,
   "metadata": {},
   "outputs": [
    {
     "data": {
      "text/plain": [
       "Index(['ANO_OCORRENCIA', 'CD_ALUNO', 'CD_CURSO', 'CD_ORIGEM_ALUNO', 'CD_TURNO',\n",
       "       'DE_NATURALIDADE', 'DH_MATRICULA', 'DH_SITUACAO', 'DT_ANO_INGRES',\n",
       "       'DT_NASC_ALUNO', 'LT_ESTADO_CIVIL', 'LT_MODALIDADE', 'LT_NACIONALIDADE',\n",
       "       'LT_RACA', 'NM_CIDADE_AULA', 'NM_CIDADE_EST2GRAU', 'NM_CIDADE_FERIAS',\n",
       "       'NM_CIDADE_NASC', 'NM_PAIS_NASC', 'NU_SEMESTRE2_VEST', 'SG_SEXO_ALUNO',\n",
       "       'SG_UF_AULA', 'SG_UF_EST2GRAU', 'SG_UF_FERIAS', 'SG_UF_NASC_ALUNO',\n",
       "       'ST_ALUNO', 'TP_DEFIC_INEP', 'TP_ESCOLA', 'TP_INGRES_CURSO',\n",
       "       'TP_OPCAO_COTAS', 'F_CD_ORIGEM_ALUNO', 'F_DT_NASC_ALUNO',\n",
       "       'F_NM_PAIS_NASC', 'F_NU_SEMESTRE2_VEST', 'F_SG_UF_FERIAS',\n",
       "       'F_SG_UF_NASC_ALUNO', 'BOOL_TRANCADO', 'BOOL_ST_ALUNO',\n",
       "       'MULTI_ST_ALUNO', 'BOOL_DEFIC_INEP', 'F_TP_ESCOLA', 'F_TP_OPCAO_COTAS',\n",
       "       'BOOL_COTAS', 'IDADE_MATRICULA', 'ANO_NASCIMENTO',\n",
       "       'MESES_ATE_ULTIMA_SITUACAO', 'NM_CURSO', 'TP_HABILITACAO', 'SG_CENTRO',\n",
       "       'NM_CAMPUS', 'MAX_ANOS', 'BOOL_SEDE'],\n",
       "      dtype='object')"
      ]
     },
     "execution_count": 138,
     "metadata": {},
     "output_type": "execute_result"
    }
   ],
   "source": [
    "df_merge.columns"
   ]
  },
  {
   "cell_type": "code",
   "execution_count": 139,
   "metadata": {},
   "outputs": [],
   "source": [
    "def det_LOCAL_FERIAS(linha):\n",
    "    if linha['NM_CIDADE_FERIAS'] == linha['NM_CAMPUS']:\n",
    "        return 1\n",
    "    elif linha['F_SG_UF_FERIAS'] == 'PR':\n",
    "        return 2\n",
    "    elif linha['F_SG_UF_FERIAS'] == 'SP':\n",
    "        return 3\n",
    "    elif not pd.isna(linha['F_SG_UF_FERIAS']):\n",
    "        return 4\n",
    "    else:\n",
    "        return np.nan"
   ]
  },
  {
   "cell_type": "code",
   "execution_count": 140,
   "metadata": {},
   "outputs": [],
   "source": [
    "def det_LOCAL_NASC(linha):\n",
    "    if linha['NM_CIDADE_NASC'] == linha['NM_CAMPUS']:\n",
    "        return 1\n",
    "    elif linha['F_SG_UF_NASC_ALUNO'] == 'PR':\n",
    "        return 2\n",
    "    elif linha['F_SG_UF_NASC_ALUNO'] == 'SP':\n",
    "        return 3\n",
    "    elif not pd.isna(linha['F_SG_UF_NASC_ALUNO']):\n",
    "        return 4\n",
    "    elif linha['F_NM_PAIS_NASC'] != 'BRASIL':\n",
    "        return 5\n",
    "    else:\n",
    "        return np.nan\n",
    "    "
   ]
  },
  {
   "cell_type": "code",
   "execution_count": 141,
   "metadata": {},
   "outputs": [],
   "source": [
    "df_merge['LOCAL_FERIAS'] = df_merge.apply(det_LOCAL_FERIAS, axis=1)\n",
    "df_merge['LOCAL_NASC'] = df_merge.apply(det_LOCAL_NASC, axis=1)"
   ]
  },
  {
   "cell_type": "code",
   "execution_count": 142,
   "metadata": {},
   "outputs": [
    {
     "data": {
      "text/plain": [
       "LOCAL_FERIAS\n",
       "1.0    31863\n",
       "2.0    24982\n",
       "3.0     9740\n",
       "NaN     2909\n",
       "4.0     1727\n",
       "Name: count, dtype: int64"
      ]
     },
     "execution_count": 142,
     "metadata": {},
     "output_type": "execute_result"
    }
   ],
   "source": [
    "df_merge['LOCAL_FERIAS'].value_counts(dropna=False)"
   ]
  },
  {
   "cell_type": "code",
   "execution_count": 143,
   "metadata": {},
   "outputs": [
    {
     "data": {
      "text/plain": [
       "LOCAL_NASC\n",
       "2.0    32489\n",
       "1.0    19064\n",
       "3.0    13937\n",
       "4.0     4810\n",
       "NaN      509\n",
       "5.0      412\n",
       "Name: count, dtype: int64"
      ]
     },
     "execution_count": 143,
     "metadata": {},
     "output_type": "execute_result"
    }
   ],
   "source": [
    "df_merge['LOCAL_NASC'].value_counts(dropna=False)"
   ]
  },
  {
   "cell_type": "code",
   "execution_count": 144,
   "metadata": {},
   "outputs": [
    {
     "data": {
      "text/plain": [
       "F_NM_PAIS_NASC\n",
       "BRASIL             70731\n",
       "JAPAO                262\n",
       "ESTADOS UNIDOS        26\n",
       "PARAGUAI              22\n",
       "GUINE-BISSAU          21\n",
       "CHINA                 15\n",
       "PORTUGAL              15\n",
       "BOLIVIA               11\n",
       "REPUBLICA DO HA       10\n",
       "ARGENTINA              9\n",
       "ESPANHA                9\n",
       "ALEMANHA               9\n",
       "VENEZUELA              7\n",
       "CHILE                  7\n",
       "PERU                   7\n",
       "FRANCA                 6\n",
       "ANGOLA                 6\n",
       "ITALIA                 6\n",
       "CABO VERDE             5\n",
       "COLOMBIA               4\n",
       "TAIWAN                 3\n",
       "INGLATERRA             2\n",
       "HAITI                  2\n",
       "REP. DO HAITI          2\n",
       "GUINE EQUATORIA        2\n",
       "CANADA                 2\n",
       "S.TOME PRINCIPE        2\n",
       "NaN                    2\n",
       "URUGUAI                1\n",
       "AUSTRIA                1\n",
       "REINO UNIDO            1\n",
       "COSTA DO MARFIM        1\n",
       "REPUBLICA ARABE        1\n",
       "GUINE BISSAU           1\n",
       "GANA                   1\n",
       "MOCAMBIQUE             1\n",
       "EUA                    1\n",
       "GUATEMALA              1\n",
       "REP.DEM.CONGO          1\n",
       "HONDURAS               1\n",
       "JORDANIA               1\n",
       "TCHECOSLOVAQUIA        1\n",
       "BENIN                  1\n",
       "EQUADOR                1\n",
       "Name: count, dtype: int64"
      ]
     },
     "execution_count": 144,
     "metadata": {},
     "output_type": "execute_result"
    }
   ],
   "source": [
    "df_merge['F_NM_PAIS_NASC'].value_counts(dropna=False)"
   ]
  },
  {
   "cell_type": "markdown",
   "metadata": {},
   "source": [
    "# Final"
   ]
  },
  {
   "cell_type": "code",
   "execution_count": 145,
   "metadata": {},
   "outputs": [
    {
     "data": {
      "text/plain": [
       "Index(['ANO_OCORRENCIA', 'CD_ALUNO', 'CD_CURSO', 'CD_ORIGEM_ALUNO', 'CD_TURNO',\n",
       "       'DE_NATURALIDADE', 'DH_MATRICULA', 'DH_SITUACAO', 'DT_ANO_INGRES',\n",
       "       'DT_NASC_ALUNO', 'LT_ESTADO_CIVIL', 'LT_MODALIDADE', 'LT_NACIONALIDADE',\n",
       "       'LT_RACA', 'NM_CIDADE_AULA', 'NM_CIDADE_EST2GRAU', 'NM_CIDADE_FERIAS',\n",
       "       'NM_CIDADE_NASC', 'NM_PAIS_NASC', 'NU_SEMESTRE2_VEST', 'SG_SEXO_ALUNO',\n",
       "       'SG_UF_AULA', 'SG_UF_EST2GRAU', 'SG_UF_FERIAS', 'SG_UF_NASC_ALUNO',\n",
       "       'ST_ALUNO', 'TP_DEFIC_INEP', 'TP_ESCOLA', 'TP_INGRES_CURSO',\n",
       "       'TP_OPCAO_COTAS', 'F_CD_ORIGEM_ALUNO', 'F_DT_NASC_ALUNO',\n",
       "       'F_NM_PAIS_NASC', 'F_NU_SEMESTRE2_VEST', 'F_SG_UF_FERIAS',\n",
       "       'F_SG_UF_NASC_ALUNO', 'BOOL_TRANCADO', 'BOOL_ST_ALUNO',\n",
       "       'MULTI_ST_ALUNO', 'BOOL_DEFIC_INEP', 'F_TP_ESCOLA', 'F_TP_OPCAO_COTAS',\n",
       "       'BOOL_COTAS', 'IDADE_MATRICULA', 'ANO_NASCIMENTO',\n",
       "       'MESES_ATE_ULTIMA_SITUACAO', 'NM_CURSO', 'TP_HABILITACAO', 'SG_CENTRO',\n",
       "       'NM_CAMPUS', 'MAX_ANOS', 'BOOL_SEDE', 'LOCAL_FERIAS', 'LOCAL_NASC'],\n",
       "      dtype='object')"
      ]
     },
     "execution_count": 145,
     "metadata": {},
     "output_type": "execute_result"
    }
   ],
   "source": [
    "df_merge.columns"
   ]
  },
  {
   "cell_type": "code",
   "execution_count": 146,
   "metadata": {},
   "outputs": [
    {
     "data": {
      "text/plain": [
       "32"
      ]
     },
     "execution_count": 146,
     "metadata": {},
     "output_type": "execute_result"
    }
   ],
   "source": [
    "colunas_relevantes = ['CD_ALUNO',\n",
    "                      'CD_CURSO',\n",
    "                      'CD_TURNO',\n",
    "                      'DH_MATRICULA',\n",
    "                      'DH_SITUACAO',\n",
    "                      'DT_ANO_INGRES',\n",
    "                      'DT_NASC_ALUNO',\n",
    "                      'LT_ESTADO_CIVIL',\n",
    "                      'LT_RACA',\n",
    "                      'F_NU_SEMESTRE2_VEST',\n",
    "                      'SG_SEXO_ALUNO',\n",
    "                      'F_NM_PAIS_NASC',\n",
    "                      'F_SG_UF_NASC_ALUNO',\n",
    "                      'F_SG_UF_FERIAS',\n",
    "                      'BOOL_TRANCADO',\n",
    "                      'BOOL_ST_ALUNO',\n",
    "                      'MULTI_ST_ALUNO',\n",
    "                      'BOOL_DEFIC_INEP',\n",
    "                      'F_TP_ESCOLA',\n",
    "                      'F_TP_OPCAO_COTAS',\n",
    "                      'BOOL_COTAS',\n",
    "                      'IDADE_MATRICULA',\n",
    "                      'ANO_NASCIMENTO',\n",
    "                      'MESES_ATE_ULTIMA_SITUACAO',\n",
    "                      'LOCAL_FERIAS',\n",
    "                      'LOCAL_NASC',\n",
    "                      'NM_CURSO',\n",
    "                      'TP_HABILITACAO', \n",
    "                      'SG_CENTRO', \n",
    "                      'NM_CAMPUS', \n",
    "                      'MAX_ANOS', \n",
    "                      'BOOL_SEDE']\n",
    "len(colunas_relevantes)\n"
   ]
  },
  {
   "cell_type": "code",
   "execution_count": 147,
   "metadata": {},
   "outputs": [],
   "source": [
    "df_merge.dropna(subset=colunas_relevantes, inplace=True)"
   ]
  },
  {
   "cell_type": "code",
   "execution_count": 148,
   "metadata": {},
   "outputs": [
    {
     "data": {
      "text/plain": [
       "MULTI_ST_ALUNO\n",
       "FORMADO          32550\n",
       "CANCELAMENTO     23606\n",
       "MATRICULADO       8787\n",
       "JUBILADO          1151\n",
       "TRANSFERENCIA      730\n",
       "Name: count, dtype: int64"
      ]
     },
     "execution_count": 148,
     "metadata": {},
     "output_type": "execute_result"
    }
   ],
   "source": [
    "df_merge['MULTI_ST_ALUNO'].value_counts(dropna=False)"
   ]
  },
  {
   "cell_type": "code",
   "execution_count": 149,
   "metadata": {},
   "outputs": [],
   "source": [
    "df_merge = df_merge[df_merge['MULTI_ST_ALUNO'] != 'FALECIDO']"
   ]
  },
  {
   "cell_type": "code",
   "execution_count": 150,
   "metadata": {},
   "outputs": [
    {
     "data": {
      "text/html": [
       "<div>\n",
       "<style scoped>\n",
       "    .dataframe tbody tr th:only-of-type {\n",
       "        vertical-align: middle;\n",
       "    }\n",
       "\n",
       "    .dataframe tbody tr th {\n",
       "        vertical-align: top;\n",
       "    }\n",
       "\n",
       "    .dataframe thead th {\n",
       "        text-align: right;\n",
       "    }\n",
       "</style>\n",
       "<table border=\"1\" class=\"dataframe\">\n",
       "  <thead>\n",
       "    <tr style=\"text-align: right;\">\n",
       "      <th></th>\n",
       "      <th>CD_ALUNO</th>\n",
       "      <th>CD_CURSO</th>\n",
       "      <th>CD_TURNO</th>\n",
       "      <th>DH_MATRICULA</th>\n",
       "      <th>DH_SITUACAO</th>\n",
       "      <th>DT_ANO_INGRES</th>\n",
       "      <th>DT_NASC_ALUNO</th>\n",
       "      <th>LT_ESTADO_CIVIL</th>\n",
       "      <th>LT_RACA</th>\n",
       "      <th>F_NU_SEMESTRE2_VEST</th>\n",
       "      <th>SG_SEXO_ALUNO</th>\n",
       "      <th>F_NM_PAIS_NASC</th>\n",
       "      <th>F_SG_UF_NASC_ALUNO</th>\n",
       "      <th>F_SG_UF_FERIAS</th>\n",
       "      <th>BOOL_TRANCADO</th>\n",
       "      <th>BOOL_ST_ALUNO</th>\n",
       "      <th>MULTI_ST_ALUNO</th>\n",
       "      <th>BOOL_DEFIC_INEP</th>\n",
       "      <th>F_TP_ESCOLA</th>\n",
       "      <th>F_TP_OPCAO_COTAS</th>\n",
       "      <th>BOOL_COTAS</th>\n",
       "      <th>IDADE_MATRICULA</th>\n",
       "      <th>ANO_NASCIMENTO</th>\n",
       "      <th>MESES_ATE_ULTIMA_SITUACAO</th>\n",
       "      <th>LOCAL_FERIAS</th>\n",
       "      <th>LOCAL_NASC</th>\n",
       "      <th>NM_CURSO</th>\n",
       "      <th>TP_HABILITACAO</th>\n",
       "      <th>SG_CENTRO</th>\n",
       "      <th>NM_CAMPUS</th>\n",
       "      <th>MAX_ANOS</th>\n",
       "      <th>BOOL_SEDE</th>\n",
       "    </tr>\n",
       "  </thead>\n",
       "  <tbody>\n",
       "    <tr>\n",
       "      <th>0</th>\n",
       "      <td>145457572</td>\n",
       "      <td>3</td>\n",
       "      <td>N</td>\n",
       "      <td>2014-01-10</td>\n",
       "      <td>2014-08-26</td>\n",
       "      <td>2014</td>\n",
       "      <td>1974-07-08</td>\n",
       "      <td>1.0</td>\n",
       "      <td>4</td>\n",
       "      <td>I</td>\n",
       "      <td>M</td>\n",
       "      <td>BRASIL</td>\n",
       "      <td>PR</td>\n",
       "      <td>PR</td>\n",
       "      <td>0</td>\n",
       "      <td>1.0</td>\n",
       "      <td>CANCELAMENTO</td>\n",
       "      <td>False</td>\n",
       "      <td>GI</td>\n",
       "      <td>N</td>\n",
       "      <td>0</td>\n",
       "      <td>39.0</td>\n",
       "      <td>1974</td>\n",
       "      <td>7.600000</td>\n",
       "      <td>1.0</td>\n",
       "      <td>1.0</td>\n",
       "      <td>Letras</td>\n",
       "      <td>LICENCIATURA</td>\n",
       "      <td>CCH</td>\n",
       "      <td>MARINGA</td>\n",
       "      <td>8</td>\n",
       "      <td>True</td>\n",
       "    </tr>\n",
       "    <tr>\n",
       "      <th>2</th>\n",
       "      <td>131671183</td>\n",
       "      <td>34</td>\n",
       "      <td>V</td>\n",
       "      <td>2015-01-13</td>\n",
       "      <td>2019-01-18</td>\n",
       "      <td>2015</td>\n",
       "      <td>1971-07-12</td>\n",
       "      <td>1.0</td>\n",
       "      <td>5</td>\n",
       "      <td>V</td>\n",
       "      <td>M</td>\n",
       "      <td>BRASIL</td>\n",
       "      <td>PR</td>\n",
       "      <td>PR</td>\n",
       "      <td>0</td>\n",
       "      <td>0.0</td>\n",
       "      <td>FORMADO</td>\n",
       "      <td>False</td>\n",
       "      <td>GI</td>\n",
       "      <td>N</td>\n",
       "      <td>0</td>\n",
       "      <td>43.0</td>\n",
       "      <td>1971</td>\n",
       "      <td>48.866667</td>\n",
       "      <td>1.0</td>\n",
       "      <td>1.0</td>\n",
       "      <td>Filosofia</td>\n",
       "      <td>LICENCIATURA</td>\n",
       "      <td>CCH</td>\n",
       "      <td>MARINGA</td>\n",
       "      <td>8</td>\n",
       "      <td>True</td>\n",
       "    </tr>\n",
       "    <tr>\n",
       "      <th>4</th>\n",
       "      <td>1748606897</td>\n",
       "      <td>3</td>\n",
       "      <td>N</td>\n",
       "      <td>2004-02-01</td>\n",
       "      <td>2009-01-30</td>\n",
       "      <td>2004</td>\n",
       "      <td>1966-07-27</td>\n",
       "      <td>2.0</td>\n",
       "      <td>0</td>\n",
       "      <td>T</td>\n",
       "      <td>F</td>\n",
       "      <td>BRASIL</td>\n",
       "      <td>RS</td>\n",
       "      <td>PR</td>\n",
       "      <td>0</td>\n",
       "      <td>0.0</td>\n",
       "      <td>JUBILADO</td>\n",
       "      <td>False</td>\n",
       "      <td>GI</td>\n",
       "      <td>N</td>\n",
       "      <td>0</td>\n",
       "      <td>37.0</td>\n",
       "      <td>1966</td>\n",
       "      <td>60.833333</td>\n",
       "      <td>1.0</td>\n",
       "      <td>4.0</td>\n",
       "      <td>Letras</td>\n",
       "      <td>LICENCIATURA</td>\n",
       "      <td>CCH</td>\n",
       "      <td>MARINGA</td>\n",
       "      <td>8</td>\n",
       "      <td>True</td>\n",
       "    </tr>\n",
       "    <tr>\n",
       "      <th>5</th>\n",
       "      <td>1204692590</td>\n",
       "      <td>7</td>\n",
       "      <td>N</td>\n",
       "      <td>2017-03-09</td>\n",
       "      <td>2021-06-23</td>\n",
       "      <td>2017</td>\n",
       "      <td>1967-10-01</td>\n",
       "      <td>4.0</td>\n",
       "      <td>2</td>\n",
       "      <td>I</td>\n",
       "      <td>F</td>\n",
       "      <td>BRASIL</td>\n",
       "      <td>PR</td>\n",
       "      <td>PR</td>\n",
       "      <td>0</td>\n",
       "      <td>0.0</td>\n",
       "      <td>FORMADO</td>\n",
       "      <td>False</td>\n",
       "      <td>GI</td>\n",
       "      <td>N</td>\n",
       "      <td>0</td>\n",
       "      <td>49.0</td>\n",
       "      <td>1967</td>\n",
       "      <td>52.233333</td>\n",
       "      <td>1.0</td>\n",
       "      <td>2.0</td>\n",
       "      <td>Matemática</td>\n",
       "      <td>AMBOS</td>\n",
       "      <td>CCE</td>\n",
       "      <td>MARINGA</td>\n",
       "      <td>8</td>\n",
       "      <td>True</td>\n",
       "    </tr>\n",
       "    <tr>\n",
       "      <th>6</th>\n",
       "      <td>1308695326</td>\n",
       "      <td>4</td>\n",
       "      <td>M</td>\n",
       "      <td>2011-02-14</td>\n",
       "      <td>2011-10-20</td>\n",
       "      <td>2011</td>\n",
       "      <td>1975-12-06</td>\n",
       "      <td>2.0</td>\n",
       "      <td>2</td>\n",
       "      <td>P</td>\n",
       "      <td>F</td>\n",
       "      <td>BRASIL</td>\n",
       "      <td>PR</td>\n",
       "      <td>PR</td>\n",
       "      <td>0</td>\n",
       "      <td>1.0</td>\n",
       "      <td>CANCELAMENTO</td>\n",
       "      <td>False</td>\n",
       "      <td>G</td>\n",
       "      <td>N</td>\n",
       "      <td>0</td>\n",
       "      <td>35.0</td>\n",
       "      <td>1975</td>\n",
       "      <td>8.266667</td>\n",
       "      <td>2.0</td>\n",
       "      <td>1.0</td>\n",
       "      <td>Geografia</td>\n",
       "      <td>AMBOS</td>\n",
       "      <td>CCH</td>\n",
       "      <td>MARINGA</td>\n",
       "      <td>8</td>\n",
       "      <td>True</td>\n",
       "    </tr>\n",
       "    <tr>\n",
       "      <th>...</th>\n",
       "      <td>...</td>\n",
       "      <td>...</td>\n",
       "      <td>...</td>\n",
       "      <td>...</td>\n",
       "      <td>...</td>\n",
       "      <td>...</td>\n",
       "      <td>...</td>\n",
       "      <td>...</td>\n",
       "      <td>...</td>\n",
       "      <td>...</td>\n",
       "      <td>...</td>\n",
       "      <td>...</td>\n",
       "      <td>...</td>\n",
       "      <td>...</td>\n",
       "      <td>...</td>\n",
       "      <td>...</td>\n",
       "      <td>...</td>\n",
       "      <td>...</td>\n",
       "      <td>...</td>\n",
       "      <td>...</td>\n",
       "      <td>...</td>\n",
       "      <td>...</td>\n",
       "      <td>...</td>\n",
       "      <td>...</td>\n",
       "      <td>...</td>\n",
       "      <td>...</td>\n",
       "      <td>...</td>\n",
       "      <td>...</td>\n",
       "      <td>...</td>\n",
       "      <td>...</td>\n",
       "      <td>...</td>\n",
       "      <td>...</td>\n",
       "    </tr>\n",
       "    <tr>\n",
       "      <th>71208</th>\n",
       "      <td>13366520600</td>\n",
       "      <td>3</td>\n",
       "      <td>M</td>\n",
       "      <td>2022-07-14</td>\n",
       "      <td>2023-07-10</td>\n",
       "      <td>2022</td>\n",
       "      <td>1999-12-01</td>\n",
       "      <td>1.0</td>\n",
       "      <td>0</td>\n",
       "      <td>P</td>\n",
       "      <td>M</td>\n",
       "      <td>BRASIL</td>\n",
       "      <td>RO</td>\n",
       "      <td>PR</td>\n",
       "      <td>0</td>\n",
       "      <td>1.0</td>\n",
       "      <td>CANCELAMENTO</td>\n",
       "      <td>False</td>\n",
       "      <td>GI</td>\n",
       "      <td>N</td>\n",
       "      <td>0</td>\n",
       "      <td>22.0</td>\n",
       "      <td>1999</td>\n",
       "      <td>12.033333</td>\n",
       "      <td>1.0</td>\n",
       "      <td>4.0</td>\n",
       "      <td>Letras</td>\n",
       "      <td>LICENCIATURA</td>\n",
       "      <td>CCH</td>\n",
       "      <td>MARINGA</td>\n",
       "      <td>8</td>\n",
       "      <td>True</td>\n",
       "    </tr>\n",
       "    <tr>\n",
       "      <th>71214</th>\n",
       "      <td>11333398558</td>\n",
       "      <td>8</td>\n",
       "      <td>M</td>\n",
       "      <td>2022-07-15</td>\n",
       "      <td>2023-06-13</td>\n",
       "      <td>2022</td>\n",
       "      <td>1995-10-11</td>\n",
       "      <td>0.0</td>\n",
       "      <td>0</td>\n",
       "      <td>A</td>\n",
       "      <td>F</td>\n",
       "      <td>BRASIL</td>\n",
       "      <td>PR</td>\n",
       "      <td>PR</td>\n",
       "      <td>0</td>\n",
       "      <td>1.0</td>\n",
       "      <td>CANCELAMENTO</td>\n",
       "      <td>False</td>\n",
       "      <td>GI</td>\n",
       "      <td>N</td>\n",
       "      <td>0</td>\n",
       "      <td>26.0</td>\n",
       "      <td>1995</td>\n",
       "      <td>11.100000</td>\n",
       "      <td>2.0</td>\n",
       "      <td>2.0</td>\n",
       "      <td>Administração</td>\n",
       "      <td>BACHARELADO</td>\n",
       "      <td>CSA</td>\n",
       "      <td>MARINGA</td>\n",
       "      <td>8</td>\n",
       "      <td>True</td>\n",
       "    </tr>\n",
       "    <tr>\n",
       "      <th>71216</th>\n",
       "      <td>19881374013</td>\n",
       "      <td>13</td>\n",
       "      <td>N</td>\n",
       "      <td>2022-07-20</td>\n",
       "      <td>2023-07-10</td>\n",
       "      <td>2022</td>\n",
       "      <td>1972-10-16</td>\n",
       "      <td>3.0</td>\n",
       "      <td>0</td>\n",
       "      <td>T</td>\n",
       "      <td>F</td>\n",
       "      <td>BRASIL</td>\n",
       "      <td>PR</td>\n",
       "      <td>PR</td>\n",
       "      <td>0</td>\n",
       "      <td>1.0</td>\n",
       "      <td>CANCELAMENTO</td>\n",
       "      <td>False</td>\n",
       "      <td>P</td>\n",
       "      <td>N</td>\n",
       "      <td>0</td>\n",
       "      <td>49.0</td>\n",
       "      <td>1972</td>\n",
       "      <td>11.833333</td>\n",
       "      <td>1.0</td>\n",
       "      <td>2.0</td>\n",
       "      <td>Pedagogia</td>\n",
       "      <td>LICENCIATURA</td>\n",
       "      <td>CCH</td>\n",
       "      <td>MARINGA</td>\n",
       "      <td>8</td>\n",
       "      <td>True</td>\n",
       "    </tr>\n",
       "    <tr>\n",
       "      <th>71217</th>\n",
       "      <td>14796067716</td>\n",
       "      <td>42</td>\n",
       "      <td>I</td>\n",
       "      <td>2022-07-29</td>\n",
       "      <td>2022-07-29</td>\n",
       "      <td>2022</td>\n",
       "      <td>1981-01-16</td>\n",
       "      <td>2.0</td>\n",
       "      <td>0</td>\n",
       "      <td>T</td>\n",
       "      <td>F</td>\n",
       "      <td>BRASIL</td>\n",
       "      <td>PR</td>\n",
       "      <td>PR</td>\n",
       "      <td>0</td>\n",
       "      <td>0.0</td>\n",
       "      <td>MATRICULADO</td>\n",
       "      <td>False</td>\n",
       "      <td>GI</td>\n",
       "      <td>N</td>\n",
       "      <td>0</td>\n",
       "      <td>41.0</td>\n",
       "      <td>1981</td>\n",
       "      <td>0.000000</td>\n",
       "      <td>2.0</td>\n",
       "      <td>2.0</td>\n",
       "      <td>Música</td>\n",
       "      <td>BACHARELADO</td>\n",
       "      <td>CCH</td>\n",
       "      <td>MARINGA</td>\n",
       "      <td>6</td>\n",
       "      <td>True</td>\n",
       "    </tr>\n",
       "    <tr>\n",
       "      <th>71218</th>\n",
       "      <td>16902075967</td>\n",
       "      <td>8</td>\n",
       "      <td>M</td>\n",
       "      <td>2022-11-24</td>\n",
       "      <td>2022-11-24</td>\n",
       "      <td>2022</td>\n",
       "      <td>2001-07-15</td>\n",
       "      <td>1.0</td>\n",
       "      <td>0</td>\n",
       "      <td>T</td>\n",
       "      <td>M</td>\n",
       "      <td>BRASIL</td>\n",
       "      <td>PR</td>\n",
       "      <td>PR</td>\n",
       "      <td>0</td>\n",
       "      <td>0.0</td>\n",
       "      <td>MATRICULADO</td>\n",
       "      <td>False</td>\n",
       "      <td>GI</td>\n",
       "      <td>N</td>\n",
       "      <td>0</td>\n",
       "      <td>21.0</td>\n",
       "      <td>2001</td>\n",
       "      <td>0.000000</td>\n",
       "      <td>2.0</td>\n",
       "      <td>2.0</td>\n",
       "      <td>Administração</td>\n",
       "      <td>BACHARELADO</td>\n",
       "      <td>CSA</td>\n",
       "      <td>MARINGA</td>\n",
       "      <td>8</td>\n",
       "      <td>True</td>\n",
       "    </tr>\n",
       "  </tbody>\n",
       "</table>\n",
       "<p>66824 rows × 32 columns</p>\n",
       "</div>"
      ],
      "text/plain": [
       "          CD_ALUNO  CD_CURSO CD_TURNO DH_MATRICULA DH_SITUACAO  DT_ANO_INGRES  \\\n",
       "0        145457572         3        N   2014-01-10  2014-08-26           2014   \n",
       "2        131671183        34        V   2015-01-13  2019-01-18           2015   \n",
       "4       1748606897         3        N   2004-02-01  2009-01-30           2004   \n",
       "5       1204692590         7        N   2017-03-09  2021-06-23           2017   \n",
       "6       1308695326         4        M   2011-02-14  2011-10-20           2011   \n",
       "...            ...       ...      ...          ...         ...            ...   \n",
       "71208  13366520600         3        M   2022-07-14  2023-07-10           2022   \n",
       "71214  11333398558         8        M   2022-07-15  2023-06-13           2022   \n",
       "71216  19881374013        13        N   2022-07-20  2023-07-10           2022   \n",
       "71217  14796067716        42        I   2022-07-29  2022-07-29           2022   \n",
       "71218  16902075967         8        M   2022-11-24  2022-11-24           2022   \n",
       "\n",
       "      DT_NASC_ALUNO  LT_ESTADO_CIVIL  LT_RACA F_NU_SEMESTRE2_VEST  \\\n",
       "0        1974-07-08              1.0        4                   I   \n",
       "2        1971-07-12              1.0        5                   V   \n",
       "4        1966-07-27              2.0        0                   T   \n",
       "5        1967-10-01              4.0        2                   I   \n",
       "6        1975-12-06              2.0        2                   P   \n",
       "...             ...              ...      ...                 ...   \n",
       "71208    1999-12-01              1.0        0                   P   \n",
       "71214    1995-10-11              0.0        0                   A   \n",
       "71216    1972-10-16              3.0        0                   T   \n",
       "71217    1981-01-16              2.0        0                   T   \n",
       "71218    2001-07-15              1.0        0                   T   \n",
       "\n",
       "      SG_SEXO_ALUNO F_NM_PAIS_NASC F_SG_UF_NASC_ALUNO F_SG_UF_FERIAS  \\\n",
       "0                 M         BRASIL                 PR             PR   \n",
       "2                 M         BRASIL                 PR             PR   \n",
       "4                 F         BRASIL                 RS             PR   \n",
       "5                 F         BRASIL                 PR             PR   \n",
       "6                 F         BRASIL                 PR             PR   \n",
       "...             ...            ...                ...            ...   \n",
       "71208             M         BRASIL                 RO             PR   \n",
       "71214             F         BRASIL                 PR             PR   \n",
       "71216             F         BRASIL                 PR             PR   \n",
       "71217             F         BRASIL                 PR             PR   \n",
       "71218             M         BRASIL                 PR             PR   \n",
       "\n",
       "       BOOL_TRANCADO  BOOL_ST_ALUNO MULTI_ST_ALUNO  BOOL_DEFIC_INEP  \\\n",
       "0                  0            1.0   CANCELAMENTO            False   \n",
       "2                  0            0.0        FORMADO            False   \n",
       "4                  0            0.0       JUBILADO            False   \n",
       "5                  0            0.0        FORMADO            False   \n",
       "6                  0            1.0   CANCELAMENTO            False   \n",
       "...              ...            ...            ...              ...   \n",
       "71208              0            1.0   CANCELAMENTO            False   \n",
       "71214              0            1.0   CANCELAMENTO            False   \n",
       "71216              0            1.0   CANCELAMENTO            False   \n",
       "71217              0            0.0    MATRICULADO            False   \n",
       "71218              0            0.0    MATRICULADO            False   \n",
       "\n",
       "      F_TP_ESCOLA F_TP_OPCAO_COTAS  BOOL_COTAS  IDADE_MATRICULA  \\\n",
       "0              GI                N           0             39.0   \n",
       "2              GI                N           0             43.0   \n",
       "4              GI                N           0             37.0   \n",
       "5              GI                N           0             49.0   \n",
       "6               G                N           0             35.0   \n",
       "...           ...              ...         ...              ...   \n",
       "71208          GI                N           0             22.0   \n",
       "71214          GI                N           0             26.0   \n",
       "71216           P                N           0             49.0   \n",
       "71217          GI                N           0             41.0   \n",
       "71218          GI                N           0             21.0   \n",
       "\n",
       "       ANO_NASCIMENTO  MESES_ATE_ULTIMA_SITUACAO  LOCAL_FERIAS  LOCAL_NASC  \\\n",
       "0                1974                   7.600000           1.0         1.0   \n",
       "2                1971                  48.866667           1.0         1.0   \n",
       "4                1966                  60.833333           1.0         4.0   \n",
       "5                1967                  52.233333           1.0         2.0   \n",
       "6                1975                   8.266667           2.0         1.0   \n",
       "...               ...                        ...           ...         ...   \n",
       "71208            1999                  12.033333           1.0         4.0   \n",
       "71214            1995                  11.100000           2.0         2.0   \n",
       "71216            1972                  11.833333           1.0         2.0   \n",
       "71217            1981                   0.000000           2.0         2.0   \n",
       "71218            2001                   0.000000           2.0         2.0   \n",
       "\n",
       "            NM_CURSO TP_HABILITACAO SG_CENTRO NM_CAMPUS  MAX_ANOS  BOOL_SEDE  \n",
       "0             Letras   LICENCIATURA     CCH     MARINGA         8       True  \n",
       "2          Filosofia   LICENCIATURA     CCH     MARINGA         8       True  \n",
       "4             Letras   LICENCIATURA     CCH     MARINGA         8       True  \n",
       "5         Matemática          AMBOS     CCE     MARINGA         8       True  \n",
       "6          Geografia          AMBOS     CCH     MARINGA         8       True  \n",
       "...              ...            ...       ...       ...       ...        ...  \n",
       "71208         Letras   LICENCIATURA     CCH     MARINGA         8       True  \n",
       "71214  Administração    BACHARELADO     CSA     MARINGA         8       True  \n",
       "71216      Pedagogia   LICENCIATURA     CCH     MARINGA         8       True  \n",
       "71217         Música    BACHARELADO     CCH     MARINGA         6       True  \n",
       "71218  Administração    BACHARELADO     CSA     MARINGA         8       True  \n",
       "\n",
       "[66824 rows x 32 columns]"
      ]
     },
     "execution_count": 150,
     "metadata": {},
     "output_type": "execute_result"
    }
   ],
   "source": [
    "df_merge[colunas_relevantes]"
   ]
  },
  {
   "cell_type": "code",
   "execution_count": 151,
   "metadata": {},
   "outputs": [
    {
     "data": {
      "text/plain": [
       "66824"
      ]
     },
     "execution_count": 151,
     "metadata": {},
     "output_type": "execute_result"
    }
   ],
   "source": [
    "df_merge.shape[0]"
   ]
  },
  {
   "cell_type": "code",
   "execution_count": 152,
   "metadata": {},
   "outputs": [
    {
     "data": {
      "text/plain": [
       "4397"
      ]
     },
     "execution_count": 152,
     "metadata": {},
     "output_type": "execute_result"
    }
   ],
   "source": [
    "df_final.shape[0] - df_merge.shape[0]"
   ]
  },
  {
   "cell_type": "code",
   "execution_count": 153,
   "metadata": {},
   "outputs": [
    {
     "data": {
      "text/plain": [
       "(BOOL_ST_ALUNO\n",
       " 0.0    44241\n",
       " 1.0    26932\n",
       " Name: count, dtype: int64,\n",
       " BOOL_ST_ALUNO\n",
       " 0.0    62.159808\n",
       " 1.0    37.840192\n",
       " Name: proportion, dtype: float64)"
      ]
     },
     "execution_count": 153,
     "metadata": {},
     "output_type": "execute_result"
    }
   ],
   "source": [
    "df_final['BOOL_ST_ALUNO'].value_counts(), df_final['BOOL_ST_ALUNO'].value_counts(normalize=True) * 100"
   ]
  },
  {
   "cell_type": "code",
   "execution_count": 154,
   "metadata": {},
   "outputs": [
    {
     "data": {
      "text/plain": [
       "(BOOL_ST_ALUNO\n",
       " 0.0    42488\n",
       " 1.0    24336\n",
       " Name: count, dtype: int64,\n",
       " BOOL_ST_ALUNO\n",
       " 0.0    63.581947\n",
       " 1.0    36.418053\n",
       " Name: proportion, dtype: float64)"
      ]
     },
     "execution_count": 154,
     "metadata": {},
     "output_type": "execute_result"
    }
   ],
   "source": [
    "df_merge['BOOL_ST_ALUNO'].value_counts(), df_merge['BOOL_ST_ALUNO'].value_counts(normalize=True) * 100"
   ]
  },
  {
   "cell_type": "code",
   "execution_count": 155,
   "metadata": {},
   "outputs": [
    {
     "data": {
      "text/plain": [
       "(MULTI_ST_ALUNO\n",
       " FORMADO          34016\n",
       " CANCELAMENTO     26086\n",
       " MATRICULADO       8981\n",
       " JUBILADO          1244\n",
       " TRANSFERENCIA      846\n",
       " FALECIDO            48\n",
       " Name: count, dtype: int64,\n",
       " MULTI_ST_ALUNO\n",
       " FORMADO          47.761194\n",
       " CANCELAMENTO     36.626838\n",
       " MATRICULADO      12.610045\n",
       " JUBILADO          1.746676\n",
       " TRANSFERENCIA     1.187852\n",
       " FALECIDO          0.067396\n",
       " Name: proportion, dtype: float64)"
      ]
     },
     "execution_count": 155,
     "metadata": {},
     "output_type": "execute_result"
    }
   ],
   "source": [
    "df_final['MULTI_ST_ALUNO'].value_counts(), df_final['MULTI_ST_ALUNO'].value_counts(normalize=True) * 100"
   ]
  },
  {
   "cell_type": "code",
   "execution_count": 156,
   "metadata": {},
   "outputs": [
    {
     "data": {
      "text/plain": [
       "(MULTI_ST_ALUNO\n",
       " FORMADO          32550\n",
       " CANCELAMENTO     23606\n",
       " MATRICULADO       8787\n",
       " JUBILADO          1151\n",
       " TRANSFERENCIA      730\n",
       " Name: count, dtype: int64,\n",
       " MULTI_ST_ALUNO\n",
       " FORMADO          48.710044\n",
       " CANCELAMENTO     35.325632\n",
       " MATRICULADO      13.149467\n",
       " JUBILADO          1.722435\n",
       " TRANSFERENCIA     1.092422\n",
       " Name: proportion, dtype: float64)"
      ]
     },
     "execution_count": 156,
     "metadata": {},
     "output_type": "execute_result"
    }
   ],
   "source": [
    "df_merge['MULTI_ST_ALUNO'].value_counts(), df_merge['MULTI_ST_ALUNO'].value_counts(normalize=True) * 100"
   ]
  },
  {
   "cell_type": "code",
   "execution_count": 157,
   "metadata": {},
   "outputs": [
    {
     "data": {
      "text/plain": [
       "NM_CURSO\n",
       "Direito                                 3682\n",
       "Administração                           3490\n",
       "Letras                                  3319\n",
       "Educação Física                         2972\n",
       "Engenharia de Produção                  2689\n",
       "Ciências Econômicas                     2659\n",
       "Pedagogia                               2627\n",
       "Ciências Contábeis                      2551\n",
       "Geografia                               2077\n",
       "Engenharia Química                      2059\n",
       "Agronomia                               2055\n",
       "Ciências Biológicas                     1962\n",
       "Matemática                              1905\n",
       "Química                                 1902\n",
       "Psicologia                              1891\n",
       "Engenharia Civil                        1883\n",
       "História                                1785\n",
       "Zootecnia                               1739\n",
       "Farmácia                                1617\n",
       "Física                                  1326\n",
       "Ciências Sociais                        1063\n",
       "Medicina Veterinária - CAU              1012\n",
       "Ciência da Computação                    985\n",
       "Enfermagem                               970\n",
       "Engenharia Mecânica                      959\n",
       "Odontologia                              952\n",
       "Agronomia - CAU                          950\n",
       "Informática                              949\n",
       "Medicina                                 938\n",
       "Arquitetura e Urbanismo                  924\n",
       "Engenharia de Alimentos                  902\n",
       "Pedagogia - CRC                          883\n",
       "Tecnologia em Alimentos - CAU            883\n",
       "Secretariado Executivo Trilíngue         846\n",
       "Ciências Contábeis - CRC                 820\n",
       "Filosofia                                808\n",
       "Design - CRC                             786\n",
       "Moda - CRC                               783\n",
       "Tecnologia em Construção Civil - CAU     739\n",
       "Estatística                              735\n",
       "Tecnologia em Meio Ambiente - CAU        649\n",
       "Engenharia Têxtil - CRG                  624\n",
       "Engenharia Agrícola  - CAR               620\n",
       "Música                                   492\n",
       "Licenciatura Plena em Ciências           362\n",
       "Name: count, dtype: int64"
      ]
     },
     "execution_count": 157,
     "metadata": {},
     "output_type": "execute_result"
    }
   ],
   "source": [
    "df_merge['NM_CURSO'].value_counts()"
   ]
  },
  {
   "cell_type": "code",
   "execution_count": 158,
   "metadata": {},
   "outputs": [],
   "source": [
    "# df_merge.to_csv('arquivos/dadosalunos-limpo.csv', index=False)\n",
    "# df_merge.to_excel('arquivos/dadosalunos-limpo.xlsx', index=False)"
   ]
  },
  {
   "cell_type": "code",
   "execution_count": null,
   "metadata": {},
   "outputs": [],
   "source": []
  }
 ],
 "metadata": {
  "kernelspec": {
   "display_name": "Python 3",
   "language": "python",
   "name": "python3"
  },
  "language_info": {
   "codemirror_mode": {
    "name": "ipython",
    "version": 3
   },
   "file_extension": ".py",
   "mimetype": "text/x-python",
   "name": "python",
   "nbconvert_exporter": "python",
   "pygments_lexer": "ipython3",
   "version": "3.11.5"
  }
 },
 "nbformat": 4,
 "nbformat_minor": 2
}
